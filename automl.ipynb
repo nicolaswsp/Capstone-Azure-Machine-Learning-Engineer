{
  "cells": [
    {
      "cell_type": "markdown",
      "source": [
        "# Automated ML\n",
        "\n",
        "TODO: Import Dependencies. In the cell below, import all the dependencies that you will need to complete the project."
      ],
      "metadata": {}
    },
    {
      "cell_type": "code",
      "source": [
        "import logging\n",
        "import os\n",
        "import csv\n",
        "\n",
        "from matplotlib import pyplot as plt\n",
        "import numpy as np\n",
        "import pandas as pd\n",
        "from sklearn import datasets\n",
        "import pkg_resources\n",
        "\n",
        "import azureml.core\n",
        "from azureml.core.experiment import Experiment\n",
        "from azureml.core.workspace import Workspace\n",
        "from azureml.train.automl import AutoMLConfig\n",
        "from azureml.core.dataset import Dataset\n",
        "\n",
        "from azureml.pipeline.steps import AutoMLStep\n",
        "\n",
        "# Check core SDK version number\n",
        "print(\"SDK version:\", azureml.core.VERSION)"
      ],
      "outputs": [
        {
          "output_type": "stream",
          "name": "stdout",
          "text": [
            "SDK version: 1.26.0\n"
          ]
        }
      ],
      "execution_count": 5,
      "metadata": {
        "gather": {
          "logged": 1618540822748
        },
        "jupyter": {
          "outputs_hidden": false,
          "source_hidden": false
        },
        "nteract": {
          "transient": {
            "deleting": false
          }
        }
      }
    },
    {
      "cell_type": "code",
      "source": [
        "import io\n",
        "import os\n",
        "import matplotlib.pyplot as plt\n",
        "import numpy as np \n",
        "import pandas as pd \n",
        "\n",
        "%matplotlib inline"
      ],
      "outputs": [],
      "execution_count": 6,
      "metadata": {
        "gather": {
          "logged": 1618540826702
        }
      }
    },
    {
      "cell_type": "markdown",
      "source": [
        "## Dataset\n",
        "\n",
        "### Overview\n",
        "TODO: In this markdown cell, give an overview of the dataset you are using. Also mention the task you will be performing.\n",
        "\n",
        "\n",
        "TODO: Get data. In the cell below, write code to access the data you will be using in this project. Remember that the dataset needs to be external."
      ],
      "metadata": {}
    },
    {
      "cell_type": "code",
      "source": [
        "ws = Workspace.from_config()\n",
        "\n",
        "experiment_name = 'fraud_detection'\n",
        "\n",
        "exp=Experiment(ws, experiment_name)\n",
        "\n",
        "print('Workspace name: ' + ws.name, \n",
        "      'Azure region: ' + ws.location, \n",
        "      'Subscription id: ' + ws.subscription_id, \n",
        "      'Resource group: ' + ws.resource_group, sep = '\\n')\n",
        "\n",
        "run = exp.start_logging()\n",
        "print(exp)"
      ],
      "outputs": [
        {
          "output_type": "stream",
          "name": "stdout",
          "text": [
            "Workspace name: quick-starts-ws-142814\n",
            "Azure region: southcentralus\n",
            "Subscription id: cdbe0b43-92a0-4715-838a-f2648cc7ad21\n",
            "Resource group: aml-quickstarts-142814\n",
            "Experiment(Name: fraud_detection,\n",
            "Workspace: quick-starts-ws-142814)\n"
          ]
        }
      ],
      "execution_count": 7,
      "metadata": {
        "gather": {
          "logged": 1618540844545
        },
        "jupyter": {
          "outputs_hidden": false,
          "source_hidden": false
        },
        "nteract": {
          "transient": {
            "deleting": false
          }
        }
      }
    },
    {
      "cell_type": "code",
      "source": [
        "dataset = Dataset.get_by_name(workspace=ws, name='Banking_Transactions')\n"
      ],
      "outputs": [],
      "execution_count": 21,
      "metadata": {
        "scrolled": true,
        "gather": {
          "logged": 1618542635311
        },
        "jupyter": {
          "outputs_hidden": false
        }
      }
    },
    {
      "cell_type": "code",
      "source": [
        "# Calculate the fraction of data points that are fraudulent\n",
        "def fraudulent_percentage(transaction_df):\n",
        "    '''Calculate the fraction of all data points that have a 'Class' label of 1; fraudulent.\n",
        "       :param transaction_df: Dataframe of all transaction data points; has a column 'Class'\n",
        "       :return: A fractional percentage of fraudulent data points/all points\n",
        "    '''\n",
        "    # counts for all classes\n",
        "    counts = transactions_df['Class'].value_counts()\n",
        "    \n",
        "    # get fraudulent and valid cnts\n",
        "    fraud_cnts = counts[1]\n",
        "    valid_cnts = counts[0]\n",
        "    \n",
        "    # calculate percentage of fraudulent data\n",
        "    fraud_percentage = fraud_cnts/(fraud_cnts+valid_cnts)\n",
        "    \n",
        "    return fraud_percentage"
      ],
      "outputs": [],
      "execution_count": 13,
      "metadata": {
        "gather": {
          "logged": 1618541842805
        }
      }
    },
    {
      "cell_type": "code",
      "source": [
        "# call the function to calculate the fraud percentage\n",
        "fraud_percentage = fraudulent_percentage(dataset)\n",
        "\n",
        "print('Fraudulent percentage = ', fraud_percentage)\n",
        "print('Total # of fraudulent pts: ', fraud_percentage*transactions_df.shape[0])\n",
        "print('Out of (total) pts: ', transactions_df.shape[0])"
      ],
      "outputs": [
        {
          "output_type": "stream",
          "name": "stdout",
          "text": [
            "Fraudulent percentage =  0.001727485630620034\n",
            "Total # of fraudulent pts:  492.0\n",
            "Out of (total) pts:  284807\n"
          ]
        }
      ],
      "execution_count": 14,
      "metadata": {
        "gather": {
          "logged": 1618541847435
        }
      }
    },
    {
      "cell_type": "code",
      "source": [
        "from azureml.core.compute import ComputeTarget, AmlCompute\n",
        "from azureml.core.compute_target import ComputeTargetException\n",
        "# Create compute cluster\n",
        "# Choose a name for the computer cluster:\n",
        "amlcompute_cluster_name = \"compute-cluster\"\n",
        "\n",
        "# Check if the cluster already exists:\n",
        "try:\n",
        "    aml_compute = ComputeTarget(workspace=ws, name=amlcompute_cluster_name)\n",
        "    print('The cluster already exists')\n",
        "except ComputeTargetException:\n",
        "    compute_config = AmlCompute.provisioning_configuration(vm_size='STANDARD_D2_V2', max_nodes=4)\n",
        "    aml_compute = ComputeTarget.create(ws, amlcompute_cluster_name, compute_config)\n",
        "\n",
        "aml_compute.wait_for_completion(show_output=True)"
      ],
      "outputs": [
        {
          "output_type": "stream",
          "name": "stdout",
          "text": [
            "The cluster already exists\n",
            "Succeeded\n",
            "AmlCompute wait for completion finished\n",
            "\n",
            "Minimum number of nodes requested have been provisioned\n"
          ]
        }
      ],
      "execution_count": 15,
      "metadata": {
        "gather": {
          "logged": 1618541854683
        }
      }
    },
    {
      "cell_type": "markdown",
      "source": [
        "## AutoML Configuration\n",
        "\n",
        "TODO: Explain why you chose the automl settings and cofiguration you used below."
      ],
      "metadata": {}
    },
    {
      "cell_type": "code",
      "source": [
        "# Set the automl settings here\n",
        "automl_settings = {\n",
        "    \"experiment_timeout_minutes\": 20,\n",
        "    \"max_concurrent_iterations\": 5,\n",
        "    \"primary_metric\" : 'AUC_weighted'}\n",
        "\n",
        "# TODO: Put your automl config here\n",
        "automl_config = AutoMLConfig(compute_target=aml_compute,\n",
        "                             task = \"classification\",\n",
        "                             training_data=dataset,\n",
        "                             label_column_name=\"Class\",   \n",
        "                             enable_early_stopping= True,\n",
        "                             featurization= 'auto',\n",
        "                             debug_log = \"automl_errors.log\",\n",
        "                             **automl_settings)"
      ],
      "outputs": [],
      "execution_count": 24,
      "metadata": {
        "gather": {
          "logged": 1618544253813
        },
        "jupyter": {
          "outputs_hidden": false,
          "source_hidden": false
        },
        "nteract": {
          "transient": {
            "deleting": false
          }
        }
      }
    },
    {
      "cell_type": "code",
      "source": [
        "# Submit the experiment\n",
        "remote_run = exp.submit(automl_config)"
      ],
      "outputs": [
        {
          "output_type": "stream",
          "name": "stdout",
          "text": [
            "Submitting remote run.\n"
          ]
        },
        {
          "output_type": "display_data",
          "data": {
            "text/plain": "<IPython.core.display.HTML object>",
            "text/html": "<table style=\"width:100%\"><tr><th>Experiment</th><th>Id</th><th>Type</th><th>Status</th><th>Details Page</th><th>Docs Page</th></tr><tr><td>fraud_detection</td><td>AutoML_509c0073-6905-4d1f-b0da-55adf8160225</td><td>automl</td><td>NotStarted</td><td><a href=\"https://ml.azure.com/runs/AutoML_509c0073-6905-4d1f-b0da-55adf8160225?wsid=/subscriptions/cdbe0b43-92a0-4715-838a-f2648cc7ad21/resourcegroups/aml-quickstarts-142814/workspaces/quick-starts-ws-142814&amp;tid=660b3398-b80e-49d2-bc5b-ac1dc93b5254\" target=\"_blank\" rel=\"noopener\">Link to Azure Machine Learning studio</a></td><td><a href=\"https://docs.microsoft.com/en-us/python/api/overview/azure/ml/intro?view=azure-ml-py\" target=\"_blank\" rel=\"noopener\">Link to Documentation</a></td></tr></table>"
          },
          "metadata": {}
        }
      ],
      "execution_count": 25,
      "metadata": {
        "gather": {
          "logged": 1618544274160
        },
        "jupyter": {
          "outputs_hidden": false,
          "source_hidden": false
        },
        "nteract": {
          "transient": {
            "deleting": false
          }
        }
      }
    },
    {
      "cell_type": "markdown",
      "source": [
        "## Run Details\n",
        "\n",
        "OPTIONAL: Write about the different models trained and their performance. Why do you think some models did better than others?\n",
        "\n",
        "TODO: In the cell below, use the `RunDetails` widget to show the different experiments."
      ],
      "metadata": {}
    },
    {
      "cell_type": "code",
      "source": [
        "from azureml.widgets import RunDetails\r\n",
        "RunDetails(remote_run).show()"
      ],
      "outputs": [
        {
          "output_type": "display_data",
          "data": {
            "text/plain": "_AutoMLWidget(widget_settings={'childWidgetDisplay': 'popup', 'send_telemetry': False, 'log_level': 'INFO', 's…",
            "application/vnd.jupyter.widget-view+json": {
              "version_major": 2,
              "version_minor": 0,
              "model_id": "5eff52ce3e864c2eb8ecf030169dbd06"
            }
          },
          "metadata": {}
        },
        {
          "output_type": "display_data",
          "data": {
            "application/aml.mini.widget.v1": "{\"status\": \"Completed\", \"workbench_run_details_uri\": \"https://ml.azure.com/runs/AutoML_509c0073-6905-4d1f-b0da-55adf8160225?wsid=/subscriptions/cdbe0b43-92a0-4715-838a-f2648cc7ad21/resourcegroups/aml-quickstarts-142814/workspaces/quick-starts-ws-142814&tid=660b3398-b80e-49d2-bc5b-ac1dc93b5254\", \"run_id\": \"AutoML_509c0073-6905-4d1f-b0da-55adf8160225\", \"run_properties\": {\"run_id\": \"AutoML_509c0073-6905-4d1f-b0da-55adf8160225\", \"created_utc\": \"2021-04-16T03:37:51.394194Z\", \"properties\": {\"num_iterations\": \"1000\", \"training_type\": \"TrainFull\", \"acquisition_function\": \"EI\", \"primary_metric\": \"AUC_weighted\", \"train_split\": \"0\", \"acquisition_parameter\": \"0\", \"num_cross_validation\": null, \"target\": \"compute-cluster\", \"AMLSettingsJsonString\": \"{\\\"path\\\":null,\\\"name\\\":\\\"fraud_detection\\\",\\\"subscription_id\\\":\\\"cdbe0b43-92a0-4715-838a-f2648cc7ad21\\\",\\\"resource_group\\\":\\\"aml-quickstarts-142814\\\",\\\"workspace_name\\\":\\\"quick-starts-ws-142814\\\",\\\"region\\\":\\\"southcentralus\\\",\\\"compute_target\\\":\\\"compute-cluster\\\",\\\"spark_service\\\":null,\\\"azure_service\\\":\\\"remote\\\",\\\"many_models\\\":false,\\\"pipeline_fetch_max_batch_size\\\":1,\\\"enable_batch_run\\\":false,\\\"enable_run_restructure\\\":false,\\\"iterations\\\":1000,\\\"primary_metric\\\":\\\"AUC_weighted\\\",\\\"task_type\\\":\\\"classification\\\",\\\"data_script\\\":null,\\\"test_size\\\":0.0,\\\"validation_size\\\":0.0,\\\"n_cross_validations\\\":null,\\\"y_min\\\":null,\\\"y_max\\\":null,\\\"num_classes\\\":null,\\\"featurization\\\":\\\"auto\\\",\\\"_ignore_package_version_incompatibilities\\\":false,\\\"is_timeseries\\\":false,\\\"max_cores_per_iteration\\\":1,\\\"max_concurrent_iterations\\\":5,\\\"iteration_timeout_minutes\\\":null,\\\"mem_in_mb\\\":null,\\\"enforce_time_on_windows\\\":false,\\\"experiment_timeout_minutes\\\":20,\\\"experiment_exit_score\\\":null,\\\"whitelist_models\\\":null,\\\"blacklist_algos\\\":[\\\"TensorFlowLinearClassifier\\\",\\\"TensorFlowDNN\\\"],\\\"supported_models\\\":[\\\"LinearSVM\\\",\\\"SVM\\\",\\\"DecisionTree\\\",\\\"TensorFlowDNN\\\",\\\"ExtremeRandomTrees\\\",\\\"TensorFlowLinearClassifier\\\",\\\"LightGBM\\\",\\\"KNN\\\",\\\"RandomForest\\\",\\\"LogisticRegression\\\",\\\"AveragedPerceptronClassifier\\\",\\\"MultinomialNaiveBayes\\\",\\\"SGD\\\",\\\"XGBoostClassifier\\\",\\\"GradientBoosting\\\",\\\"BernoulliNaiveBayes\\\"],\\\"private_models\\\":[],\\\"auto_blacklist\\\":true,\\\"blacklist_samples_reached\\\":false,\\\"exclude_nan_labels\\\":true,\\\"verbosity\\\":20,\\\"_debug_log\\\":\\\"azureml_automl.log\\\",\\\"show_warnings\\\":false,\\\"model_explainability\\\":true,\\\"service_url\\\":null,\\\"sdk_url\\\":null,\\\"sdk_packages\\\":null,\\\"enable_onnx_compatible_models\\\":false,\\\"enable_split_onnx_featurizer_estimator_models\\\":false,\\\"vm_type\\\":\\\"STANDARD_D2_V2\\\",\\\"telemetry_verbosity\\\":20,\\\"send_telemetry\\\":true,\\\"enable_dnn\\\":false,\\\"scenario\\\":\\\"SDK-1.13.0\\\",\\\"environment_label\\\":null,\\\"save_mlflow\\\":false,\\\"force_text_dnn\\\":false,\\\"enable_feature_sweeping\\\":true,\\\"enable_early_stopping\\\":true,\\\"early_stopping_n_iters\\\":10,\\\"metrics\\\":null,\\\"enable_metric_confidence\\\":false,\\\"enable_ensembling\\\":true,\\\"enable_stack_ensembling\\\":true,\\\"ensemble_iterations\\\":15,\\\"enable_tf\\\":false,\\\"enable_subsampling\\\":null,\\\"subsample_seed\\\":null,\\\"enable_nimbusml\\\":false,\\\"enable_streaming\\\":false,\\\"force_streaming\\\":false,\\\"track_child_runs\\\":true,\\\"allowed_private_models\\\":[],\\\"label_column_name\\\":\\\"Class\\\",\\\"weight_column_name\\\":null,\\\"cv_split_column_names\\\":null,\\\"enable_local_managed\\\":false,\\\"_local_managed_run_id\\\":null,\\\"cost_mode\\\":1,\\\"lag_length\\\":0,\\\"metric_operation\\\":\\\"maximize\\\",\\\"preprocess\\\":true}\", \"DataPrepJsonString\": \"{\\\\\\\"training_data\\\\\\\": {\\\\\\\"datasetId\\\\\\\": \\\\\\\"1da59aca-146c-47ca-8be8-edfd1fd811aa\\\\\\\"}, \\\\\\\"datasets\\\\\\\": 0}\", \"EnableSubsampling\": null, \"runTemplate\": \"AutoML\", \"azureml.runsource\": \"automl\", \"display_task_type\": \"classification\", \"dependencies_versions\": \"{\\\"azureml-widgets\\\": \\\"1.26.0\\\", \\\"azureml-train\\\": \\\"1.26.0\\\", \\\"azureml-train-restclients-hyperdrive\\\": \\\"1.26.0\\\", \\\"azureml-train-core\\\": \\\"1.26.0\\\", \\\"azureml-train-automl\\\": \\\"1.26.0\\\", \\\"azureml-train-automl-runtime\\\": \\\"1.26.0\\\", \\\"azureml-train-automl-client\\\": \\\"1.26.0\\\", \\\"azureml-tensorboard\\\": \\\"1.26.0\\\", \\\"azureml-telemetry\\\": \\\"1.26.0\\\", \\\"azureml-sdk\\\": \\\"1.26.0\\\", \\\"azureml-samples\\\": \\\"0+unknown\\\", \\\"azureml-pipeline\\\": \\\"1.26.0\\\", \\\"azureml-pipeline-steps\\\": \\\"1.26.0\\\", \\\"azureml-pipeline-core\\\": \\\"1.26.0\\\", \\\"azureml-opendatasets\\\": \\\"1.26.0\\\", \\\"azureml-model-management-sdk\\\": \\\"1.0.1b6.post1\\\", \\\"azureml-mlflow\\\": \\\"1.26.0\\\", \\\"azureml-interpret\\\": \\\"1.26.0\\\", \\\"azureml-explain-model\\\": \\\"1.26.0\\\", \\\"azureml-defaults\\\": \\\"1.26.0\\\", \\\"azureml-dataset-runtime\\\": \\\"1.26.0\\\", \\\"azureml-dataprep\\\": \\\"2.13.2\\\", \\\"azureml-dataprep-rslex\\\": \\\"1.11.2\\\", \\\"azureml-dataprep-native\\\": \\\"32.0.0\\\", \\\"azureml-datadrift\\\": \\\"1.26.0\\\", \\\"azureml-core\\\": \\\"1.26.0\\\", \\\"azureml-contrib-services\\\": \\\"1.26.0\\\", \\\"azureml-contrib-server\\\": \\\"1.26.0\\\", \\\"azureml-contrib-reinforcementlearning\\\": \\\"1.26.0\\\", \\\"azureml-contrib-pipeline-steps\\\": \\\"1.26.0\\\", \\\"azureml-contrib-notebook\\\": \\\"1.26.0\\\", \\\"azureml-contrib-gbdt\\\": \\\"1.26.0\\\", \\\"azureml-contrib-fairness\\\": \\\"1.26.0\\\", \\\"azureml-contrib-dataset\\\": \\\"1.26.0\\\", \\\"azureml-cli-common\\\": \\\"1.26.0\\\", \\\"azureml-automl-runtime\\\": \\\"1.26.0\\\", \\\"azureml-automl-dnn-nlp\\\": \\\"1.26.0\\\", \\\"azureml-automl-core\\\": \\\"1.26.0\\\", \\\"azureml-accel-models\\\": \\\"1.26.0\\\"}\", \"_aml_system_scenario_identification\": \"Remote.Parent\", \"ClientType\": \"SDK\", \"environment_cpu_name\": \"AzureML-AutoML\", \"environment_cpu_label\": \"prod\", \"environment_gpu_name\": \"AzureML-AutoML-GPU\", \"environment_gpu_label\": \"prod\", \"root_attribution\": \"automl\", \"attribution\": \"AutoML\", \"Orchestrator\": \"AutoML\", \"CancelUri\": \"https://southcentralus.experiments.azureml.net/jasmine/v1.0/subscriptions/cdbe0b43-92a0-4715-838a-f2648cc7ad21/resourceGroups/aml-quickstarts-142814/providers/Microsoft.MachineLearningServices/workspaces/quick-starts-ws-142814/experimentids/58a2765a-26e0-48a7-a3e5-71859dd2b543/cancel/AutoML_509c0073-6905-4d1f-b0da-55adf8160225\", \"ClientSdkVersion\": \"1.25.0\", \"snapshotId\": \"00000000-0000-0000-0000-000000000000\", \"SetupRunId\": \"AutoML_509c0073-6905-4d1f-b0da-55adf8160225_setup\", \"SetupRunContainerId\": \"dcid.AutoML_509c0073-6905-4d1f-b0da-55adf8160225_setup\", \"FeaturizationRunJsonPath\": \"featurizer_container.json\", \"FeaturizationRunId\": \"AutoML_509c0073-6905-4d1f-b0da-55adf8160225_featurize\", \"ProblemInfoJsonString\": \"{\\\"dataset_num_categorical\\\": 0, \\\"is_sparse\\\": false, \\\"subsampling\\\": false, \\\"dataset_classes\\\": 2, \\\"dataset_features\\\": 30, \\\"dataset_samples\\\": 256326, \\\"single_frequency_class_detected\\\": false}\", \"ModelExplainRunId\": \"AutoML_509c0073-6905-4d1f-b0da-55adf8160225_ModelExplain\"}, \"tags\": {\"model_explain_run\": \"best_run\", \"_aml_system_azureml.automlComponent\": \"AutoML\", \"pipeline_id\": \"\", \"score\": \"\", \"predicted_cost\": \"\", \"fit_time\": \"\", \"training_percent\": \"\", \"iteration\": \"\", \"run_preprocessor\": \"\", \"run_algorithm\": \"\", \"dynamic_whitelisting_iterations\": \"<25>;<30>;\", \"automl_best_child_run_id\": \"AutoML_509c0073-6905-4d1f-b0da-55adf8160225_26\", \"model_explain_best_run_child_id\": \"AutoML_509c0073-6905-4d1f-b0da-55adf8160225_26\"}, \"end_time_utc\": \"2021-04-16T04:12:26.042878Z\", \"status\": \"Completed\", \"log_files\": {}, \"log_groups\": [], \"run_duration\": \"0:34:34\", \"run_number\": \"3\", \"run_queued_details\": {\"status\": \"Completed\", \"details\": null}}, \"child_runs\": [{\"run_id\": \"AutoML_509c0073-6905-4d1f-b0da-55adf8160225_0\", \"run_number\": 7, \"metric\": null, \"status\": \"Completed\", \"run_type\": \"azureml.scriptrun\", \"training_percent\": \"100\", \"start_time\": \"2021-04-16T03:49:06.5375Z\", \"end_time\": \"2021-04-16T03:56:45.336221Z\", \"created_time\": \"2021-04-16T03:46:34.436683Z\", \"created_time_dt\": \"2021-04-16T03:46:34.436683Z\", \"duration\": \"0:10:10\", \"iteration\": \"0\", \"goal\": \"AUC_weighted_max\", \"run_name\": \"MaxAbsScaler, LightGBM\", \"run_properties\": \"copy=True\", \"primary_metric\": 0.79497903, \"best_metric\": 0.79497903}, {\"run_id\": \"AutoML_509c0073-6905-4d1f-b0da-55adf8160225_1\", \"run_number\": 8, \"metric\": null, \"status\": \"Completed\", \"run_type\": \"azureml.scriptrun\", \"training_percent\": \"100\", \"start_time\": \"2021-04-16T03:49:01.078129Z\", \"end_time\": \"2021-04-16T03:55:46.153331Z\", \"created_time\": \"2021-04-16T03:46:34.446743Z\", \"created_time_dt\": \"2021-04-16T03:46:34.446743Z\", \"duration\": \"0:09:11\", \"iteration\": \"1\", \"goal\": \"AUC_weighted_max\", \"run_name\": \"MaxAbsScaler, XGBoostClassifier\", \"run_properties\": \"copy=True\", \"primary_metric\": 0.95835391, \"best_metric\": 0.95835391}, {\"run_id\": \"AutoML_509c0073-6905-4d1f-b0da-55adf8160225_3\", \"run_number\": 9, \"metric\": null, \"status\": \"Completed\", \"run_type\": \"azureml.scriptrun\", \"training_percent\": \"100\", \"start_time\": \"2021-04-16T03:48:15.290545Z\", \"end_time\": \"2021-04-16T03:49:12.659976Z\", \"created_time\": \"2021-04-16T03:46:34.563562Z\", \"created_time_dt\": \"2021-04-16T03:46:34.563562Z\", \"duration\": \"0:02:38\", \"iteration\": \"3\", \"goal\": \"AUC_weighted_max\", \"run_name\": \"RobustScaler, ExtremeRandomTrees\", \"run_properties\": \"copy=True, quantile_range=[10, 90], with_centering=False,\\n             with_scaling=False\", \"primary_metric\": 0.94684489, \"best_metric\": 0.95845512}, {\"run_id\": \"AutoML_509c0073-6905-4d1f-b0da-55adf8160225_2\", \"run_number\": 10, \"metric\": null, \"status\": \"Completed\", \"run_type\": \"azureml.scriptrun\", \"training_percent\": \"100\", \"start_time\": \"2021-04-16T03:46:45.492252Z\", \"end_time\": \"2021-04-16T03:48:04.210886Z\", \"created_time\": \"2021-04-16T03:46:34.572169Z\", \"created_time_dt\": \"2021-04-16T03:46:34.572169Z\", \"duration\": \"0:01:29\", \"iteration\": \"2\", \"goal\": \"AUC_weighted_max\", \"run_name\": \"MinMaxScaler, RandomForest\", \"run_properties\": \"copy=True, feature_range=(0, 1\", \"primary_metric\": 0.95845512, \"best_metric\": 0.95845512}, {\"run_id\": \"AutoML_509c0073-6905-4d1f-b0da-55adf8160225_4\", \"run_number\": 11, \"metric\": null, \"status\": \"Completed\", \"run_type\": \"azureml.scriptrun\", \"training_percent\": \"100\", \"start_time\": \"2021-04-16T03:49:00.833783Z\", \"end_time\": \"2021-04-16T03:54:53.7754Z\", \"created_time\": \"2021-04-16T03:46:34.437243Z\", \"created_time_dt\": \"2021-04-16T03:46:34.437243Z\", \"duration\": \"0:08:19\", \"iteration\": \"4\", \"goal\": \"AUC_weighted_max\", \"run_name\": \"MinMaxScaler, RandomForest\", \"run_properties\": \"copy=True, feature_range=(0, 1\", \"primary_metric\": 0.96157068, \"best_metric\": 0.96157068}, {\"run_id\": \"AutoML_509c0073-6905-4d1f-b0da-55adf8160225_5\", \"run_number\": 12, \"metric\": null, \"status\": \"Completed\", \"run_type\": \"azureml.scriptrun\", \"training_percent\": \"100\", \"start_time\": \"2021-04-16T03:49:27.722487Z\", \"end_time\": \"2021-04-16T03:50:39.469121Z\", \"created_time\": \"2021-04-16T03:48:09.478982Z\", \"created_time_dt\": \"2021-04-16T03:48:09.478982Z\", \"duration\": \"0:02:29\", \"iteration\": \"5\", \"goal\": \"AUC_weighted_max\", \"run_name\": \"MinMaxScaler, RandomForest\", \"run_properties\": \"copy=True, feature_range=(0, 1\", \"primary_metric\": 0.95796451, \"best_metric\": 0.96157068}, {\"run_id\": \"AutoML_509c0073-6905-4d1f-b0da-55adf8160225_6\", \"run_number\": 13, \"metric\": null, \"status\": \"Completed\", \"run_type\": \"azureml.scriptrun\", \"training_percent\": \"100\", \"start_time\": \"2021-04-16T03:50:52.630254Z\", \"end_time\": \"2021-04-16T03:52:15.183388Z\", \"created_time\": \"2021-04-16T03:49:16.259857Z\", \"created_time_dt\": \"2021-04-16T03:49:16.259857Z\", \"duration\": \"0:02:58\", \"iteration\": \"6\", \"goal\": \"AUC_weighted_max\", \"run_name\": \"StandardScalerWrapper, RandomForest\", \"run_properties\": \"<azureml.automl.runtime.shared.model_wrappers.StandardScalerWrapper object at 0x7fe42ef34ac8\", \"primary_metric\": 0.96230713, \"best_metric\": 0.96230713}, {\"run_id\": \"AutoML_509c0073-6905-4d1f-b0da-55adf8160225_7\", \"run_number\": 14, \"metric\": null, \"status\": \"Completed\", \"run_type\": \"azureml.scriptrun\", \"training_percent\": \"100\", \"start_time\": \"2021-04-16T03:52:27.977656Z\", \"end_time\": \"2021-04-16T03:53:28.538196Z\", \"created_time\": \"2021-04-16T03:50:44.973214Z\", \"created_time_dt\": \"2021-04-16T03:50:44.973214Z\", \"duration\": \"0:02:43\", \"iteration\": \"7\", \"goal\": \"AUC_weighted_max\", \"run_name\": \"MinMaxScaler, ExtremeRandomTrees\", \"run_properties\": \"copy=True, feature_range=(0, 1\", \"primary_metric\": 0.96531933, \"best_metric\": 0.96531933}, {\"run_id\": \"AutoML_509c0073-6905-4d1f-b0da-55adf8160225_8\", \"run_number\": 15, \"metric\": null, \"status\": \"Completed\", \"run_type\": \"azureml.scriptrun\", \"training_percent\": \"100\", \"start_time\": \"2021-04-16T03:53:46.440063Z\", \"end_time\": \"2021-04-16T03:54:48.403535Z\", \"created_time\": \"2021-04-16T03:52:20.303736Z\", \"created_time_dt\": \"2021-04-16T03:52:20.303736Z\", \"duration\": \"0:02:28\", \"iteration\": \"8\", \"goal\": \"AUC_weighted_max\", \"run_name\": \"MinMaxScaler, ExtremeRandomTrees\", \"run_properties\": \"copy=True, feature_range=(0, 1\", \"primary_metric\": 0.95471652, \"best_metric\": 0.96531933}, {\"run_id\": \"AutoML_509c0073-6905-4d1f-b0da-55adf8160225_9\", \"run_number\": 16, \"metric\": null, \"status\": \"Completed\", \"run_type\": \"azureml.scriptrun\", \"training_percent\": \"100\", \"start_time\": \"2021-04-16T03:55:00.31198Z\", \"end_time\": \"2021-04-16T03:56:07.327662Z\", \"created_time\": \"2021-04-16T03:53:32.84035Z\", \"created_time_dt\": \"2021-04-16T03:53:32.84035Z\", \"duration\": \"0:02:34\", \"iteration\": \"9\", \"goal\": \"AUC_weighted_max\", \"run_name\": \"MinMaxScaler, ExtremeRandomTrees\", \"run_properties\": \"copy=True, feature_range=(0, 1\", \"primary_metric\": 0.92708274, \"best_metric\": 0.96531933}, {\"run_id\": \"AutoML_509c0073-6905-4d1f-b0da-55adf8160225_10\", \"run_number\": 17, \"metric\": null, \"status\": \"Completed\", \"run_type\": \"azureml.scriptrun\", \"training_percent\": \"100\", \"start_time\": \"2021-04-16T03:55:07.123306Z\", \"end_time\": \"2021-04-16T03:56:10.016477Z\", \"created_time\": \"2021-04-16T03:54:54.463791Z\", \"created_time_dt\": \"2021-04-16T03:54:54.463791Z\", \"duration\": \"0:01:15\", \"iteration\": \"10\", \"goal\": \"AUC_weighted_max\", \"run_name\": \"RobustScaler, ExtremeRandomTrees\", \"run_properties\": \"copy=True, quantile_range=[10, 90], with_centering=True,\\n             with_scaling=False\", \"primary_metric\": 0.95369331, \"best_metric\": 0.96531933}, {\"run_id\": \"AutoML_509c0073-6905-4d1f-b0da-55adf8160225_11\", \"run_number\": 18, \"metric\": null, \"status\": \"Completed\", \"run_type\": \"azureml.scriptrun\", \"training_percent\": \"100\", \"start_time\": \"2021-04-16T03:55:16.504567Z\", \"end_time\": \"2021-04-16T03:57:03.858033Z\", \"created_time\": \"2021-04-16T03:55:03.299768Z\", \"created_time_dt\": \"2021-04-16T03:55:03.299768Z\", \"duration\": \"0:02:00\", \"iteration\": \"11\", \"goal\": \"AUC_weighted_max\", \"run_name\": \"StandardScalerWrapper, RandomForest\", \"run_properties\": \"<azureml.automl.runtime.shared.model_wrappers.StandardScalerWrapper object at 0x7fd2ab4f8198\", \"primary_metric\": 0.95423596, \"best_metric\": 0.96531933}, {\"run_id\": \"AutoML_509c0073-6905-4d1f-b0da-55adf8160225_12\", \"run_number\": 19, \"metric\": null, \"status\": \"Completed\", \"run_type\": \"azureml.scriptrun\", \"training_percent\": \"100\", \"start_time\": \"2021-04-16T03:56:07.107467Z\", \"end_time\": \"2021-04-16T03:57:10.596211Z\", \"created_time\": \"2021-04-16T03:55:51.863263Z\", \"created_time_dt\": \"2021-04-16T03:55:51.863263Z\", \"duration\": \"0:01:18\", \"iteration\": \"12\", \"goal\": \"AUC_weighted_max\", \"run_name\": \"StandardScalerWrapper, SGD\", \"run_properties\": \"<azureml.automl.runtime.shared.model_wrappers.StandardScalerWrapper object at 0x7fc6209d1518\", \"primary_metric\": 0.93573496, \"best_metric\": 0.96531933}, {\"run_id\": \"AutoML_509c0073-6905-4d1f-b0da-55adf8160225_13\", \"run_number\": 20, \"metric\": null, \"status\": \"Completed\", \"run_type\": \"azureml.scriptrun\", \"training_percent\": \"100\", \"start_time\": \"2021-04-16T03:56:28.408275Z\", \"end_time\": \"2021-04-16T03:57:48.688051Z\", \"created_time\": \"2021-04-16T03:56:13.349262Z\", \"created_time_dt\": \"2021-04-16T03:56:13.349262Z\", \"duration\": \"0:01:35\", \"iteration\": \"13\", \"goal\": \"AUC_weighted_max\", \"run_name\": \"RobustScaler, RandomForest\", \"run_properties\": \"copy=True, quantile_range=[10, 90], with_centering=True,\\n             with_scaling=False\", \"primary_metric\": 0.95823942, \"best_metric\": 0.96531933}, {\"run_id\": \"AutoML_509c0073-6905-4d1f-b0da-55adf8160225_14\", \"run_number\": 21, \"metric\": null, \"status\": \"Completed\", \"run_type\": \"azureml.scriptrun\", \"training_percent\": \"100\", \"start_time\": \"2021-04-16T03:56:41.457207Z\", \"end_time\": \"2021-04-16T03:57:45.238137Z\", \"created_time\": \"2021-04-16T03:56:23.827101Z\", \"created_time_dt\": \"2021-04-16T03:56:23.827101Z\", \"duration\": \"0:01:21\", \"iteration\": \"14\", \"goal\": \"AUC_weighted_max\", \"run_name\": \"MinMaxScaler, RandomForest\", \"run_properties\": \"copy=True, feature_range=(0, 1\", \"primary_metric\": 0.95410927, \"best_metric\": 0.96531933}, {\"run_id\": \"AutoML_509c0073-6905-4d1f-b0da-55adf8160225_15\", \"run_number\": 22, \"metric\": null, \"status\": \"Completed\", \"run_type\": \"azureml.scriptrun\", \"training_percent\": \"100\", \"start_time\": \"2021-04-16T03:57:18.252523Z\", \"end_time\": \"2021-04-16T03:58:20.645221Z\", \"created_time\": \"2021-04-16T03:56:50.49938Z\", \"created_time_dt\": \"2021-04-16T03:56:50.49938Z\", \"duration\": \"0:01:30\", \"iteration\": \"15\", \"goal\": \"AUC_weighted_max\", \"run_name\": \"MinMaxScaler, ExtremeRandomTrees\", \"run_properties\": \"copy=True, feature_range=(0, 1\", \"primary_metric\": 0.95790027, \"best_metric\": 0.96531933}, {\"run_id\": \"AutoML_509c0073-6905-4d1f-b0da-55adf8160225_16\", \"run_number\": 23, \"metric\": null, \"status\": \"Completed\", \"run_type\": \"azureml.scriptrun\", \"training_percent\": \"100\", \"start_time\": \"2021-04-16T03:57:23.487242Z\", \"end_time\": \"2021-04-16T03:58:43.662892Z\", \"created_time\": \"2021-04-16T03:57:08.506991Z\", \"created_time_dt\": \"2021-04-16T03:57:08.506991Z\", \"duration\": \"0:01:35\", \"iteration\": \"16\", \"goal\": \"AUC_weighted_max\", \"run_name\": \"MaxAbsScaler, RandomForest\", \"run_properties\": \"copy=True\", \"primary_metric\": 0.94530272, \"best_metric\": 0.96531933}, {\"run_id\": \"AutoML_509c0073-6905-4d1f-b0da-55adf8160225_17\", \"run_number\": 24, \"metric\": null, \"status\": \"Completed\", \"run_type\": \"azureml.scriptrun\", \"training_percent\": \"100\", \"start_time\": \"2021-04-16T03:57:59.849664Z\", \"end_time\": \"2021-04-16T03:59:02.662261Z\", \"created_time\": \"2021-04-16T03:57:17.134144Z\", \"created_time_dt\": \"2021-04-16T03:57:17.134144Z\", \"duration\": \"0:01:45\", \"iteration\": \"17\", \"goal\": \"AUC_weighted_max\", \"run_name\": \"StandardScalerWrapper, XGBoostClassifier\", \"run_properties\": \"<azureml.automl.runtime.shared.model_wrappers.StandardScalerWrapper object at 0x7f00bb9249e8\", \"primary_metric\": 0.93849127, \"best_metric\": 0.96531933}, {\"run_id\": \"AutoML_509c0073-6905-4d1f-b0da-55adf8160225_18\", \"run_number\": 25, \"metric\": null, \"status\": \"Completed\", \"run_type\": \"azureml.scriptrun\", \"training_percent\": \"100\", \"start_time\": \"2021-04-16T03:58:03.624002Z\", \"end_time\": \"2021-04-16T03:59:20.575726Z\", \"created_time\": \"2021-04-16T03:57:49.982441Z\", \"created_time_dt\": \"2021-04-16T03:57:49.982441Z\", \"duration\": \"0:01:30\", \"iteration\": \"18\", \"goal\": \"AUC_weighted_max\", \"run_name\": \"MaxAbsScaler, RandomForest\", \"run_properties\": \"copy=True\", \"primary_metric\": 0.95362691, \"best_metric\": 0.96531933}, {\"run_id\": \"AutoML_509c0073-6905-4d1f-b0da-55adf8160225_19\", \"run_number\": 26, \"metric\": null, \"status\": \"Completed\", \"run_type\": \"azureml.scriptrun\", \"training_percent\": \"100\", \"start_time\": \"2021-04-16T03:58:34.201028Z\", \"end_time\": \"2021-04-16T03:59:28.362795Z\", \"created_time\": \"2021-04-16T03:57:59.558505Z\", \"created_time_dt\": \"2021-04-16T03:57:59.558505Z\", \"duration\": \"0:01:28\", \"iteration\": \"19\", \"goal\": \"AUC_weighted_max\", \"run_name\": \"MaxAbsScaler, ExtremeRandomTrees\", \"run_properties\": \"copy=True\", \"primary_metric\": 0.94106705, \"best_metric\": 0.96531933}, {\"run_id\": \"AutoML_509c0073-6905-4d1f-b0da-55adf8160225_20\", \"run_number\": 27, \"metric\": null, \"status\": \"Completed\", \"run_type\": \"azureml.scriptrun\", \"training_percent\": \"100\", \"start_time\": \"2021-04-16T03:58:57.679384Z\", \"end_time\": \"2021-04-16T04:00:07.146545Z\", \"created_time\": \"2021-04-16T03:58:26.076847Z\", \"created_time_dt\": \"2021-04-16T03:58:26.076847Z\", \"duration\": \"0:01:41\", \"iteration\": \"20\", \"goal\": \"AUC_weighted_max\", \"run_name\": \"MaxAbsScaler, ExtremeRandomTrees\", \"run_properties\": \"copy=True\", \"primary_metric\": 0.95975037, \"best_metric\": 0.96531933}, {\"run_id\": \"AutoML_509c0073-6905-4d1f-b0da-55adf8160225_21\", \"run_number\": 28, \"metric\": null, \"status\": \"Completed\", \"run_type\": \"azureml.scriptrun\", \"training_percent\": \"100\", \"start_time\": \"2021-04-16T03:59:20.434251Z\", \"end_time\": \"2021-04-16T04:00:21.510429Z\", \"created_time\": \"2021-04-16T03:58:47.666424Z\", \"created_time_dt\": \"2021-04-16T03:58:47.666424Z\", \"duration\": \"0:01:33\", \"iteration\": \"21\", \"goal\": \"AUC_weighted_max\", \"run_name\": \"StandardScalerWrapper, LightGBM\", \"run_properties\": \"<azureml.automl.runtime.shared.model_wrappers.StandardScalerWrapper object at 0x7ff222588b00\", \"primary_metric\": 0.95524158, \"best_metric\": 0.96531933}, {\"run_id\": \"AutoML_509c0073-6905-4d1f-b0da-55adf8160225_22\", \"run_number\": 29, \"metric\": null, \"status\": \"Completed\", \"run_type\": \"azureml.scriptrun\", \"training_percent\": \"100\", \"start_time\": \"2021-04-16T03:59:34.561377Z\", \"end_time\": \"2021-04-16T04:00:49.484353Z\", \"created_time\": \"2021-04-16T03:59:07.058011Z\", \"created_time_dt\": \"2021-04-16T03:59:07.058011Z\", \"duration\": \"0:01:42\", \"iteration\": \"22\", \"goal\": \"AUC_weighted_max\", \"run_name\": \"MaxAbsScaler, LightGBM\", \"run_properties\": \"copy=True\", \"primary_metric\": 0.96271232, \"best_metric\": 0.96531933}, {\"run_id\": \"AutoML_509c0073-6905-4d1f-b0da-55adf8160225_23\", \"run_number\": 30, \"metric\": null, \"status\": \"Canceled\", \"run_type\": \"azureml.scriptrun\", \"training_percent\": \"100\", \"start_time\": \"2021-04-16T03:59:44.191813Z\", \"end_time\": \"2021-04-16T04:06:41.790728Z\", \"created_time\": \"2021-04-16T03:59:24.158634Z\", \"created_time_dt\": \"2021-04-16T03:59:24.158634Z\", \"duration\": \"0:07:17\", \"iteration\": \"23\", \"goal\": null, \"run_name\": \"StandardScalerWrapper, XGBoostClassifier\", \"run_properties\": null}, {\"run_id\": \"AutoML_509c0073-6905-4d1f-b0da-55adf8160225_24\", \"run_number\": 31, \"metric\": null, \"status\": \"Completed\", \"run_type\": \"azureml.scriptrun\", \"training_percent\": \"100\", \"start_time\": \"2021-04-16T04:00:22.793489Z\", \"end_time\": \"2021-04-16T04:01:30.119383Z\", \"created_time\": \"2021-04-16T03:59:32.666054Z\", \"created_time_dt\": \"2021-04-16T03:59:32.666054Z\", \"duration\": \"0:01:57\", \"iteration\": \"24\", \"goal\": \"AUC_weighted_max\", \"run_name\": \"StandardScalerWrapper, LightGBM\", \"run_properties\": \"<azureml.automl.runtime.shared.model_wrappers.StandardScalerWrapper object at 0x7fd6d0cd9c18\", \"primary_metric\": 0.9595397, \"best_metric\": 0.96531933}, {\"run_id\": \"AutoML_509c0073-6905-4d1f-b0da-55adf8160225_25\", \"run_number\": 32, \"metric\": null, \"status\": \"Completed\", \"run_type\": \"azureml.scriptrun\", \"training_percent\": \"100\", \"start_time\": \"2021-04-16T04:00:33.739743Z\", \"end_time\": \"2021-04-16T04:01:28.754872Z\", \"created_time\": \"2021-04-16T04:00:10.897606Z\", \"created_time_dt\": \"2021-04-16T04:00:10.897606Z\", \"duration\": \"0:01:17\", \"iteration\": \"25\", \"goal\": \"AUC_weighted_max\", \"run_name\": \"StandardScalerWrapper, ExtremeRandomTrees\", \"run_properties\": \"<azureml.automl.runtime.shared.model_wrappers.StandardScalerWrapper object at 0x7fa9d4658588\", \"primary_metric\": 0.94099384, \"best_metric\": 0.96531933}, {\"run_id\": \"AutoML_509c0073-6905-4d1f-b0da-55adf8160225_26\", \"run_number\": 33, \"metric\": null, \"status\": \"Completed\", \"run_type\": \"azureml.scriptrun\", \"training_percent\": \"100\", \"start_time\": \"2021-04-16T04:01:08.409478Z\", \"end_time\": \"2021-04-16T04:02:20.333773Z\", \"created_time\": \"2021-04-16T04:00:25.225774Z\", \"created_time_dt\": \"2021-04-16T04:00:25.225774Z\", \"duration\": \"0:01:55\", \"iteration\": \"26\", \"goal\": \"AUC_weighted_max\", \"run_name\": \"StandardScalerWrapper, XGBoostClassifier\", \"run_properties\": \"<azureml.automl.runtime.shared.model_wrappers.StandardScalerWrapper object at 0x7f2823810080\", \"primary_metric\": 0.97109394, \"best_metric\": 0.97109394}, {\"run_id\": \"AutoML_509c0073-6905-4d1f-b0da-55adf8160225_27\", \"run_number\": 34, \"metric\": null, \"status\": \"Completed\", \"run_type\": \"azureml.scriptrun\", \"training_percent\": \"100\", \"start_time\": \"2021-04-16T04:01:44.376656Z\", \"end_time\": \"2021-04-16T04:03:19.484884Z\", \"created_time\": \"2021-04-16T04:00:53.888584Z\", \"created_time_dt\": \"2021-04-16T04:00:53.888584Z\", \"duration\": \"0:02:25\", \"iteration\": \"27\", \"goal\": \"AUC_weighted_max\", \"run_name\": \"StandardScalerWrapper, XGBoostClassifier\", \"run_properties\": \"<azureml.automl.runtime.shared.model_wrappers.StandardScalerWrapper object at 0x7fea1488cfd0\", \"primary_metric\": 0.95237868, \"best_metric\": 0.97109394}, {\"run_id\": \"AutoML_509c0073-6905-4d1f-b0da-55adf8160225_28\", \"run_number\": 35, \"metric\": null, \"status\": \"Completed\", \"run_type\": \"azureml.scriptrun\", \"training_percent\": \"100\", \"start_time\": \"2021-04-16T04:01:46.906513Z\", \"end_time\": \"2021-04-16T04:06:27.134933Z\", \"created_time\": \"2021-04-16T04:01:32.337853Z\", \"created_time_dt\": \"2021-04-16T04:01:32.337853Z\", \"duration\": \"0:04:54\", \"iteration\": \"28\", \"goal\": \"AUC_weighted_max\", \"run_name\": \"StandardScalerWrapper, XGBoostClassifier\", \"run_properties\": \"<azureml.automl.runtime.shared.model_wrappers.StandardScalerWrapper object at 0x7fcadf1facf8\", \"primary_metric\": 0.96406143, \"best_metric\": 0.97109394}, {\"run_id\": \"AutoML_509c0073-6905-4d1f-b0da-55adf8160225_29\", \"run_number\": 36, \"metric\": null, \"status\": \"Completed\", \"run_type\": \"azureml.scriptrun\", \"training_percent\": \"100\", \"start_time\": \"2021-04-16T04:02:36.649514Z\", \"end_time\": \"2021-04-16T04:04:09.332686Z\", \"created_time\": \"2021-04-16T04:01:40.476535Z\", \"created_time_dt\": \"2021-04-16T04:01:40.476535Z\", \"duration\": \"0:02:28\", \"iteration\": \"29\", \"goal\": \"AUC_weighted_max\", \"run_name\": \"MaxAbsScaler, ExtremeRandomTrees\", \"run_properties\": \"copy=True\", \"primary_metric\": 0.96404167, \"best_metric\": 0.97109394}, {\"run_id\": \"AutoML_509c0073-6905-4d1f-b0da-55adf8160225_30\", \"run_number\": 37, \"metric\": null, \"status\": \"Completed\", \"run_type\": \"azureml.scriptrun\", \"training_percent\": \"100\", \"start_time\": \"2021-04-16T04:03:37.754672Z\", \"end_time\": \"2021-04-16T04:04:51.412576Z\", \"created_time\": \"2021-04-16T04:02:25.086942Z\", \"created_time_dt\": \"2021-04-16T04:02:25.086942Z\", \"duration\": \"0:02:26\", \"iteration\": \"30\", \"goal\": \"AUC_weighted_max\", \"run_name\": \"TruncatedSVDWrapper, XGBoostClassifier\", \"run_properties\": \"n_components=0.05947368421052632, random_state=None\", \"primary_metric\": 0.78669586, \"best_metric\": 0.97109394}, {\"run_id\": \"AutoML_509c0073-6905-4d1f-b0da-55adf8160225_31\", \"run_number\": 38, \"metric\": null, \"status\": \"Completed\", \"run_type\": \"azureml.scriptrun\", \"training_percent\": \"100\", \"start_time\": \"2021-04-16T04:04:23.31761Z\", \"end_time\": \"2021-04-16T04:06:25.807486Z\", \"created_time\": \"2021-04-16T04:03:23.823967Z\", \"created_time_dt\": \"2021-04-16T04:03:23.823967Z\", \"duration\": \"0:03:01\", \"iteration\": \"31\", \"goal\": \"AUC_weighted_max\", \"run_name\": \"TruncatedSVDWrapper, XGBoostClassifier\", \"run_properties\": \"n_components=0.5047368421052632, random_state=None\", \"primary_metric\": 0.96093363, \"best_metric\": 0.97109394}, {\"run_id\": \"AutoML_509c0073-6905-4d1f-b0da-55adf8160225_32\", \"run_number\": 39, \"metric\": null, \"status\": \"Canceled\", \"run_type\": \"azureml.scriptrun\", \"training_percent\": \"100\", \"start_time\": \"2021-04-16T04:05:05.334824Z\", \"end_time\": \"2021-04-16T04:06:40.828798Z\", \"created_time\": \"2021-04-16T04:04:44.332455Z\", \"created_time_dt\": \"2021-04-16T04:04:44.332455Z\", \"duration\": \"0:01:56\", \"iteration\": \"32\", \"goal\": null, \"run_name\": \"StandardScalerWrapper, RandomForest\", \"run_properties\": null}, {\"run_id\": \"AutoML_509c0073-6905-4d1f-b0da-55adf8160225_33\", \"run_number\": 40, \"metric\": null, \"status\": \"Canceled\", \"run_type\": \"azureml.scriptrun\", \"training_percent\": \"100\", \"start_time\": \"2021-04-16T04:05:01.31749Z\", \"end_time\": \"2021-04-16T04:06:40.987616Z\", \"created_time\": \"2021-04-16T04:05:01.31749Z\", \"created_time_dt\": \"2021-04-16T04:05:01.31749Z\", \"duration\": \"0:01:39\", \"iteration\": \"33\", \"goal\": null, \"run_name\": \"Canceled\", \"run_properties\": null}, {\"run_id\": \"AutoML_509c0073-6905-4d1f-b0da-55adf8160225_34\", \"run_number\": 41, \"metric\": null, \"status\": \"Canceled\", \"run_type\": \"azureml.scriptrun\", \"training_percent\": \"100\", \"start_time\": \"2021-04-16T04:06:28.852551Z\", \"end_time\": \"2021-04-16T04:06:36.309542Z\", \"created_time\": \"2021-04-16T04:06:28.852551Z\", \"created_time_dt\": \"2021-04-16T04:06:28.852551Z\", \"duration\": \"0:00:07\", \"iteration\": \"34\", \"goal\": null, \"run_name\": \"Canceled\", \"run_properties\": null}, {\"run_id\": \"AutoML_509c0073-6905-4d1f-b0da-55adf8160225_36\", \"run_number\": 42, \"metric\": null, \"status\": \"Completed\", \"run_type\": \"azureml.scriptrun\", \"training_percent\": \"100\", \"start_time\": \"2021-04-16T04:06:57.953128Z\", \"end_time\": \"2021-04-16T04:12:17.358264Z\", \"created_time\": \"2021-04-16T04:06:44.961938Z\", \"created_time_dt\": \"2021-04-16T04:06:44.961938Z\", \"duration\": \"0:05:32\", \"iteration\": \"36\", \"goal\": \"AUC_weighted_max\", \"run_name\": \"StackEnsemble\", \"run_properties\": \"base_learners=[('26',\\n                                        Pipeline(memory=None,\\n                                                 steps=[('standardscalerwrapper',\\n                                                         <azureml.automl.runtime.shared.model_wrappers.StandardScalerWrapper object at 0x7f01ae7cd400>\", \"primary_metric\": 0.96701546, \"best_metric\": 0.97109394}, {\"run_id\": \"AutoML_509c0073-6905-4d1f-b0da-55adf8160225_35\", \"run_number\": 43, \"metric\": null, \"status\": \"Completed\", \"run_type\": \"azureml.scriptrun\", \"training_percent\": \"100\", \"start_time\": \"2021-04-16T04:07:01.269271Z\", \"end_time\": \"2021-04-16T04:08:46.568554Z\", \"created_time\": \"2021-04-16T04:06:45.33937Z\", \"created_time_dt\": \"2021-04-16T04:06:45.33937Z\", \"duration\": \"0:02:01\", \"iteration\": \"35\", \"goal\": \"AUC_weighted_max\", \"run_name\": \"VotingEnsemble\", \"run_properties\": \"classification_labels=None,\\n                              estimators=[('26',\\n                                           Pipeline(memory=None,\\n                                                    steps=[('standardscalerwrapper',\\n                                                            <azureml.automl.runtime.shared.model_wrappers.StandardScalerWrapper object at 0x7fa5407368d0>\", \"primary_metric\": 0.9679005, \"best_metric\": 0.97109394}], \"children_metrics\": {\"categories\": [0], \"series\": {\"matthews_correlation\": [{\"categories\": [\"0\", \"1\", \"2\", \"3\", \"4\", \"5\", \"6\", \"7\", \"8\", \"9\", \"10\", \"11\", \"12\", \"13\", \"14\", \"15\", \"16\", \"17\", \"18\", \"19\", \"20\", \"21\", \"22\", \"24\", \"25\", \"26\", \"27\", \"28\", \"29\", \"30\", \"31\", \"35\", \"36\"], \"mode\": \"markers\", \"name\": \"matthews_correlation\", \"stepped\": false, \"type\": \"scatter\", \"data\": [0.45915342256335906, 0.8581188462647884, 0.0, 0.0, 0.2545840971430756, 0.0, 0.0, 0.0, 0.0, 0.0, 0.0, 0.23602013908938915, 0.642341008241121, 0.20679726602499804, 0.0, 0.2863409337105564, 0.18135160060547734, 0.8340403915712905, 0.0, 0.2353141598554351, 0.16495223793795302, 0.8729230972010839, 0.846164030749905, 0.7581824619966644, 0.0, 0.8807418913871203, 0.8807418913871203, 0.8930365974978794, 0.2567551539360027, 0.0, 0.8922575264930523, 0.8078805486377935, 0.0]}, {\"categories\": [\"0\", \"1\", \"2\", \"3\", \"4\", \"5\", \"6\", \"7\", \"8\", \"9\", \"10\", \"11\", \"12\", \"13\", \"14\", \"15\", \"16\", \"17\", \"18\", \"19\", \"20\", \"21\", \"22\", \"24\", \"25\", \"26\", \"27\", \"28\", \"29\", \"30\", \"31\", \"35\", \"36\"], \"mode\": \"lines\", \"name\": \"matthews_correlation_max\", \"stepped\": true, \"type\": \"scatter\", \"data\": [0.45915342256335906, 0.8581188462647884, 0.8581188462647884, 0.8581188462647884, 0.8581188462647884, 0.8581188462647884, 0.8581188462647884, 0.8581188462647884, 0.8581188462647884, 0.8581188462647884, 0.8581188462647884, 0.8581188462647884, 0.8581188462647884, 0.8581188462647884, 0.8581188462647884, 0.8581188462647884, 0.8581188462647884, 0.8581188462647884, 0.8581188462647884, 0.8581188462647884, 0.8581188462647884, 0.8729230972010839, 0.8729230972010839, 0.8729230972010839, 0.8729230972010839, 0.8807418913871203, 0.8807418913871203, 0.8930365974978794, 0.8930365974978794, 0.8930365974978794, 0.8930365974978794, 0.8930365974978794, 0.8930365974978794]}], \"f1_score_micro\": [{\"categories\": [\"0\", \"1\", \"2\", \"3\", \"4\", \"5\", \"6\", \"7\", \"8\", \"9\", \"10\", \"11\", \"12\", \"13\", \"14\", \"15\", \"16\", \"17\", \"18\", \"19\", \"20\", \"21\", \"22\", \"24\", \"25\", \"26\", \"27\", \"28\", \"29\", \"30\", \"31\", \"35\", \"36\"], \"mode\": \"markers\", \"name\": \"f1_score_micro\", \"stepped\": false, \"type\": \"scatter\", \"data\": [0.997471998876444, 0.9995435553526912, 0.9982795547909132, 0.9982795547909132, 0.9804782135458727, 0.9982795547909132, 0.9982795547909132, 0.9982795547909132, 0.9982795547909132, 0.9982795547909132, 0.9982795547909132, 0.9761244338330817, 0.9989115550718023, 0.9701204311646361, 0.9982795547909132, 0.9873599943822198, 0.9646079842702152, 0.9994733330992591, 0.9982795547909132, 0.9790386573505144, 0.9574102032934236, 0.9995786664794073, 0.9995084442259752, 0.9992275552122467, 0.9982795547909132, 0.9996137776061234, 0.9996137776061234, 0.9996488887328394, 0.9816719918542186, 0.9982795547909132, 0.9996488887328394, 0.999403110845827, 0.9982795547909132]}, {\"categories\": [\"0\", \"1\", \"2\", \"3\", \"4\", \"5\", \"6\", \"7\", \"8\", \"9\", \"10\", \"11\", \"12\", \"13\", \"14\", \"15\", \"16\", \"17\", \"18\", \"19\", \"20\", \"21\", \"22\", \"24\", \"25\", \"26\", \"27\", \"28\", \"29\", \"30\", \"31\", \"35\", \"36\"], \"mode\": \"lines\", \"name\": \"f1_score_micro_max\", \"stepped\": true, \"type\": \"scatter\", \"data\": [0.997471998876444, 0.9995435553526912, 0.9995435553526912, 0.9995435553526912, 0.9995435553526912, 0.9995435553526912, 0.9995435553526912, 0.9995435553526912, 0.9995435553526912, 0.9995435553526912, 0.9995435553526912, 0.9995435553526912, 0.9995435553526912, 0.9995435553526912, 0.9995435553526912, 0.9995435553526912, 0.9995435553526912, 0.9995435553526912, 0.9995435553526912, 0.9995435553526912, 0.9995435553526912, 0.9995786664794073, 0.9995786664794073, 0.9995786664794073, 0.9995786664794073, 0.9996137776061234, 0.9996137776061234, 0.9996488887328394, 0.9996488887328394, 0.9996488887328394, 0.9996488887328394, 0.9996488887328394, 0.9996488887328394]}], \"f1_score_weighted\": [{\"categories\": [\"0\", \"1\", \"2\", \"3\", \"4\", \"5\", \"6\", \"7\", \"8\", \"9\", \"10\", \"11\", \"12\", \"13\", \"14\", \"15\", \"16\", \"17\", \"18\", \"19\", \"20\", \"21\", \"22\", \"24\", \"25\", \"26\", \"27\", \"28\", \"29\", \"30\", \"31\", \"35\", \"36\"], \"mode\": \"markers\", \"name\": \"f1_score_weighted\", \"stepped\": false, \"type\": \"scatter\", \"data\": [0.9977824257642381, 0.9995205128063204, 0.9974200728063972, 0.9974200728063972, 0.9886591221176236, 0.9974200728063972, 0.9974200728063972, 0.9974200728063972, 0.9974200728063972, 0.9974200728063972, 0.9974200728063972, 0.9864000987852168, 0.9988284454372132, 0.9832767334183731, 0.9974200728063972, 0.9922341194998182, 0.9804010538586, 0.9994400889957298, 0.9974200728063972, 0.9879025304686576, 0.9766373979086974, 0.9995697167543636, 0.999480558135087, 0.9991932786614441, 0.9974200728063972, 0.9995942800668863, 0.9995942800668863, 0.9996374579741717, 0.989275969530176, 0.9974200728063972, 0.9996333084824744, 0.9993405635256508, 0.9974200728063972]}, {\"categories\": [\"0\", \"1\", \"2\", \"3\", \"4\", \"5\", \"6\", \"7\", \"8\", \"9\", \"10\", \"11\", \"12\", \"13\", \"14\", \"15\", \"16\", \"17\", \"18\", \"19\", \"20\", \"21\", \"22\", \"24\", \"25\", \"26\", \"27\", \"28\", \"29\", \"30\", \"31\", \"35\", \"36\"], \"mode\": \"lines\", \"name\": \"f1_score_weighted_max\", \"stepped\": true, \"type\": \"scatter\", \"data\": [0.9977824257642381, 0.9995205128063204, 0.9995205128063204, 0.9995205128063204, 0.9995205128063204, 0.9995205128063204, 0.9995205128063204, 0.9995205128063204, 0.9995205128063204, 0.9995205128063204, 0.9995205128063204, 0.9995205128063204, 0.9995205128063204, 0.9995205128063204, 0.9995205128063204, 0.9995205128063204, 0.9995205128063204, 0.9995205128063204, 0.9995205128063204, 0.9995205128063204, 0.9995205128063204, 0.9995697167543636, 0.9995697167543636, 0.9995697167543636, 0.9995697167543636, 0.9995942800668863, 0.9995942800668863, 0.9996374579741717, 0.9996374579741717, 0.9996374579741717, 0.9996374579741717, 0.9996374579741717, 0.9996374579741717]}], \"log_loss\": [{\"categories\": [\"0\", \"1\", \"2\", \"3\", \"4\", \"5\", \"6\", \"7\", \"8\", \"9\", \"10\", \"11\", \"12\", \"13\", \"14\", \"15\", \"16\", \"17\", \"18\", \"19\", \"20\", \"21\", \"22\", \"24\", \"25\", \"26\", \"27\", \"28\", \"29\", \"30\", \"31\", \"35\", \"36\"], \"mode\": \"markers\", \"name\": \"log_loss\", \"stepped\": false, \"type\": \"scatter\", \"data\": [0.08660103808165362, 0.0025149251042369506, 0.006923493196461505, 0.010372793492112495, 0.1309513094790916, 0.009060688790535882, 0.0069729230958258375, 0.009056355963890286, 0.01024157171622379, 0.010088576442220887, 0.009202007076271659, 0.1793722930066856, 0.005269394006658479, 0.15178817418836263, 0.007658257957349255, 0.5930932550771171, 0.3024941159383849, 0.1987215303422923, 0.00836736275179191, 0.32196820758356104, 0.5992777600828029, 0.0024389623324189784, 0.0025303462701678023, 0.0034661090464917104, 0.010530394813669774, 0.00242971613296065, 0.005225929709576123, 0.002352337399231052, 0.5929329494409386, 0.011050289901663672, 0.002457735270430254, 0.032978390900710614, 0.01123221214903863]}, {\"categories\": [\"0\", \"1\", \"2\", \"3\", \"4\", \"5\", \"6\", \"7\", \"8\", \"9\", \"10\", \"11\", \"12\", \"13\", \"14\", \"15\", \"16\", \"17\", \"18\", \"19\", \"20\", \"21\", \"22\", \"24\", \"25\", \"26\", \"27\", \"28\", \"29\", \"30\", \"31\", \"35\", \"36\"], \"mode\": \"lines\", \"name\": \"log_loss_min\", \"stepped\": true, \"type\": \"scatter\", \"data\": [0.08660103808165362, 0.0025149251042369506, 0.0025149251042369506, 0.0025149251042369506, 0.0025149251042369506, 0.0025149251042369506, 0.0025149251042369506, 0.0025149251042369506, 0.0025149251042369506, 0.0025149251042369506, 0.0025149251042369506, 0.0025149251042369506, 0.0025149251042369506, 0.0025149251042369506, 0.0025149251042369506, 0.0025149251042369506, 0.0025149251042369506, 0.0025149251042369506, 0.0025149251042369506, 0.0025149251042369506, 0.0025149251042369506, 0.0024389623324189784, 0.0024389623324189784, 0.0024389623324189784, 0.0024389623324189784, 0.00242971613296065, 0.00242971613296065, 0.002352337399231052, 0.002352337399231052, 0.002352337399231052, 0.002352337399231052, 0.002352337399231052, 0.002352337399231052]}], \"balanced_accuracy\": [{\"categories\": [\"0\", \"1\", \"2\", \"3\", \"4\", \"5\", \"6\", \"7\", \"8\", \"9\", \"10\", \"11\", \"12\", \"13\", \"14\", \"15\", \"16\", \"17\", \"18\", \"19\", \"20\", \"21\", \"22\", \"24\", \"25\", \"26\", \"27\", \"28\", \"29\", \"30\", \"31\", \"35\", \"36\"], \"mode\": \"markers\", \"name\": \"balanced_accuracy\", \"stepped\": false, \"type\": \"scatter\", \"data\": [0.7950039047695612, 0.8877199304032248, 0.5, 0.5, 0.9392898056802912, 0.5, 0.5, 0.5, 0.5, 0.5, 0.5, 0.947295659963479, 0.7753519317124711, 0.9341019891355529, 0.5, 0.9019906429088236, 0.9109680239569097, 0.8673117671379188, 0.5, 0.918195795481952, 0.9073629311037865, 0.9182970036635927, 0.8775158487705719, 0.846815674778634, 0.5, 0.8979415978546736, 0.8979415978546736, 0.9183321753011842, 0.9297012277054885, 0.5, 0.9081456794873267, 0.8265306122448979, 0.5]}, {\"categories\": [\"0\", \"1\", \"2\", \"3\", \"4\", \"5\", \"6\", \"7\", \"8\", \"9\", \"10\", \"11\", \"12\", \"13\", \"14\", \"15\", \"16\", \"17\", \"18\", \"19\", \"20\", \"21\", \"22\", \"24\", \"25\", \"26\", \"27\", \"28\", \"29\", \"30\", \"31\", \"35\", \"36\"], \"mode\": \"lines\", \"name\": \"balanced_accuracy_max\", \"stepped\": true, \"type\": \"scatter\", \"data\": [0.7950039047695612, 0.8877199304032248, 0.8877199304032248, 0.8877199304032248, 0.9392898056802912, 0.9392898056802912, 0.9392898056802912, 0.9392898056802912, 0.9392898056802912, 0.9392898056802912, 0.9392898056802912, 0.947295659963479, 0.947295659963479, 0.947295659963479, 0.947295659963479, 0.947295659963479, 0.947295659963479, 0.947295659963479, 0.947295659963479, 0.947295659963479, 0.947295659963479, 0.947295659963479, 0.947295659963479, 0.947295659963479, 0.947295659963479, 0.947295659963479, 0.947295659963479, 0.947295659963479, 0.947295659963479, 0.947295659963479, 0.947295659963479, 0.947295659963479, 0.947295659963479]}], \"precision_score_macro\": [{\"categories\": [\"0\", \"1\", \"2\", \"3\", \"4\", \"5\", \"6\", \"7\", \"8\", \"9\", \"10\", \"11\", \"12\", \"13\", \"14\", \"15\", \"16\", \"17\", \"18\", \"19\", \"20\", \"21\", \"22\", \"24\", \"25\", \"26\", \"27\", \"28\", \"29\", \"30\", \"31\", \"35\", \"36\"], \"mode\": \"markers\", \"name\": \"precision_score_macro\", \"stepped\": false, \"type\": \"scatter\", \"data\": [0.678660233002956, 0.9748066172075525, 0.4991397773954566, 0.4991397773954566, 0.5368851391951746, 0.4991397773954566, 0.4991397773954566, 0.4991397773954566, 0.4991397773954566, 0.4991397773954566, 0.4991397773954566, 0.5311346113107396, 0.8746132888029531, 0.5246284918669538, 0.4991397773954566, 0.5509906957814624, 0.5200066678701121, 0.9734556832964174, 0.4991397773954566, 0.5331021703390482, 0.516698402531996, 0.955414888795111, 0.9741480187299749, 0.9143704332612946, 0.4991397773954566, 0.9873241974614113, 0.9873241974614113, 0.9766035291789401, 0.5383540963012348, 0.4991397773954566, 0.9876466502006792, 0.9997012197265283, 0.4991397773954566]}, {\"categories\": [\"0\", \"1\", \"2\", \"3\", \"4\", \"5\", \"6\", \"7\", \"8\", \"9\", \"10\", \"11\", \"12\", \"13\", \"14\", \"15\", \"16\", \"17\", \"18\", \"19\", \"20\", \"21\", \"22\", \"24\", \"25\", \"26\", \"27\", \"28\", \"29\", \"30\", \"31\", \"35\", \"36\"], \"mode\": \"lines\", \"name\": \"precision_score_macro_max\", \"stepped\": true, \"type\": \"scatter\", \"data\": [0.678660233002956, 0.9748066172075525, 0.9748066172075525, 0.9748066172075525, 0.9748066172075525, 0.9748066172075525, 0.9748066172075525, 0.9748066172075525, 0.9748066172075525, 0.9748066172075525, 0.9748066172075525, 0.9748066172075525, 0.9748066172075525, 0.9748066172075525, 0.9748066172075525, 0.9748066172075525, 0.9748066172075525, 0.9748066172075525, 0.9748066172075525, 0.9748066172075525, 0.9748066172075525, 0.9748066172075525, 0.9748066172075525, 0.9748066172075525, 0.9748066172075525, 0.9873241974614113, 0.9873241974614113, 0.9873241974614113, 0.9873241974614113, 0.9873241974614113, 0.9876466502006792, 0.9997012197265283, 0.9997012197265283]}], \"precision_score_weighted\": [{\"categories\": [\"0\", \"1\", \"2\", \"3\", \"4\", \"5\", \"6\", \"7\", \"8\", \"9\", \"10\", \"11\", \"12\", \"13\", \"14\", \"15\", \"16\", \"17\", \"18\", \"19\", \"20\", \"21\", \"22\", \"24\", \"25\", \"26\", \"27\", \"28\", \"29\", \"30\", \"31\", \"35\", \"36\"], \"mode\": \"markers\", \"name\": \"precision_score_weighted\", \"stepped\": false, \"type\": \"scatter\", \"data\": [0.9981925028849155, 0.9995278775636481, 0.996562069513544, 0.996562069513544, 0.9982277880279716, 0.996562069513544, 0.996562069513544, 0.996562069513544, 0.996562069513544, 0.996562069513544, 0.996562069513544, 0.9982430891631616, 0.998797796934487, 0.9981837037723549, 0.996562069513544, 0.9981357119259188, 0.9980941527492228, 0.9994531821295123, 0.996562069513544, 0.9981429650940338, 0.9980808555245533, 0.9995662220349893, 0.9994905866577634, 0.9991797466995803, 0.996562069513544, 0.9996059887098661, 0.9996059887098661, 0.9996391495423254, 0.9981973821061662, 0.996562069513544, 0.9996421266702135, 0.9994034675232366, 0.996562069513544]}, {\"categories\": [\"0\", \"1\", \"2\", \"3\", \"4\", \"5\", \"6\", \"7\", \"8\", \"9\", \"10\", \"11\", \"12\", \"13\", \"14\", \"15\", \"16\", \"17\", \"18\", \"19\", \"20\", \"21\", \"22\", \"24\", \"25\", \"26\", \"27\", \"28\", \"29\", \"30\", \"31\", \"35\", \"36\"], \"mode\": \"lines\", \"name\": \"precision_score_weighted_max\", \"stepped\": true, \"type\": \"scatter\", \"data\": [0.9981925028849155, 0.9995278775636481, 0.9995278775636481, 0.9995278775636481, 0.9995278775636481, 0.9995278775636481, 0.9995278775636481, 0.9995278775636481, 0.9995278775636481, 0.9995278775636481, 0.9995278775636481, 0.9995278775636481, 0.9995278775636481, 0.9995278775636481, 0.9995278775636481, 0.9995278775636481, 0.9995278775636481, 0.9995278775636481, 0.9995278775636481, 0.9995278775636481, 0.9995278775636481, 0.9995662220349893, 0.9995662220349893, 0.9995662220349893, 0.9995662220349893, 0.9996059887098661, 0.9996059887098661, 0.9996391495423254, 0.9996391495423254, 0.9996391495423254, 0.9996421266702135, 0.9996421266702135, 0.9996421266702135]}], \"AUC_macro\": [{\"categories\": [\"0\", \"1\", \"2\", \"3\", \"4\", \"5\", \"6\", \"7\", \"8\", \"9\", \"10\", \"11\", \"12\", \"13\", \"14\", \"15\", \"16\", \"17\", \"18\", \"19\", \"20\", \"21\", \"22\", \"24\", \"25\", \"26\", \"27\", \"28\", \"29\", \"30\", \"31\", \"35\", \"36\"], \"mode\": \"markers\", \"name\": \"AUC_macro\", \"stepped\": false, \"type\": \"scatter\", \"data\": [0.7944282383746971, 0.958355345514683, 0.9584551181192793, 0.9468448887714904, 0.9615706792002113, 0.9579645096643046, 0.9623071302240649, 0.9653193297577896, 0.954716516601013, 0.9270827351762314, 0.9536933090625107, 0.9542359571853503, 0.9357349580237272, 0.9582394226683357, 0.9541092675111686, 0.9579002675915611, 0.9453027201313842, 0.9384912659492609, 0.9536269136242004, 0.9410670500614428, 0.9597503675077232, 0.9552415789050567, 0.9627123218448888, 0.9595396965764358, 0.9409938356321708, 0.9710957328907928, 0.9523786793839653, 0.964069121599118, 0.9640416661881409, 0.7866965793070183, 0.9609311296268648, 0.9679004972838883, 0.9670154640359239]}, {\"categories\": [\"0\", \"1\", \"2\", \"3\", \"4\", \"5\", \"6\", \"7\", \"8\", \"9\", \"10\", \"11\", \"12\", \"13\", \"14\", \"15\", \"16\", \"17\", \"18\", \"19\", \"20\", \"21\", \"22\", \"24\", \"25\", \"26\", \"27\", \"28\", \"29\", \"30\", \"31\", \"35\", \"36\"], \"mode\": \"lines\", \"name\": \"AUC_macro_max\", \"stepped\": true, \"type\": \"scatter\", \"data\": [0.7944282383746971, 0.958355345514683, 0.9584551181192793, 0.9584551181192793, 0.9615706792002113, 0.9615706792002113, 0.9623071302240649, 0.9653193297577896, 0.9653193297577896, 0.9653193297577896, 0.9653193297577896, 0.9653193297577896, 0.9653193297577896, 0.9653193297577896, 0.9653193297577896, 0.9653193297577896, 0.9653193297577896, 0.9653193297577896, 0.9653193297577896, 0.9653193297577896, 0.9653193297577896, 0.9653193297577896, 0.9653193297577896, 0.9653193297577896, 0.9653193297577896, 0.9710957328907928, 0.9710957328907928, 0.9710957328907928, 0.9710957328907928, 0.9710957328907928, 0.9710957328907928, 0.9710957328907928, 0.9710957328907928]}], \"average_precision_score_micro\": [{\"categories\": [\"0\", \"1\", \"2\", \"3\", \"4\", \"5\", \"6\", \"7\", \"8\", \"9\", \"10\", \"11\", \"12\", \"13\", \"14\", \"15\", \"16\", \"17\", \"18\", \"19\", \"20\", \"21\", \"22\", \"24\", \"25\", \"26\", \"27\", \"28\", \"29\", \"30\", \"31\", \"35\", \"36\"], \"mode\": \"markers\", \"name\": \"average_precision_score_micro\", \"stepped\": false, \"type\": \"scatter\", \"data\": [0.99642318709727, 0.9998362154301887, 0.9998465817426776, 0.9997953291208749, 0.9977743665099521, 0.999844526940703, 0.9998637520685429, 0.9998741719771945, 0.9998266097345024, 0.9997053482339889, 0.9998249034241062, 0.9969338329809306, 0.9996912019221811, 0.9960210711347163, 0.9997972252608132, 0.9969032643331786, 0.9949474141423368, 0.9996825200153858, 0.9998000139109074, 0.9970628345247969, 0.9922229202548405, 0.999779989753149, 0.9998535880662094, 0.9998482874523855, 0.9997841334571109, 0.9998975242327828, 0.9997637871528651, 0.9998631916777625, 0.9975031635776425, 0.9991877838142281, 0.9998575430780342, 0.9998770302200243, 0.9998610883559276]}, {\"categories\": [\"0\", \"1\", \"2\", \"3\", \"4\", \"5\", \"6\", \"7\", \"8\", \"9\", \"10\", \"11\", \"12\", \"13\", \"14\", \"15\", \"16\", \"17\", \"18\", \"19\", \"20\", \"21\", \"22\", \"24\", \"25\", \"26\", \"27\", \"28\", \"29\", \"30\", \"31\", \"35\", \"36\"], \"mode\": \"lines\", \"name\": \"average_precision_score_micro_max\", \"stepped\": true, \"type\": \"scatter\", \"data\": [0.99642318709727, 0.9998362154301887, 0.9998465817426776, 0.9998465817426776, 0.9998465817426776, 0.9998465817426776, 0.9998637520685429, 0.9998741719771945, 0.9998741719771945, 0.9998741719771945, 0.9998741719771945, 0.9998741719771945, 0.9998741719771945, 0.9998741719771945, 0.9998741719771945, 0.9998741719771945, 0.9998741719771945, 0.9998741719771945, 0.9998741719771945, 0.9998741719771945, 0.9998741719771945, 0.9998741719771945, 0.9998741719771945, 0.9998741719771945, 0.9998741719771945, 0.9998975242327828, 0.9998975242327828, 0.9998975242327828, 0.9998975242327828, 0.9998975242327828, 0.9998975242327828, 0.9998975242327828, 0.9998975242327828]}], \"f1_score_macro\": [{\"categories\": [\"0\", \"1\", \"2\", \"3\", \"4\", \"5\", \"6\", \"7\", \"8\", \"9\", \"10\", \"11\", \"12\", \"13\", \"14\", \"15\", \"16\", \"17\", \"18\", \"19\", \"20\", \"21\", \"22\", \"24\", \"25\", \"26\", \"27\", \"28\", \"29\", \"30\", \"31\", \"35\", \"36\"], \"mode\": \"markers\", \"name\": \"f1_score_macro\", \"stepped\": false, \"type\": \"scatter\", \"data\": [0.7224434771309771, 0.9268520024015661, 0.4995695183877146, 0.4995695183877146, 0.5633867265278645, 0.4995695183877146, 0.4995695183877146, 0.4995695183877146, 0.4995695183877146, 0.4995695183877146, 0.4995695183877146, 0.5523908750702601, 0.8173745409340486, 0.5392632650856524, 0.4995695183877146, 0.5877244902226325, 0.5294405969902659, 0.9136612353164077, 0.4995695183877146, 0.5563702650959976, 0.5214868851769877, 0.9360647052749256, 0.9203314663674406, 0.8775843609821666, 0.4995695183877146, 0.9381055404936328, 0.9381055404936328, 0.9455642540959166, 0.5660922472229123, 0.4995695183877146, 0.9443565277191666, 0.8949122936101599, 0.4995695183877146]}, {\"categories\": [\"0\", \"1\", \"2\", \"3\", \"4\", \"5\", \"6\", \"7\", \"8\", \"9\", \"10\", \"11\", \"12\", \"13\", \"14\", \"15\", \"16\", \"17\", \"18\", \"19\", \"20\", \"21\", \"22\", \"24\", \"25\", \"26\", \"27\", \"28\", \"29\", \"30\", \"31\", \"35\", \"36\"], \"mode\": \"lines\", \"name\": \"f1_score_macro_max\", \"stepped\": true, \"type\": \"scatter\", \"data\": [0.7224434771309771, 0.9268520024015661, 0.9268520024015661, 0.9268520024015661, 0.9268520024015661, 0.9268520024015661, 0.9268520024015661, 0.9268520024015661, 0.9268520024015661, 0.9268520024015661, 0.9268520024015661, 0.9268520024015661, 0.9268520024015661, 0.9268520024015661, 0.9268520024015661, 0.9268520024015661, 0.9268520024015661, 0.9268520024015661, 0.9268520024015661, 0.9268520024015661, 0.9268520024015661, 0.9360647052749256, 0.9360647052749256, 0.9360647052749256, 0.9360647052749256, 0.9381055404936328, 0.9381055404936328, 0.9455642540959166, 0.9455642540959166, 0.9455642540959166, 0.9455642540959166, 0.9455642540959166, 0.9455642540959166]}], \"average_precision_score_macro\": [{\"categories\": [\"0\", \"1\", \"2\", \"3\", \"4\", \"5\", \"6\", \"7\", \"8\", \"9\", \"10\", \"11\", \"12\", \"13\", \"14\", \"15\", \"16\", \"17\", \"18\", \"19\", \"20\", \"21\", \"22\", \"24\", \"25\", \"26\", \"27\", \"28\", \"29\", \"30\", \"31\", \"35\", \"36\"], \"mode\": \"markers\", \"name\": \"average_precision_score_macro\", \"stepped\": false, \"type\": \"scatter\", \"data\": [0.6114478041035856, 0.9384022408179007, 0.8416566067417945, 0.8393770219971355, 0.823336575141256, 0.8357693891469169, 0.8307044647609474, 0.8647039305274533, 0.8321887191132138, 0.8516918745514018, 0.8381907747049784, 0.8859923533595709, 0.8344244953916662, 0.851416314601803, 0.8382972771458946, 0.7985699936572717, 0.799086253143696, 0.9222718987164749, 0.8300872461250755, 0.831164332310749, 0.7662038146250517, 0.9425507416052757, 0.9409855531063737, 0.8893323060092593, 0.7306529116942492, 0.9367054530881218, 0.936065054917574, 0.9419560797051911, 0.7908800377966823, 0.5362332410540529, 0.932696189837377, 0.9378072534472244, 0.9413165052149444]}, {\"categories\": [\"0\", \"1\", \"2\", \"3\", \"4\", \"5\", \"6\", \"7\", \"8\", \"9\", \"10\", \"11\", \"12\", \"13\", \"14\", \"15\", \"16\", \"17\", \"18\", \"19\", \"20\", \"21\", \"22\", \"24\", \"25\", \"26\", \"27\", \"28\", \"29\", \"30\", \"31\", \"35\", \"36\"], \"mode\": \"lines\", \"name\": \"average_precision_score_macro_max\", \"stepped\": true, \"type\": \"scatter\", \"data\": [0.6114478041035856, 0.9384022408179007, 0.9384022408179007, 0.9384022408179007, 0.9384022408179007, 0.9384022408179007, 0.9384022408179007, 0.9384022408179007, 0.9384022408179007, 0.9384022408179007, 0.9384022408179007, 0.9384022408179007, 0.9384022408179007, 0.9384022408179007, 0.9384022408179007, 0.9384022408179007, 0.9384022408179007, 0.9384022408179007, 0.9384022408179007, 0.9384022408179007, 0.9384022408179007, 0.9425507416052757, 0.9425507416052757, 0.9425507416052757, 0.9425507416052757, 0.9425507416052757, 0.9425507416052757, 0.9425507416052757, 0.9425507416052757, 0.9425507416052757, 0.9425507416052757, 0.9425507416052757, 0.9425507416052757]}], \"recall_score_macro\": [{\"categories\": [\"0\", \"1\", \"2\", \"3\", \"4\", \"5\", \"6\", \"7\", \"8\", \"9\", \"10\", \"11\", \"12\", \"13\", \"14\", \"15\", \"16\", \"17\", \"18\", \"19\", \"20\", \"21\", \"22\", \"24\", \"25\", \"26\", \"27\", \"28\", \"29\", \"30\", \"31\", \"35\", \"36\"], \"mode\": \"markers\", \"name\": \"recall_score_macro\", \"stepped\": false, \"type\": \"scatter\", \"data\": [0.7950039047695612, 0.8877199304032248, 0.5, 0.5, 0.9392898056802912, 0.5, 0.5, 0.5, 0.5, 0.5, 0.5, 0.947295659963479, 0.7753519317124711, 0.9341019891355529, 0.5, 0.9019906429088236, 0.9109680239569097, 0.8673117671379188, 0.5, 0.918195795481952, 0.9073629311037865, 0.9182970036635927, 0.8775158487705719, 0.846815674778634, 0.5, 0.8979415978546736, 0.8979415978546736, 0.9183321753011842, 0.9297012277054885, 0.5, 0.9081456794873267, 0.8265306122448979, 0.5]}, {\"categories\": [\"0\", \"1\", \"2\", \"3\", \"4\", \"5\", \"6\", \"7\", \"8\", \"9\", \"10\", \"11\", \"12\", \"13\", \"14\", \"15\", \"16\", \"17\", \"18\", \"19\", \"20\", \"21\", \"22\", \"24\", \"25\", \"26\", \"27\", \"28\", \"29\", \"30\", \"31\", \"35\", \"36\"], \"mode\": \"lines\", \"name\": \"recall_score_macro_max\", \"stepped\": true, \"type\": \"scatter\", \"data\": [0.7950039047695612, 0.8877199304032248, 0.8877199304032248, 0.8877199304032248, 0.9392898056802912, 0.9392898056802912, 0.9392898056802912, 0.9392898056802912, 0.9392898056802912, 0.9392898056802912, 0.9392898056802912, 0.947295659963479, 0.947295659963479, 0.947295659963479, 0.947295659963479, 0.947295659963479, 0.947295659963479, 0.947295659963479, 0.947295659963479, 0.947295659963479, 0.947295659963479, 0.947295659963479, 0.947295659963479, 0.947295659963479, 0.947295659963479, 0.947295659963479, 0.947295659963479, 0.947295659963479, 0.947295659963479, 0.947295659963479, 0.947295659963479, 0.947295659963479, 0.947295659963479]}], \"recall_score_weighted\": [{\"categories\": [\"0\", \"1\", \"2\", \"3\", \"4\", \"5\", \"6\", \"7\", \"8\", \"9\", \"10\", \"11\", \"12\", \"13\", \"14\", \"15\", \"16\", \"17\", \"18\", \"19\", \"20\", \"21\", \"22\", \"24\", \"25\", \"26\", \"27\", \"28\", \"29\", \"30\", \"31\", \"35\", \"36\"], \"mode\": \"markers\", \"name\": \"recall_score_weighted\", \"stepped\": false, \"type\": \"scatter\", \"data\": [0.997471998876444, 0.9995435553526912, 0.9982795547909132, 0.9982795547909132, 0.9804782135458727, 0.9982795547909132, 0.9982795547909132, 0.9982795547909132, 0.9982795547909132, 0.9982795547909132, 0.9982795547909132, 0.9761244338330817, 0.9989115550718023, 0.9701204311646361, 0.9982795547909132, 0.9873599943822198, 0.9646079842702152, 0.9994733330992591, 0.9982795547909132, 0.9790386573505144, 0.9574102032934236, 0.9995786664794073, 0.9995084442259752, 0.9992275552122467, 0.9982795547909132, 0.9996137776061234, 0.9996137776061234, 0.9996488887328394, 0.9816719918542186, 0.9982795547909132, 0.9996488887328394, 0.999403110845827, 0.9982795547909132]}, {\"categories\": [\"0\", \"1\", \"2\", \"3\", \"4\", \"5\", \"6\", \"7\", \"8\", \"9\", \"10\", \"11\", \"12\", \"13\", \"14\", \"15\", \"16\", \"17\", \"18\", \"19\", \"20\", \"21\", \"22\", \"24\", \"25\", \"26\", \"27\", \"28\", \"29\", \"30\", \"31\", \"35\", \"36\"], \"mode\": \"lines\", \"name\": \"recall_score_weighted_max\", \"stepped\": true, \"type\": \"scatter\", \"data\": [0.997471998876444, 0.9995435553526912, 0.9995435553526912, 0.9995435553526912, 0.9995435553526912, 0.9995435553526912, 0.9995435553526912, 0.9995435553526912, 0.9995435553526912, 0.9995435553526912, 0.9995435553526912, 0.9995435553526912, 0.9995435553526912, 0.9995435553526912, 0.9995435553526912, 0.9995435553526912, 0.9995435553526912, 0.9995435553526912, 0.9995435553526912, 0.9995435553526912, 0.9995435553526912, 0.9995786664794073, 0.9995786664794073, 0.9995786664794073, 0.9995786664794073, 0.9996137776061234, 0.9996137776061234, 0.9996488887328394, 0.9996488887328394, 0.9996488887328394, 0.9996488887328394, 0.9996488887328394, 0.9996488887328394]}], \"recall_score_micro\": [{\"categories\": [\"0\", \"1\", \"2\", \"3\", \"4\", \"5\", \"6\", \"7\", \"8\", \"9\", \"10\", \"11\", \"12\", \"13\", \"14\", \"15\", \"16\", \"17\", \"18\", \"19\", \"20\", \"21\", \"22\", \"24\", \"25\", \"26\", \"27\", \"28\", \"29\", \"30\", \"31\", \"35\", \"36\"], \"mode\": \"markers\", \"name\": \"recall_score_micro\", \"stepped\": false, \"type\": \"scatter\", \"data\": [0.997471998876444, 0.9995435553526912, 0.9982795547909132, 0.9982795547909132, 0.9804782135458727, 0.9982795547909132, 0.9982795547909132, 0.9982795547909132, 0.9982795547909132, 0.9982795547909132, 0.9982795547909132, 0.9761244338330817, 0.9989115550718023, 0.9701204311646361, 0.9982795547909132, 0.9873599943822198, 0.9646079842702152, 0.9994733330992591, 0.9982795547909132, 0.9790386573505144, 0.9574102032934236, 0.9995786664794073, 0.9995084442259752, 0.9992275552122467, 0.9982795547909132, 0.9996137776061234, 0.9996137776061234, 0.9996488887328394, 0.9816719918542186, 0.9982795547909132, 0.9996488887328394, 0.999403110845827, 0.9982795547909132]}, {\"categories\": [\"0\", \"1\", \"2\", \"3\", \"4\", \"5\", \"6\", \"7\", \"8\", \"9\", \"10\", \"11\", \"12\", \"13\", \"14\", \"15\", \"16\", \"17\", \"18\", \"19\", \"20\", \"21\", \"22\", \"24\", \"25\", \"26\", \"27\", \"28\", \"29\", \"30\", \"31\", \"35\", \"36\"], \"mode\": \"lines\", \"name\": \"recall_score_micro_max\", \"stepped\": true, \"type\": \"scatter\", \"data\": [0.997471998876444, 0.9995435553526912, 0.9995435553526912, 0.9995435553526912, 0.9995435553526912, 0.9995435553526912, 0.9995435553526912, 0.9995435553526912, 0.9995435553526912, 0.9995435553526912, 0.9995435553526912, 0.9995435553526912, 0.9995435553526912, 0.9995435553526912, 0.9995435553526912, 0.9995435553526912, 0.9995435553526912, 0.9995435553526912, 0.9995435553526912, 0.9995435553526912, 0.9995435553526912, 0.9995786664794073, 0.9995786664794073, 0.9995786664794073, 0.9995786664794073, 0.9996137776061234, 0.9996137776061234, 0.9996488887328394, 0.9996488887328394, 0.9996488887328394, 0.9996488887328394, 0.9996488887328394, 0.9996488887328394]}], \"norm_macro_recall\": [{\"categories\": [\"0\", \"1\", \"2\", \"3\", \"4\", \"5\", \"6\", \"7\", \"8\", \"9\", \"10\", \"11\", \"12\", \"13\", \"14\", \"15\", \"16\", \"17\", \"18\", \"19\", \"20\", \"21\", \"22\", \"24\", \"25\", \"26\", \"27\", \"28\", \"29\", \"30\", \"31\", \"35\", \"36\"], \"mode\": \"markers\", \"name\": \"norm_macro_recall\", \"stepped\": false, \"type\": \"scatter\", \"data\": [0.5900078095391224, 0.7754398608064497, 0.0, 0.0, 0.8785796113605824, 0.0, 0.0, 0.0, 0.0, 0.0, 0.0, 0.894591319926958, 0.5507038634249422, 0.8682039782711057, 0.0, 0.8039812858176472, 0.8219360479138194, 0.7346235342758376, 0.0, 0.8363915909639039, 0.814725862207573, 0.8365940073271854, 0.7550316975411437, 0.6936313495572679, 0.0, 0.7958831957093473, 0.7958831957093473, 0.8366643506023683, 0.8594024554109769, 0.0, 0.8162913589746534, 0.6530612244897958, 0.0]}, {\"categories\": [\"0\", \"1\", \"2\", \"3\", \"4\", \"5\", \"6\", \"7\", \"8\", \"9\", \"10\", \"11\", \"12\", \"13\", \"14\", \"15\", \"16\", \"17\", \"18\", \"19\", \"20\", \"21\", \"22\", \"24\", \"25\", \"26\", \"27\", \"28\", \"29\", \"30\", \"31\", \"35\", \"36\"], \"mode\": \"lines\", \"name\": \"norm_macro_recall_max\", \"stepped\": true, \"type\": \"scatter\", \"data\": [0.5900078095391224, 0.7754398608064497, 0.7754398608064497, 0.7754398608064497, 0.8785796113605824, 0.8785796113605824, 0.8785796113605824, 0.8785796113605824, 0.8785796113605824, 0.8785796113605824, 0.8785796113605824, 0.894591319926958, 0.894591319926958, 0.894591319926958, 0.894591319926958, 0.894591319926958, 0.894591319926958, 0.894591319926958, 0.894591319926958, 0.894591319926958, 0.894591319926958, 0.894591319926958, 0.894591319926958, 0.894591319926958, 0.894591319926958, 0.894591319926958, 0.894591319926958, 0.894591319926958, 0.894591319926958, 0.894591319926958, 0.894591319926958, 0.894591319926958, 0.894591319926958]}], \"average_precision_score_weighted\": [{\"categories\": [\"0\", \"1\", \"2\", \"3\", \"4\", \"5\", \"6\", \"7\", \"8\", \"9\", \"10\", \"11\", \"12\", \"13\", \"14\", \"15\", \"16\", \"17\", \"18\", \"19\", \"20\", \"21\", \"22\", \"24\", \"25\", \"26\", \"27\", \"28\", \"29\", \"30\", \"31\", \"35\", \"36\"], \"mode\": \"markers\", \"name\": \"average_precision_score_weighted\", \"stepped\": false, \"type\": \"scatter\", \"data\": [0.9979593005469743, 0.9996711107546401, 0.9993535863067602, 0.9993023407792294, 0.999297777699592, 0.9993312345869131, 0.9993308242099761, 0.9994540835015154, 0.9993048898949386, 0.9992754884333711, 0.9993241533368085, 0.9994926507646271, 0.9992378884634266, 0.9993745848944023, 0.9992933182192716, 0.9991926764333345, 0.9991528246142125, 0.9995214330114277, 0.9992707038635305, 0.9991849470982235, 0.9991068071996992, 0.9996298146667828, 0.9996934700737973, 0.9995144305159711, 0.9989327262055221, 0.9997159627650042, 0.9996160218916027, 0.9997043061330656, 0.9991769546026962, 0.9978457276069835, 0.9996717297683726, 0.9997019403455981, 0.9996991826107231]}, {\"categories\": [\"0\", \"1\", \"2\", \"3\", \"4\", \"5\", \"6\", \"7\", \"8\", \"9\", \"10\", \"11\", \"12\", \"13\", \"14\", \"15\", \"16\", \"17\", \"18\", \"19\", \"20\", \"21\", \"22\", \"24\", \"25\", \"26\", \"27\", \"28\", \"29\", \"30\", \"31\", \"35\", \"36\"], \"mode\": \"lines\", \"name\": \"average_precision_score_weighted_max\", \"stepped\": true, \"type\": \"scatter\", \"data\": [0.9979593005469743, 0.9996711107546401, 0.9996711107546401, 0.9996711107546401, 0.9996711107546401, 0.9996711107546401, 0.9996711107546401, 0.9996711107546401, 0.9996711107546401, 0.9996711107546401, 0.9996711107546401, 0.9996711107546401, 0.9996711107546401, 0.9996711107546401, 0.9996711107546401, 0.9996711107546401, 0.9996711107546401, 0.9996711107546401, 0.9996711107546401, 0.9996711107546401, 0.9996711107546401, 0.9996711107546401, 0.9996934700737973, 0.9996934700737973, 0.9996934700737973, 0.9997159627650042, 0.9997159627650042, 0.9997159627650042, 0.9997159627650042, 0.9997159627650042, 0.9997159627650042, 0.9997159627650042, 0.9997159627650042]}], \"AUC_micro\": [{\"categories\": [\"0\", \"1\", \"2\", \"3\", \"4\", \"5\", \"6\", \"7\", \"8\", \"9\", \"10\", \"11\", \"12\", \"13\", \"14\", \"15\", \"16\", \"17\", \"18\", \"19\", \"20\", \"21\", \"22\", \"24\", \"25\", \"26\", \"27\", \"28\", \"29\", \"30\", \"31\", \"35\", \"36\"], \"mode\": \"markers\", \"name\": \"AUC_micro\", \"stepped\": false, \"type\": \"scatter\", \"data\": [0.9976048074744959, 0.9998561986026456, 0.9998543346223222, 0.9998144538263787, 0.9977910390800353, 0.9998526493967255, 0.9998675661704785, 0.999877912987182, 0.999841492636191, 0.9997465714106808, 0.9998379779484249, 0.9969508289917498, 0.9997344974534793, 0.995983492240142, 0.999839406753448, 0.9980681865724131, 0.9950601476431938, 0.9997878156737128, 0.9998377498820495, 0.9973499476145712, 0.9923689459196571, 0.9998455830374566, 0.9998712078357403, 0.9998597921890499, 0.999794355631131, 0.9998999663893035, 0.9998356837239657, 0.999875932508088, 0.9980062782629638, 0.9992643490989771, 0.9998650179910283, 0.9998882610366765, 0.9998837391584843]}, {\"categories\": [\"0\", \"1\", \"2\", \"3\", \"4\", \"5\", \"6\", \"7\", \"8\", \"9\", \"10\", \"11\", \"12\", \"13\", \"14\", \"15\", \"16\", \"17\", \"18\", \"19\", \"20\", \"21\", \"22\", \"24\", \"25\", \"26\", \"27\", \"28\", \"29\", \"30\", \"31\", \"35\", \"36\"], \"mode\": \"lines\", \"name\": \"AUC_micro_max\", \"stepped\": true, \"type\": \"scatter\", \"data\": [0.9976048074744959, 0.9998561986026456, 0.9998561986026456, 0.9998561986026456, 0.9998561986026456, 0.9998561986026456, 0.9998675661704785, 0.999877912987182, 0.999877912987182, 0.999877912987182, 0.999877912987182, 0.999877912987182, 0.999877912987182, 0.999877912987182, 0.999877912987182, 0.999877912987182, 0.999877912987182, 0.999877912987182, 0.999877912987182, 0.999877912987182, 0.999877912987182, 0.999877912987182, 0.999877912987182, 0.999877912987182, 0.999877912987182, 0.9998999663893035, 0.9998999663893035, 0.9998999663893035, 0.9998999663893035, 0.9998999663893035, 0.9998999663893035, 0.9998999663893035, 0.9998999663893035]}], \"AUC_weighted\": [{\"categories\": [\"0\", \"1\", \"2\", \"3\", \"4\", \"5\", \"6\", \"7\", \"8\", \"9\", \"10\", \"11\", \"12\", \"13\", \"14\", \"15\", \"16\", \"17\", \"18\", \"19\", \"20\", \"21\", \"22\", \"24\", \"25\", \"26\", \"27\", \"28\", \"29\", \"30\", \"31\", \"35\", \"36\"], \"mode\": \"markers\", \"name\": \"AUC_weighted\", \"stepped\": false, \"type\": \"scatter\", \"data\": [0.794979033766479, 0.9583539148773018, 0.9584551181192793, 0.9468448887714904, 0.9615706792002112, 0.9579645096643046, 0.962307130224065, 0.9653193297577896, 0.954716516601013, 0.9270827351762314, 0.9536933090625106, 0.9542359571853501, 0.9357349580237272, 0.9582394226683357, 0.9541092675111688, 0.9579002675915611, 0.9453027201313842, 0.938491265949261, 0.9536269136242005, 0.9410670500614429, 0.9597503675077232, 0.9552415789050567, 0.9627123218448885, 0.9595396965764359, 0.9409938356321709, 0.9710939445940663, 0.9523786793839653, 0.9640614319231937, 0.9640416661881409, 0.7866958639883277, 0.960933633242282, 0.9679004972838883, 0.9670154640359238]}, {\"categories\": [\"0\", \"1\", \"2\", \"3\", \"4\", \"5\", \"6\", \"7\", \"8\", \"9\", \"10\", \"11\", \"12\", \"13\", \"14\", \"15\", \"16\", \"17\", \"18\", \"19\", \"20\", \"21\", \"22\", \"24\", \"25\", \"26\", \"27\", \"28\", \"29\", \"30\", \"31\", \"35\", \"36\"], \"mode\": \"lines\", \"name\": \"AUC_weighted_max\", \"stepped\": true, \"type\": \"scatter\", \"data\": [0.794979033766479, 0.9583539148773018, 0.9584551181192793, 0.9584551181192793, 0.9615706792002112, 0.9615706792002112, 0.962307130224065, 0.9653193297577896, 0.9653193297577896, 0.9653193297577896, 0.9653193297577896, 0.9653193297577896, 0.9653193297577896, 0.9653193297577896, 0.9653193297577896, 0.9653193297577896, 0.9653193297577896, 0.9653193297577896, 0.9653193297577896, 0.9653193297577896, 0.9653193297577896, 0.9653193297577896, 0.9653193297577896, 0.9653193297577896, 0.9653193297577896, 0.9710939445940663, 0.9710939445940663, 0.9710939445940663, 0.9710939445940663, 0.9710939445940663, 0.9710939445940663, 0.9710939445940663, 0.9710939445940663]}], \"weighted_accuracy\": [{\"categories\": [\"0\", \"1\", \"2\", \"3\", \"4\", \"5\", \"6\", \"7\", \"8\", \"9\", \"10\", \"11\", \"12\", \"13\", \"14\", \"15\", \"16\", \"17\", \"18\", \"19\", \"20\", \"21\", \"22\", \"24\", \"25\", \"26\", \"27\", \"28\", \"29\", \"30\", \"31\", \"35\", \"36\"], \"mode\": \"markers\", \"name\": \"weighted_accuracy\", \"stepped\": false, \"type\": \"scatter\", \"data\": [0.9981698679777894, 0.9999289901689614, 0.9999970298659596, 0.9999970298659596, 0.9806201821721383, 0.9999970298659596, 0.9999970298659596, 0.9999970298659596, 0.9999970298659596, 0.9999970298659596, 0.9999970298659596, 0.9762238011462477, 0.9996821226722882, 0.9702445798996828, 0.9999970298659596, 0.9876542463376102, 0.964792871035042, 0.9999288689390007, 0.9999970298659596, 0.9792483711502259, 0.9575827067440135, 0.9998588289476487, 0.999928929553981, 0.9997528900434051, 0.9999970298659596, 0.9999642223170688, 0.9999642223170688, 0.9999291720139026, 0.981851125216602, 0.9999970298659596, 0.9999642829320492, 0.999998969545333, 0.9999970298659596]}, {\"categories\": [\"0\", \"1\", \"2\", \"3\", \"4\", \"5\", \"6\", \"7\", \"8\", \"9\", \"10\", \"11\", \"12\", \"13\", \"14\", \"15\", \"16\", \"17\", \"18\", \"19\", \"20\", \"21\", \"22\", \"24\", \"25\", \"26\", \"27\", \"28\", \"29\", \"30\", \"31\", \"35\", \"36\"], \"mode\": \"lines\", \"name\": \"weighted_accuracy_max\", \"stepped\": true, \"type\": \"scatter\", \"data\": [0.9981698679777894, 0.9999289901689614, 0.9999970298659596, 0.9999970298659596, 0.9999970298659596, 0.9999970298659596, 0.9999970298659596, 0.9999970298659596, 0.9999970298659596, 0.9999970298659596, 0.9999970298659596, 0.9999970298659596, 0.9999970298659596, 0.9999970298659596, 0.9999970298659596, 0.9999970298659596, 0.9999970298659596, 0.9999970298659596, 0.9999970298659596, 0.9999970298659596, 0.9999970298659596, 0.9999970298659596, 0.9999970298659596, 0.9999970298659596, 0.9999970298659596, 0.9999970298659596, 0.9999970298659596, 0.9999970298659596, 0.9999970298659596, 0.9999970298659596, 0.9999970298659596, 0.999998969545333, 0.999998969545333]}], \"precision_score_micro\": [{\"categories\": [\"0\", \"1\", \"2\", \"3\", \"4\", \"5\", \"6\", \"7\", \"8\", \"9\", \"10\", \"11\", \"12\", \"13\", \"14\", \"15\", \"16\", \"17\", \"18\", \"19\", \"20\", \"21\", \"22\", \"24\", \"25\", \"26\", \"27\", \"28\", \"29\", \"30\", \"31\", \"35\", \"36\"], \"mode\": \"markers\", \"name\": \"precision_score_micro\", \"stepped\": false, \"type\": \"scatter\", \"data\": [0.997471998876444, 0.9995435553526912, 0.9982795547909132, 0.9982795547909132, 0.9804782135458727, 0.9982795547909132, 0.9982795547909132, 0.9982795547909132, 0.9982795547909132, 0.9982795547909132, 0.9982795547909132, 0.9761244338330817, 0.9989115550718023, 0.9701204311646361, 0.9982795547909132, 0.9873599943822198, 0.9646079842702152, 0.9994733330992591, 0.9982795547909132, 0.9790386573505144, 0.9574102032934236, 0.9995786664794073, 0.9995084442259752, 0.9992275552122467, 0.9982795547909132, 0.9996137776061234, 0.9996137776061234, 0.9996488887328394, 0.9816719918542186, 0.9982795547909132, 0.9996488887328394, 0.999403110845827, 0.9982795547909132]}, {\"categories\": [\"0\", \"1\", \"2\", \"3\", \"4\", \"5\", \"6\", \"7\", \"8\", \"9\", \"10\", \"11\", \"12\", \"13\", \"14\", \"15\", \"16\", \"17\", \"18\", \"19\", \"20\", \"21\", \"22\", \"24\", \"25\", \"26\", \"27\", \"28\", \"29\", \"30\", \"31\", \"35\", \"36\"], \"mode\": \"lines\", \"name\": \"precision_score_micro_max\", \"stepped\": true, \"type\": \"scatter\", \"data\": [0.997471998876444, 0.9995435553526912, 0.9995435553526912, 0.9995435553526912, 0.9995435553526912, 0.9995435553526912, 0.9995435553526912, 0.9995435553526912, 0.9995435553526912, 0.9995435553526912, 0.9995435553526912, 0.9995435553526912, 0.9995435553526912, 0.9995435553526912, 0.9995435553526912, 0.9995435553526912, 0.9995435553526912, 0.9995435553526912, 0.9995435553526912, 0.9995435553526912, 0.9995435553526912, 0.9995786664794073, 0.9995786664794073, 0.9995786664794073, 0.9995786664794073, 0.9996137776061234, 0.9996137776061234, 0.9996488887328394, 0.9996488887328394, 0.9996488887328394, 0.9996488887328394, 0.9996488887328394, 0.9996488887328394]}], \"accuracy\": [{\"categories\": [\"0\", \"1\", \"2\", \"3\", \"4\", \"5\", \"6\", \"7\", \"8\", \"9\", \"10\", \"11\", \"12\", \"13\", \"14\", \"15\", \"16\", \"17\", \"18\", \"19\", \"20\", \"21\", \"22\", \"24\", \"25\", \"26\", \"27\", \"28\", \"29\", \"30\", \"31\", \"35\", \"36\"], \"mode\": \"markers\", \"name\": \"accuracy\", \"stepped\": false, \"type\": \"scatter\", \"data\": [0.997471998876444, 0.9995435553526912, 0.9982795547909132, 0.9982795547909132, 0.9804782135458727, 0.9982795547909132, 0.9982795547909132, 0.9982795547909132, 0.9982795547909132, 0.9982795547909132, 0.9982795547909132, 0.9761244338330817, 0.9989115550718023, 0.9701204311646361, 0.9982795547909132, 0.9873599943822198, 0.9646079842702152, 0.9994733330992591, 0.9982795547909132, 0.9790386573505144, 0.9574102032934236, 0.9995786664794073, 0.9995084442259752, 0.9992275552122467, 0.9982795547909132, 0.9996137776061234, 0.9996137776061234, 0.9996488887328394, 0.9816719918542186, 0.9982795547909132, 0.9996488887328394, 0.999403110845827, 0.9982795547909132]}, {\"categories\": [\"0\", \"1\", \"2\", \"3\", \"4\", \"5\", \"6\", \"7\", \"8\", \"9\", \"10\", \"11\", \"12\", \"13\", \"14\", \"15\", \"16\", \"17\", \"18\", \"19\", \"20\", \"21\", \"22\", \"24\", \"25\", \"26\", \"27\", \"28\", \"29\", \"30\", \"31\", \"35\", \"36\"], \"mode\": \"lines\", \"name\": \"accuracy_max\", \"stepped\": true, \"type\": \"scatter\", \"data\": [0.997471998876444, 0.9995435553526912, 0.9995435553526912, 0.9995435553526912, 0.9995435553526912, 0.9995435553526912, 0.9995435553526912, 0.9995435553526912, 0.9995435553526912, 0.9995435553526912, 0.9995435553526912, 0.9995435553526912, 0.9995435553526912, 0.9995435553526912, 0.9995435553526912, 0.9995435553526912, 0.9995435553526912, 0.9995435553526912, 0.9995435553526912, 0.9995435553526912, 0.9995435553526912, 0.9995786664794073, 0.9995786664794073, 0.9995786664794073, 0.9995786664794073, 0.9996137776061234, 0.9996137776061234, 0.9996488887328394, 0.9996488887328394, 0.9996488887328394, 0.9996488887328394, 0.9996488887328394, 0.9996488887328394]}]}, \"metricName\": null, \"primaryMetricName\": \"AUC_weighted\", \"showLegend\": false}, \"run_metrics\": [{\"name\": \"experiment_status\", \"run_id\": \"AutoML_509c0073-6905-4d1f-b0da-55adf8160225\", \"categories\": [0, 1, 2, 3, 4, 5, 6, 7, 8, 9, 10, 11, 12, 13], \"series\": [{\"data\": [\"DatasetEvaluation\", \"FeaturesGeneration\", \"DatasetFeaturization\", \"DatasetFeaturizationCompleted\", \"DatasetBalancing\", \"ModelSelection\", \"BestRunExplainModel\", \"ModelExplanationDataSetSetup\", \"PickSurrogateModel\", \"EngineeredFeatureExplanations\", \"EngineeredFeatureExplanations\", \"RawFeaturesExplanations\", \"RawFeaturesExplanations\", \"BestRunExplainModel\"]}]}, {\"name\": \"experiment_status_description\", \"run_id\": \"AutoML_509c0073-6905-4d1f-b0da-55adf8160225\", \"categories\": [0, 1, 2, 3, 4, 5, 6, 7, 8, 9, 10, 11, 12, 13], \"series\": [{\"data\": [\"Gathering dataset statistics.\", \"Generating features for the dataset.\", \"Beginning to fit featurizers and featurize the dataset.\", \"Completed fit featurizers and featurizing the dataset.\", \"Performing class balancing sweeping\", \"Beginning model selection.\", \"Best run model explanations started\", \"Model explanations data setup completed\", \"Choosing LightGBM as the surrogate model for explanations\", \"Computation of engineered features started\", \"Computation of engineered features completed\", \"Computation of raw features started\", \"Computation of raw features completed\", \"Best run model explanations completed\"]}]}], \"run_logs\": \"\\nRun is completed.\", \"graph\": {}, \"widget_settings\": {\"childWidgetDisplay\": \"popup\", \"send_telemetry\": false, \"log_level\": \"INFO\", \"sdk_version\": \"1.26.0\"}, \"loading\": false}"
          },
          "metadata": {}
        }
      ],
      "execution_count": 27,
      "metadata": {
        "gather": {
          "logged": 1618544396016
        },
        "jupyter": {
          "outputs_hidden": false,
          "source_hidden": false
        },
        "nteract": {
          "transient": {
            "deleting": false
          }
        }
      }
    },
    {
      "cell_type": "markdown",
      "source": [
        "## Best Model\n",
        "\n",
        "TODO: In the cell below, get the best model from the automl experiments and display all the properties of the model.\n",
        "\n"
      ],
      "metadata": {}
    },
    {
      "cell_type": "code",
      "source": [
        "# Retrieve and save your best automl model.\n",
        "best_automl, best_model = automl_run.get_output()\n",
        "best_automl.register_model(model_name = 'best_automl_model', model_path = '/outputs/')\n",
        "print(best_automl)"
      ],
      "outputs": [],
      "execution_count": null,
      "metadata": {
        "gather": {
          "logged": 1598431425670
        },
        "jupyter": {
          "outputs_hidden": false,
          "source_hidden": false
        },
        "nteract": {
          "transient": {
            "deleting": false
          }
        }
      }
    },
    {
      "cell_type": "code",
      "source": [
        "# Save the best automl model\n",
        "import joblib\n",
        "joblib.dump(best_model,'outputs/automlmodel.joblib')\n",
        "best_automl.register_model(model_name = 'best_automl', model_path = '/outputs/')"
      ],
      "outputs": [],
      "execution_count": null,
      "metadata": {
        "gather": {
          "logged": 1598431426111
        },
        "jupyter": {
          "outputs_hidden": false,
          "source_hidden": false
        },
        "nteract": {
          "transient": {
            "deleting": false
          }
        }
      }
    },
    {
      "cell_type": "markdown",
      "source": [
        "## Model Deployment\n",
        "\n",
        "Remember you have to deploy only one of the two models you trained.. Perform the steps in the rest of this notebook only if you wish to deploy this model.\n",
        "\n",
        "TODO: In the cell below, register the model, create an inference config and deploy the model as a web service.\n",
        "\n",
        "Creating a pipeline"
      ],
      "metadata": {}
    },
    {
      "cell_type": "code",
      "source": [
        "from azureml.pipeline.core import PipelineData, TrainingOutput\r\n",
        "\r\n",
        "ds = ws.get_default_datastore()\r\n",
        "metrics_output_name = 'metrics_output'\r\n",
        "best_model_output_name = 'best_model_output'\r\n",
        "\r\n",
        "metrics_data = PipelineData(name='metrics_data',\r\n",
        "                           datastore=ds,\r\n",
        "                           pipeline_output_name=metrics_output_name,\r\n",
        "                           training_output=TrainingOutput(type='Metrics'))\r\n",
        "model_data = PipelineData(name='model_data',\r\n",
        "                           datastore=ds,\r\n",
        "                           pipeline_output_name=best_model_output_name,\r\n",
        "                           training_output=TrainingOutput(type='Model'))"
      ],
      "outputs": [],
      "execution_count": null,
      "metadata": {
        "gather": {
          "logged": 1598431435189
        },
        "jupyter": {
          "outputs_hidden": false,
          "source_hidden": false
        },
        "nteract": {
          "transient": {
            "deleting": false
          }
        }
      }
    },
    {
      "cell_type": "markdown",
      "source": [
        "TODO: In the cell below, send a request to the web service you deployed to test it."
      ],
      "metadata": {
        "collapsed": true,
        "gather": {
          "logged": 1598431657736
        },
        "jupyter": {
          "outputs_hidden": false,
          "source_hidden": false
        },
        "nteract": {
          "transient": {
            "deleting": false
          }
        }
      }
    },
    {
      "cell_type": "code",
      "source": [],
      "outputs": [],
      "execution_count": null,
      "metadata": {
        "gather": {
          "logged": 1598432707604
        },
        "jupyter": {
          "outputs_hidden": false,
          "source_hidden": false
        },
        "nteract": {
          "transient": {
            "deleting": false
          }
        }
      }
    },
    {
      "cell_type": "markdown",
      "source": [
        "TODO: In the cell below, print the logs of the web service and delete the service"
      ],
      "metadata": {
        "collapsed": true,
        "gather": {
          "logged": 1598432765711
        },
        "jupyter": {
          "outputs_hidden": false,
          "source_hidden": false
        },
        "nteract": {
          "transient": {
            "deleting": false
          }
        }
      }
    },
    {
      "cell_type": "code",
      "source": [],
      "outputs": [],
      "execution_count": null,
      "metadata": {
        "jupyter": {
          "outputs_hidden": false,
          "source_hidden": false
        },
        "nteract": {
          "transient": {
            "deleting": false
          }
        }
      }
    }
  ],
  "metadata": {
    "kernel_info": {
      "name": "python3"
    },
    "kernelspec": {
      "name": "python3",
      "language": "python",
      "display_name": "Python 3"
    },
    "language_info": {
      "name": "python",
      "version": "3.6.9",
      "mimetype": "text/x-python",
      "codemirror_mode": {
        "name": "ipython",
        "version": 3
      },
      "pygments_lexer": "ipython3",
      "nbconvert_exporter": "python",
      "file_extension": ".py"
    },
    "nteract": {
      "version": "nteract-front-end@1.0.0"
    },
    "microsoft": {
      "host": {
        "AzureML": {
          "notebookHasBeenCompleted": true
        }
      }
    }
  },
  "nbformat": 4,
  "nbformat_minor": 2
}