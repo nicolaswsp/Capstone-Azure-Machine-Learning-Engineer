{
  "cells": [
    {
      "cell_type": "markdown",
      "source": [
        "# Automated ML\n",
        "\n",
        "TODO: Import Dependencies. In the cell below, import all the dependencies that you will need to complete the project."
      ],
      "metadata": {}
    },
    {
      "cell_type": "code",
      "source": [
        "import logging\n",
        "import os\n",
        "import csv\n",
        "import io\n",
        "import requests\n",
        "import json\n",
        "\n",
        "from matplotlib import pyplot as plt\n",
        "import numpy as np\n",
        "import pandas as pd\n",
        "from sklearn import datasets\n",
        "import pkg_resources\n",
        "\n",
        "import azureml.core\n",
        "from azureml.core.experiment import Experiment\n",
        "from azureml.core.workspace import Workspace\n",
        "from azureml.train.automl import AutoMLConfig\n",
        "from azureml.core.dataset import Dataset\n",
        "from azureml.core.webservice import AciWebservice, LocalWebservice\n",
        "from azureml.core import Environment\n",
        "from azureml.core.model import InferenceConfig\n",
        "from azureml.core.model import Model\n",
        "\n",
        "\n",
        "from azureml.widgets import RunDetails\n",
        "from azureml.pipeline.steps import AutoMLStep\n",
        "\n",
        "# Check core SDK version number\n",
        "print(\"SDK version:\", azureml.core.VERSION)"
      ],
      "outputs": [
        {
          "output_type": "stream",
          "name": "stdout",
          "text": [
            "SDK version: 1.26.0\n"
          ]
        }
      ],
      "execution_count": 1,
      "metadata": {
        "gather": {
          "logged": 1618744196572
        },
        "jupyter": {
          "outputs_hidden": false,
          "source_hidden": false
        },
        "nteract": {
          "transient": {
            "deleting": false
          }
        }
      }
    },
    {
      "cell_type": "markdown",
      "source": [
        "## Dataset\n",
        "\n",
        "### Overview\n",
        "TODO: In this markdown cell, give an overview of the dataset you are using. Also mention the task you will be performing.\n",
        "\n",
        "\n",
        "TODO: Get data. In the cell below, write code to access the data you will be using in this project. Remember that the dataset needs to be external."
      ],
      "metadata": {}
    },
    {
      "cell_type": "code",
      "source": [
        "ws = Workspace.from_config()\n",
        "\n",
        "experiment_name = 'fraud_detection'\n",
        "\n",
        "exp=Experiment(ws, experiment_name)\n",
        "\n",
        "print('Workspace name: ' + ws.name, \n",
        "      'Azure region: ' + ws.location, \n",
        "      'Subscription id: ' + ws.subscription_id, \n",
        "      'Resource group: ' + ws.resource_group, sep = '\\n')\n",
        "\n",
        "run = exp.start_logging()\n",
        "print(exp)"
      ],
      "outputs": [
        {
          "output_type": "stream",
          "name": "stdout",
          "text": [
            "Performing interactive authentication. Please follow the instructions on the terminal.\n",
            "To sign in, use a web browser to open the page https://microsoft.com/devicelogin and enter the code AFLD56HN9 to authenticate.\n",
            "You have logged in. Now let us find all the subscriptions to which you have access...\n",
            "Interactive authentication successfully completed.\n",
            "Workspace name: quick-starts-ws-143035\n",
            "Azure region: southcentralus\n",
            "Subscription id: b968fb36-f06a-4c76-a15f-afab68ae7667\n",
            "Resource group: aml-quickstarts-143035\n",
            "Experiment(Name: fraud_detection,\n",
            "Workspace: quick-starts-ws-143035)\n"
          ]
        }
      ],
      "execution_count": 2,
      "metadata": {
        "gather": {
          "logged": 1618744227706
        },
        "jupyter": {
          "outputs_hidden": false,
          "source_hidden": false
        },
        "nteract": {
          "transient": {
            "deleting": false
          }
        }
      }
    },
    {
      "cell_type": "code",
      "source": [
        "dataset = Dataset.get_by_name(workspace=ws, name='Banking-Transactions')\n",
        "transactions_df = dataset.to_pandas_dataframe()"
      ],
      "outputs": [],
      "execution_count": 3,
      "metadata": {
        "scrolled": true,
        "gather": {
          "logged": 1618744250849
        },
        "jupyter": {
          "outputs_hidden": false
        }
      }
    },
    {
      "cell_type": "code",
      "source": [
        "# Calculate the fraction of data points that are fraudulent\n",
        "def fraudulent_percentage(transaction_df):\n",
        "    '''Calculate the fraction of all data points that have a 'Class' label of 1; fraudulent.\n",
        "       :param transaction_df: Dataframe of all transaction data points; has a column 'Class'\n",
        "       :return: A fractional percentage of fraudulent data points/all points\n",
        "    '''\n",
        "    # counts for all classes\n",
        "    counts = transactions_df['Class'].value_counts()\n",
        "    \n",
        "    # get fraudulent and valid cnts\n",
        "    fraud_cnts = counts[1]\n",
        "    valid_cnts = counts[0]\n",
        "    \n",
        "    # calculate percentage of fraudulent data\n",
        "    fraud_percentage = fraud_cnts/(fraud_cnts+valid_cnts)\n",
        "    \n",
        "    return fraud_percentage"
      ],
      "outputs": [],
      "execution_count": 4,
      "metadata": {
        "gather": {
          "logged": 1618744251290
        }
      }
    },
    {
      "cell_type": "code",
      "source": [
        "# call the function to calculate the fraud percentage\n",
        "fraud_percentage = fraudulent_percentage(dataset)\n",
        "\n",
        "print('Fraudulent percentage = ', fraud_percentage)\n",
        "print('Total # of fraudulent pts: ', fraud_percentage*transactions_df.shape[0])\n",
        "print('Out of (total) pts: ', transactions_df.shape[0])"
      ],
      "outputs": [
        {
          "output_type": "stream",
          "name": "stdout",
          "text": [
            "Fraudulent percentage =  0.001727485630620034\n",
            "Total # of fraudulent pts:  492.0\n",
            "Out of (total) pts:  284807\n"
          ]
        }
      ],
      "execution_count": 5,
      "metadata": {
        "gather": {
          "logged": 1618744251470
        }
      }
    },
    {
      "cell_type": "code",
      "source": [
        "from azureml.core.compute import ComputeTarget, AmlCompute\n",
        "from azureml.core.compute_target import ComputeTargetException\n",
        "# Create compute cluster\n",
        "# Choose a name for the computer cluster:\n",
        "amlcompute_cluster_name = \"compute-cluster\"\n",
        "\n",
        "# Check if the cluster already exists:\n",
        "try:\n",
        "    aml_compute = ComputeTarget(workspace=ws, name=amlcompute_cluster_name)\n",
        "    print('The cluster already exists')\n",
        "except ComputeTargetException:\n",
        "    compute_config = AmlCompute.provisioning_configuration(vm_size='STANDARD_D2_V2', max_nodes=4)\n",
        "    aml_compute = ComputeTarget.create(ws, amlcompute_cluster_name, compute_config)\n",
        "\n",
        "aml_compute.wait_for_completion(show_output=True)"
      ],
      "outputs": [
        {
          "output_type": "stream",
          "name": "stdout",
          "text": [
            "Creating....\n",
            "SucceededProvisioning operation finished, operation \"Succeeded\"\n",
            "Succeeded\n",
            "AmlCompute wait for completion finished\n",
            "\n",
            "Minimum number of nodes requested have been provisioned\n"
          ]
        }
      ],
      "execution_count": 6,
      "metadata": {
        "gather": {
          "logged": 1618744272553
        }
      }
    },
    {
      "cell_type": "markdown",
      "source": [
        "## AutoML Configuration\n",
        "\n",
        "TODO: Explain why you chose the automl settings and cofiguration you used below."
      ],
      "metadata": {}
    },
    {
      "cell_type": "code",
      "source": [
        "# Set the automl settings here\n",
        "automl_settings = {\n",
        "    \"experiment_timeout_minutes\": 20,\n",
        "    \"max_concurrent_iterations\": 5,\n",
        "    \"primary_metric\" : 'AUC_weighted'}\n",
        "\n",
        "# TODO: Put your automl config here\n",
        "automl_config = AutoMLConfig(compute_target=aml_compute,\n",
        "                             task = \"classification\",\n",
        "                             training_data=dataset,\n",
        "                             label_column_name=\"Class\",   \n",
        "                             enable_early_stopping= True,\n",
        "                             featurization= 'auto',\n",
        "                             debug_log = \"automl_errors.log\",\n",
        "                             **automl_settings)"
      ],
      "outputs": [],
      "execution_count": 7,
      "metadata": {
        "gather": {
          "logged": 1618744272825
        },
        "jupyter": {
          "outputs_hidden": false,
          "source_hidden": false
        },
        "nteract": {
          "transient": {
            "deleting": false
          }
        }
      }
    },
    {
      "cell_type": "code",
      "source": [
        "# Submit the experiment\n",
        "remote_run = exp.submit(automl_config)"
      ],
      "outputs": [
        {
          "output_type": "stream",
          "name": "stdout",
          "text": [
            "Submitting remote run.\n"
          ]
        },
        {
          "output_type": "display_data",
          "data": {
            "text/plain": "<IPython.core.display.HTML object>",
            "text/html": "<table style=\"width:100%\"><tr><th>Experiment</th><th>Id</th><th>Type</th><th>Status</th><th>Details Page</th><th>Docs Page</th></tr><tr><td>fraud_detection</td><td>AutoML_ca8f21f0-f9ec-4565-b576-7a7bca6608f7</td><td>automl</td><td>NotStarted</td><td><a href=\"https://ml.azure.com/runs/AutoML_ca8f21f0-f9ec-4565-b576-7a7bca6608f7?wsid=/subscriptions/b968fb36-f06a-4c76-a15f-afab68ae7667/resourcegroups/aml-quickstarts-143035/workspaces/quick-starts-ws-143035&amp;tid=660b3398-b80e-49d2-bc5b-ac1dc93b5254\" target=\"_blank\" rel=\"noopener\">Link to Azure Machine Learning studio</a></td><td><a href=\"https://docs.microsoft.com/en-us/python/api/overview/azure/ml/intro?view=azure-ml-py\" target=\"_blank\" rel=\"noopener\">Link to Documentation</a></td></tr></table>"
          },
          "metadata": {}
        }
      ],
      "execution_count": 8,
      "metadata": {
        "gather": {
          "logged": 1618744282930
        },
        "jupyter": {
          "outputs_hidden": false,
          "source_hidden": false
        },
        "nteract": {
          "transient": {
            "deleting": false
          }
        }
      }
    },
    {
      "cell_type": "markdown",
      "source": [
        "## Run Details\n",
        "\n",
        "OPTIONAL: Write about the different models trained and their performance. Why do you think some models did better than others?\n",
        "\n",
        "TODO: In the cell below, use the `RunDetails` widget to show the different experiments."
      ],
      "metadata": {}
    },
    {
      "cell_type": "code",
      "source": [
        "RunDetails(remote_run).show()"
      ],
      "outputs": [
        {
          "output_type": "display_data",
          "data": {
            "text/plain": "_AutoMLWidget(widget_settings={'childWidgetDisplay': 'popup', 'send_telemetry': False, 'log_level': 'INFO', 's…",
            "application/vnd.jupyter.widget-view+json": {
              "version_major": 2,
              "version_minor": 0,
              "model_id": "4ae27320de5f48a6960d9ebd1d124859"
            }
          },
          "metadata": {}
        },
        {
          "output_type": "display_data",
          "data": {
            "application/aml.mini.widget.v1": "{\"status\": \"Completed\", \"workbench_run_details_uri\": \"https://ml.azure.com/runs/AutoML_ca8f21f0-f9ec-4565-b576-7a7bca6608f7?wsid=/subscriptions/b968fb36-f06a-4c76-a15f-afab68ae7667/resourcegroups/aml-quickstarts-143035/workspaces/quick-starts-ws-143035&tid=660b3398-b80e-49d2-bc5b-ac1dc93b5254\", \"run_id\": \"AutoML_ca8f21f0-f9ec-4565-b576-7a7bca6608f7\", \"run_properties\": {\"run_id\": \"AutoML_ca8f21f0-f9ec-4565-b576-7a7bca6608f7\", \"created_utc\": \"2021-04-18T11:11:21.972564Z\", \"properties\": {\"num_iterations\": \"1000\", \"training_type\": \"TrainFull\", \"acquisition_function\": \"EI\", \"primary_metric\": \"AUC_weighted\", \"train_split\": \"0\", \"acquisition_parameter\": \"0\", \"num_cross_validation\": null, \"target\": \"compute-cluster\", \"AMLSettingsJsonString\": \"{\\\"path\\\":null,\\\"name\\\":\\\"fraud_detection\\\",\\\"subscription_id\\\":\\\"b968fb36-f06a-4c76-a15f-afab68ae7667\\\",\\\"resource_group\\\":\\\"aml-quickstarts-143035\\\",\\\"workspace_name\\\":\\\"quick-starts-ws-143035\\\",\\\"region\\\":\\\"southcentralus\\\",\\\"compute_target\\\":\\\"compute-cluster\\\",\\\"spark_service\\\":null,\\\"azure_service\\\":\\\"remote\\\",\\\"many_models\\\":false,\\\"pipeline_fetch_max_batch_size\\\":1,\\\"enable_batch_run\\\":false,\\\"enable_run_restructure\\\":false,\\\"iterations\\\":1000,\\\"primary_metric\\\":\\\"AUC_weighted\\\",\\\"task_type\\\":\\\"classification\\\",\\\"data_script\\\":null,\\\"test_size\\\":0.0,\\\"validation_size\\\":0.0,\\\"n_cross_validations\\\":null,\\\"y_min\\\":null,\\\"y_max\\\":null,\\\"num_classes\\\":null,\\\"featurization\\\":\\\"auto\\\",\\\"_ignore_package_version_incompatibilities\\\":false,\\\"is_timeseries\\\":false,\\\"max_cores_per_iteration\\\":1,\\\"max_concurrent_iterations\\\":5,\\\"iteration_timeout_minutes\\\":null,\\\"mem_in_mb\\\":null,\\\"enforce_time_on_windows\\\":false,\\\"experiment_timeout_minutes\\\":20,\\\"experiment_exit_score\\\":null,\\\"whitelist_models\\\":null,\\\"blacklist_algos\\\":[\\\"TensorFlowLinearClassifier\\\",\\\"TensorFlowDNN\\\"],\\\"supported_models\\\":[\\\"SGD\\\",\\\"RandomForest\\\",\\\"MultinomialNaiveBayes\\\",\\\"LinearSVM\\\",\\\"BernoulliNaiveBayes\\\",\\\"KNN\\\",\\\"TensorFlowDNN\\\",\\\"ExtremeRandomTrees\\\",\\\"TensorFlowLinearClassifier\\\",\\\"XGBoostClassifier\\\",\\\"GradientBoosting\\\",\\\"AveragedPerceptronClassifier\\\",\\\"LogisticRegression\\\",\\\"LightGBM\\\",\\\"SVM\\\",\\\"DecisionTree\\\"],\\\"private_models\\\":[],\\\"auto_blacklist\\\":true,\\\"blacklist_samples_reached\\\":false,\\\"exclude_nan_labels\\\":true,\\\"verbosity\\\":20,\\\"_debug_log\\\":\\\"azureml_automl.log\\\",\\\"show_warnings\\\":false,\\\"model_explainability\\\":true,\\\"service_url\\\":null,\\\"sdk_url\\\":null,\\\"sdk_packages\\\":null,\\\"enable_onnx_compatible_models\\\":false,\\\"enable_split_onnx_featurizer_estimator_models\\\":false,\\\"vm_type\\\":\\\"STANDARD_D2_V2\\\",\\\"telemetry_verbosity\\\":20,\\\"send_telemetry\\\":true,\\\"enable_dnn\\\":false,\\\"scenario\\\":\\\"SDK-1.13.0\\\",\\\"environment_label\\\":null,\\\"save_mlflow\\\":false,\\\"force_text_dnn\\\":false,\\\"enable_feature_sweeping\\\":true,\\\"enable_early_stopping\\\":true,\\\"early_stopping_n_iters\\\":10,\\\"metrics\\\":null,\\\"enable_metric_confidence\\\":false,\\\"enable_ensembling\\\":true,\\\"enable_stack_ensembling\\\":true,\\\"ensemble_iterations\\\":15,\\\"enable_tf\\\":false,\\\"enable_subsampling\\\":null,\\\"subsample_seed\\\":null,\\\"enable_nimbusml\\\":false,\\\"enable_streaming\\\":false,\\\"force_streaming\\\":false,\\\"track_child_runs\\\":true,\\\"allowed_private_models\\\":[],\\\"label_column_name\\\":\\\"Class\\\",\\\"weight_column_name\\\":null,\\\"cv_split_column_names\\\":null,\\\"enable_local_managed\\\":false,\\\"_local_managed_run_id\\\":null,\\\"cost_mode\\\":1,\\\"lag_length\\\":0,\\\"metric_operation\\\":\\\"maximize\\\",\\\"preprocess\\\":true}\", \"DataPrepJsonString\": \"{\\\\\\\"training_data\\\\\\\": {\\\\\\\"datasetId\\\\\\\": \\\\\\\"a4ecdbfa-973e-4db1-bd4e-7a8846adef17\\\\\\\"}, \\\\\\\"datasets\\\\\\\": 0}\", \"EnableSubsampling\": null, \"runTemplate\": \"AutoML\", \"azureml.runsource\": \"automl\", \"display_task_type\": \"classification\", \"dependencies_versions\": \"{\\\"azureml-widgets\\\": \\\"1.26.0\\\", \\\"azureml-train\\\": \\\"1.26.0\\\", \\\"azureml-train-restclients-hyperdrive\\\": \\\"1.26.0\\\", \\\"azureml-train-core\\\": \\\"1.26.0\\\", \\\"azureml-train-automl\\\": \\\"1.26.0\\\", \\\"azureml-train-automl-runtime\\\": \\\"1.26.0\\\", \\\"azureml-train-automl-client\\\": \\\"1.26.0\\\", \\\"azureml-tensorboard\\\": \\\"1.26.0\\\", \\\"azureml-telemetry\\\": \\\"1.26.0\\\", \\\"azureml-sdk\\\": \\\"1.26.0\\\", \\\"azureml-samples\\\": \\\"0+unknown\\\", \\\"azureml-pipeline\\\": \\\"1.26.0\\\", \\\"azureml-pipeline-steps\\\": \\\"1.26.0\\\", \\\"azureml-pipeline-core\\\": \\\"1.26.0\\\", \\\"azureml-opendatasets\\\": \\\"1.26.0\\\", \\\"azureml-model-management-sdk\\\": \\\"1.0.1b6.post1\\\", \\\"azureml-mlflow\\\": \\\"1.26.0\\\", \\\"azureml-interpret\\\": \\\"1.26.0\\\", \\\"azureml-explain-model\\\": \\\"1.26.0\\\", \\\"azureml-defaults\\\": \\\"1.26.0\\\", \\\"azureml-dataset-runtime\\\": \\\"1.26.0\\\", \\\"azureml-dataprep\\\": \\\"2.13.2\\\", \\\"azureml-dataprep-rslex\\\": \\\"1.11.2\\\", \\\"azureml-dataprep-native\\\": \\\"32.0.0\\\", \\\"azureml-datadrift\\\": \\\"1.26.0\\\", \\\"azureml-core\\\": \\\"1.26.0\\\", \\\"azureml-contrib-services\\\": \\\"1.26.0\\\", \\\"azureml-contrib-server\\\": \\\"1.26.0\\\", \\\"azureml-contrib-reinforcementlearning\\\": \\\"1.26.0\\\", \\\"azureml-contrib-pipeline-steps\\\": \\\"1.26.0\\\", \\\"azureml-contrib-notebook\\\": \\\"1.26.0\\\", \\\"azureml-contrib-gbdt\\\": \\\"1.26.0\\\", \\\"azureml-contrib-fairness\\\": \\\"1.26.0\\\", \\\"azureml-contrib-dataset\\\": \\\"1.26.0\\\", \\\"azureml-cli-common\\\": \\\"1.26.0\\\", \\\"azureml-automl-runtime\\\": \\\"1.26.0\\\", \\\"azureml-automl-dnn-nlp\\\": \\\"1.26.0\\\", \\\"azureml-automl-core\\\": \\\"1.26.0\\\", \\\"azureml-accel-models\\\": \\\"1.26.0\\\"}\", \"_aml_system_scenario_identification\": \"Remote.Parent\", \"ClientType\": \"SDK\", \"environment_cpu_name\": \"AzureML-AutoML\", \"environment_cpu_label\": \"prod\", \"environment_gpu_name\": \"AzureML-AutoML-GPU\", \"environment_gpu_label\": \"prod\", \"root_attribution\": \"automl\", \"attribution\": \"AutoML\", \"Orchestrator\": \"AutoML\", \"CancelUri\": \"https://southcentralus.experiments.azureml.net/jasmine/v1.0/subscriptions/b968fb36-f06a-4c76-a15f-afab68ae7667/resourceGroups/aml-quickstarts-143035/providers/Microsoft.MachineLearningServices/workspaces/quick-starts-ws-143035/experimentids/e54f1911-0bbb-4d25-a421-11efd42c77d8/cancel/AutoML_ca8f21f0-f9ec-4565-b576-7a7bca6608f7\", \"ClientSdkVersion\": \"1.25.0\", \"snapshotId\": \"00000000-0000-0000-0000-000000000000\", \"SetupRunId\": \"AutoML_ca8f21f0-f9ec-4565-b576-7a7bca6608f7_setup\", \"SetupRunContainerId\": \"dcid.AutoML_ca8f21f0-f9ec-4565-b576-7a7bca6608f7_setup\", \"FeaturizationRunJsonPath\": \"featurizer_container.json\", \"FeaturizationRunId\": \"AutoML_ca8f21f0-f9ec-4565-b576-7a7bca6608f7_featurize\", \"ProblemInfoJsonString\": \"{\\\"dataset_num_categorical\\\": 0, \\\"is_sparse\\\": false, \\\"subsampling\\\": false, \\\"dataset_classes\\\": 2, \\\"dataset_features\\\": 30, \\\"dataset_samples\\\": 256326, \\\"single_frequency_class_detected\\\": false}\", \"ModelExplainRunId\": \"AutoML_ca8f21f0-f9ec-4565-b576-7a7bca6608f7_ModelExplain\"}, \"tags\": {\"model_explain_run\": \"best_run\", \"_aml_system_azureml.automlComponent\": \"AutoML\", \"pipeline_id\": \"\", \"score\": \"\", \"predicted_cost\": \"\", \"fit_time\": \"\", \"training_percent\": \"\", \"iteration\": \"\", \"run_preprocessor\": \"\", \"run_algorithm\": \"\", \"dynamic_whitelisting_iterations\": \"<25>;<30>;<35>;\", \"automl_best_child_run_id\": \"AutoML_ca8f21f0-f9ec-4565-b576-7a7bca6608f7_38\", \"model_explain_best_run_child_id\": \"AutoML_ca8f21f0-f9ec-4565-b576-7a7bca6608f7_38\"}, \"end_time_utc\": \"2021-04-18T11:44:14.301401Z\", \"status\": \"Completed\", \"log_files\": {}, \"log_groups\": [], \"run_duration\": \"0:32:52\", \"run_number\": \"2\", \"run_queued_details\": {\"status\": \"Completed\", \"details\": null}}, \"child_runs\": [{\"run_id\": \"AutoML_ca8f21f0-f9ec-4565-b576-7a7bca6608f7_0\", \"run_number\": 6, \"metric\": null, \"status\": \"Completed\", \"run_type\": \"azureml.scriptrun\", \"training_percent\": \"100\", \"start_time\": \"2021-04-18T11:22:30.403496Z\", \"end_time\": \"2021-04-18T11:27:59.340574Z\", \"created_time\": \"2021-04-18T11:20:42.445457Z\", \"created_time_dt\": \"2021-04-18T11:20:42.445457Z\", \"duration\": \"0:07:16\", \"iteration\": \"0\", \"goal\": \"AUC_weighted_max\", \"run_name\": \"MaxAbsScaler, LightGBM\", \"run_properties\": \"copy=True\", \"primary_metric\": 0.92515188, \"best_metric\": 0.92515188}, {\"run_id\": \"AutoML_ca8f21f0-f9ec-4565-b576-7a7bca6608f7_2\", \"run_number\": 7, \"metric\": null, \"status\": \"Completed\", \"run_type\": \"azureml.scriptrun\", \"training_percent\": \"100\", \"start_time\": \"2021-04-18T11:23:17.938054Z\", \"end_time\": \"2021-04-18T11:24:20.363579Z\", \"created_time\": \"2021-04-18T11:20:42.583153Z\", \"created_time_dt\": \"2021-04-18T11:20:42.583153Z\", \"duration\": \"0:03:37\", \"iteration\": \"2\", \"goal\": \"AUC_weighted_max\", \"run_name\": \"MinMaxScaler, RandomForest\", \"run_properties\": \"copy=True, feature_range=(0, 1\", \"primary_metric\": 0.96893052, \"best_metric\": 0.97354806}, {\"run_id\": \"AutoML_ca8f21f0-f9ec-4565-b576-7a7bca6608f7_3\", \"run_number\": 8, \"metric\": null, \"status\": \"Completed\", \"run_type\": \"azureml.scriptrun\", \"training_percent\": \"100\", \"start_time\": \"2021-04-18T11:20:53.846524Z\", \"end_time\": \"2021-04-18T11:21:37.475709Z\", \"created_time\": \"2021-04-18T11:20:42.583025Z\", \"created_time_dt\": \"2021-04-18T11:20:42.583025Z\", \"duration\": \"0:00:54\", \"iteration\": \"3\", \"goal\": \"AUC_weighted_max\", \"run_name\": \"RobustScaler, ExtremeRandomTrees\", \"run_properties\": \"copy=True, quantile_range=[10, 90], with_centering=False,\\n             with_scaling=False\", \"primary_metric\": 0.96749279, \"best_metric\": 0.97354806}, {\"run_id\": \"AutoML_ca8f21f0-f9ec-4565-b576-7a7bca6608f7_4\", \"run_number\": 9, \"metric\": null, \"status\": \"Completed\", \"run_type\": \"azureml.scriptrun\", \"training_percent\": \"100\", \"start_time\": \"2021-04-18T11:21:50.669723Z\", \"end_time\": \"2021-04-18T11:23:03.275164Z\", \"created_time\": \"2021-04-18T11:20:42.607021Z\", \"created_time_dt\": \"2021-04-18T11:20:42.607021Z\", \"duration\": \"0:02:20\", \"iteration\": \"4\", \"goal\": \"AUC_weighted_max\", \"run_name\": \"MinMaxScaler, RandomForest\", \"run_properties\": \"copy=True, feature_range=(0, 1\", \"primary_metric\": 0.98320734, \"best_metric\": 0.98320734}, {\"run_id\": \"AutoML_ca8f21f0-f9ec-4565-b576-7a7bca6608f7_1\", \"run_number\": 10, \"metric\": null, \"status\": \"Completed\", \"run_type\": \"azureml.scriptrun\", \"training_percent\": \"100\", \"start_time\": \"2021-04-18T11:22:21.86455Z\", \"end_time\": \"2021-04-18T11:25:30.679613Z\", \"created_time\": \"2021-04-18T11:20:42.584872Z\", \"created_time_dt\": \"2021-04-18T11:20:42.584872Z\", \"duration\": \"0:04:48\", \"iteration\": \"1\", \"goal\": \"AUC_weighted_max\", \"run_name\": \"MaxAbsScaler, XGBoostClassifier\", \"run_properties\": \"copy=True\", \"primary_metric\": 0.97354806, \"best_metric\": 0.97354806}, {\"run_id\": \"AutoML_ca8f21f0-f9ec-4565-b576-7a7bca6608f7_5\", \"run_number\": 11, \"metric\": null, \"status\": \"Completed\", \"run_type\": \"azureml.scriptrun\", \"training_percent\": \"100\", \"start_time\": \"2021-04-18T11:24:35.136092Z\", \"end_time\": \"2021-04-18T11:27:13.879936Z\", \"created_time\": \"2021-04-18T11:21:41.110009Z\", \"created_time_dt\": \"2021-04-18T11:21:41.110009Z\", \"duration\": \"0:05:32\", \"iteration\": \"5\", \"goal\": \"AUC_weighted_max\", \"run_name\": \"MinMaxScaler, RandomForest\", \"run_properties\": \"copy=True, feature_range=(0, 1\", \"primary_metric\": 0.94972071, \"best_metric\": 0.98320734}, {\"run_id\": \"AutoML_ca8f21f0-f9ec-4565-b576-7a7bca6608f7_6\", \"run_number\": 12, \"metric\": null, \"status\": \"Completed\", \"run_type\": \"azureml.scriptrun\", \"training_percent\": \"100\", \"start_time\": \"2021-04-18T11:24:35.718128Z\", \"end_time\": \"2021-04-18T11:25:42.271573Z\", \"created_time\": \"2021-04-18T11:23:06.928509Z\", \"created_time_dt\": \"2021-04-18T11:23:06.928509Z\", \"duration\": \"0:02:35\", \"iteration\": \"6\", \"goal\": \"AUC_weighted_max\", \"run_name\": \"StandardScalerWrapper, RandomForest\", \"run_properties\": \"<azureml.automl.runtime.shared.model_wrappers.StandardScalerWrapper object at 0x7faf385ff6a0\", \"primary_metric\": 0.95858145, \"best_metric\": 0.98320734}, {\"run_id\": \"AutoML_ca8f21f0-f9ec-4565-b576-7a7bca6608f7_7\", \"run_number\": 13, \"metric\": null, \"status\": \"Completed\", \"run_type\": \"azureml.scriptrun\", \"training_percent\": \"100\", \"start_time\": \"2021-04-18T11:25:46.945333Z\", \"end_time\": \"2021-04-18T11:26:42.748851Z\", \"created_time\": \"2021-04-18T11:24:24.197816Z\", \"created_time_dt\": \"2021-04-18T11:24:24.197816Z\", \"duration\": \"0:02:18\", \"iteration\": \"7\", \"goal\": \"AUC_weighted_max\", \"run_name\": \"MinMaxScaler, ExtremeRandomTrees\", \"run_properties\": \"copy=True, feature_range=(0, 1\", \"primary_metric\": 0.96900553, \"best_metric\": 0.98320734}, {\"run_id\": \"AutoML_ca8f21f0-f9ec-4565-b576-7a7bca6608f7_8\", \"run_number\": 14, \"metric\": null, \"status\": \"Completed\", \"run_type\": \"azureml.scriptrun\", \"training_percent\": \"100\", \"start_time\": \"2021-04-18T11:26:00.158888Z\", \"end_time\": \"2021-04-18T11:26:51.902561Z\", \"created_time\": \"2021-04-18T11:25:34.602695Z\", \"created_time_dt\": \"2021-04-18T11:25:34.602695Z\", \"duration\": \"0:01:17\", \"iteration\": \"8\", \"goal\": \"AUC_weighted_max\", \"run_name\": \"MinMaxScaler, ExtremeRandomTrees\", \"run_properties\": \"copy=True, feature_range=(0, 1\", \"primary_metric\": 0.96547509, \"best_metric\": 0.98320734}, {\"run_id\": \"AutoML_ca8f21f0-f9ec-4565-b576-7a7bca6608f7_9\", \"run_number\": 15, \"metric\": null, \"status\": \"Completed\", \"run_type\": \"azureml.scriptrun\", \"training_percent\": \"100\", \"start_time\": \"2021-04-18T11:26:56.773198Z\", \"end_time\": \"2021-04-18T11:27:45.615486Z\", \"created_time\": \"2021-04-18T11:25:46.028702Z\", \"created_time_dt\": \"2021-04-18T11:25:46.028702Z\", \"duration\": \"0:01:59\", \"iteration\": \"9\", \"goal\": \"AUC_weighted_max\", \"run_name\": \"MinMaxScaler, ExtremeRandomTrees\", \"run_properties\": \"copy=True, feature_range=(0, 1\", \"primary_metric\": 0.93558171, \"best_metric\": 0.98320734}, {\"run_id\": \"AutoML_ca8f21f0-f9ec-4565-b576-7a7bca6608f7_10\", \"run_number\": 16, \"metric\": null, \"status\": \"Completed\", \"run_type\": \"azureml.scriptrun\", \"training_percent\": \"100\", \"start_time\": \"2021-04-18T11:27:07.134057Z\", \"end_time\": \"2021-04-18T11:28:06.00018Z\", \"created_time\": \"2021-04-18T11:26:46.348582Z\", \"created_time_dt\": \"2021-04-18T11:26:46.348582Z\", \"duration\": \"0:01:19\", \"iteration\": \"10\", \"goal\": \"AUC_weighted_max\", \"run_name\": \"RobustScaler, ExtremeRandomTrees\", \"run_properties\": \"copy=True, quantile_range=[10, 90], with_centering=True,\\n             with_scaling=False\", \"primary_metric\": 0.96466578, \"best_metric\": 0.98320734}, {\"run_id\": \"AutoML_ca8f21f0-f9ec-4565-b576-7a7bca6608f7_11\", \"run_number\": 17, \"metric\": null, \"status\": \"Completed\", \"run_type\": \"azureml.scriptrun\", \"training_percent\": \"100\", \"start_time\": \"2021-04-18T11:27:30.154182Z\", \"end_time\": \"2021-04-18T11:28:50.901151Z\", \"created_time\": \"2021-04-18T11:26:56.317424Z\", \"created_time_dt\": \"2021-04-18T11:26:56.317424Z\", \"duration\": \"0:01:54\", \"iteration\": \"11\", \"goal\": \"AUC_weighted_max\", \"run_name\": \"StandardScalerWrapper, RandomForest\", \"run_properties\": \"<azureml.automl.runtime.shared.model_wrappers.StandardScalerWrapper object at 0x7fd71127d9e8\", \"primary_metric\": 0.96531789, \"best_metric\": 0.98320734}, {\"run_id\": \"AutoML_ca8f21f0-f9ec-4565-b576-7a7bca6608f7_12\", \"run_number\": 18, \"metric\": null, \"status\": \"Completed\", \"run_type\": \"azureml.scriptrun\", \"training_percent\": \"100\", \"start_time\": \"2021-04-18T11:28:00.313517Z\", \"end_time\": \"2021-04-18T11:28:47.929623Z\", \"created_time\": \"2021-04-18T11:27:17.96648Z\", \"created_time_dt\": \"2021-04-18T11:27:17.96648Z\", \"duration\": \"0:01:29\", \"iteration\": \"12\", \"goal\": \"AUC_weighted_max\", \"run_name\": \"StandardScalerWrapper, SGD\", \"run_properties\": \"<azureml.automl.runtime.shared.model_wrappers.StandardScalerWrapper object at 0x7f5d9c29e9b0\", \"primary_metric\": 0.9418056, \"best_metric\": 0.98320734}, {\"run_id\": \"AutoML_ca8f21f0-f9ec-4565-b576-7a7bca6608f7_13\", \"run_number\": 19, \"metric\": null, \"status\": \"Completed\", \"run_type\": \"azureml.scriptrun\", \"training_percent\": \"100\", \"start_time\": \"2021-04-18T11:28:14.554466Z\", \"end_time\": \"2021-04-18T11:29:17.177539Z\", \"created_time\": \"2021-04-18T11:27:48.834424Z\", \"created_time_dt\": \"2021-04-18T11:27:48.834424Z\", \"duration\": \"0:01:28\", \"iteration\": \"13\", \"goal\": \"AUC_weighted_max\", \"run_name\": \"RobustScaler, RandomForest\", \"run_properties\": \"copy=True, quantile_range=[10, 90], with_centering=True,\\n             with_scaling=False\", \"primary_metric\": 0.96253969, \"best_metric\": 0.98320734}, {\"run_id\": \"AutoML_ca8f21f0-f9ec-4565-b576-7a7bca6608f7_14\", \"run_number\": 20, \"metric\": null, \"status\": \"Completed\", \"run_type\": \"azureml.scriptrun\", \"training_percent\": \"100\", \"start_time\": \"2021-04-18T11:28:21.959896Z\", \"end_time\": \"2021-04-18T11:29:13.626215Z\", \"created_time\": \"2021-04-18T11:28:02.662838Z\", \"created_time_dt\": \"2021-04-18T11:28:02.662838Z\", \"duration\": \"0:01:10\", \"iteration\": \"14\", \"goal\": \"AUC_weighted_max\", \"run_name\": \"MinMaxScaler, RandomForest\", \"run_properties\": \"copy=True, feature_range=(0, 1\", \"primary_metric\": 0.95930139, \"best_metric\": 0.98320734}, {\"run_id\": \"AutoML_ca8f21f0-f9ec-4565-b576-7a7bca6608f7_15\", \"run_number\": 21, \"metric\": null, \"status\": \"Completed\", \"run_type\": \"azureml.scriptrun\", \"training_percent\": \"100\", \"start_time\": \"2021-04-18T11:29:02.702946Z\", \"end_time\": \"2021-04-18T11:29:53.591853Z\", \"created_time\": \"2021-04-18T11:28:09.566222Z\", \"created_time_dt\": \"2021-04-18T11:28:09.566222Z\", \"duration\": \"0:01:44\", \"iteration\": \"15\", \"goal\": \"AUC_weighted_max\", \"run_name\": \"MinMaxScaler, ExtremeRandomTrees\", \"run_properties\": \"copy=True, feature_range=(0, 1\", \"primary_metric\": 0.9500211, \"best_metric\": 0.98320734}, {\"run_id\": \"AutoML_ca8f21f0-f9ec-4565-b576-7a7bca6608f7_16\", \"run_number\": 22, \"metric\": null, \"status\": \"Completed\", \"run_type\": \"azureml.scriptrun\", \"training_percent\": \"100\", \"start_time\": \"2021-04-18T11:29:08.344875Z\", \"end_time\": \"2021-04-18T11:30:10.003614Z\", \"created_time\": \"2021-04-18T11:28:51.775698Z\", \"created_time_dt\": \"2021-04-18T11:28:51.775698Z\", \"duration\": \"0:01:18\", \"iteration\": \"16\", \"goal\": \"AUC_weighted_max\", \"run_name\": \"MaxAbsScaler, RandomForest\", \"run_properties\": \"copy=True\", \"primary_metric\": 0.97334349, \"best_metric\": 0.98320734}, {\"run_id\": \"AutoML_ca8f21f0-f9ec-4565-b576-7a7bca6608f7_17\", \"run_number\": 23, \"metric\": null, \"status\": \"Completed\", \"run_type\": \"azureml.scriptrun\", \"training_percent\": \"100\", \"start_time\": \"2021-04-18T11:29:27.693894Z\", \"end_time\": \"2021-04-18T11:30:29.979335Z\", \"created_time\": \"2021-04-18T11:29:00.225331Z\", \"created_time_dt\": \"2021-04-18T11:29:00.225331Z\", \"duration\": \"0:01:29\", \"iteration\": \"17\", \"goal\": \"AUC_weighted_max\", \"run_name\": \"StandardScalerWrapper, XGBoostClassifier\", \"run_properties\": \"<azureml.automl.runtime.shared.model_wrappers.StandardScalerWrapper object at 0x7ff3cd4d0d68\", \"primary_metric\": 0.97200661, \"best_metric\": 0.98320734}, {\"run_id\": \"AutoML_ca8f21f0-f9ec-4565-b576-7a7bca6608f7_18\", \"run_number\": 24, \"metric\": null, \"status\": \"Completed\", \"run_type\": \"azureml.scriptrun\", \"training_percent\": \"100\", \"start_time\": \"2021-04-18T11:29:29.298934Z\", \"end_time\": \"2021-04-18T11:30:28.496591Z\", \"created_time\": \"2021-04-18T11:29:17.015113Z\", \"created_time_dt\": \"2021-04-18T11:29:17.015113Z\", \"duration\": \"0:01:11\", \"iteration\": \"18\", \"goal\": \"AUC_weighted_max\", \"run_name\": \"MaxAbsScaler, RandomForest\", \"run_properties\": \"copy=True\", \"primary_metric\": 0.95762464, \"best_metric\": 0.98320734}, {\"run_id\": \"AutoML_ca8f21f0-f9ec-4565-b576-7a7bca6608f7_19\", \"run_number\": 25, \"metric\": null, \"status\": \"Completed\", \"run_type\": \"azureml.scriptrun\", \"training_percent\": \"100\", \"start_time\": \"2021-04-18T11:30:03.569362Z\", \"end_time\": \"2021-04-18T11:30:51.240742Z\", \"created_time\": \"2021-04-18T11:29:23.827415Z\", \"created_time_dt\": \"2021-04-18T11:29:23.827415Z\", \"duration\": \"0:01:27\", \"iteration\": \"19\", \"goal\": \"AUC_weighted_max\", \"run_name\": \"MaxAbsScaler, ExtremeRandomTrees\", \"run_properties\": \"copy=True\", \"primary_metric\": 0.94216096, \"best_metric\": 0.98320734}, {\"run_id\": \"AutoML_ca8f21f0-f9ec-4565-b576-7a7bca6608f7_20\", \"run_number\": 26, \"metric\": null, \"status\": \"Completed\", \"run_type\": \"azureml.scriptrun\", \"training_percent\": \"100\", \"start_time\": \"2021-04-18T11:30:27.525018Z\", \"end_time\": \"2021-04-18T11:31:22.048596Z\", \"created_time\": \"2021-04-18T11:29:57.897953Z\", \"created_time_dt\": \"2021-04-18T11:29:57.897953Z\", \"duration\": \"0:01:24\", \"iteration\": \"20\", \"goal\": \"AUC_weighted_max\", \"run_name\": \"MaxAbsScaler, ExtremeRandomTrees\", \"run_properties\": \"copy=True\", \"primary_metric\": 0.94465312, \"best_metric\": 0.98320734}, {\"run_id\": \"AutoML_ca8f21f0-f9ec-4565-b576-7a7bca6608f7_21\", \"run_number\": 27, \"metric\": null, \"status\": \"Completed\", \"run_type\": \"azureml.scriptrun\", \"training_percent\": \"100\", \"start_time\": \"2021-04-18T11:30:42.091313Z\", \"end_time\": \"2021-04-18T11:32:12.034459Z\", \"created_time\": \"2021-04-18T11:30:13.125176Z\", \"created_time_dt\": \"2021-04-18T11:30:13.125176Z\", \"duration\": \"0:01:58\", \"iteration\": \"21\", \"goal\": \"AUC_weighted_max\", \"run_name\": \"StandardScalerWrapper, XGBoostClassifier\", \"run_properties\": \"<azureml.automl.runtime.shared.model_wrappers.StandardScalerWrapper object at 0x7fb81defb438\", \"primary_metric\": 0.97361194, \"best_metric\": 0.98320734}, {\"run_id\": \"AutoML_ca8f21f0-f9ec-4565-b576-7a7bca6608f7_22\", \"run_number\": 28, \"metric\": null, \"status\": \"Completed\", \"run_type\": \"azureml.scriptrun\", \"training_percent\": \"100\", \"start_time\": \"2021-04-18T11:30:46.965539Z\", \"end_time\": \"2021-04-18T11:32:29.017729Z\", \"created_time\": \"2021-04-18T11:30:31.59274Z\", \"created_time_dt\": \"2021-04-18T11:30:31.59274Z\", \"duration\": \"0:01:57\", \"iteration\": \"22\", \"goal\": \"AUC_weighted_max\", \"run_name\": \"StandardScalerWrapper, XGBoostClassifier\", \"run_properties\": \"<azureml.automl.runtime.shared.model_wrappers.StandardScalerWrapper object at 0x7f3e72938908\", \"primary_metric\": 0.98086663, \"best_metric\": 0.98320734}, {\"run_id\": \"AutoML_ca8f21f0-f9ec-4565-b576-7a7bca6608f7_23\", \"run_number\": 29, \"metric\": null, \"status\": \"Completed\", \"run_type\": \"azureml.scriptrun\", \"training_percent\": \"100\", \"start_time\": \"2021-04-18T11:31:05.565628Z\", \"end_time\": \"2021-04-18T11:33:55.989621Z\", \"created_time\": \"2021-04-18T11:30:41.972059Z\", \"created_time_dt\": \"2021-04-18T11:30:41.972059Z\", \"duration\": \"0:03:14\", \"iteration\": \"23\", \"goal\": \"AUC_weighted_max\", \"run_name\": \"StandardScalerWrapper, XGBoostClassifier\", \"run_properties\": \"<azureml.automl.runtime.shared.model_wrappers.StandardScalerWrapper object at 0x7fc0ecddeb38\", \"primary_metric\": 0.97886077, \"best_metric\": 0.98320734}, {\"run_id\": \"AutoML_ca8f21f0-f9ec-4565-b576-7a7bca6608f7_24\", \"run_number\": 30, \"metric\": null, \"status\": \"Completed\", \"run_type\": \"azureml.scriptrun\", \"training_percent\": \"100\", \"start_time\": \"2021-04-18T11:31:42.007947Z\", \"end_time\": \"2021-04-18T11:35:11.450768Z\", \"created_time\": \"2021-04-18T11:30:53.89495Z\", \"created_time_dt\": \"2021-04-18T11:30:53.89495Z\", \"duration\": \"0:04:17\", \"iteration\": \"24\", \"goal\": \"AUC_weighted_max\", \"run_name\": \"StandardScalerWrapper, XGBoostClassifier\", \"run_properties\": \"<azureml.automl.runtime.shared.model_wrappers.StandardScalerWrapper object at 0x7f082ad29fd0\", \"primary_metric\": 0.96750751, \"best_metric\": 0.98320734}, {\"run_id\": \"AutoML_ca8f21f0-f9ec-4565-b576-7a7bca6608f7_25\", \"run_number\": 31, \"metric\": null, \"status\": \"Completed\", \"run_type\": \"azureml.scriptrun\", \"training_percent\": \"100\", \"start_time\": \"2021-04-18T11:32:22.22077Z\", \"end_time\": \"2021-04-18T11:33:14.96543Z\", \"created_time\": \"2021-04-18T11:31:26.08421Z\", \"created_time_dt\": \"2021-04-18T11:31:26.08421Z\", \"duration\": \"0:01:48\", \"iteration\": \"25\", \"goal\": \"AUC_weighted_max\", \"run_name\": \"MinMaxScaler, RandomForest\", \"run_properties\": \"copy=True, feature_range=(0, 1\", \"primary_metric\": 0.95993627, \"best_metric\": 0.98320734}, {\"run_id\": \"AutoML_ca8f21f0-f9ec-4565-b576-7a7bca6608f7_26\", \"run_number\": 32, \"metric\": null, \"status\": \"Completed\", \"run_type\": \"azureml.scriptrun\", \"training_percent\": \"100\", \"start_time\": \"2021-04-18T11:32:39.478053Z\", \"end_time\": \"2021-04-18T11:33:32.463956Z\", \"created_time\": \"2021-04-18T11:32:14.977271Z\", \"created_time_dt\": \"2021-04-18T11:32:14.977271Z\", \"duration\": \"0:01:17\", \"iteration\": \"26\", \"goal\": \"AUC_weighted_max\", \"run_name\": \"SparseNormalizer, XGBoostClassifier\", \"run_properties\": \"<azureml.automl.runtime.shared.model_wrappers.SparseNormalizer object at 0x7fd6d977e6d8\", \"primary_metric\": 0.95262093, \"best_metric\": 0.98320734}, {\"run_id\": \"AutoML_ca8f21f0-f9ec-4565-b576-7a7bca6608f7_27\", \"run_number\": 33, \"metric\": null, \"status\": \"Canceled\", \"run_type\": \"azureml.scriptrun\", \"training_percent\": \"100\", \"start_time\": \"2021-04-18T11:33:28.033118Z\", \"end_time\": \"2021-04-18T11:38:13.847534Z\", \"created_time\": \"2021-04-18T11:32:31.109599Z\", \"created_time_dt\": \"2021-04-18T11:32:31.109599Z\", \"duration\": \"0:05:42\", \"iteration\": \"27\", \"goal\": null, \"run_name\": \"StandardScalerWrapper, RandomForest\", \"run_properties\": null}, {\"run_id\": \"AutoML_ca8f21f0-f9ec-4565-b576-7a7bca6608f7_28\", \"run_number\": 34, \"metric\": null, \"status\": \"Completed\", \"run_type\": \"azureml.scriptrun\", \"training_percent\": \"100\", \"start_time\": \"2021-04-18T11:33:45.62488Z\", \"end_time\": \"2021-04-18T11:34:36.332954Z\", \"created_time\": \"2021-04-18T11:33:17.611003Z\", \"created_time_dt\": \"2021-04-18T11:33:17.611003Z\", \"duration\": \"0:01:18\", \"iteration\": \"28\", \"goal\": \"AUC_weighted_max\", \"run_name\": \"StandardScalerWrapper, ExtremeRandomTrees\", \"run_properties\": \"<azureml.automl.runtime.shared.model_wrappers.StandardScalerWrapper object at 0x7fd27637cf28\", \"primary_metric\": 0.96678218, \"best_metric\": 0.98320734}, {\"run_id\": \"AutoML_ca8f21f0-f9ec-4565-b576-7a7bca6608f7_29\", \"run_number\": 35, \"metric\": null, \"status\": \"Completed\", \"run_type\": \"azureml.scriptrun\", \"training_percent\": \"100\", \"start_time\": \"2021-04-18T11:34:09.807868Z\", \"end_time\": \"2021-04-18T11:35:24.506508Z\", \"created_time\": \"2021-04-18T11:33:34.929439Z\", \"created_time_dt\": \"2021-04-18T11:33:34.929439Z\", \"duration\": \"0:01:49\", \"iteration\": \"29\", \"goal\": \"AUC_weighted_max\", \"run_name\": \"StandardScalerWrapper, LightGBM\", \"run_properties\": \"<azureml.automl.runtime.shared.model_wrappers.StandardScalerWrapper object at 0x7f4c08497a20\", \"primary_metric\": 0.97052832, \"best_metric\": 0.98320734}, {\"run_id\": \"AutoML_ca8f21f0-f9ec-4565-b576-7a7bca6608f7_30\", \"run_number\": 36, \"metric\": null, \"status\": \"Completed\", \"run_type\": \"azureml.scriptrun\", \"training_percent\": \"100\", \"start_time\": \"2021-04-18T11:34:48.575492Z\", \"end_time\": \"2021-04-18T11:35:46.131246Z\", \"created_time\": \"2021-04-18T11:33:59.495096Z\", \"created_time_dt\": \"2021-04-18T11:33:59.495096Z\", \"duration\": \"0:01:46\", \"iteration\": \"30\", \"goal\": \"AUC_weighted_max\", \"run_name\": \"TruncatedSVDWrapper, RandomForest\", \"run_properties\": \"n_components=0.3068421052631579, random_state=None\", \"primary_metric\": 0.90305512, \"best_metric\": 0.98320734}, {\"run_id\": \"AutoML_ca8f21f0-f9ec-4565-b576-7a7bca6608f7_31\", \"run_number\": 37, \"metric\": null, \"status\": \"Completed\", \"run_type\": \"azureml.scriptrun\", \"training_percent\": \"100\", \"start_time\": \"2021-04-18T11:35:27.544491Z\", \"end_time\": \"2021-04-18T11:36:29.029173Z\", \"created_time\": \"2021-04-18T11:34:38.625018Z\", \"created_time_dt\": \"2021-04-18T11:34:38.625018Z\", \"duration\": \"0:01:50\", \"iteration\": \"31\", \"goal\": \"AUC_weighted_max\", \"run_name\": \"StandardScalerWrapper, LightGBM\", \"run_properties\": \"<azureml.automl.runtime.shared.model_wrappers.StandardScalerWrapper object at 0x7fb3ca808d68\", \"primary_metric\": 0.96881496, \"best_metric\": 0.98320734}, {\"run_id\": \"AutoML_ca8f21f0-f9ec-4565-b576-7a7bca6608f7_32\", \"run_number\": 38, \"metric\": null, \"status\": \"Completed\", \"run_type\": \"azureml.scriptrun\", \"training_percent\": \"100\", \"start_time\": \"2021-04-18T11:35:40.782776Z\", \"end_time\": \"2021-04-18T11:36:34.566382Z\", \"created_time\": \"2021-04-18T11:35:13.960511Z\", \"created_time_dt\": \"2021-04-18T11:35:13.960511Z\", \"duration\": \"0:01:20\", \"iteration\": \"32\", \"goal\": \"AUC_weighted_max\", \"run_name\": \"StandardScalerWrapper, LightGBM\", \"run_properties\": \"<azureml.automl.runtime.shared.model_wrappers.StandardScalerWrapper object at 0x7fd74c4d1160\", \"primary_metric\": 0.96870083, \"best_metric\": 0.98320734}, {\"run_id\": \"AutoML_ca8f21f0-f9ec-4565-b576-7a7bca6608f7_33\", \"run_number\": 39, \"metric\": null, \"status\": \"Completed\", \"run_type\": \"azureml.scriptrun\", \"training_percent\": \"100\", \"start_time\": \"2021-04-18T11:35:58.173435Z\", \"end_time\": \"2021-04-18T11:37:25.881222Z\", \"created_time\": \"2021-04-18T11:35:26.97721Z\", \"created_time_dt\": \"2021-04-18T11:35:26.97721Z\", \"duration\": \"0:01:58\", \"iteration\": \"33\", \"goal\": \"AUC_weighted_max\", \"run_name\": \"MinMaxScaler, LightGBM\", \"run_properties\": \"copy=True, feature_range=(0, 1\", \"primary_metric\": 0.9702613, \"best_metric\": 0.98320734}, {\"run_id\": \"AutoML_ca8f21f0-f9ec-4565-b576-7a7bca6608f7_34\", \"run_number\": 40, \"metric\": null, \"status\": \"Canceled\", \"run_type\": \"azureml.scriptrun\", \"training_percent\": \"100\", \"start_time\": \"2021-04-18T11:36:43.594892Z\", \"end_time\": \"2021-04-18T11:38:14.051246Z\", \"created_time\": \"2021-04-18T11:35:48.994693Z\", \"created_time_dt\": \"2021-04-18T11:35:48.994693Z\", \"duration\": \"0:02:25\", \"iteration\": \"34\", \"goal\": \"AUC_weighted_max\", \"run_name\": \"MaxAbsScaler, ExtremeRandomTrees\", \"run_properties\": \"copy=True\", \"primary_metric\": 0.9659919, \"best_metric\": 0.98320734}, {\"run_id\": \"AutoML_ca8f21f0-f9ec-4565-b576-7a7bca6608f7_35\", \"run_number\": 41, \"metric\": null, \"status\": \"Completed\", \"run_type\": \"azureml.scriptrun\", \"training_percent\": \"100\", \"start_time\": \"2021-04-18T11:36:49.310409Z\", \"end_time\": \"2021-04-18T11:38:06.554696Z\", \"created_time\": \"2021-04-18T11:36:32.10688Z\", \"created_time_dt\": \"2021-04-18T11:36:32.10688Z\", \"duration\": \"0:01:34\", \"iteration\": \"35\", \"goal\": \"AUC_weighted_max\", \"run_name\": \"SparseNormalizer, RandomForest\", \"run_properties\": \"<azureml.automl.runtime.shared.model_wrappers.SparseNormalizer object at 0x7f228ac22278\", \"primary_metric\": 0.66429856, \"best_metric\": 0.98320734}, {\"run_id\": \"AutoML_ca8f21f0-f9ec-4565-b576-7a7bca6608f7_36\", \"run_number\": 42, \"metric\": null, \"status\": \"Canceled\", \"run_type\": \"azureml.scriptrun\", \"training_percent\": \"100\", \"start_time\": \"2021-04-18T11:37:36.170151Z\", \"end_time\": \"2021-04-18T11:38:13.694945Z\", \"created_time\": \"2021-04-18T11:36:36.650205Z\", \"created_time_dt\": \"2021-04-18T11:36:36.650205Z\", \"duration\": \"0:01:37\", \"iteration\": \"36\", \"goal\": null, \"run_name\": \"SparseNormalizer, GradientBoosting\", \"run_properties\": null}, {\"run_id\": \"AutoML_ca8f21f0-f9ec-4565-b576-7a7bca6608f7_37\", \"run_number\": 43, \"metric\": null, \"status\": \"Canceled\", \"run_type\": \"azureml.scriptrun\", \"training_percent\": \"100\", \"start_time\": \"2021-04-18T11:37:28.348738Z\", \"end_time\": \"2021-04-18T11:38:13.968571Z\", \"created_time\": \"2021-04-18T11:37:28.348738Z\", \"created_time_dt\": \"2021-04-18T11:37:28.348738Z\", \"duration\": \"0:00:45\", \"iteration\": \"37\", \"goal\": null, \"run_name\": \"Canceled\", \"run_properties\": null}, {\"run_id\": \"AutoML_ca8f21f0-f9ec-4565-b576-7a7bca6608f7_38\", \"run_number\": 44, \"metric\": null, \"status\": \"Completed\", \"run_type\": \"azureml.scriptrun\", \"training_percent\": \"100\", \"start_time\": \"2021-04-18T11:38:27.021348Z\", \"end_time\": \"2021-04-18T11:39:51.941857Z\", \"created_time\": \"2021-04-18T11:38:15.619681Z\", \"created_time_dt\": \"2021-04-18T11:38:15.619681Z\", \"duration\": \"0:01:36\", \"iteration\": \"38\", \"goal\": \"AUC_weighted_max\", \"run_name\": \"VotingEnsemble\", \"run_properties\": \"classification_labels=None,\\n                              estimators=[('4',\\n                                           Pipeline(memory=None,\\n                                                    steps=[('minmaxscaler',\\n                                                            MinMaxScaler(copy=True,\\n                                                                         feature_range=(0,\\n                                                                                        1\", \"primary_metric\": 0.98745952, \"best_metric\": 0.98745952}, {\"run_id\": \"AutoML_ca8f21f0-f9ec-4565-b576-7a7bca6608f7_39\", \"run_number\": 45, \"metric\": null, \"status\": \"Completed\", \"run_type\": \"azureml.scriptrun\", \"training_percent\": \"100\", \"start_time\": \"2021-04-18T11:38:26.729373Z\", \"end_time\": \"2021-04-18T11:44:10.820362Z\", \"created_time\": \"2021-04-18T11:38:15.888922Z\", \"created_time_dt\": \"2021-04-18T11:38:15.888922Z\", \"duration\": \"0:05:54\", \"iteration\": \"39\", \"goal\": \"AUC_weighted_max\", \"run_name\": \"StackEnsemble\", \"run_properties\": \"base_learners=[('4',\\n                                        Pipeline(memory=None,\\n                                                 steps=[('minmaxscaler',\\n                                                         MinMaxScaler(copy=True,\\n                                                                      feature_range=(0,\\n                                                                                     1\", \"primary_metric\": 0.98634336, \"best_metric\": 0.98745952}], \"children_metrics\": {\"categories\": [0], \"series\": {\"norm_macro_recall\": [{\"categories\": [\"0\", \"1\", \"2\", \"3\", \"4\", \"5\", \"6\", \"7\", \"8\", \"9\", \"10\", \"11\", \"12\", \"13\", \"14\", \"15\", \"16\", \"17\", \"18\", \"19\", \"20\", \"21\", \"22\", \"23\", \"24\", \"25\", \"26\", \"28\", \"29\", \"30\", \"31\", \"32\", \"33\", \"34\", \"35\", \"38\", \"39\"], \"mode\": \"markers\", \"name\": \"norm_macro_recall\", \"stepped\": false, \"type\": \"scatter\", \"data\": [0.8364533207768194, 0.8911358859807288, 0.8474878837297442, 0.8347385239971059, 0.8456324003996647, 0.8442169214337394, 0.876504484742687, 0.8725652613324453, 0.8852973941405486, 0.8461427480390018, 0.8740424701112859, 0.22995216657287565, 0.8196757318571772, 0.6553272828546164, 0.835520913486385, 0.0, 3.517163759148012e-05, 0.8468727389661548, 0.8744645297623834, 0.0005627462014632378, 0.0, 0.8559118498271565, 0.8561228796527052, 0.8363829775016365, 0.8363829775016365, 0.30176403707234156, 0.8526057158935605, 0.0, 0.8963412883442627, 0.6219773925327023, 0.9043338635397884, 0.9136191758639303, 0.856509767666211, 0.0, 0.0, 0.8759682967165481, 0.8956026839548423]}, {\"categories\": [\"0\", \"1\", \"2\", \"3\", \"4\", \"5\", \"6\", \"7\", \"8\", \"9\", \"10\", \"11\", \"12\", \"13\", \"14\", \"15\", \"16\", \"17\", \"18\", \"19\", \"20\", \"21\", \"22\", \"23\", \"24\", \"25\", \"26\", \"28\", \"29\", \"30\", \"31\", \"32\", \"33\", \"34\", \"35\", \"38\", \"39\"], \"mode\": \"lines\", \"name\": \"norm_macro_recall_max\", \"stepped\": true, \"type\": \"scatter\", \"data\": [0.8364533207768194, 0.8911358859807288, 0.8911358859807288, 0.8911358859807288, 0.8911358859807288, 0.8911358859807288, 0.8911358859807288, 0.8911358859807288, 0.8911358859807288, 0.8911358859807288, 0.8911358859807288, 0.8911358859807288, 0.8911358859807288, 0.8911358859807288, 0.8911358859807288, 0.8911358859807288, 0.8911358859807288, 0.8911358859807288, 0.8911358859807288, 0.8911358859807288, 0.8911358859807288, 0.8911358859807288, 0.8911358859807288, 0.8911358859807288, 0.8911358859807288, 0.8911358859807288, 0.8911358859807288, 0.8911358859807288, 0.8963412883442627, 0.8963412883442627, 0.9043338635397884, 0.9136191758639303, 0.9136191758639303, 0.9136191758639303, 0.9136191758639303, 0.9136191758639303, 0.9136191758639303]}], \"recall_score_weighted\": [{\"categories\": [\"0\", \"1\", \"2\", \"3\", \"4\", \"5\", \"6\", \"7\", \"8\", \"9\", \"10\", \"11\", \"12\", \"13\", \"14\", \"15\", \"16\", \"17\", \"18\", \"19\", \"20\", \"21\", \"22\", \"23\", \"24\", \"25\", \"26\", \"28\", \"29\", \"30\", \"31\", \"32\", \"33\", \"34\", \"35\", \"38\", \"39\"], \"mode\": \"markers\", \"name\": \"recall_score_weighted\", \"stepped\": false, \"type\": \"scatter\", \"data\": [0.9994382219725431, 0.9930128857835048, 0.9494399775288789, 0.9773884343948598, 0.9272497454443314, 0.9461746427442856, 0.9784066570696254, 0.974474210877427, 0.9871844387486395, 0.9684350970822654, 0.9759488781995014, 0.23127699167866297, 0.9013377339278817, 0.7169340964151539, 0.9578315368140163, 0.0017204452090867595, 0.0017555563358028158, 0.9895017731118991, 0.9763702117200941, 0.002282223236543661, 0.0017204452090867595, 0.9985253326779256, 0.998735999438222, 0.9993679997191109, 0.9993679997191109, 0.32330325480144656, 0.9952248867666164, 0.0017204452090867595, 0.9982093325374811, 0.8666830518591342, 0.9858502159334293, 0.9951195533864682, 0.9991222218320986, 0.0017204452090867595, 0.0017204452090867595, 0.9982093325374811, 0.997471998876444]}, {\"categories\": [\"0\", \"1\", \"2\", \"3\", \"4\", \"5\", \"6\", \"7\", \"8\", \"9\", \"10\", \"11\", \"12\", \"13\", \"14\", \"15\", \"16\", \"17\", \"18\", \"19\", \"20\", \"21\", \"22\", \"23\", \"24\", \"25\", \"26\", \"28\", \"29\", \"30\", \"31\", \"32\", \"33\", \"34\", \"35\", \"38\", \"39\"], \"mode\": \"lines\", \"name\": \"recall_score_weighted_max\", \"stepped\": true, \"type\": \"scatter\", \"data\": [0.9994382219725431, 0.9994382219725431, 0.9994382219725431, 0.9994382219725431, 0.9994382219725431, 0.9994382219725431, 0.9994382219725431, 0.9994382219725431, 0.9994382219725431, 0.9994382219725431, 0.9994382219725431, 0.9994382219725431, 0.9994382219725431, 0.9994382219725431, 0.9994382219725431, 0.9994382219725431, 0.9994382219725431, 0.9994382219725431, 0.9994382219725431, 0.9994382219725431, 0.9994382219725431, 0.9994382219725431, 0.9994382219725431, 0.9994382219725431, 0.9994382219725431, 0.9994382219725431, 0.9994382219725431, 0.9994382219725431, 0.9994382219725431, 0.9994382219725431, 0.9994382219725431, 0.9994382219725431, 0.9994382219725431, 0.9994382219725431, 0.9994382219725431, 0.9994382219725431, 0.9994382219725431]}], \"average_precision_score_weighted\": [{\"categories\": [\"0\", \"1\", \"2\", \"3\", \"4\", \"5\", \"6\", \"7\", \"8\", \"9\", \"10\", \"11\", \"12\", \"13\", \"14\", \"15\", \"16\", \"17\", \"18\", \"19\", \"20\", \"21\", \"22\", \"23\", \"24\", \"25\", \"26\", \"28\", \"29\", \"30\", \"31\", \"32\", \"33\", \"34\", \"35\", \"38\", \"39\"], \"mode\": \"markers\", \"name\": \"average_precision_score_weighted\", \"stepped\": false, \"type\": \"scatter\", \"data\": [0.9991205202051671, 0.9995997587006605, 0.9994199734113449, 0.9993927492611703, 0.9992695155212292, 0.9991927279194561, 0.9993496033943428, 0.9994307551941909, 0.999441241354526, 0.9988961574669667, 0.9993522608536954, 0.9993480859491344, 0.9981875004888437, 0.9993291922447263, 0.9993680506875636, 0.9993087793479372, 0.9992650745407741, 0.9994445833398333, 0.9993034474791811, 0.9989797925104241, 0.9990906169511117, 0.9996230558400645, 0.9996759247842019, 0.9997443468187203, 0.9997039271728412, 0.999316535891512, 0.999293769074626, 0.9993266430580234, 0.9996588144462171, 0.9983719656400118, 0.9994987277282675, 0.9994626932058347, 0.9996739528603497, 0.9992531795259978, 0.9971440617915595, 0.9997369517560736, 0.9997527648083554]}, {\"categories\": [\"0\", \"1\", \"2\", \"3\", \"4\", \"5\", \"6\", \"7\", \"8\", \"9\", \"10\", \"11\", \"12\", \"13\", \"14\", \"15\", \"16\", \"17\", \"18\", \"19\", \"20\", \"21\", \"22\", \"23\", \"24\", \"25\", \"26\", \"28\", \"29\", \"30\", \"31\", \"32\", \"33\", \"34\", \"35\", \"38\", \"39\"], \"mode\": \"lines\", \"name\": \"average_precision_score_weighted_max\", \"stepped\": true, \"type\": \"scatter\", \"data\": [0.9991205202051671, 0.9995997587006605, 0.9995997587006605, 0.9995997587006605, 0.9995997587006605, 0.9995997587006605, 0.9995997587006605, 0.9995997587006605, 0.9995997587006605, 0.9995997587006605, 0.9995997587006605, 0.9995997587006605, 0.9995997587006605, 0.9995997587006605, 0.9995997587006605, 0.9995997587006605, 0.9995997587006605, 0.9995997587006605, 0.9995997587006605, 0.9995997587006605, 0.9995997587006605, 0.9996230558400645, 0.9996759247842019, 0.9997443468187203, 0.9997443468187203, 0.9997443468187203, 0.9997443468187203, 0.9997443468187203, 0.9997443468187203, 0.9997443468187203, 0.9997443468187203, 0.9997443468187203, 0.9997443468187203, 0.9997443468187203, 0.9997443468187203, 0.9997443468187203, 0.9997527648083554]}], \"weighted_accuracy\": [{\"categories\": [\"0\", \"1\", \"2\", \"3\", \"4\", \"5\", \"6\", \"7\", \"8\", \"9\", \"10\", \"11\", \"12\", \"13\", \"14\", \"15\", \"16\", \"17\", \"18\", \"19\", \"20\", \"21\", \"22\", \"23\", \"24\", \"25\", \"26\", \"28\", \"29\", \"30\", \"31\", \"32\", \"33\", \"34\", \"35\", \"38\", \"39\"], \"mode\": \"markers\", \"name\": \"weighted_accuracy\", \"stepped\": false, \"type\": \"scatter\", \"data\": [0.999718142815141, 0.9931764194984659, 0.9495285468878986, 0.9775953090932582, 0.9272650270335082, 0.9462575943070904, 0.9785450617176472, 0.9746058500074267, 0.9873379449993894, 0.9685914572277348, 0.9760830543987594, 0.22995445371815842, 0.9013084355858056, 0.716552432684822, 0.9579696542233904, 2.9701340404421287e-06, 3.8141667167410306e-05, 0.9897294880220623, 0.976505112796283, 0.000565714664071933, 2.9701340404421287e-06, 0.9987685720356932, 0.9989796012344552, 0.999647799748887, 0.999647799748887, 0.32217415296208857, 0.9954624479217581, 2.9701340404421287e-06, 0.9983818064012574, 0.8668750197346604, 0.985966315822418, 0.9952516005679376, 0.9993664880988516, 2.9701340404421287e-06, 2.9701340404421287e-06, 0.9984169173194039, 0.997643204205591]}, {\"categories\": [\"0\", \"1\", \"2\", \"3\", \"4\", \"5\", \"6\", \"7\", \"8\", \"9\", \"10\", \"11\", \"12\", \"13\", \"14\", \"15\", \"16\", \"17\", \"18\", \"19\", \"20\", \"21\", \"22\", \"23\", \"24\", \"25\", \"26\", \"28\", \"29\", \"30\", \"31\", \"32\", \"33\", \"34\", \"35\", \"38\", \"39\"], \"mode\": \"lines\", \"name\": \"weighted_accuracy_max\", \"stepped\": true, \"type\": \"scatter\", \"data\": [0.999718142815141, 0.999718142815141, 0.999718142815141, 0.999718142815141, 0.999718142815141, 0.999718142815141, 0.999718142815141, 0.999718142815141, 0.999718142815141, 0.999718142815141, 0.999718142815141, 0.999718142815141, 0.999718142815141, 0.999718142815141, 0.999718142815141, 0.999718142815141, 0.999718142815141, 0.999718142815141, 0.999718142815141, 0.999718142815141, 0.999718142815141, 0.999718142815141, 0.999718142815141, 0.999718142815141, 0.999718142815141, 0.999718142815141, 0.999718142815141, 0.999718142815141, 0.999718142815141, 0.999718142815141, 0.999718142815141, 0.999718142815141, 0.999718142815141, 0.999718142815141, 0.999718142815141, 0.999718142815141, 0.999718142815141]}], \"AUC_micro\": [{\"categories\": [\"0\", \"1\", \"2\", \"3\", \"4\", \"5\", \"6\", \"7\", \"8\", \"9\", \"10\", \"11\", \"12\", \"13\", \"14\", \"15\", \"16\", \"17\", \"18\", \"19\", \"20\", \"21\", \"22\", \"23\", \"24\", \"25\", \"26\", \"28\", \"29\", \"30\", \"31\", \"32\", \"33\", \"34\", \"35\", \"38\", \"39\"], \"mode\": \"markers\", \"name\": \"AUC_micro\", \"stepped\": false, \"type\": \"scatter\", \"data\": [0.9997415009403958, 0.9990427357690492, 0.9920364497999076, 0.996775023101552, 0.9722456017310095, 0.9900638038615561, 0.9962533317461721, 0.9962113613691121, 0.99849281041277, 0.9950685515809357, 0.9973193793234982, 0.15065798610208134, 0.9458517815043103, 0.7624582074376633, 0.9937085202815502, 0.0032662544468428116, 0.003346369849809576, 0.9989607816579789, 0.997282727207758, 0.0032395706809016907, 0.0032478155885761746, 0.9997495732572997, 0.9997653634636317, 0.999920352441301, 0.9998846840929538, 0.19010811629537447, 0.9994004147314306, 0.003323828262365206, 0.9998122224742718, 0.9403323847493907, 0.9984080856034344, 0.9994068388064741, 0.9998774716479255, 0.003321113656100371, 0.002284805934148041, 0.9995744219792393, 0.999369225113583]}, {\"categories\": [\"0\", \"1\", \"2\", \"3\", \"4\", \"5\", \"6\", \"7\", \"8\", \"9\", \"10\", \"11\", \"12\", \"13\", \"14\", \"15\", \"16\", \"17\", \"18\", \"19\", \"20\", \"21\", \"22\", \"23\", \"24\", \"25\", \"26\", \"28\", \"29\", \"30\", \"31\", \"32\", \"33\", \"34\", \"35\", \"38\", \"39\"], \"mode\": \"lines\", \"name\": \"AUC_micro_max\", \"stepped\": true, \"type\": \"scatter\", \"data\": [0.9997415009403958, 0.9997415009403958, 0.9997415009403958, 0.9997415009403958, 0.9997415009403958, 0.9997415009403958, 0.9997415009403958, 0.9997415009403958, 0.9997415009403958, 0.9997415009403958, 0.9997415009403958, 0.9997415009403958, 0.9997415009403958, 0.9997415009403958, 0.9997415009403958, 0.9997415009403958, 0.9997415009403958, 0.9997415009403958, 0.9997415009403958, 0.9997415009403958, 0.9997415009403958, 0.9997495732572997, 0.9997653634636317, 0.999920352441301, 0.999920352441301, 0.999920352441301, 0.999920352441301, 0.999920352441301, 0.999920352441301, 0.999920352441301, 0.999920352441301, 0.999920352441301, 0.999920352441301, 0.999920352441301, 0.999920352441301, 0.999920352441301, 0.999920352441301]}], \"log_loss\": [{\"categories\": [\"0\", \"1\", \"2\", \"3\", \"4\", \"5\", \"6\", \"7\", \"8\", \"9\", \"10\", \"11\", \"12\", \"13\", \"14\", \"15\", \"16\", \"17\", \"18\", \"19\", \"20\", \"21\", \"22\", \"23\", \"24\", \"25\", \"26\", \"28\", \"29\", \"30\", \"31\", \"32\", \"33\", \"34\", \"35\", \"38\", \"39\"], \"mode\": \"markers\", \"name\": \"log_loss\", \"stepped\": false, \"type\": \"scatter\", \"data\": [0.0039053037916055794, 0.042567896011948846, 0.1532770682950826, 0.6042365000073477, 0.2945380018250273, 0.22119980624561336, 0.12018927701583605, 0.25353381453749346, 0.39402946645528997, 0.5459172818216167, 0.31019032853497125, 1.2467146251590215, 1.7394694938535056, 0.6527157518813567, 0.253349349977299, 5.448254874619648, 2.0568059494161544, 0.23751055578187058, 0.1308846117364197, 2.910324245997226, 4.686682626571272, 0.016884658893706113, 0.010288518171768402, 0.003290326280538859, 0.003162656637828571, 1.2329119663934707, 0.06649852639555755, 5.111202363871276, 0.008407492241954011, 0.45334369018042253, 0.05537933849769906, 0.022952096974133276, 0.0046584289406430175, 2.6833585059586484, 6.335833788772575, 0.14744534491017808, 0.31910726342249923]}, {\"categories\": [\"0\", \"1\", \"2\", \"3\", \"4\", \"5\", \"6\", \"7\", \"8\", \"9\", \"10\", \"11\", \"12\", \"13\", \"14\", \"15\", \"16\", \"17\", \"18\", \"19\", \"20\", \"21\", \"22\", \"23\", \"24\", \"25\", \"26\", \"28\", \"29\", \"30\", \"31\", \"32\", \"33\", \"34\", \"35\", \"38\", \"39\"], \"mode\": \"lines\", \"name\": \"log_loss_min\", \"stepped\": true, \"type\": \"scatter\", \"data\": [0.0039053037916055794, 0.0039053037916055794, 0.0039053037916055794, 0.0039053037916055794, 0.0039053037916055794, 0.0039053037916055794, 0.0039053037916055794, 0.0039053037916055794, 0.0039053037916055794, 0.0039053037916055794, 0.0039053037916055794, 0.0039053037916055794, 0.0039053037916055794, 0.0039053037916055794, 0.0039053037916055794, 0.0039053037916055794, 0.0039053037916055794, 0.0039053037916055794, 0.0039053037916055794, 0.0039053037916055794, 0.0039053037916055794, 0.0039053037916055794, 0.0039053037916055794, 0.003290326280538859, 0.003162656637828571, 0.003162656637828571, 0.003162656637828571, 0.003162656637828571, 0.003162656637828571, 0.003162656637828571, 0.003162656637828571, 0.003162656637828571, 0.003162656637828571, 0.003162656637828571, 0.003162656637828571, 0.003162656637828571, 0.003162656637828571]}], \"AUC_macro\": [{\"categories\": [\"0\", \"1\", \"2\", \"3\", \"4\", \"5\", \"6\", \"7\", \"8\", \"9\", \"10\", \"11\", \"12\", \"13\", \"14\", \"15\", \"16\", \"17\", \"18\", \"19\", \"20\", \"21\", \"22\", \"23\", \"24\", \"25\", \"26\", \"28\", \"29\", \"30\", \"31\", \"32\", \"33\", \"34\", \"35\", \"38\", \"39\"], \"mode\": \"markers\", \"name\": \"AUC_macro\", \"stepped\": false, \"type\": \"scatter\", \"data\": [0.9251518840513133, 0.9735480573771433, 0.9689305238133521, 0.9674927934032364, 0.9832073375213901, 0.949720708485983, 0.9585814488991995, 0.9690055327139295, 0.965475089867123, 0.9355817101742216, 0.9646657833082586, 0.9653178941807449, 0.9438676814282269, 0.9625396937052818, 0.9593013907870408, 0.9500211029825549, 0.973343487648295, 0.972006606525559, 0.9576246367990077, 0.942160959769389, 0.9446531215187257, 0.9736119405556256, 0.9808666291502532, 0.9788605896776269, 0.967509123092118, 0.9599362747349924, 0.9526209330102329, 0.9667821827661847, 0.9705283210639348, 0.9030551232873566, 0.9688149598612659, 0.9687008314862242, 0.9702613037336487, 0.9659918976031605, 0.6642985627002629, 0.9874595167273437, 0.986343355575207]}, {\"categories\": [\"0\", \"1\", \"2\", \"3\", \"4\", \"5\", \"6\", \"7\", \"8\", \"9\", \"10\", \"11\", \"12\", \"13\", \"14\", \"15\", \"16\", \"17\", \"18\", \"19\", \"20\", \"21\", \"22\", \"23\", \"24\", \"25\", \"26\", \"28\", \"29\", \"30\", \"31\", \"32\", \"33\", \"34\", \"35\", \"38\", \"39\"], \"mode\": \"lines\", \"name\": \"AUC_macro_max\", \"stepped\": true, \"type\": \"scatter\", \"data\": [0.9251518840513133, 0.9735480573771433, 0.9735480573771433, 0.9735480573771433, 0.9832073375213901, 0.9832073375213901, 0.9832073375213901, 0.9832073375213901, 0.9832073375213901, 0.9832073375213901, 0.9832073375213901, 0.9832073375213901, 0.9832073375213901, 0.9832073375213901, 0.9832073375213901, 0.9832073375213901, 0.9832073375213901, 0.9832073375213901, 0.9832073375213901, 0.9832073375213901, 0.9832073375213901, 0.9832073375213901, 0.9832073375213901, 0.9832073375213901, 0.9832073375213901, 0.9832073375213901, 0.9832073375213901, 0.9832073375213901, 0.9832073375213901, 0.9832073375213901, 0.9832073375213901, 0.9832073375213901, 0.9832073375213901, 0.9832073375213901, 0.9832073375213901, 0.9874595167273437, 0.9874595167273437]}], \"AUC_weighted\": [{\"categories\": [\"0\", \"1\", \"2\", \"3\", \"4\", \"5\", \"6\", \"7\", \"8\", \"9\", \"10\", \"11\", \"12\", \"13\", \"14\", \"15\", \"16\", \"17\", \"18\", \"19\", \"20\", \"21\", \"22\", \"23\", \"24\", \"25\", \"26\", \"28\", \"29\", \"30\", \"31\", \"32\", \"33\", \"34\", \"35\", \"38\", \"39\"], \"mode\": \"markers\", \"name\": \"AUC_weighted\", \"stepped\": false, \"type\": \"scatter\", \"data\": [0.9251518840513135, 0.9735480573771432, 0.9689305238133521, 0.9674927934032364, 0.98320733752139, 0.949720708485983, 0.9585814488991995, 0.9690055327139295, 0.965475089867123, 0.9355817101742218, 0.9646657833082587, 0.9653178941807448, 0.9418055964728252, 0.9625396937052817, 0.9593013907870408, 0.9500211029825549, 0.9733434876482949, 0.972006606525559, 0.9576246367990077, 0.9421609597693889, 0.9446531215187256, 0.9736119405556256, 0.9808666291502534, 0.9788607685072995, 0.9675075136250642, 0.9599362747349925, 0.9526209330102329, 0.9667821827661847, 0.9705283210639349, 0.9030551232873567, 0.9688149598612658, 0.9687008314862243, 0.9702613037336487, 0.9659918976031605, 0.664298562700263, 0.9874595167273436, 0.986343355575207]}, {\"categories\": [\"0\", \"1\", \"2\", \"3\", \"4\", \"5\", \"6\", \"7\", \"8\", \"9\", \"10\", \"11\", \"12\", \"13\", \"14\", \"15\", \"16\", \"17\", \"18\", \"19\", \"20\", \"21\", \"22\", \"23\", \"24\", \"25\", \"26\", \"28\", \"29\", \"30\", \"31\", \"32\", \"33\", \"34\", \"35\", \"38\", \"39\"], \"mode\": \"lines\", \"name\": \"AUC_weighted_max\", \"stepped\": true, \"type\": \"scatter\", \"data\": [0.9251518840513135, 0.9735480573771432, 0.9735480573771432, 0.9735480573771432, 0.98320733752139, 0.98320733752139, 0.98320733752139, 0.98320733752139, 0.98320733752139, 0.98320733752139, 0.98320733752139, 0.98320733752139, 0.98320733752139, 0.98320733752139, 0.98320733752139, 0.98320733752139, 0.98320733752139, 0.98320733752139, 0.98320733752139, 0.98320733752139, 0.98320733752139, 0.98320733752139, 0.98320733752139, 0.98320733752139, 0.98320733752139, 0.98320733752139, 0.98320733752139, 0.98320733752139, 0.98320733752139, 0.98320733752139, 0.98320733752139, 0.98320733752139, 0.98320733752139, 0.98320733752139, 0.98320733752139, 0.9874595167273436, 0.9874595167273436]}], \"f1_score_weighted\": [{\"categories\": [\"0\", \"1\", \"2\", \"3\", \"4\", \"5\", \"6\", \"7\", \"8\", \"9\", \"10\", \"11\", \"12\", \"13\", \"14\", \"15\", \"16\", \"17\", \"18\", \"19\", \"20\", \"21\", \"22\", \"23\", \"24\", \"25\", \"26\", \"28\", \"29\", \"30\", \"31\", \"32\", \"33\", \"34\", \"35\", \"38\", \"39\"], \"mode\": \"markers\", \"name\": \"f1_score_weighted\", \"stepped\": false, \"type\": \"scatter\", \"data\": [0.9994382219725431, 0.9953018706251614, 0.9724464924281083, 0.9870456241017356, 0.9606060051261524, 0.970719630251422, 0.9875821392653129, 0.985539443290399, 0.992165733822868, 0.9823972293203208, 0.9863053897190697, 0.3732848601393075, 0.9464450127887502, 0.8334053059649611, 0.9768600102728475, 5.909696126551085e-06, 7.61296869608578e-05, 0.9933813305081372, 0.986524228688893, 0.0011288371458448077, 5.909696126551085e-06, 0.9986888213584858, 0.9988516215484157, 0.9993743086072865, 0.9993743086072865, 0.48649487951589254, 0.996543761991383, 5.909696126551085e-06, 0.9984727777639153, 0.9269167745689348, 0.9914692511886161, 0.9965098543636141, 0.9991664284741397, 5.909696126551085e-06, 5.909696126551085e-06, 0.998463594079833, 0.9979604194237898]}, {\"categories\": [\"0\", \"1\", \"2\", \"3\", \"4\", \"5\", \"6\", \"7\", \"8\", \"9\", \"10\", \"11\", \"12\", \"13\", \"14\", \"15\", \"16\", \"17\", \"18\", \"19\", \"20\", \"21\", \"22\", \"23\", \"24\", \"25\", \"26\", \"28\", \"29\", \"30\", \"31\", \"32\", \"33\", \"34\", \"35\", \"38\", \"39\"], \"mode\": \"lines\", \"name\": \"f1_score_weighted_max\", \"stepped\": true, \"type\": \"scatter\", \"data\": [0.9994382219725431, 0.9994382219725431, 0.9994382219725431, 0.9994382219725431, 0.9994382219725431, 0.9994382219725431, 0.9994382219725431, 0.9994382219725431, 0.9994382219725431, 0.9994382219725431, 0.9994382219725431, 0.9994382219725431, 0.9994382219725431, 0.9994382219725431, 0.9994382219725431, 0.9994382219725431, 0.9994382219725431, 0.9994382219725431, 0.9994382219725431, 0.9994382219725431, 0.9994382219725431, 0.9994382219725431, 0.9994382219725431, 0.9994382219725431, 0.9994382219725431, 0.9994382219725431, 0.9994382219725431, 0.9994382219725431, 0.9994382219725431, 0.9994382219725431, 0.9994382219725431, 0.9994382219725431, 0.9994382219725431, 0.9994382219725431, 0.9994382219725431, 0.9994382219725431, 0.9994382219725431]}], \"average_precision_score_micro\": [{\"categories\": [\"0\", \"1\", \"2\", \"3\", \"4\", \"5\", \"6\", \"7\", \"8\", \"9\", \"10\", \"11\", \"12\", \"13\", \"14\", \"15\", \"16\", \"17\", \"18\", \"19\", \"20\", \"21\", \"22\", \"23\", \"24\", \"25\", \"26\", \"28\", \"29\", \"30\", \"31\", \"32\", \"33\", \"34\", \"35\", \"38\", \"39\"], \"mode\": \"markers\", \"name\": \"average_precision_score_micro\", \"stepped\": false, \"type\": \"scatter\", \"data\": [0.9993073134574981, 0.9984471171966365, 0.9922675991099661, 0.9964311371990026, 0.9690838468904256, 0.9903174973978695, 0.9962516448603996, 0.996199445476807, 0.9982519018656004, 0.9940283170167439, 0.997171931381877, 0.3307096889146038, 0.9413172494618677, 0.7605238831279519, 0.9937883412323305, 0.3083861120161809, 0.30822935347301617, 0.9986409345019058, 0.9972413104768625, 0.30808196988956466, 0.3081597096884593, 0.999582092532218, 0.9997660433220502, 0.9999218401712673, 0.9998813994403115, 0.34130810987419435, 0.999289281136237, 0.3083265435315615, 0.999810901067357, 0.9426740385108076, 0.9982770394145817, 0.9993413628782691, 0.9998752484914669, 0.30824448433614027, 0.37370854619744054, 0.9991370358226974, 0.9983120123093822]}, {\"categories\": [\"0\", \"1\", \"2\", \"3\", \"4\", \"5\", \"6\", \"7\", \"8\", \"9\", \"10\", \"11\", \"12\", \"13\", \"14\", \"15\", \"16\", \"17\", \"18\", \"19\", \"20\", \"21\", \"22\", \"23\", \"24\", \"25\", \"26\", \"28\", \"29\", \"30\", \"31\", \"32\", \"33\", \"34\", \"35\", \"38\", \"39\"], \"mode\": \"lines\", \"name\": \"average_precision_score_micro_max\", \"stepped\": true, \"type\": \"scatter\", \"data\": [0.9993073134574981, 0.9993073134574981, 0.9993073134574981, 0.9993073134574981, 0.9993073134574981, 0.9993073134574981, 0.9993073134574981, 0.9993073134574981, 0.9993073134574981, 0.9993073134574981, 0.9993073134574981, 0.9993073134574981, 0.9993073134574981, 0.9993073134574981, 0.9993073134574981, 0.9993073134574981, 0.9993073134574981, 0.9993073134574981, 0.9993073134574981, 0.9993073134574981, 0.9993073134574981, 0.999582092532218, 0.9997660433220502, 0.9999218401712673, 0.9999218401712673, 0.9999218401712673, 0.9999218401712673, 0.9999218401712673, 0.9999218401712673, 0.9999218401712673, 0.9999218401712673, 0.9999218401712673, 0.9999218401712673, 0.9999218401712673, 0.9999218401712673, 0.9999218401712673, 0.9999218401712673]}], \"precision_score_weighted\": [{\"categories\": [\"0\", \"1\", \"2\", \"3\", \"4\", \"5\", \"6\", \"7\", \"8\", \"9\", \"10\", \"11\", \"12\", \"13\", \"14\", \"15\", \"16\", \"17\", \"18\", \"19\", \"20\", \"21\", \"22\", \"23\", \"24\", \"25\", \"26\", \"28\", \"29\", \"30\", \"31\", \"32\", \"33\", \"34\", \"35\", \"38\", \"39\"], \"mode\": \"markers\", \"name\": \"precision_score_weighted\", \"stepped\": false, \"type\": \"scatter\", \"data\": [0.9994382219725431, 0.9984208898532743, 0.9981458848536576, 0.9981346268092117, 0.9981647566164958, 0.9981422179857221, 0.9982159309264101, 0.9981982819800443, 0.9982891546876334, 0.9981411417178813, 0.9982042874057251, 0.9982833966455021, 0.9981509115831109, 0.9981423404600493, 0.9981194506224268, 2.959931717469584e-06, 0.9982825148265609, 0.998247631710812, 0.9982061273187135, 0.99828251638639, 2.959931717469584e-06, 0.9989719592813003, 0.9990513147314496, 0.9993817490283682, 0.9993817490283682, 0.9981748586011532, 0.9984552832309337, 2.959931717469584e-06, 0.9989448521806636, 0.9978104095637804, 0.9983115010748468, 0.9985685714951438, 0.9992379934249402, 2.959931717469584e-06, 2.959931717469584e-06, 0.9989092707541944, 0.9987855937778807]}, {\"categories\": [\"0\", \"1\", \"2\", \"3\", \"4\", \"5\", \"6\", \"7\", \"8\", \"9\", \"10\", \"11\", \"12\", \"13\", \"14\", \"15\", \"16\", \"17\", \"18\", \"19\", \"20\", \"21\", \"22\", \"23\", \"24\", \"25\", \"26\", \"28\", \"29\", \"30\", \"31\", \"32\", \"33\", \"34\", \"35\", \"38\", \"39\"], \"mode\": \"lines\", \"name\": \"precision_score_weighted_max\", \"stepped\": true, \"type\": \"scatter\", \"data\": [0.9994382219725431, 0.9994382219725431, 0.9994382219725431, 0.9994382219725431, 0.9994382219725431, 0.9994382219725431, 0.9994382219725431, 0.9994382219725431, 0.9994382219725431, 0.9994382219725431, 0.9994382219725431, 0.9994382219725431, 0.9994382219725431, 0.9994382219725431, 0.9994382219725431, 0.9994382219725431, 0.9994382219725431, 0.9994382219725431, 0.9994382219725431, 0.9994382219725431, 0.9994382219725431, 0.9994382219725431, 0.9994382219725431, 0.9994382219725431, 0.9994382219725431, 0.9994382219725431, 0.9994382219725431, 0.9994382219725431, 0.9994382219725431, 0.9994382219725431, 0.9994382219725431, 0.9994382219725431, 0.9994382219725431, 0.9994382219725431, 0.9994382219725431, 0.9994382219725431, 0.9994382219725431]}], \"f1_score_macro\": [{\"categories\": [\"0\", \"1\", \"2\", \"3\", \"4\", \"5\", \"6\", \"7\", \"8\", \"9\", \"10\", \"11\", \"12\", \"13\", \"14\", \"15\", \"16\", \"17\", \"18\", \"19\", \"20\", \"21\", \"22\", \"23\", \"24\", \"25\", \"26\", \"28\", \"29\", \"30\", \"31\", \"32\", \"33\", \"34\", \"35\", \"38\", \"39\"], \"mode\": \"markers\", \"name\": \"f1_score_macro\", \"stepped\": false, \"type\": \"scatter\", \"data\": [0.9182266603884097, 0.651554480356701, 0.5158073928582965, 0.5519662344981546, 0.501908951565528, 0.5132932478383895, 0.5571231125542436, 0.5475136530848416, 0.5939006687754558, 0.5356247385506139, 0.5508255875562464, 0.18918833458351714, 0.4895285617152209, 0.42305248314319127, 0.5226252229036243, 0.0017174903610234842, 0.0017527209631763023, 0.6070182512891122, 0.5518312217124003, 0.002280883789014344, 0.0017174903610234842, 0.8329638492035564, 0.8496833327469124, 0.9098417220639443, 0.9098417220639443, 0.24614057074778914, 0.6897106840852214, 0.0017174903610234842, 0.816098000644941, 0.4737988971047751, 0.5877095609405968, 0.6952815136435075, 0.8851012356508665, 0.0017174903610234842, 0.0017174903610234842, 0.8134198669882242, 0.7743662194993134]}, {\"categories\": [\"0\", \"1\", \"2\", \"3\", \"4\", \"5\", \"6\", \"7\", \"8\", \"9\", \"10\", \"11\", \"12\", \"13\", \"14\", \"15\", \"16\", \"17\", \"18\", \"19\", \"20\", \"21\", \"22\", \"23\", \"24\", \"25\", \"26\", \"28\", \"29\", \"30\", \"31\", \"32\", \"33\", \"34\", \"35\", \"38\", \"39\"], \"mode\": \"lines\", \"name\": \"f1_score_macro_max\", \"stepped\": true, \"type\": \"scatter\", \"data\": [0.9182266603884097, 0.9182266603884097, 0.9182266603884097, 0.9182266603884097, 0.9182266603884097, 0.9182266603884097, 0.9182266603884097, 0.9182266603884097, 0.9182266603884097, 0.9182266603884097, 0.9182266603884097, 0.9182266603884097, 0.9182266603884097, 0.9182266603884097, 0.9182266603884097, 0.9182266603884097, 0.9182266603884097, 0.9182266603884097, 0.9182266603884097, 0.9182266603884097, 0.9182266603884097, 0.9182266603884097, 0.9182266603884097, 0.9182266603884097, 0.9182266603884097, 0.9182266603884097, 0.9182266603884097, 0.9182266603884097, 0.9182266603884097, 0.9182266603884097, 0.9182266603884097, 0.9182266603884097, 0.9182266603884097, 0.9182266603884097, 0.9182266603884097, 0.9182266603884097, 0.9182266603884097]}], \"recall_score_macro\": [{\"categories\": [\"0\", \"1\", \"2\", \"3\", \"4\", \"5\", \"6\", \"7\", \"8\", \"9\", \"10\", \"11\", \"12\", \"13\", \"14\", \"15\", \"16\", \"17\", \"18\", \"19\", \"20\", \"21\", \"22\", \"23\", \"24\", \"25\", \"26\", \"28\", \"29\", \"30\", \"31\", \"32\", \"33\", \"34\", \"35\", \"38\", \"39\"], \"mode\": \"markers\", \"name\": \"recall_score_macro\", \"stepped\": false, \"type\": \"scatter\", \"data\": [0.9182266603884097, 0.9455679429903644, 0.9237439418648721, 0.917369261998553, 0.9228162001998323, 0.9221084607168697, 0.9382522423713435, 0.9362826306662226, 0.9426486970702743, 0.9230713740195009, 0.9370212350556429, 0.6149760832864378, 0.9098378659285886, 0.8276636414273082, 0.9177604567431925, 0.5, 0.5000175858187957, 0.9234363694830774, 0.9372322648811917, 0.5002813731007316, 0.5, 0.9279559249135783, 0.9280614398263526, 0.9181914887508182, 0.9181914887508182, 0.6508820185361708, 0.9263028579467802, 0.5, 0.9481706441721314, 0.8109886962663512, 0.9521669317698942, 0.9568095879319651, 0.9282548838331055, 0.5, 0.5, 0.937984148358274, 0.9478013419774212]}, {\"categories\": [\"0\", \"1\", \"2\", \"3\", \"4\", \"5\", \"6\", \"7\", \"8\", \"9\", \"10\", \"11\", \"12\", \"13\", \"14\", \"15\", \"16\", \"17\", \"18\", \"19\", \"20\", \"21\", \"22\", \"23\", \"24\", \"25\", \"26\", \"28\", \"29\", \"30\", \"31\", \"32\", \"33\", \"34\", \"35\", \"38\", \"39\"], \"mode\": \"lines\", \"name\": \"recall_score_macro_max\", \"stepped\": true, \"type\": \"scatter\", \"data\": [0.9182266603884097, 0.9455679429903644, 0.9455679429903644, 0.9455679429903644, 0.9455679429903644, 0.9455679429903644, 0.9455679429903644, 0.9455679429903644, 0.9455679429903644, 0.9455679429903644, 0.9455679429903644, 0.9455679429903644, 0.9455679429903644, 0.9455679429903644, 0.9455679429903644, 0.9455679429903644, 0.9455679429903644, 0.9455679429903644, 0.9455679429903644, 0.9455679429903644, 0.9455679429903644, 0.9455679429903644, 0.9455679429903644, 0.9455679429903644, 0.9455679429903644, 0.9455679429903644, 0.9455679429903644, 0.9455679429903644, 0.9481706441721314, 0.9481706441721314, 0.9521669317698942, 0.9568095879319651, 0.9568095879319651, 0.9568095879319651, 0.9568095879319651, 0.9568095879319651, 0.9568095879319651]}], \"matthews_correlation\": [{\"categories\": [\"0\", \"1\", \"2\", \"3\", \"4\", \"5\", \"6\", \"7\", \"8\", \"9\", \"10\", \"11\", \"12\", \"13\", \"14\", \"15\", \"16\", \"17\", \"18\", \"19\", \"20\", \"21\", \"22\", \"23\", \"24\", \"25\", \"26\", \"28\", \"29\", \"30\", \"31\", \"32\", \"33\", \"34\", \"35\", \"38\", \"39\"], \"mode\": \"markers\", \"name\": \"matthews_correlation\", \"stepped\": false, \"type\": \"scatter\", \"data\": [0.8364533207768194, 0.4056969911108376, 0.15828989453286738, 0.2267667081465707, 0.13371958384010685, 0.15320775470217715, 0.24251232742717965, 0.2235258925822607, 0.31025936376895874, 0.1966917159463028, 0.23013291320918214, 0.022660463636603026, 0.11318031820554614, 0.060189955014081274, 0.1698131361340476, 0.0, 0.0002459939025048241, 0.32600976470368925, 0.2321260206867425, 0.0009842348352119435, 0.0, 0.6831179067462474, 0.7114969744332836, 0.8198481341194773, 0.8198481341194773, 0.02677282651526333, 0.4573850815670046, 0.0, 0.661856056808455, 0.07562114919528316, 0.30253336854206175, 0.4777820267406696, 0.7741743226122728, 0.0, 0.0, 0.6540985046750304, 0.595697770062917]}, {\"categories\": [\"0\", \"1\", \"2\", \"3\", \"4\", \"5\", \"6\", \"7\", \"8\", \"9\", \"10\", \"11\", \"12\", \"13\", \"14\", \"15\", \"16\", \"17\", \"18\", \"19\", \"20\", \"21\", \"22\", \"23\", \"24\", \"25\", \"26\", \"28\", \"29\", \"30\", \"31\", \"32\", \"33\", \"34\", \"35\", \"38\", \"39\"], \"mode\": \"lines\", \"name\": \"matthews_correlation_max\", \"stepped\": true, \"type\": \"scatter\", \"data\": [0.8364533207768194, 0.8364533207768194, 0.8364533207768194, 0.8364533207768194, 0.8364533207768194, 0.8364533207768194, 0.8364533207768194, 0.8364533207768194, 0.8364533207768194, 0.8364533207768194, 0.8364533207768194, 0.8364533207768194, 0.8364533207768194, 0.8364533207768194, 0.8364533207768194, 0.8364533207768194, 0.8364533207768194, 0.8364533207768194, 0.8364533207768194, 0.8364533207768194, 0.8364533207768194, 0.8364533207768194, 0.8364533207768194, 0.8364533207768194, 0.8364533207768194, 0.8364533207768194, 0.8364533207768194, 0.8364533207768194, 0.8364533207768194, 0.8364533207768194, 0.8364533207768194, 0.8364533207768194, 0.8364533207768194, 0.8364533207768194, 0.8364533207768194, 0.8364533207768194, 0.8364533207768194]}], \"balanced_accuracy\": [{\"categories\": [\"0\", \"1\", \"2\", \"3\", \"4\", \"5\", \"6\", \"7\", \"8\", \"9\", \"10\", \"11\", \"12\", \"13\", \"14\", \"15\", \"16\", \"17\", \"18\", \"19\", \"20\", \"21\", \"22\", \"23\", \"24\", \"25\", \"26\", \"28\", \"29\", \"30\", \"31\", \"32\", \"33\", \"34\", \"35\", \"38\", \"39\"], \"mode\": \"markers\", \"name\": \"balanced_accuracy\", \"stepped\": false, \"type\": \"scatter\", \"data\": [0.9182266603884097, 0.9455679429903644, 0.9237439418648721, 0.917369261998553, 0.9228162001998323, 0.9221084607168697, 0.9382522423713435, 0.9362826306662226, 0.9426486970702743, 0.9230713740195009, 0.9370212350556429, 0.6149760832864378, 0.9098378659285886, 0.8276636414273082, 0.9177604567431925, 0.5, 0.5000175858187957, 0.9234363694830774, 0.9372322648811917, 0.5002813731007316, 0.5, 0.9279559249135783, 0.9280614398263526, 0.9181914887508182, 0.9181914887508182, 0.6508820185361708, 0.9263028579467802, 0.5, 0.9481706441721314, 0.8109886962663512, 0.9521669317698942, 0.9568095879319651, 0.9282548838331055, 0.5, 0.5, 0.937984148358274, 0.9478013419774212]}, {\"categories\": [\"0\", \"1\", \"2\", \"3\", \"4\", \"5\", \"6\", \"7\", \"8\", \"9\", \"10\", \"11\", \"12\", \"13\", \"14\", \"15\", \"16\", \"17\", \"18\", \"19\", \"20\", \"21\", \"22\", \"23\", \"24\", \"25\", \"26\", \"28\", \"29\", \"30\", \"31\", \"32\", \"33\", \"34\", \"35\", \"38\", \"39\"], \"mode\": \"lines\", \"name\": \"balanced_accuracy_max\", \"stepped\": true, \"type\": \"scatter\", \"data\": [0.9182266603884097, 0.9455679429903644, 0.9455679429903644, 0.9455679429903644, 0.9455679429903644, 0.9455679429903644, 0.9455679429903644, 0.9455679429903644, 0.9455679429903644, 0.9455679429903644, 0.9455679429903644, 0.9455679429903644, 0.9455679429903644, 0.9455679429903644, 0.9455679429903644, 0.9455679429903644, 0.9455679429903644, 0.9455679429903644, 0.9455679429903644, 0.9455679429903644, 0.9455679429903644, 0.9455679429903644, 0.9455679429903644, 0.9455679429903644, 0.9455679429903644, 0.9455679429903644, 0.9455679429903644, 0.9455679429903644, 0.9481706441721314, 0.9481706441721314, 0.9521669317698942, 0.9568095879319651, 0.9568095879319651, 0.9568095879319651, 0.9568095879319651, 0.9568095879319651, 0.9568095879319651]}], \"recall_score_micro\": [{\"categories\": [\"0\", \"1\", \"2\", \"3\", \"4\", \"5\", \"6\", \"7\", \"8\", \"9\", \"10\", \"11\", \"12\", \"13\", \"14\", \"15\", \"16\", \"17\", \"18\", \"19\", \"20\", \"21\", \"22\", \"23\", \"24\", \"25\", \"26\", \"28\", \"29\", \"30\", \"31\", \"32\", \"33\", \"34\", \"35\", \"38\", \"39\"], \"mode\": \"markers\", \"name\": \"recall_score_micro\", \"stepped\": false, \"type\": \"scatter\", \"data\": [0.9994382219725431, 0.9930128857835048, 0.9494399775288789, 0.9773884343948598, 0.9272497454443314, 0.9461746427442856, 0.9784066570696254, 0.974474210877427, 0.9871844387486395, 0.9684350970822654, 0.9759488781995014, 0.23127699167866297, 0.9013377339278817, 0.7169340964151539, 0.9578315368140163, 0.0017204452090867595, 0.0017555563358028158, 0.9895017731118991, 0.9763702117200941, 0.002282223236543661, 0.0017204452090867595, 0.9985253326779256, 0.998735999438222, 0.9993679997191109, 0.9993679997191109, 0.32330325480144656, 0.9952248867666164, 0.0017204452090867595, 0.9982093325374811, 0.8666830518591342, 0.9858502159334293, 0.9951195533864682, 0.9991222218320986, 0.0017204452090867595, 0.0017204452090867595, 0.9982093325374811, 0.997471998876444]}, {\"categories\": [\"0\", \"1\", \"2\", \"3\", \"4\", \"5\", \"6\", \"7\", \"8\", \"9\", \"10\", \"11\", \"12\", \"13\", \"14\", \"15\", \"16\", \"17\", \"18\", \"19\", \"20\", \"21\", \"22\", \"23\", \"24\", \"25\", \"26\", \"28\", \"29\", \"30\", \"31\", \"32\", \"33\", \"34\", \"35\", \"38\", \"39\"], \"mode\": \"lines\", \"name\": \"recall_score_micro_max\", \"stepped\": true, \"type\": \"scatter\", \"data\": [0.9994382219725431, 0.9994382219725431, 0.9994382219725431, 0.9994382219725431, 0.9994382219725431, 0.9994382219725431, 0.9994382219725431, 0.9994382219725431, 0.9994382219725431, 0.9994382219725431, 0.9994382219725431, 0.9994382219725431, 0.9994382219725431, 0.9994382219725431, 0.9994382219725431, 0.9994382219725431, 0.9994382219725431, 0.9994382219725431, 0.9994382219725431, 0.9994382219725431, 0.9994382219725431, 0.9994382219725431, 0.9994382219725431, 0.9994382219725431, 0.9994382219725431, 0.9994382219725431, 0.9994382219725431, 0.9994382219725431, 0.9994382219725431, 0.9994382219725431, 0.9994382219725431, 0.9994382219725431, 0.9994382219725431, 0.9994382219725431, 0.9994382219725431, 0.9994382219725431, 0.9994382219725431]}], \"precision_score_micro\": [{\"categories\": [\"0\", \"1\", \"2\", \"3\", \"4\", \"5\", \"6\", \"7\", \"8\", \"9\", \"10\", \"11\", \"12\", \"13\", \"14\", \"15\", \"16\", \"17\", \"18\", \"19\", \"20\", \"21\", \"22\", \"23\", \"24\", \"25\", \"26\", \"28\", \"29\", \"30\", \"31\", \"32\", \"33\", \"34\", \"35\", \"38\", \"39\"], \"mode\": \"markers\", \"name\": \"precision_score_micro\", \"stepped\": false, \"type\": \"scatter\", \"data\": [0.9994382219725431, 0.9930128857835048, 0.9494399775288789, 0.9773884343948598, 0.9272497454443314, 0.9461746427442856, 0.9784066570696254, 0.974474210877427, 0.9871844387486395, 0.9684350970822654, 0.9759488781995014, 0.23127699167866297, 0.9013377339278817, 0.7169340964151539, 0.9578315368140163, 0.0017204452090867595, 0.0017555563358028158, 0.9895017731118991, 0.9763702117200941, 0.002282223236543661, 0.0017204452090867595, 0.9985253326779256, 0.998735999438222, 0.9993679997191109, 0.9993679997191109, 0.32330325480144656, 0.9952248867666164, 0.0017204452090867595, 0.9982093325374811, 0.8666830518591342, 0.9858502159334293, 0.9951195533864682, 0.9991222218320986, 0.0017204452090867595, 0.0017204452090867595, 0.9982093325374811, 0.997471998876444]}, {\"categories\": [\"0\", \"1\", \"2\", \"3\", \"4\", \"5\", \"6\", \"7\", \"8\", \"9\", \"10\", \"11\", \"12\", \"13\", \"14\", \"15\", \"16\", \"17\", \"18\", \"19\", \"20\", \"21\", \"22\", \"23\", \"24\", \"25\", \"26\", \"28\", \"29\", \"30\", \"31\", \"32\", \"33\", \"34\", \"35\", \"38\", \"39\"], \"mode\": \"lines\", \"name\": \"precision_score_micro_max\", \"stepped\": true, \"type\": \"scatter\", \"data\": [0.9994382219725431, 0.9994382219725431, 0.9994382219725431, 0.9994382219725431, 0.9994382219725431, 0.9994382219725431, 0.9994382219725431, 0.9994382219725431, 0.9994382219725431, 0.9994382219725431, 0.9994382219725431, 0.9994382219725431, 0.9994382219725431, 0.9994382219725431, 0.9994382219725431, 0.9994382219725431, 0.9994382219725431, 0.9994382219725431, 0.9994382219725431, 0.9994382219725431, 0.9994382219725431, 0.9994382219725431, 0.9994382219725431, 0.9994382219725431, 0.9994382219725431, 0.9994382219725431, 0.9994382219725431, 0.9994382219725431, 0.9994382219725431, 0.9994382219725431, 0.9994382219725431, 0.9994382219725431, 0.9994382219725431, 0.9994382219725431, 0.9994382219725431, 0.9994382219725431, 0.9994382219725431]}], \"f1_score_micro\": [{\"categories\": [\"0\", \"1\", \"2\", \"3\", \"4\", \"5\", \"6\", \"7\", \"8\", \"9\", \"10\", \"11\", \"12\", \"13\", \"14\", \"15\", \"16\", \"17\", \"18\", \"19\", \"20\", \"21\", \"22\", \"23\", \"24\", \"25\", \"26\", \"28\", \"29\", \"30\", \"31\", \"32\", \"33\", \"34\", \"35\", \"38\", \"39\"], \"mode\": \"markers\", \"name\": \"f1_score_micro\", \"stepped\": false, \"type\": \"scatter\", \"data\": [0.9994382219725431, 0.9930128857835048, 0.9494399775288789, 0.9773884343948598, 0.9272497454443314, 0.9461746427442856, 0.9784066570696254, 0.974474210877427, 0.9871844387486395, 0.9684350970822654, 0.9759488781995014, 0.23127699167866297, 0.9013377339278817, 0.7169340964151539, 0.9578315368140163, 0.0017204452090867595, 0.0017555563358028158, 0.9895017731118991, 0.9763702117200941, 0.002282223236543661, 0.0017204452090867595, 0.9985253326779256, 0.998735999438222, 0.9993679997191109, 0.9993679997191109, 0.32330325480144656, 0.9952248867666164, 0.0017204452090867595, 0.9982093325374811, 0.8666830518591342, 0.9858502159334293, 0.9951195533864682, 0.9991222218320986, 0.0017204452090867595, 0.0017204452090867595, 0.9982093325374811, 0.997471998876444]}, {\"categories\": [\"0\", \"1\", \"2\", \"3\", \"4\", \"5\", \"6\", \"7\", \"8\", \"9\", \"10\", \"11\", \"12\", \"13\", \"14\", \"15\", \"16\", \"17\", \"18\", \"19\", \"20\", \"21\", \"22\", \"23\", \"24\", \"25\", \"26\", \"28\", \"29\", \"30\", \"31\", \"32\", \"33\", \"34\", \"35\", \"38\", \"39\"], \"mode\": \"lines\", \"name\": \"f1_score_micro_max\", \"stepped\": true, \"type\": \"scatter\", \"data\": [0.9994382219725431, 0.9994382219725431, 0.9994382219725431, 0.9994382219725431, 0.9994382219725431, 0.9994382219725431, 0.9994382219725431, 0.9994382219725431, 0.9994382219725431, 0.9994382219725431, 0.9994382219725431, 0.9994382219725431, 0.9994382219725431, 0.9994382219725431, 0.9994382219725431, 0.9994382219725431, 0.9994382219725431, 0.9994382219725431, 0.9994382219725431, 0.9994382219725431, 0.9994382219725431, 0.9994382219725431, 0.9994382219725431, 0.9994382219725431, 0.9994382219725431, 0.9994382219725431, 0.9994382219725431, 0.9994382219725431, 0.9994382219725431, 0.9994382219725431, 0.9994382219725431, 0.9994382219725431, 0.9994382219725431, 0.9994382219725431, 0.9994382219725431, 0.9994382219725431, 0.9994382219725431]}], \"precision_score_macro\": [{\"categories\": [\"0\", \"1\", \"2\", \"3\", \"4\", \"5\", \"6\", \"7\", \"8\", \"9\", \"10\", \"11\", \"12\", \"13\", \"14\", \"15\", \"16\", \"17\", \"18\", \"19\", \"20\", \"21\", \"22\", \"23\", \"24\", \"25\", \"26\", \"28\", \"29\", \"30\", \"31\", \"32\", \"33\", \"34\", \"35\", \"38\", \"39\"], \"mode\": \"markers\", \"name\": \"precision_score_macro\", \"stepped\": false, \"type\": \"scatter\", \"data\": [0.9182266603884097, 0.5923484572811528, 0.5147823297490447, 0.5308019448278215, 0.5105725177357918, 0.5139020052221998, 0.5335493029287882, 0.5286304227711286, 0.5543664046926116, 0.5228611727817573, 0.5302966729610986, 0.5011165291892631, 0.5078139341761924, 0.5027641384537022, 0.5172566004861292, 0.0008602226045433798, 0.5008602528089887, 0.5627499043196869, 0.5308088479555045, 0.5008607061303355, 0.0008602226045433798, 0.7726040506458758, 0.7956514518295978, 0.9018200878663107, 0.9018200878663107, 0.5011876568304336, 0.6226833863181443, 0.0008602226045433798, 0.7443563883703365, 0.5045970788281622, 0.5506043413674402, 0.6249293311190418, 0.8498768516237993, 0.0008602226045433798, 0.0008602226045433798, 0.7442125219724451, 0.6981100769433515]}, {\"categories\": [\"0\", \"1\", \"2\", \"3\", \"4\", \"5\", \"6\", \"7\", \"8\", \"9\", \"10\", \"11\", \"12\", \"13\", \"14\", \"15\", \"16\", \"17\", \"18\", \"19\", \"20\", \"21\", \"22\", \"23\", \"24\", \"25\", \"26\", \"28\", \"29\", \"30\", \"31\", \"32\", \"33\", \"34\", \"35\", \"38\", \"39\"], \"mode\": \"lines\", \"name\": \"precision_score_macro_max\", \"stepped\": true, \"type\": \"scatter\", \"data\": [0.9182266603884097, 0.9182266603884097, 0.9182266603884097, 0.9182266603884097, 0.9182266603884097, 0.9182266603884097, 0.9182266603884097, 0.9182266603884097, 0.9182266603884097, 0.9182266603884097, 0.9182266603884097, 0.9182266603884097, 0.9182266603884097, 0.9182266603884097, 0.9182266603884097, 0.9182266603884097, 0.9182266603884097, 0.9182266603884097, 0.9182266603884097, 0.9182266603884097, 0.9182266603884097, 0.9182266603884097, 0.9182266603884097, 0.9182266603884097, 0.9182266603884097, 0.9182266603884097, 0.9182266603884097, 0.9182266603884097, 0.9182266603884097, 0.9182266603884097, 0.9182266603884097, 0.9182266603884097, 0.9182266603884097, 0.9182266603884097, 0.9182266603884097, 0.9182266603884097, 0.9182266603884097]}], \"average_precision_score_macro\": [{\"categories\": [\"0\", \"1\", \"2\", \"3\", \"4\", \"5\", \"6\", \"7\", \"8\", \"9\", \"10\", \"11\", \"12\", \"13\", \"14\", \"15\", \"16\", \"17\", \"18\", \"19\", \"20\", \"21\", \"22\", \"23\", \"24\", \"25\", \"26\", \"28\", \"29\", \"30\", \"31\", \"32\", \"33\", \"34\", \"35\", \"38\", \"39\"], \"mode\": \"markers\", \"name\": \"average_precision_score_macro\", \"stepped\": false, \"type\": \"scatter\", \"data\": [0.9230587466456577, 0.900491774100895, 0.8511296881980674, 0.8425371463952158, 0.796853237586568, 0.8148468576713179, 0.8502453691758676, 0.8547784558985104, 0.8684372038498219, 0.7579341120599903, 0.8374475598798234, 0.8333578662422219, 0.5326409274876113, 0.8349544047744908, 0.8456242221959016, 0.8415778691437568, 0.8042867189045931, 0.8566333408359506, 0.8406513298215335, 0.7510553261485122, 0.7842137825057403, 0.9095903800608298, 0.917085096495694, 0.9381270125091334, 0.9360090233702868, 0.8315731833299677, 0.8524463742384478, 0.8276439477306263, 0.9206419720264575, 0.6147727773170489, 0.8744257313644114, 0.8669283650593214, 0.9252129132586395, 0.8095797962796382, 0.5008281734981401, 0.9303727972285858, 0.935647749829412]}, {\"categories\": [\"0\", \"1\", \"2\", \"3\", \"4\", \"5\", \"6\", \"7\", \"8\", \"9\", \"10\", \"11\", \"12\", \"13\", \"14\", \"15\", \"16\", \"17\", \"18\", \"19\", \"20\", \"21\", \"22\", \"23\", \"24\", \"25\", \"26\", \"28\", \"29\", \"30\", \"31\", \"32\", \"33\", \"34\", \"35\", \"38\", \"39\"], \"mode\": \"lines\", \"name\": \"average_precision_score_macro_max\", \"stepped\": true, \"type\": \"scatter\", \"data\": [0.9230587466456577, 0.9230587466456577, 0.9230587466456577, 0.9230587466456577, 0.9230587466456577, 0.9230587466456577, 0.9230587466456577, 0.9230587466456577, 0.9230587466456577, 0.9230587466456577, 0.9230587466456577, 0.9230587466456577, 0.9230587466456577, 0.9230587466456577, 0.9230587466456577, 0.9230587466456577, 0.9230587466456577, 0.9230587466456577, 0.9230587466456577, 0.9230587466456577, 0.9230587466456577, 0.9230587466456577, 0.9230587466456577, 0.9381270125091334, 0.9381270125091334, 0.9381270125091334, 0.9381270125091334, 0.9381270125091334, 0.9381270125091334, 0.9381270125091334, 0.9381270125091334, 0.9381270125091334, 0.9381270125091334, 0.9381270125091334, 0.9381270125091334, 0.9381270125091334, 0.9381270125091334]}], \"accuracy\": [{\"categories\": [\"0\", \"1\", \"2\", \"3\", \"4\", \"5\", \"6\", \"7\", \"8\", \"9\", \"10\", \"11\", \"12\", \"13\", \"14\", \"15\", \"16\", \"17\", \"18\", \"19\", \"20\", \"21\", \"22\", \"23\", \"24\", \"25\", \"26\", \"28\", \"29\", \"30\", \"31\", \"32\", \"33\", \"34\", \"35\", \"38\", \"39\"], \"mode\": \"markers\", \"name\": \"accuracy\", \"stepped\": false, \"type\": \"scatter\", \"data\": [0.9994382219725431, 0.9930128857835048, 0.9494399775288789, 0.9773884343948598, 0.9272497454443314, 0.9461746427442856, 0.9784066570696254, 0.974474210877427, 0.9871844387486395, 0.9684350970822654, 0.9759488781995014, 0.23127699167866297, 0.9013377339278817, 0.7169340964151539, 0.9578315368140163, 0.0017204452090867595, 0.0017555563358028158, 0.9895017731118991, 0.9763702117200941, 0.002282223236543661, 0.0017204452090867595, 0.9985253326779256, 0.998735999438222, 0.9993679997191109, 0.9993679997191109, 0.32330325480144656, 0.9952248867666164, 0.0017204452090867595, 0.9982093325374811, 0.8666830518591342, 0.9858502159334293, 0.9951195533864682, 0.9991222218320986, 0.0017204452090867595, 0.0017204452090867595, 0.9982093325374811, 0.997471998876444]}, {\"categories\": [\"0\", \"1\", \"2\", \"3\", \"4\", \"5\", \"6\", \"7\", \"8\", \"9\", \"10\", \"11\", \"12\", \"13\", \"14\", \"15\", \"16\", \"17\", \"18\", \"19\", \"20\", \"21\", \"22\", \"23\", \"24\", \"25\", \"26\", \"28\", \"29\", \"30\", \"31\", \"32\", \"33\", \"34\", \"35\", \"38\", \"39\"], \"mode\": \"lines\", \"name\": \"accuracy_max\", \"stepped\": true, \"type\": \"scatter\", \"data\": [0.9994382219725431, 0.9994382219725431, 0.9994382219725431, 0.9994382219725431, 0.9994382219725431, 0.9994382219725431, 0.9994382219725431, 0.9994382219725431, 0.9994382219725431, 0.9994382219725431, 0.9994382219725431, 0.9994382219725431, 0.9994382219725431, 0.9994382219725431, 0.9994382219725431, 0.9994382219725431, 0.9994382219725431, 0.9994382219725431, 0.9994382219725431, 0.9994382219725431, 0.9994382219725431, 0.9994382219725431, 0.9994382219725431, 0.9994382219725431, 0.9994382219725431, 0.9994382219725431, 0.9994382219725431, 0.9994382219725431, 0.9994382219725431, 0.9994382219725431, 0.9994382219725431, 0.9994382219725431, 0.9994382219725431, 0.9994382219725431, 0.9994382219725431, 0.9994382219725431, 0.9994382219725431]}]}, \"metricName\": null, \"primaryMetricName\": \"AUC_weighted\", \"showLegend\": false}, \"run_metrics\": [{\"name\": \"experiment_status\", \"run_id\": \"AutoML_ca8f21f0-f9ec-4565-b576-7a7bca6608f7\", \"categories\": [0, 1, 2, 3, 4, 5, 6, 7, 8, 9, 10, 11, 12, 13], \"series\": [{\"data\": [\"DatasetEvaluation\", \"FeaturesGeneration\", \"DatasetFeaturization\", \"DatasetFeaturizationCompleted\", \"DatasetBalancing\", \"ModelSelection\", \"BestRunExplainModel\", \"ModelExplanationDataSetSetup\", \"PickSurrogateModel\", \"EngineeredFeatureExplanations\", \"EngineeredFeatureExplanations\", \"RawFeaturesExplanations\", \"RawFeaturesExplanations\", \"BestRunExplainModel\"]}]}, {\"name\": \"experiment_status_description\", \"run_id\": \"AutoML_ca8f21f0-f9ec-4565-b576-7a7bca6608f7\", \"categories\": [0, 1, 2, 3, 4, 5, 6, 7, 8, 9, 10, 11, 12, 13], \"series\": [{\"data\": [\"Gathering dataset statistics.\", \"Generating features for the dataset.\", \"Beginning to fit featurizers and featurize the dataset.\", \"Completed fit featurizers and featurizing the dataset.\", \"Performing class balancing sweeping\", \"Beginning model selection.\", \"Best run model explanations started\", \"Model explanations data setup completed\", \"Choosing LightGBM as the surrogate model for explanations\", \"Computation of engineered features started\", \"Computation of engineered features completed\", \"Computation of raw features started\", \"Computation of raw features completed\", \"Best run model explanations completed\"]}]}, {\"name\": \"balanced_accuracy\", \"run_id\": \"AutoML_ca8f21f0-f9ec-4565-b576-7a7bca6608f7\", \"categories\": [0], \"series\": [{\"data\": [0.937984148358274]}]}, {\"name\": \"f1_score_weighted\", \"run_id\": \"AutoML_ca8f21f0-f9ec-4565-b576-7a7bca6608f7\", \"categories\": [0], \"series\": [{\"data\": [0.998463594079833]}]}, {\"name\": \"AUC_macro\", \"run_id\": \"AutoML_ca8f21f0-f9ec-4565-b576-7a7bca6608f7\", \"categories\": [0], \"series\": [{\"data\": [0.9874595167273437]}]}, {\"name\": \"accuracy\", \"run_id\": \"AutoML_ca8f21f0-f9ec-4565-b576-7a7bca6608f7\", \"categories\": [0], \"series\": [{\"data\": [0.9982093325374811]}]}, {\"name\": \"average_precision_score_macro\", \"run_id\": \"AutoML_ca8f21f0-f9ec-4565-b576-7a7bca6608f7\", \"categories\": [0], \"series\": [{\"data\": [0.9303727972285858]}]}, {\"name\": \"precision_score_micro\", \"run_id\": \"AutoML_ca8f21f0-f9ec-4565-b576-7a7bca6608f7\", \"categories\": [0], \"series\": [{\"data\": [0.9982093325374811]}]}, {\"name\": \"AUC_micro\", \"run_id\": \"AutoML_ca8f21f0-f9ec-4565-b576-7a7bca6608f7\", \"categories\": [0], \"series\": [{\"data\": [0.9995744219792393]}]}, {\"name\": \"recall_score_micro\", \"run_id\": \"AutoML_ca8f21f0-f9ec-4565-b576-7a7bca6608f7\", \"categories\": [0], \"series\": [{\"data\": [0.9982093325374811]}]}, {\"name\": \"norm_macro_recall\", \"run_id\": \"AutoML_ca8f21f0-f9ec-4565-b576-7a7bca6608f7\", \"categories\": [0], \"series\": [{\"data\": [0.8759682967165481]}]}, {\"name\": \"precision_score_weighted\", \"run_id\": \"AutoML_ca8f21f0-f9ec-4565-b576-7a7bca6608f7\", \"categories\": [0], \"series\": [{\"data\": [0.9989092707541944]}]}, {\"name\": \"f1_score_micro\", \"run_id\": \"AutoML_ca8f21f0-f9ec-4565-b576-7a7bca6608f7\", \"categories\": [0], \"series\": [{\"data\": [0.9982093325374811]}]}, {\"name\": \"f1_score_macro\", \"run_id\": \"AutoML_ca8f21f0-f9ec-4565-b576-7a7bca6608f7\", \"categories\": [0], \"series\": [{\"data\": [0.8134198669882242]}]}, {\"name\": \"precision_score_macro\", \"run_id\": \"AutoML_ca8f21f0-f9ec-4565-b576-7a7bca6608f7\", \"categories\": [0], \"series\": [{\"data\": [0.7442125219724451]}]}, {\"name\": \"weighted_accuracy\", \"run_id\": \"AutoML_ca8f21f0-f9ec-4565-b576-7a7bca6608f7\", \"categories\": [0], \"series\": [{\"data\": [0.9984169173194039]}]}, {\"name\": \"average_precision_score_weighted\", \"run_id\": \"AutoML_ca8f21f0-f9ec-4565-b576-7a7bca6608f7\", \"categories\": [0], \"series\": [{\"data\": [0.9997369517560736]}]}, {\"name\": \"recall_score_macro\", \"run_id\": \"AutoML_ca8f21f0-f9ec-4565-b576-7a7bca6608f7\", \"categories\": [0], \"series\": [{\"data\": [0.937984148358274]}]}, {\"name\": \"AUC_weighted\", \"run_id\": \"AutoML_ca8f21f0-f9ec-4565-b576-7a7bca6608f7\", \"categories\": [0], \"series\": [{\"data\": [0.9874595167273436]}]}, {\"name\": \"matthews_correlation\", \"run_id\": \"AutoML_ca8f21f0-f9ec-4565-b576-7a7bca6608f7\", \"categories\": [0], \"series\": [{\"data\": [0.6540985046750304]}]}, {\"name\": \"average_precision_score_micro\", \"run_id\": \"AutoML_ca8f21f0-f9ec-4565-b576-7a7bca6608f7\", \"categories\": [0], \"series\": [{\"data\": [0.9991370358226974]}]}, {\"name\": \"recall_score_weighted\", \"run_id\": \"AutoML_ca8f21f0-f9ec-4565-b576-7a7bca6608f7\", \"categories\": [0], \"series\": [{\"data\": [0.9982093325374811]}]}, {\"name\": \"log_loss\", \"run_id\": \"AutoML_ca8f21f0-f9ec-4565-b576-7a7bca6608f7\", \"categories\": [0], \"series\": [{\"data\": [0.14744534491017808]}]}], \"run_logs\": \"\\nRun is completed.\", \"graph\": {}, \"widget_settings\": {\"childWidgetDisplay\": \"popup\", \"send_telemetry\": false, \"log_level\": \"INFO\", \"sdk_version\": \"1.26.0\"}, \"loading\": false}"
          },
          "metadata": {}
        }
      ],
      "execution_count": 9,
      "metadata": {
        "gather": {
          "logged": 1618744283504
        },
        "jupyter": {
          "outputs_hidden": false,
          "source_hidden": false
        },
        "nteract": {
          "transient": {
            "deleting": false
          }
        }
      }
    },
    {
      "cell_type": "markdown",
      "source": [
        "## Best Model\n",
        "\n",
        "TODO: In the cell below, get the best model from the automl experiments and display all the properties of the model.\n",
        "\n"
      ],
      "metadata": {}
    },
    {
      "cell_type": "code",
      "source": [
        "# Retrieve and save your best automl model.\n",
        "best_automl_run, best_model = remote_run.get_output()\n",
        "best_automl_model_name = best_automl_run.properties['model_name']\n",
        "print(('Best AutoML model name:{}\\n\\n' \\\n",
        "       'Best AutoML model run:{}\\n\\n' \\\n",
        "       'Best AutoML model specification:{}').format(best_automl_model_name, str(best_automl_run), str(best_model)))"
      ],
      "outputs": [
        {
          "output_type": "stream",
          "name": "stdout",
          "text": [
            "Best AutoML model name:AutoMLca8f21f0f38\n",
            "\n",
            "Best AutoML model run:Run(Experiment: fraud_detection,\n",
            "Id: AutoML_ca8f21f0-f9ec-4565-b576-7a7bca6608f7_38,\n",
            "Type: azureml.scriptrun,\n",
            "Status: Completed)\n",
            "\n",
            "Best AutoML model specification:Pipeline(memory=None,\n",
            "         steps=[('datatransformer',\n",
            "                 DataTransformer(enable_dnn=None, enable_feature_sweeping=None,\n",
            "                                 feature_sweeping_config=None,\n",
            "                                 feature_sweeping_timeout=None,\n",
            "                                 featurization_config=None, force_text_dnn=None,\n",
            "                                 is_cross_validation=None,\n",
            "                                 is_onnx_compatible=None, logger=None,\n",
            "                                 observer=None, task=None, working_dir=None)),\n",
            "                ('prefittedsoftvotingclassifier',...\n",
            "                                                                                                  min_samples_split=0.10368421052631578,\n",
            "                                                                                                  min_weight_fraction_leaf=0.0,\n",
            "                                                                                                  n_estimators=25,\n",
            "                                                                                                  n_jobs=1,\n",
            "                                                                                                  oob_score=True,\n",
            "                                                                                                  random_state=None,\n",
            "                                                                                                  verbose=0,\n",
            "                                                                                                  warm_start=False))],\n",
            "                                                                     verbose=False))],\n",
            "                                               flatten_transform=None,\n",
            "                                               weights=[0.13333333333333333,\n",
            "                                                        0.06666666666666667,\n",
            "                                                        0.06666666666666667,\n",
            "                                                        0.4,\n",
            "                                                        0.06666666666666667,\n",
            "                                                        0.06666666666666667,\n",
            "                                                        0.06666666666666667,\n",
            "                                                        0.06666666666666667,\n",
            "                                                        0.06666666666666667]))],\n",
            "         verbose=False)\n"
          ]
        }
      ],
      "execution_count": 13,
      "metadata": {
        "gather": {
          "logged": 1618753714119
        },
        "jupyter": {
          "outputs_hidden": false,
          "source_hidden": false
        },
        "nteract": {
          "transient": {
            "deleting": false
          }
        }
      }
    },
    {
      "cell_type": "code",
      "source": [
        "registered_model =  remote_run.register_model(model_name = 'best_automl_model')\r\n",
        "\r\n",
        "registered_model.download(target_dir='outputs', exist_ok=True)"
      ],
      "outputs": [
        {
          "output_type": "execute_result",
          "execution_count": 22,
          "data": {
            "text/plain": "'outputs/model.pkl'"
          },
          "metadata": {}
        }
      ],
      "execution_count": 22,
      "metadata": {
        "collapsed": true,
        "jupyter": {
          "source_hidden": false,
          "outputs_hidden": false
        },
        "nteract": {
          "transient": {
            "deleting": false
          }
        },
        "gather": {
          "logged": 1618759133496
        }
      }
    },
    {
      "cell_type": "markdown",
      "source": [
        "## Model Deployment\n",
        "\n",
        "Remember you have to deploy only one of the two models you trained.. Perform the steps in the rest of this notebook only if you wish to deploy this model.\n",
        "\n",
        "TODO: In the cell below, register the model, create an inference config and deploy the model as a web service.\n",
        "\n",
        "Creating a pipeline"
      ],
      "metadata": {}
    },
    {
      "cell_type": "code",
      "source": [
        "deployment_config = AciWebservice.deploy_configuration(cpu_cores=1,\r\n",
        "                                                memory_gb=4,\r\n",
        "                                                enable_app_insights=True,\r\n",
        "                                                description='predict a fraud')\r\n",
        "model = Model(ws, 'best_automl_model')\r\n",
        "\r\n",
        "env_deploy = Environment.get(workspace=ws, name='AzureML-AutoML')\r\n",
        "\r\n",
        "inference_config = InferenceConfig(entry_script='score.py', environment=env_deploy)\r\n",
        "\r\n",
        "service = Model.deploy(workspace=ws,\r\n",
        "                       name='fraud-detection3',\r\n",
        "                       models=[model],\r\n",
        "                       inference_config=inference_config,\r\n",
        "                       deployment_config=deployment_config)"
      ],
      "outputs": [],
      "execution_count": 25,
      "metadata": {
        "gather": {
          "logged": 1618759195356
        },
        "jupyter": {
          "outputs_hidden": false,
          "source_hidden": false
        },
        "nteract": {
          "transient": {
            "deleting": false
          }
        }
      }
    },
    {
      "cell_type": "code",
      "source": [
        "service.wait_for_deployment(show_output=True)"
      ],
      "outputs": [
        {
          "output_type": "stream",
          "name": "stdout",
          "text": [
            "Tips: You can try get_logs(): https://aka.ms/debugimage#dockerlog or local deployment: https://aka.ms/debugimage#debug-locally to debug if deployment takes longer than 10 minutes.\n",
            "SucceededACI service creation operation finished, operation \"Succeeded\"\n"
          ]
        }
      ],
      "execution_count": 27,
      "metadata": {
        "collapsed": true,
        "jupyter": {
          "source_hidden": false,
          "outputs_hidden": true
        },
        "nteract": {
          "transient": {
            "deleting": false
          }
        },
        "gather": {
          "logged": 1618759434063
        }
      }
    },
    {
      "cell_type": "code",
      "source": [
        "print(service.scoring_uri)\r\n",
        "print(service.swagger_uri)"
      ],
      "outputs": [
        {
          "output_type": "stream",
          "name": "stdout",
          "text": [
            "http://bb1b70be-3179-4c95-840d-22a8035a7223.southcentralus.azurecontainer.io/score\n",
            "http://bb1b70be-3179-4c95-840d-22a8035a7223.southcentralus.azurecontainer.io/swagger.json\n"
          ]
        }
      ],
      "execution_count": 29,
      "metadata": {
        "collapsed": true,
        "jupyter": {
          "source_hidden": false,
          "outputs_hidden": false
        },
        "nteract": {
          "transient": {
            "deleting": false
          }
        },
        "gather": {
          "logged": 1618760528721
        }
      }
    },
    {
      "cell_type": "markdown",
      "source": [
        "TODO: In the cell below, send a request to the web service you deployed to test it."
      ],
      "metadata": {
        "nteract": {
          "transient": {
            "deleting": false
          }
        }
      }
    },
    {
      "cell_type": "code",
      "source": [
        "import requests\r\n",
        "import json\r\n",
        "\r\n",
        "# URL for the web service, should be similar to:\r\n",
        "# 'http://8530a665-66f3-49c8-a953-b82a2d312917.eastus.azurecontainer.io/score'\r\n",
        "scoring_uri = service.scoring_uri\r\n",
        "# If the service is authenticated, set the key or token\r\n",
        "# key = ''\r\n",
        "\r\n",
        "\r\n",
        "\r\n",
        "# One set of data to score, so we get two results back\r\n",
        "data = {\r\n",
        "  \"data\": [\r\n",
        "    {\r\n",
        "      \"Time\": 472,\r\n",
        "      \"V1\": -3.0435406239976,\r\n",
        "      \"V2\": -3.15730712090228,\r\n",
        "      \"V3\": 1.08846277997285,\r\n",
        "      \"V4\": 2.2886436183814,\r\n",
        "      \"V5\": 1.35980512966107,\r\n",
        "      \"V6\": -1.06482252298131,\r\n",
        "      \"V7\": 0.325574266158614,\r\n",
        "      \"V8\": -0.0677936531906277,\r\n",
        "      \"V9\": -0.270952836226548,\r\n",
        "      \"V10\": -0.838586564582682,\r\n",
        "      \"V11\": -0.414575448285725,\r\n",
        "      \"V12\": -0.503140859566824,\r\n",
        "      \"V13\": 0.676501544635863,\r\n",
        "      \"V14\": -1.69202893305906,\r\n",
        "      \"V15\": 2.00063483909015,\r\n",
        "      \"V16\": 0.666779695901966,\r\n",
        "      \"V17\": 0.599717413841732,\r\n",
        "      \"V18\": 1.72532100745514,\r\n",
        "      \"V19\": 0.283344830149495,\r\n",
        "      \"V20\": 2.10233879259444,\r\n",
        "      \"V21\": 0.661695924845707,\r\n",
        "      \"V22\": 0.435477208966341,\r\n",
        "      \"V23\": 1.37596574254306,\r\n",
        "      \"V24\": -0.293803152734021,\r\n",
        "      \"V25\": 0.279798031841214,\r\n",
        "      \"V26\": -0.145361714815161,\r\n",
        "      \"V27\": -0.252773122530705,\r\n",
        "      \"V28\": 0.0357642251788156,\r\n",
        "      \"Amount\": 529\r\n",
        "    }\r\n",
        "  ]\r\n",
        "}\r\n",
        "# Convert to JSON string\r\n",
        "input_data = json.dumps(data)\r\n",
        "with open(\"data.json\", \"w\") as _f:\r\n",
        "    _f.write(input_data)\r\n",
        "\r\n",
        "# Set the content type\r\n",
        "headers = {'Content-Type': 'application/json'}\r\n",
        "# If authentication is enabled, set the authorization header\r\n",
        "# headers['Authorization'] = f'Bearer {key}'\r\n",
        "\r\n",
        "# Make the request and display the response\r\n",
        "resp = requests.post(scoring_uri, input_data, headers=headers)\r\n",
        "print(resp.json())"
      ],
      "outputs": [
        {
          "output_type": "stream",
          "name": "stdout",
          "text": [
            "DataErrorException:\n",
            "\tMessage: df should be a pandas dataframe or numpy array\n",
            "\tInnerException: None\n",
            "\tErrorResponse \n",
            "{\n",
            "    \"error\": {\n",
            "        \"code\": \"SystemError\",\n",
            "        \"message\": \"Encountered an internal AutoML error. Error Message/Code: df should be a pandas dataframe or numpy array. Additional Info: DataErrorException:\\n\\tMessage: df should be a pandas dataframe or numpy array\\n\\tInnerException: None\\n\\tErrorResponse \\n{\\n    \\\"error\\\": {\\n        \\\"message\\\": \\\"df should be a pandas dataframe or numpy array\\\",\\n        \\\"target\\\": \\\"utilities.check_input\\\",\\n        \\\"reference_code\\\": \\\"098d83d9-f525-4844-9666-ea28b1a41f08\\\"\\n    }\\n}\",\n",
            "        \"details_uri\": \"https://docs.microsoft.com/azure/machine-learning/resource-known-issues#automated-machine-learning\",\n",
            "        \"target\": \"utilities.check_input\",\n",
            "        \"inner_error\": {\n",
            "            \"code\": \"ClientError\",\n",
            "            \"inner_error\": {\n",
            "                \"code\": \"AutoMLInternal\"\n",
            "            }\n",
            "        },\n",
            "        \"reference_code\": \"098d83d9-f525-4844-9666-ea28b1a41f08\"\n",
            "    }\n",
            "}\n"
          ]
        }
      ],
      "execution_count": 31,
      "metadata": {
        "collapsed": true,
        "jupyter": {
          "source_hidden": false,
          "outputs_hidden": false
        },
        "nteract": {
          "transient": {
            "deleting": false
          }
        },
        "gather": {
          "logged": 1618760615266
        }
      }
    },
    {
      "cell_type": "markdown",
      "source": [
        "TODO: In the cell below, print the logs of the web service and delete the service"
      ],
      "metadata": {
        "nteract": {
          "transient": {
            "deleting": false
          }
        }
      }
    },
    {
      "cell_type": "code",
      "source": [
        "print(service.get_logs())"
      ],
      "outputs": [],
      "execution_count": null,
      "metadata": {
        "collapsed": true,
        "jupyter": {
          "source_hidden": false,
          "outputs_hidden": false
        },
        "nteract": {
          "transient": {
            "deleting": false
          }
        }
      }
    },
    {
      "cell_type": "code",
      "source": [
        "# delete service\r\n",
        "service.delete()"
      ],
      "outputs": [],
      "execution_count": null,
      "metadata": {
        "collapsed": true,
        "jupyter": {
          "source_hidden": false,
          "outputs_hidden": false
        },
        "nteract": {
          "transient": {
            "deleting": false
          }
        }
      }
    },
    {
      "cell_type": "code",
      "source": [
        "# delete compute cluster\r\n",
        "cpu_cluster.delete()"
      ],
      "outputs": [],
      "execution_count": null,
      "metadata": {
        "collapsed": true,
        "jupyter": {
          "source_hidden": false,
          "outputs_hidden": false
        },
        "nteract": {
          "transient": {
            "deleting": false
          }
        }
      }
    }
  ],
  "metadata": {
    "kernel_info": {
      "name": "python3"
    },
    "kernelspec": {
      "name": "python3",
      "language": "python",
      "display_name": "Python 3"
    },
    "language_info": {
      "name": "python",
      "version": "3.6.9",
      "mimetype": "text/x-python",
      "codemirror_mode": {
        "name": "ipython",
        "version": 3
      },
      "pygments_lexer": "ipython3",
      "nbconvert_exporter": "python",
      "file_extension": ".py"
    },
    "nteract": {
      "version": "nteract-front-end@1.0.0"
    },
    "microsoft": {
      "host": {
        "AzureML": {
          "notebookHasBeenCompleted": true
        }
      }
    }
  },
  "nbformat": 4,
  "nbformat_minor": 2
}