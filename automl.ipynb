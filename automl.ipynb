{
  "cells": [
    {
      "cell_type": "markdown",
      "source": [
        "# Automated ML\n",
        "\n",
        "Import Dependencies. In the cell below, import all the dependencies that you will need to complete the project."
      ],
      "metadata": {}
    },
    {
      "cell_type": "code",
      "source": [
        "import logging\n",
        "import os\n",
        "import csv\n",
        "import io\n",
        "import requests\n",
        "import json\n",
        "\n",
        "from matplotlib import pyplot as plt\n",
        "import numpy as np\n",
        "import pandas as pd\n",
        "from sklearn import datasets\n",
        "import pkg_resources\n",
        "\n",
        "import azureml.core\n",
        "from azureml.core.experiment import Experiment\n",
        "from azureml.core.workspace import Workspace\n",
        "from azureml.train.automl import AutoMLConfig\n",
        "from azureml.core.dataset import Dataset\n",
        "from azureml.core.webservice import AciWebservice, LocalWebservice\n",
        "from azureml.core import Environment\n",
        "from azureml.core.model import InferenceConfig\n",
        "from azureml.core.model import Model\n",
        "\n",
        "\n",
        "from azureml.widgets import RunDetails\n",
        "from azureml.pipeline.steps import AutoMLStep\n",
        "\n",
        "# Check core SDK version number\n",
        "print(\"SDK version:\", azureml.core.VERSION)"
      ],
      "outputs": [
        {
          "output_type": "stream",
          "name": "stdout",
          "text": [
            "SDK version: 1.26.0\n"
          ]
        }
      ],
      "execution_count": 1,
      "metadata": {
        "gather": {
          "logged": 1618765755839
        },
        "jupyter": {
          "outputs_hidden": false,
          "source_hidden": false
        },
        "nteract": {
          "transient": {
            "deleting": false
          }
        }
      }
    },
    {
      "cell_type": "markdown",
      "source": [
        "## Dataset\n",
        "\n",
        "### Overview\n",
        "The dataset used was Credit Card Fraud Detection dataset provided in the Kaggle website https://www.kaggle.com/mlg-ulb/creditcardfraud, where the goal is to predict whether a banking transaction would result in fraud based on several features. The dataset was upload to the Azure Blob Storage in the Notebooks section and it can be consumed as follows"
      ],
      "metadata": {}
    },
    {
      "cell_type": "code",
      "source": [
        "ws = Workspace.from_config()\n",
        "\n",
        "experiment_name = 'fraud_detection'\n",
        "\n",
        "exp=Experiment(ws, experiment_name)\n",
        "\n",
        "print('Workspace name: ' + ws.name, \n",
        "      'Azure region: ' + ws.location, \n",
        "      'Subscription id: ' + ws.subscription_id, \n",
        "      'Resource group: ' + ws.resource_group, sep = '\\n')\n",
        "\n",
        "run = exp.start_logging()\n",
        "print(exp)"
      ],
      "outputs": [
        {
          "output_type": "stream",
          "name": "stdout",
          "text": [
            "Performing interactive authentication. Please follow the instructions on the terminal.\n",
            "To sign in, use a web browser to open the page https://microsoft.com/devicelogin and enter the code F9KKXTU2N to authenticate.\n",
            "You have logged in. Now let us find all the subscriptions to which you have access...\n",
            "Interactive authentication successfully completed.\n",
            "Workspace name: quick-starts-ws-143062\n",
            "Azure region: southcentralus\n",
            "Subscription id: 1b944a9b-fdae-4f97-aeb1-b7eea0beac53\n",
            "Resource group: aml-quickstarts-143062\n",
            "Experiment(Name: fraud_detection,\n",
            "Workspace: quick-starts-ws-143062)\n"
          ]
        }
      ],
      "execution_count": 2,
      "metadata": {
        "gather": {
          "logged": 1618765791119
        },
        "jupyter": {
          "outputs_hidden": false,
          "source_hidden": false
        },
        "nteract": {
          "transient": {
            "deleting": false
          }
        }
      }
    },
    {
      "cell_type": "markdown",
      "source": [
        "It was created a Pandas dataframe to explore the dataset"
      ],
      "metadata": {
        "nteract": {
          "transient": {
            "deleting": false
          }
        }
      }
    },
    {
      "cell_type": "code",
      "source": [
        "dataset = Dataset.get_by_name(workspace=ws, name='Banking-Transactions')\n",
        "transactions_df = dataset.to_pandas_dataframe()"
      ],
      "outputs": [],
      "execution_count": 3,
      "metadata": {
        "scrolled": true,
        "gather": {
          "logged": 1618765799131
        },
        "jupyter": {
          "outputs_hidden": false
        }
      }
    },
    {
      "cell_type": "markdown",
      "source": [
        "This function is defined to explore the dataset and see the proportions of fraudalent and genuine transactions"
      ],
      "metadata": {
        "nteract": {
          "transient": {
            "deleting": false
          }
        }
      }
    },
    {
      "cell_type": "code",
      "source": [
        "# Calculate the fraction of data points that are fraudulent\n",
        "def fraudulent_percentage(transaction_df):\n",
        "    '''Calculate the fraction of all data points that have a 'Class' label of 1; fraudulent.\n",
        "       :param transaction_df: Dataframe of all transaction data points; has a column 'Class'\n",
        "       :return: A fractional percentage of fraudulent data points/all points\n",
        "    '''\n",
        "    # counts for all classes\n",
        "    counts = transactions_df['Class'].value_counts()\n",
        "    \n",
        "    # get fraudulent and valid cnts\n",
        "    fraud_cnts = counts[1]\n",
        "    valid_cnts = counts[0]\n",
        "    \n",
        "    # calculate percentage of fraudulent data\n",
        "    fraud_percentage = fraud_cnts/(fraud_cnts+valid_cnts)\n",
        "    \n",
        "    return fraud_percentage"
      ],
      "outputs": [],
      "execution_count": 4,
      "metadata": {
        "gather": {
          "logged": 1618765799300
        }
      }
    },
    {
      "cell_type": "markdown",
      "source": [
        "Here you can see the proportions of fraudalent and genuine transactions"
      ],
      "metadata": {
        "nteract": {
          "transient": {
            "deleting": false
          }
        }
      }
    },
    {
      "cell_type": "code",
      "source": [
        "# call the function to calculate the fraud percentage\n",
        "fraud_percentage = fraudulent_percentage(dataset)\n",
        "\n",
        "print('Fraudulent percentage = ', fraud_percentage)\n",
        "print('Total # of fraudulent pts: ', fraud_percentage*transactions_df.shape[0])\n",
        "print('Out of (total) pts: ', transactions_df.shape[0])"
      ],
      "outputs": [
        {
          "output_type": "stream",
          "name": "stdout",
          "text": [
            "Fraudulent percentage =  0.001727485630620034\n",
            "Total # of fraudulent pts:  492.0\n",
            "Out of (total) pts:  284807\n"
          ]
        }
      ],
      "execution_count": 5,
      "metadata": {
        "gather": {
          "logged": 1618765799502
        }
      }
    },
    {
      "cell_type": "code",
      "source": [
        "from azureml.core.compute import ComputeTarget, AmlCompute\n",
        "from azureml.core.compute_target import ComputeTargetException\n",
        "# Create compute cluster\n",
        "# Choose a name for the computer cluster:\n",
        "amlcompute_cluster_name = \"compute-cluster\"\n",
        "\n",
        "# Check if the cluster already exists:\n",
        "try:\n",
        "    aml_compute = ComputeTarget(workspace=ws, name=amlcompute_cluster_name)\n",
        "    print('The cluster already exists')\n",
        "except ComputeTargetException:\n",
        "    compute_config = AmlCompute.provisioning_configuration(vm_size='STANDARD_D2_V2', max_nodes=4)\n",
        "    aml_compute = ComputeTarget.create(ws, amlcompute_cluster_name, compute_config)\n",
        "\n",
        "aml_compute.wait_for_completion(show_output=True)"
      ],
      "outputs": [
        {
          "output_type": "stream",
          "name": "stdout",
          "text": [
            "Creating....\n",
            "SucceededProvisioning operation finished, operation \"Succeeded\"\n",
            "Succeeded\n",
            "AmlCompute wait for completion finished\n",
            "\n",
            "Minimum number of nodes requested have been provisioned\n"
          ]
        }
      ],
      "execution_count": 6,
      "metadata": {
        "gather": {
          "logged": 1618765820445
        }
      }
    },
    {
      "cell_type": "markdown",
      "source": [
        "## AutoML Configuration\n",
        "\n",
        "Automated Machine Learning was used to train the model in the Azure Machine Learning Studio. For this task the Auto ML main configuration consists in binary classification, for the primary metric was chosen AUC weighted since it works well in imbalanced datasets, and the featurization was chosen to be automatic."
      ],
      "metadata": {}
    },
    {
      "cell_type": "code",
      "source": [
        "# Set the automl settings here\n",
        "automl_settings = {\n",
        "    \"experiment_timeout_minutes\": 20,\n",
        "    \"max_concurrent_iterations\": 5,\n",
        "    \"primary_metric\" : 'AUC_weighted'}\n",
        "\n",
        "# TODO: Put your automl config here\n",
        "automl_config = AutoMLConfig(compute_target=aml_compute,\n",
        "                             task = \"classification\",\n",
        "                             training_data=dataset,\n",
        "                             label_column_name=\"Class\",   \n",
        "                             enable_early_stopping= True,\n",
        "                             featurization= 'auto',\n",
        "                             debug_log = \"automl_errors.log\",\n",
        "                             **automl_settings)"
      ],
      "outputs": [],
      "execution_count": 7,
      "metadata": {
        "gather": {
          "logged": 1618765820621
        },
        "jupyter": {
          "outputs_hidden": false,
          "source_hidden": false
        },
        "nteract": {
          "transient": {
            "deleting": false
          }
        }
      }
    },
    {
      "cell_type": "code",
      "source": [
        "# Submit the experiment\n",
        "remote_run = exp.submit(automl_config)"
      ],
      "outputs": [
        {
          "output_type": "stream",
          "name": "stdout",
          "text": [
            "Submitting remote run.\n"
          ]
        },
        {
          "output_type": "display_data",
          "data": {
            "text/plain": "<IPython.core.display.HTML object>",
            "text/html": "<table style=\"width:100%\"><tr><th>Experiment</th><th>Id</th><th>Type</th><th>Status</th><th>Details Page</th><th>Docs Page</th></tr><tr><td>fraud_detection</td><td>AutoML_ff35158a-806d-424c-9003-feef720d8671</td><td>automl</td><td>NotStarted</td><td><a href=\"https://ml.azure.com/runs/AutoML_ff35158a-806d-424c-9003-feef720d8671?wsid=/subscriptions/1b944a9b-fdae-4f97-aeb1-b7eea0beac53/resourcegroups/aml-quickstarts-143062/workspaces/quick-starts-ws-143062&amp;tid=660b3398-b80e-49d2-bc5b-ac1dc93b5254\" target=\"_blank\" rel=\"noopener\">Link to Azure Machine Learning studio</a></td><td><a href=\"https://docs.microsoft.com/en-us/python/api/overview/azure/ml/intro?view=azure-ml-py\" target=\"_blank\" rel=\"noopener\">Link to Documentation</a></td></tr></table>"
          },
          "metadata": {}
        }
      ],
      "execution_count": 8,
      "metadata": {
        "gather": {
          "logged": 1618765831423
        },
        "jupyter": {
          "outputs_hidden": false,
          "source_hidden": false
        },
        "nteract": {
          "transient": {
            "deleting": false
          }
        }
      }
    },
    {
      "cell_type": "markdown",
      "source": [
        "## Run Details\n",
        "\n",
        "Use the `RunDetails` widget to show the different experiments."
      ],
      "metadata": {}
    },
    {
      "cell_type": "code",
      "source": [
        "RunDetails(remote_run).show()"
      ],
      "outputs": [
        {
          "output_type": "display_data",
          "data": {
            "text/plain": "_AutoMLWidget(widget_settings={'childWidgetDisplay': 'popup', 'send_telemetry': False, 'log_level': 'INFO', 's…",
            "application/vnd.jupyter.widget-view+json": {
              "version_major": 2,
              "version_minor": 0,
              "model_id": "75837ffee545469d890fdfdad991e7c3"
            }
          },
          "metadata": {}
        },
        {
          "output_type": "display_data",
          "data": {
            "application/aml.mini.widget.v1": "{\"status\": \"Completed\", \"workbench_run_details_uri\": \"https://ml.azure.com/runs/AutoML_ff35158a-806d-424c-9003-feef720d8671?wsid=/subscriptions/1b944a9b-fdae-4f97-aeb1-b7eea0beac53/resourcegroups/aml-quickstarts-143062/workspaces/quick-starts-ws-143062&tid=660b3398-b80e-49d2-bc5b-ac1dc93b5254\", \"run_id\": \"AutoML_ff35158a-806d-424c-9003-feef720d8671\", \"run_properties\": {\"run_id\": \"AutoML_ff35158a-806d-424c-9003-feef720d8671\", \"created_utc\": \"2021-04-18T17:10:29.931987Z\", \"properties\": {\"num_iterations\": \"1000\", \"training_type\": \"TrainFull\", \"acquisition_function\": \"EI\", \"primary_metric\": \"AUC_weighted\", \"train_split\": \"0\", \"acquisition_parameter\": \"0\", \"num_cross_validation\": null, \"target\": \"compute-cluster\", \"AMLSettingsJsonString\": \"{\\\"path\\\":null,\\\"name\\\":\\\"fraud_detection\\\",\\\"subscription_id\\\":\\\"1b944a9b-fdae-4f97-aeb1-b7eea0beac53\\\",\\\"resource_group\\\":\\\"aml-quickstarts-143062\\\",\\\"workspace_name\\\":\\\"quick-starts-ws-143062\\\",\\\"region\\\":\\\"southcentralus\\\",\\\"compute_target\\\":\\\"compute-cluster\\\",\\\"spark_service\\\":null,\\\"azure_service\\\":\\\"remote\\\",\\\"many_models\\\":false,\\\"pipeline_fetch_max_batch_size\\\":1,\\\"enable_batch_run\\\":false,\\\"enable_run_restructure\\\":false,\\\"iterations\\\":1000,\\\"primary_metric\\\":\\\"AUC_weighted\\\",\\\"task_type\\\":\\\"classification\\\",\\\"data_script\\\":null,\\\"test_size\\\":0.0,\\\"validation_size\\\":0.0,\\\"n_cross_validations\\\":null,\\\"y_min\\\":null,\\\"y_max\\\":null,\\\"num_classes\\\":null,\\\"featurization\\\":\\\"auto\\\",\\\"_ignore_package_version_incompatibilities\\\":false,\\\"is_timeseries\\\":false,\\\"max_cores_per_iteration\\\":1,\\\"max_concurrent_iterations\\\":5,\\\"iteration_timeout_minutes\\\":null,\\\"mem_in_mb\\\":null,\\\"enforce_time_on_windows\\\":false,\\\"experiment_timeout_minutes\\\":20,\\\"experiment_exit_score\\\":null,\\\"whitelist_models\\\":null,\\\"blacklist_algos\\\":[\\\"TensorFlowLinearClassifier\\\",\\\"TensorFlowDNN\\\"],\\\"supported_models\\\":[\\\"MultinomialNaiveBayes\\\",\\\"LinearSVM\\\",\\\"SGD\\\",\\\"GradientBoosting\\\",\\\"TensorFlowDNN\\\",\\\"TensorFlowLinearClassifier\\\",\\\"SVM\\\",\\\"DecisionTree\\\",\\\"AveragedPerceptronClassifier\\\",\\\"RandomForest\\\",\\\"XGBoostClassifier\\\",\\\"ExtremeRandomTrees\\\",\\\"LightGBM\\\",\\\"BernoulliNaiveBayes\\\",\\\"KNN\\\",\\\"LogisticRegression\\\"],\\\"private_models\\\":[],\\\"auto_blacklist\\\":true,\\\"blacklist_samples_reached\\\":false,\\\"exclude_nan_labels\\\":true,\\\"verbosity\\\":20,\\\"_debug_log\\\":\\\"azureml_automl.log\\\",\\\"show_warnings\\\":false,\\\"model_explainability\\\":true,\\\"service_url\\\":null,\\\"sdk_url\\\":null,\\\"sdk_packages\\\":null,\\\"enable_onnx_compatible_models\\\":false,\\\"enable_split_onnx_featurizer_estimator_models\\\":false,\\\"vm_type\\\":\\\"STANDARD_D2_V2\\\",\\\"telemetry_verbosity\\\":20,\\\"send_telemetry\\\":true,\\\"enable_dnn\\\":false,\\\"scenario\\\":\\\"SDK-1.13.0\\\",\\\"environment_label\\\":null,\\\"save_mlflow\\\":false,\\\"force_text_dnn\\\":false,\\\"enable_feature_sweeping\\\":true,\\\"enable_early_stopping\\\":true,\\\"early_stopping_n_iters\\\":10,\\\"metrics\\\":null,\\\"enable_metric_confidence\\\":false,\\\"enable_ensembling\\\":true,\\\"enable_stack_ensembling\\\":true,\\\"ensemble_iterations\\\":15,\\\"enable_tf\\\":false,\\\"enable_subsampling\\\":null,\\\"subsample_seed\\\":null,\\\"enable_nimbusml\\\":false,\\\"enable_streaming\\\":false,\\\"force_streaming\\\":false,\\\"track_child_runs\\\":true,\\\"allowed_private_models\\\":[],\\\"label_column_name\\\":\\\"Class\\\",\\\"weight_column_name\\\":null,\\\"cv_split_column_names\\\":null,\\\"enable_local_managed\\\":false,\\\"_local_managed_run_id\\\":null,\\\"cost_mode\\\":1,\\\"lag_length\\\":0,\\\"metric_operation\\\":\\\"maximize\\\",\\\"preprocess\\\":true}\", \"DataPrepJsonString\": \"{\\\\\\\"training_data\\\\\\\": {\\\\\\\"datasetId\\\\\\\": \\\\\\\"982e0ce8-ab1c-4d2c-bcc7-67b1c49dfba3\\\\\\\"}, \\\\\\\"datasets\\\\\\\": 0}\", \"EnableSubsampling\": null, \"runTemplate\": \"AutoML\", \"azureml.runsource\": \"automl\", \"display_task_type\": \"classification\", \"dependencies_versions\": \"{\\\"azureml-widgets\\\": \\\"1.26.0\\\", \\\"azureml-train\\\": \\\"1.26.0\\\", \\\"azureml-train-restclients-hyperdrive\\\": \\\"1.26.0\\\", \\\"azureml-train-core\\\": \\\"1.26.0\\\", \\\"azureml-train-automl\\\": \\\"1.26.0\\\", \\\"azureml-train-automl-runtime\\\": \\\"1.26.0\\\", \\\"azureml-train-automl-client\\\": \\\"1.26.0\\\", \\\"azureml-tensorboard\\\": \\\"1.26.0\\\", \\\"azureml-telemetry\\\": \\\"1.26.0\\\", \\\"azureml-sdk\\\": \\\"1.26.0\\\", \\\"azureml-samples\\\": \\\"0+unknown\\\", \\\"azureml-pipeline\\\": \\\"1.26.0\\\", \\\"azureml-pipeline-steps\\\": \\\"1.26.0\\\", \\\"azureml-pipeline-core\\\": \\\"1.26.0\\\", \\\"azureml-opendatasets\\\": \\\"1.26.0\\\", \\\"azureml-model-management-sdk\\\": \\\"1.0.1b6.post1\\\", \\\"azureml-mlflow\\\": \\\"1.26.0\\\", \\\"azureml-interpret\\\": \\\"1.26.0\\\", \\\"azureml-explain-model\\\": \\\"1.26.0\\\", \\\"azureml-defaults\\\": \\\"1.26.0\\\", \\\"azureml-dataset-runtime\\\": \\\"1.26.0\\\", \\\"azureml-dataprep\\\": \\\"2.13.2\\\", \\\"azureml-dataprep-rslex\\\": \\\"1.11.2\\\", \\\"azureml-dataprep-native\\\": \\\"32.0.0\\\", \\\"azureml-datadrift\\\": \\\"1.26.0\\\", \\\"azureml-core\\\": \\\"1.26.0\\\", \\\"azureml-contrib-services\\\": \\\"1.26.0\\\", \\\"azureml-contrib-server\\\": \\\"1.26.0\\\", \\\"azureml-contrib-reinforcementlearning\\\": \\\"1.26.0\\\", \\\"azureml-contrib-pipeline-steps\\\": \\\"1.26.0\\\", \\\"azureml-contrib-notebook\\\": \\\"1.26.0\\\", \\\"azureml-contrib-gbdt\\\": \\\"1.26.0\\\", \\\"azureml-contrib-fairness\\\": \\\"1.26.0\\\", \\\"azureml-contrib-dataset\\\": \\\"1.26.0\\\", \\\"azureml-cli-common\\\": \\\"1.26.0\\\", \\\"azureml-automl-runtime\\\": \\\"1.26.0\\\", \\\"azureml-automl-dnn-nlp\\\": \\\"1.26.0\\\", \\\"azureml-automl-core\\\": \\\"1.26.0\\\", \\\"azureml-accel-models\\\": \\\"1.26.0\\\"}\", \"_aml_system_scenario_identification\": \"Remote.Parent\", \"ClientType\": \"SDK\", \"environment_cpu_name\": \"AzureML-AutoML\", \"environment_cpu_label\": \"prod\", \"environment_gpu_name\": \"AzureML-AutoML-GPU\", \"environment_gpu_label\": \"prod\", \"root_attribution\": \"automl\", \"attribution\": \"AutoML\", \"Orchestrator\": \"AutoML\", \"CancelUri\": \"https://southcentralus.experiments.azureml.net/jasmine/v1.0/subscriptions/1b944a9b-fdae-4f97-aeb1-b7eea0beac53/resourceGroups/aml-quickstarts-143062/providers/Microsoft.MachineLearningServices/workspaces/quick-starts-ws-143062/experimentids/17b1e40c-562e-401e-9f3a-a911d712dddf/cancel/AutoML_ff35158a-806d-424c-9003-feef720d8671\", \"ClientSdkVersion\": \"1.25.0\", \"snapshotId\": \"00000000-0000-0000-0000-000000000000\", \"SetupRunId\": \"AutoML_ff35158a-806d-424c-9003-feef720d8671_setup\", \"SetupRunContainerId\": \"dcid.AutoML_ff35158a-806d-424c-9003-feef720d8671_setup\", \"FeaturizationRunJsonPath\": \"featurizer_container.json\", \"FeaturizationRunId\": \"AutoML_ff35158a-806d-424c-9003-feef720d8671_featurize\", \"ProblemInfoJsonString\": \"{\\\"dataset_num_categorical\\\": 0, \\\"is_sparse\\\": false, \\\"subsampling\\\": false, \\\"dataset_classes\\\": 2, \\\"dataset_features\\\": 30, \\\"dataset_samples\\\": 256326, \\\"single_frequency_class_detected\\\": false}\", \"ModelExplainRunId\": \"AutoML_ff35158a-806d-424c-9003-feef720d8671_ModelExplain\"}, \"tags\": {\"model_explain_run\": \"best_run\", \"_aml_system_azureml.automlComponent\": \"AutoML\", \"pipeline_id\": \"\", \"score\": \"\", \"predicted_cost\": \"\", \"fit_time\": \"\", \"training_percent\": \"\", \"iteration\": \"\", \"run_preprocessor\": \"\", \"run_algorithm\": \"\", \"dynamic_whitelisting_iterations\": \"<25>;<30>;<35>;\", \"automl_best_child_run_id\": \"AutoML_ff35158a-806d-424c-9003-feef720d8671_36\", \"model_explain_best_run_child_id\": \"AutoML_ff35158a-806d-424c-9003-feef720d8671_36\"}, \"end_time_utc\": \"2021-04-18T17:46:05.8737Z\", \"status\": \"Completed\", \"log_files\": {}, \"log_groups\": [], \"run_duration\": \"0:35:35\", \"run_number\": \"2\", \"run_queued_details\": {\"status\": \"Completed\", \"details\": null}}, \"child_runs\": [{\"run_id\": \"AutoML_ff35158a-806d-424c-9003-feef720d8671_0\", \"run_number\": 6, \"metric\": null, \"status\": \"Completed\", \"run_type\": \"azureml.scriptrun\", \"training_percent\": \"100\", \"start_time\": \"2021-04-18T17:24:07.004778Z\", \"end_time\": \"2021-04-18T17:25:11.910068Z\", \"created_time\": \"2021-04-18T17:22:25.301765Z\", \"created_time_dt\": \"2021-04-18T17:22:25.301765Z\", \"duration\": \"0:02:46\", \"iteration\": \"0\", \"goal\": \"AUC_weighted_max\", \"run_name\": \"MaxAbsScaler, LightGBM\", \"run_properties\": \"copy=True\", \"primary_metric\": 0.79497903, \"best_metric\": 0.79497903}, {\"run_id\": \"AutoML_ff35158a-806d-424c-9003-feef720d8671_1\", \"run_number\": 7, \"metric\": null, \"status\": \"Completed\", \"run_type\": \"azureml.scriptrun\", \"training_percent\": \"100\", \"start_time\": \"2021-04-18T17:25:25.143Z\", \"end_time\": \"2021-04-18T17:27:17.465573Z\", \"created_time\": \"2021-04-18T17:22:25.355244Z\", \"created_time_dt\": \"2021-04-18T17:22:25.355244Z\", \"duration\": \"0:04:52\", \"iteration\": \"1\", \"goal\": \"AUC_weighted_max\", \"run_name\": \"MaxAbsScaler, XGBoostClassifier\", \"run_properties\": \"copy=True\", \"primary_metric\": 0.95835391, \"best_metric\": 0.95835391}, {\"run_id\": \"AutoML_ff35158a-806d-424c-9003-feef720d8671_2\", \"run_number\": 8, \"metric\": null, \"status\": \"Completed\", \"run_type\": \"azureml.scriptrun\", \"training_percent\": \"100\", \"start_time\": \"2021-04-18T17:22:39.656946Z\", \"end_time\": \"2021-04-18T17:23:49.575625Z\", \"created_time\": \"2021-04-18T17:22:25.372202Z\", \"created_time_dt\": \"2021-04-18T17:22:25.372202Z\", \"duration\": \"0:01:24\", \"iteration\": \"2\", \"goal\": \"AUC_weighted_max\", \"run_name\": \"MinMaxScaler, RandomForest\", \"run_properties\": \"copy=True, feature_range=(0, 1\", \"primary_metric\": 0.96521992, \"best_metric\": 0.96521992}, {\"run_id\": \"AutoML_ff35158a-806d-424c-9003-feef720d8671_3\", \"run_number\": 9, \"metric\": null, \"status\": \"Completed\", \"run_type\": \"azureml.scriptrun\", \"training_percent\": \"100\", \"start_time\": \"2021-04-18T17:25:57.23467Z\", \"end_time\": \"2021-04-18T17:28:07.288629Z\", \"created_time\": \"2021-04-18T17:22:25.389814Z\", \"created_time_dt\": \"2021-04-18T17:22:25.389814Z\", \"duration\": \"0:05:41\", \"iteration\": \"3\", \"goal\": \"AUC_weighted_max\", \"run_name\": \"RobustScaler, ExtremeRandomTrees\", \"run_properties\": \"copy=True, quantile_range=[10, 90], with_centering=False,\\n             with_scaling=False\", \"primary_metric\": 0.95736552, \"best_metric\": 0.96521992}, {\"run_id\": \"AutoML_ff35158a-806d-424c-9003-feef720d8671_4\", \"run_number\": 10, \"metric\": null, \"status\": \"Completed\", \"run_type\": \"azureml.scriptrun\", \"training_percent\": \"100\", \"start_time\": \"2021-04-18T17:25:49.925916Z\", \"end_time\": \"2021-04-18T17:31:38.984475Z\", \"created_time\": \"2021-04-18T17:22:25.399217Z\", \"created_time_dt\": \"2021-04-18T17:22:25.399217Z\", \"duration\": \"0:09:13\", \"iteration\": \"4\", \"goal\": \"AUC_weighted_max\", \"run_name\": \"MinMaxScaler, RandomForest\", \"run_properties\": \"copy=True, feature_range=(0, 1\", \"primary_metric\": 0.95691941, \"best_metric\": 0.96521992}, {\"run_id\": \"AutoML_ff35158a-806d-424c-9003-feef720d8671_5\", \"run_number\": 11, \"metric\": null, \"status\": \"Completed\", \"run_type\": \"azureml.scriptrun\", \"training_percent\": \"100\", \"start_time\": \"2021-04-18T17:25:58.406249Z\", \"end_time\": \"2021-04-18T17:29:24.081602Z\", \"created_time\": \"2021-04-18T17:23:54.118384Z\", \"created_time_dt\": \"2021-04-18T17:23:54.118384Z\", \"duration\": \"0:05:29\", \"iteration\": \"5\", \"goal\": \"AUC_weighted_max\", \"run_name\": \"MinMaxScaler, RandomForest\", \"run_properties\": \"copy=True, feature_range=(0, 1\", \"primary_metric\": 0.94292576, \"best_metric\": 0.96521992}, {\"run_id\": \"AutoML_ff35158a-806d-424c-9003-feef720d8671_6\", \"run_number\": 12, \"metric\": null, \"status\": \"Completed\", \"run_type\": \"azureml.scriptrun\", \"training_percent\": \"100\", \"start_time\": \"2021-04-18T17:27:31.976419Z\", \"end_time\": \"2021-04-18T17:28:46.712662Z\", \"created_time\": \"2021-04-18T17:25:15.600759Z\", \"created_time_dt\": \"2021-04-18T17:25:15.600759Z\", \"duration\": \"0:03:31\", \"iteration\": \"6\", \"goal\": \"AUC_weighted_max\", \"run_name\": \"StandardScalerWrapper, RandomForest\", \"run_properties\": \"<azureml.automl.runtime.shared.model_wrappers.StandardScalerWrapper object at 0x7fd59330c908\", \"primary_metric\": 0.9616927, \"best_metric\": 0.96521992}, {\"run_id\": \"AutoML_ff35158a-806d-424c-9003-feef720d8671_7\", \"run_number\": 13, \"metric\": null, \"status\": \"Completed\", \"run_type\": \"azureml.scriptrun\", \"training_percent\": \"100\", \"start_time\": \"2021-04-18T17:28:22.091758Z\", \"end_time\": \"2021-04-18T17:29:12.130375Z\", \"created_time\": \"2021-04-18T17:27:22.08497Z\", \"created_time_dt\": \"2021-04-18T17:27:22.08497Z\", \"duration\": \"0:01:50\", \"iteration\": \"7\", \"goal\": \"AUC_weighted_max\", \"run_name\": \"MinMaxScaler, ExtremeRandomTrees\", \"run_properties\": \"copy=True, feature_range=(0, 1\", \"primary_metric\": 0.95644244, \"best_metric\": 0.96521992}, {\"run_id\": \"AutoML_ff35158a-806d-424c-9003-feef720d8671_8\", \"run_number\": 14, \"metric\": null, \"status\": \"Completed\", \"run_type\": \"azureml.scriptrun\", \"training_percent\": \"100\", \"start_time\": \"2021-04-18T17:29:07.084388Z\", \"end_time\": \"2021-04-18T17:29:53.500431Z\", \"created_time\": \"2021-04-18T17:28:10.507614Z\", \"created_time_dt\": \"2021-04-18T17:28:10.507614Z\", \"duration\": \"0:01:42\", \"iteration\": \"8\", \"goal\": \"AUC_weighted_max\", \"run_name\": \"MinMaxScaler, ExtremeRandomTrees\", \"run_properties\": \"copy=True, feature_range=(0, 1\", \"primary_metric\": 0.93455563, \"best_metric\": 0.96521992}, {\"run_id\": \"AutoML_ff35158a-806d-424c-9003-feef720d8671_9\", \"run_number\": 15, \"metric\": null, \"status\": \"Completed\", \"run_type\": \"azureml.scriptrun\", \"training_percent\": \"100\", \"start_time\": \"2021-04-18T17:29:29.439412Z\", \"end_time\": \"2021-04-18T17:30:14.376909Z\", \"created_time\": \"2021-04-18T17:28:49.80202Z\", \"created_time_dt\": \"2021-04-18T17:28:49.80202Z\", \"duration\": \"0:01:24\", \"iteration\": \"9\", \"goal\": \"AUC_weighted_max\", \"run_name\": \"MinMaxScaler, ExtremeRandomTrees\", \"run_properties\": \"copy=True, feature_range=(0, 1\", \"primary_metric\": 0.94800591, \"best_metric\": 0.96521992}, {\"run_id\": \"AutoML_ff35158a-806d-424c-9003-feef720d8671_10\", \"run_number\": 16, \"metric\": null, \"status\": \"Completed\", \"run_type\": \"azureml.scriptrun\", \"training_percent\": \"100\", \"start_time\": \"2021-04-18T17:29:39.55048Z\", \"end_time\": \"2021-04-18T17:30:36.543399Z\", \"created_time\": \"2021-04-18T17:29:15.342828Z\", \"created_time_dt\": \"2021-04-18T17:29:15.342828Z\", \"duration\": \"0:01:21\", \"iteration\": \"10\", \"goal\": \"AUC_weighted_max\", \"run_name\": \"RobustScaler, ExtremeRandomTrees\", \"run_properties\": \"copy=True, quantile_range=[10, 90], with_centering=True,\\n             with_scaling=False\", \"primary_metric\": 0.96778242, \"best_metric\": 0.96778242}, {\"run_id\": \"AutoML_ff35158a-806d-424c-9003-feef720d8671_11\", \"run_number\": 17, \"metric\": null, \"status\": \"Completed\", \"run_type\": \"azureml.scriptrun\", \"training_percent\": \"100\", \"start_time\": \"2021-04-18T17:30:08.371907Z\", \"end_time\": \"2021-04-18T17:31:49.607614Z\", \"created_time\": \"2021-04-18T17:29:27.748864Z\", \"created_time_dt\": \"2021-04-18T17:29:27.748864Z\", \"duration\": \"0:02:21\", \"iteration\": \"11\", \"goal\": \"AUC_weighted_max\", \"run_name\": \"StandardScalerWrapper, RandomForest\", \"run_properties\": \"<azureml.automl.runtime.shared.model_wrappers.StandardScalerWrapper object at 0x7f9515182cc0\", \"primary_metric\": 0.96143107, \"best_metric\": 0.96778242}, {\"run_id\": \"AutoML_ff35158a-806d-424c-9003-feef720d8671_12\", \"run_number\": 18, \"metric\": null, \"status\": \"Completed\", \"run_type\": \"azureml.scriptrun\", \"training_percent\": \"100\", \"start_time\": \"2021-04-18T17:30:28.709588Z\", \"end_time\": \"2021-04-18T17:31:24.852145Z\", \"created_time\": \"2021-04-18T17:29:56.773787Z\", \"created_time_dt\": \"2021-04-18T17:29:56.773787Z\", \"duration\": \"0:01:28\", \"iteration\": \"12\", \"goal\": \"AUC_weighted_max\", \"run_name\": \"StandardScalerWrapper, SGD\", \"run_properties\": \"<azureml.automl.runtime.shared.model_wrappers.StandardScalerWrapper object at 0x7f8e6a94b630\", \"primary_metric\": 0.94536983, \"best_metric\": 0.96778242}, {\"run_id\": \"AutoML_ff35158a-806d-424c-9003-feef720d8671_13\", \"run_number\": 19, \"metric\": null, \"status\": \"Completed\", \"run_type\": \"azureml.scriptrun\", \"training_percent\": \"100\", \"start_time\": \"2021-04-18T17:30:54.326343Z\", \"end_time\": \"2021-04-18T17:31:58.871282Z\", \"created_time\": \"2021-04-18T17:30:18.95776Z\", \"created_time_dt\": \"2021-04-18T17:30:18.95776Z\", \"duration\": \"0:01:39\", \"iteration\": \"13\", \"goal\": \"AUC_weighted_max\", \"run_name\": \"RobustScaler, RandomForest\", \"run_properties\": \"copy=True, quantile_range=[10, 90], with_centering=True,\\n             with_scaling=False\", \"primary_metric\": 0.9550869, \"best_metric\": 0.96778242}, {\"run_id\": \"AutoML_ff35158a-806d-424c-9003-feef720d8671_14\", \"run_number\": 20, \"metric\": null, \"status\": \"Completed\", \"run_type\": \"azureml.scriptrun\", \"training_percent\": \"100\", \"start_time\": \"2021-04-18T17:31:38.603238Z\", \"end_time\": \"2021-04-18T17:32:31.418717Z\", \"created_time\": \"2021-04-18T17:30:40.306307Z\", \"created_time_dt\": \"2021-04-18T17:30:40.306307Z\", \"duration\": \"0:01:51\", \"iteration\": \"14\", \"goal\": \"AUC_weighted_max\", \"run_name\": \"MinMaxScaler, RandomForest\", \"run_properties\": \"copy=True, feature_range=(0, 1\", \"primary_metric\": 0.95503701, \"best_metric\": 0.96778242}, {\"run_id\": \"AutoML_ff35158a-806d-424c-9003-feef720d8671_15\", \"run_number\": 21, \"metric\": null, \"status\": \"Completed\", \"run_type\": \"azureml.scriptrun\", \"training_percent\": \"100\", \"start_time\": \"2021-04-18T17:31:50.867645Z\", \"end_time\": \"2021-04-18T17:32:44.306588Z\", \"created_time\": \"2021-04-18T17:31:28.135221Z\", \"created_time_dt\": \"2021-04-18T17:31:28.135221Z\", \"duration\": \"0:01:16\", \"iteration\": \"15\", \"goal\": \"AUC_weighted_max\", \"run_name\": \"MinMaxScaler, ExtremeRandomTrees\", \"run_properties\": \"copy=True, feature_range=(0, 1\", \"primary_metric\": 0.91491012, \"best_metric\": 0.96778242}, {\"run_id\": \"AutoML_ff35158a-806d-424c-9003-feef720d8671_16\", \"run_number\": 22, \"metric\": null, \"status\": \"Completed\", \"run_type\": \"azureml.scriptrun\", \"training_percent\": \"100\", \"start_time\": \"2021-04-18T17:32:02.003665Z\", \"end_time\": \"2021-04-18T17:33:05.516636Z\", \"created_time\": \"2021-04-18T17:31:42.386148Z\", \"created_time_dt\": \"2021-04-18T17:31:42.386148Z\", \"duration\": \"0:01:23\", \"iteration\": \"16\", \"goal\": \"AUC_weighted_max\", \"run_name\": \"MaxAbsScaler, RandomForest\", \"run_properties\": \"copy=True\", \"primary_metric\": 0.95431779, \"best_metric\": 0.96778242}, {\"run_id\": \"AutoML_ff35158a-806d-424c-9003-feef720d8671_17\", \"run_number\": 23, \"metric\": null, \"status\": \"Completed\", \"run_type\": \"azureml.scriptrun\", \"training_percent\": \"100\", \"start_time\": \"2021-04-18T17:32:11.601616Z\", \"end_time\": \"2021-04-18T17:33:08.783319Z\", \"created_time\": \"2021-04-18T17:31:52.676558Z\", \"created_time_dt\": \"2021-04-18T17:31:52.676558Z\", \"duration\": \"0:01:16\", \"iteration\": \"17\", \"goal\": \"AUC_weighted_max\", \"run_name\": \"StandardScalerWrapper, XGBoostClassifier\", \"run_properties\": \"<azureml.automl.runtime.shared.model_wrappers.StandardScalerWrapper object at 0x7fa118ea9d68\", \"primary_metric\": 0.93849127, \"best_metric\": 0.96778242}, {\"run_id\": \"AutoML_ff35158a-806d-424c-9003-feef720d8671_18\", \"run_number\": 24, \"metric\": null, \"status\": \"Completed\", \"run_type\": \"azureml.scriptrun\", \"training_percent\": \"100\", \"start_time\": \"2021-04-18T17:32:49.945395Z\", \"end_time\": \"2021-04-18T17:33:43.762387Z\", \"created_time\": \"2021-04-18T17:32:02.054241Z\", \"created_time_dt\": \"2021-04-18T17:32:02.054241Z\", \"duration\": \"0:01:41\", \"iteration\": \"18\", \"goal\": \"AUC_weighted_max\", \"run_name\": \"MaxAbsScaler, RandomForest\", \"run_properties\": \"copy=True\", \"primary_metric\": 0.95878638, \"best_metric\": 0.96778242}, {\"run_id\": \"AutoML_ff35158a-806d-424c-9003-feef720d8671_19\", \"run_number\": 25, \"metric\": null, \"status\": \"Completed\", \"run_type\": \"azureml.scriptrun\", \"training_percent\": \"100\", \"start_time\": \"2021-04-18T17:33:00.691333Z\", \"end_time\": \"2021-04-18T17:33:50.802376Z\", \"created_time\": \"2021-04-18T17:32:34.520677Z\", \"created_time_dt\": \"2021-04-18T17:32:34.520677Z\", \"duration\": \"0:01:16\", \"iteration\": \"19\", \"goal\": \"AUC_weighted_max\", \"run_name\": \"MaxAbsScaler, ExtremeRandomTrees\", \"run_properties\": \"copy=True\", \"primary_metric\": 0.94382372, \"best_metric\": 0.96778242}, {\"run_id\": \"AutoML_ff35158a-806d-424c-9003-feef720d8671_20\", \"run_number\": 26, \"metric\": null, \"status\": \"Completed\", \"run_type\": \"azureml.scriptrun\", \"training_percent\": \"100\", \"start_time\": \"2021-04-18T17:33:18.778812Z\", \"end_time\": \"2021-04-18T17:34:15.608642Z\", \"created_time\": \"2021-04-18T17:32:47.306209Z\", \"created_time_dt\": \"2021-04-18T17:32:47.306209Z\", \"duration\": \"0:01:28\", \"iteration\": \"20\", \"goal\": \"AUC_weighted_max\", \"run_name\": \"MaxAbsScaler, ExtremeRandomTrees\", \"run_properties\": \"copy=True\", \"primary_metric\": 0.94594981, \"best_metric\": 0.96778242}, {\"run_id\": \"AutoML_ff35158a-806d-424c-9003-feef720d8671_21\", \"run_number\": 27, \"metric\": null, \"status\": \"Completed\", \"run_type\": \"azureml.scriptrun\", \"training_percent\": \"100\", \"start_time\": \"2021-04-18T17:33:24.503297Z\", \"end_time\": \"2021-04-18T17:35:00.939349Z\", \"created_time\": \"2021-04-18T17:33:09.26481Z\", \"created_time_dt\": \"2021-04-18T17:33:09.26481Z\", \"duration\": \"0:01:51\", \"iteration\": \"21\", \"goal\": \"AUC_weighted_max\", \"run_name\": \"SparseNormalizer, XGBoostClassifier\", \"run_properties\": \"<azureml.automl.runtime.shared.model_wrappers.SparseNormalizer object at 0x7f4c30f23438\", \"primary_metric\": 0.96773612, \"best_metric\": 0.96778242}, {\"run_id\": \"AutoML_ff35158a-806d-424c-9003-feef720d8671_22\", \"run_number\": 28, \"metric\": null, \"status\": \"Completed\", \"run_type\": \"azureml.scriptrun\", \"training_percent\": \"100\", \"start_time\": \"2021-04-18T17:34:00.736674Z\", \"end_time\": \"2021-04-18T17:36:47.976569Z\", \"created_time\": \"2021-04-18T17:33:15.022397Z\", \"created_time_dt\": \"2021-04-18T17:33:15.022397Z\", \"duration\": \"0:03:32\", \"iteration\": \"22\", \"goal\": \"AUC_weighted_max\", \"run_name\": \"StandardScalerWrapper, XGBoostClassifier\", \"run_properties\": \"<azureml.automl.runtime.shared.model_wrappers.StandardScalerWrapper object at 0x7f7fa02e5390\", \"primary_metric\": 0.95496059, \"best_metric\": 0.96778242}, {\"run_id\": \"AutoML_ff35158a-806d-424c-9003-feef720d8671_23\", \"run_number\": 29, \"metric\": null, \"status\": \"Completed\", \"run_type\": \"azureml.scriptrun\", \"training_percent\": \"100\", \"start_time\": \"2021-04-18T17:34:09.759089Z\", \"end_time\": \"2021-04-18T17:35:29.702519Z\", \"created_time\": \"2021-04-18T17:33:46.056489Z\", \"created_time_dt\": \"2021-04-18T17:33:46.056489Z\", \"duration\": \"0:01:43\", \"iteration\": \"23\", \"goal\": \"AUC_weighted_max\", \"run_name\": \"MaxAbsScaler, LogisticRegression\", \"run_properties\": \"copy=True\", \"primary_metric\": 0.95742078, \"best_metric\": 0.96778242}, {\"run_id\": \"AutoML_ff35158a-806d-424c-9003-feef720d8671_24\", \"run_number\": 30, \"metric\": null, \"status\": \"Completed\", \"run_type\": \"azureml.scriptrun\", \"training_percent\": \"100\", \"start_time\": \"2021-04-18T17:34:29.323338Z\", \"end_time\": \"2021-04-18T17:35:40.146385Z\", \"created_time\": \"2021-04-18T17:33:53.24516Z\", \"created_time_dt\": \"2021-04-18T17:33:53.24516Z\", \"duration\": \"0:01:46\", \"iteration\": \"24\", \"goal\": \"AUC_weighted_max\", \"run_name\": \"MaxAbsScaler, LogisticRegression\", \"run_properties\": \"copy=True\", \"primary_metric\": 0.95556025, \"best_metric\": 0.96778242}, {\"run_id\": \"AutoML_ff35158a-806d-424c-9003-feef720d8671_25\", \"run_number\": 31, \"metric\": null, \"status\": \"Completed\", \"run_type\": \"azureml.scriptrun\", \"training_percent\": \"100\", \"start_time\": \"2021-04-18T17:35:14.913054Z\", \"end_time\": \"2021-04-18T17:36:10.914743Z\", \"created_time\": \"2021-04-18T17:34:19.18942Z\", \"created_time_dt\": \"2021-04-18T17:34:19.18942Z\", \"duration\": \"0:01:51\", \"iteration\": \"25\", \"goal\": \"AUC_weighted_max\", \"run_name\": \"StandardScalerWrapper, ExtremeRandomTrees\", \"run_properties\": \"<azureml.automl.runtime.shared.model_wrappers.StandardScalerWrapper object at 0x7f5f374604a8\", \"primary_metric\": 0.96163707, \"best_metric\": 0.96778242}, {\"run_id\": \"AutoML_ff35158a-806d-424c-9003-feef720d8671_26\", \"run_number\": 32, \"metric\": null, \"status\": \"Canceled\", \"run_type\": \"azureml.scriptrun\", \"training_percent\": \"100\", \"start_time\": \"2021-04-18T17:35:44.720289Z\", \"end_time\": \"2021-04-18T17:42:45.555619Z\", \"created_time\": \"2021-04-18T17:35:02.711358Z\", \"created_time_dt\": \"2021-04-18T17:35:02.711358Z\", \"duration\": \"0:07:42\", \"iteration\": \"26\", \"goal\": null, \"run_name\": \"MinMaxScaler, RandomForest\", \"run_properties\": null}, {\"run_id\": \"AutoML_ff35158a-806d-424c-9003-feef720d8671_27\", \"run_number\": 33, \"metric\": null, \"status\": \"Completed\", \"run_type\": \"azureml.scriptrun\", \"training_percent\": \"100\", \"start_time\": \"2021-04-18T17:35:53.718303Z\", \"end_time\": \"2021-04-18T17:39:12.726111Z\", \"created_time\": \"2021-04-18T17:35:31.514821Z\", \"created_time_dt\": \"2021-04-18T17:35:31.514821Z\", \"duration\": \"0:03:41\", \"iteration\": \"27\", \"goal\": \"AUC_weighted_max\", \"run_name\": \"MinMaxScaler, ExtremeRandomTrees\", \"run_properties\": \"copy=True, feature_range=(0, 1\", \"primary_metric\": 0.96076281, \"best_metric\": 0.96778242}, {\"run_id\": \"AutoML_ff35158a-806d-424c-9003-feef720d8671_28\", \"run_number\": 34, \"metric\": null, \"status\": \"Canceled\", \"run_type\": \"azureml.scriptrun\", \"training_percent\": \"100\", \"start_time\": \"2021-04-18T17:36:26.15827Z\", \"end_time\": \"2021-04-18T17:42:45.831577Z\", \"created_time\": \"2021-04-18T17:35:41.942347Z\", \"created_time_dt\": \"2021-04-18T17:35:41.942347Z\", \"duration\": \"0:07:03\", \"iteration\": \"28\", \"goal\": null, \"run_name\": \"SparseNormalizer, XGBoostClassifier\", \"run_properties\": null}, {\"run_id\": \"AutoML_ff35158a-806d-424c-9003-feef720d8671_29\", \"run_number\": 35, \"metric\": null, \"status\": \"Completed\", \"run_type\": \"azureml.scriptrun\", \"training_percent\": \"100\", \"start_time\": \"2021-04-18T17:36:59.941038Z\", \"end_time\": \"2021-04-18T17:37:56.737595Z\", \"created_time\": \"2021-04-18T17:36:12.621528Z\", \"created_time_dt\": \"2021-04-18T17:36:12.621528Z\", \"duration\": \"0:01:44\", \"iteration\": \"29\", \"goal\": \"AUC_weighted_max\", \"run_name\": \"TruncatedSVDWrapper, XGBoostClassifier\", \"run_properties\": \"n_components=0.8015789473684211, random_state=None\", \"primary_metric\": 0.9386097, \"best_metric\": 0.96778242}, {\"run_id\": \"AutoML_ff35158a-806d-424c-9003-feef720d8671_30\", \"run_number\": 36, \"metric\": null, \"status\": \"Completed\", \"run_type\": \"azureml.scriptrun\", \"training_percent\": \"100\", \"start_time\": \"2021-04-18T17:38:11.196658Z\", \"end_time\": \"2021-04-18T17:39:06.837578Z\", \"created_time\": \"2021-04-18T17:36:50.892714Z\", \"created_time_dt\": \"2021-04-18T17:36:50.892714Z\", \"duration\": \"0:02:15\", \"iteration\": \"30\", \"goal\": \"AUC_weighted_max\", \"run_name\": \"MinMaxScaler, ExtremeRandomTrees\", \"run_properties\": \"copy=True, feature_range=(0, 1\", \"primary_metric\": 0.5, \"best_metric\": 0.96778242}, {\"run_id\": \"AutoML_ff35158a-806d-424c-9003-feef720d8671_31\", \"run_number\": 37, \"metric\": null, \"status\": \"Completed\", \"run_type\": \"azureml.scriptrun\", \"training_percent\": \"100\", \"start_time\": \"2021-04-18T17:39:21.126935Z\", \"end_time\": \"2021-04-18T17:40:56.933206Z\", \"created_time\": \"2021-04-18T17:37:58.905967Z\", \"created_time_dt\": \"2021-04-18T17:37:58.905967Z\", \"duration\": \"0:02:58\", \"iteration\": \"31\", \"goal\": \"AUC_weighted_max\", \"run_name\": \"MaxAbsScaler, RandomForest\", \"run_properties\": \"copy=True\", \"primary_metric\": 0.95894824, \"best_metric\": 0.96778242}, {\"run_id\": \"AutoML_ff35158a-806d-424c-9003-feef720d8671_32\", \"run_number\": 38, \"metric\": null, \"status\": \"Completed\", \"run_type\": \"azureml.scriptrun\", \"training_percent\": \"100\", \"start_time\": \"2021-04-18T17:39:25.124472Z\", \"end_time\": \"2021-04-18T17:40:26.924651Z\", \"created_time\": \"2021-04-18T17:39:10.298883Z\", \"created_time_dt\": \"2021-04-18T17:39:10.298883Z\", \"duration\": \"0:01:16\", \"iteration\": \"32\", \"goal\": \"AUC_weighted_max\", \"run_name\": \"MinMaxScaler, LightGBM\", \"run_properties\": \"copy=True, feature_range=(0, 1\", \"primary_metric\": 0.96542341, \"best_metric\": 0.96778242}, {\"run_id\": \"AutoML_ff35158a-806d-424c-9003-feef720d8671_33\", \"run_number\": 39, \"metric\": null, \"status\": \"Canceled\", \"run_type\": \"azureml.scriptrun\", \"training_percent\": \"100\", \"start_time\": \"2021-04-18T17:40:41.507274Z\", \"end_time\": \"2021-04-18T17:42:45.941543Z\", \"created_time\": \"2021-04-18T17:39:17.370727Z\", \"created_time_dt\": \"2021-04-18T17:39:17.370727Z\", \"duration\": \"0:03:28\", \"iteration\": \"33\", \"goal\": \"AUC_weighted_max\", \"run_name\": \"StandardScalerWrapper, XGBoostClassifier\", \"run_properties\": \"<azureml.automl.runtime.shared.model_wrappers.StandardScalerWrapper object at 0x7fc3612725f8\", \"primary_metric\": 0.95360216, \"best_metric\": 0.96778242}, {\"run_id\": \"AutoML_ff35158a-806d-424c-9003-feef720d8671_34\", \"run_number\": 40, \"metric\": null, \"status\": \"Completed\", \"run_type\": \"azureml.scriptrun\", \"training_percent\": \"100\", \"start_time\": \"2021-04-18T17:41:11.592438Z\", \"end_time\": \"2021-04-18T17:42:38.32824Z\", \"created_time\": \"2021-04-18T17:40:28.797087Z\", \"created_time_dt\": \"2021-04-18T17:40:28.797087Z\", \"duration\": \"0:02:09\", \"iteration\": \"34\", \"goal\": \"AUC_weighted_max\", \"run_name\": \"StandardScalerWrapper, XGBoostClassifier\", \"run_properties\": \"<azureml.automl.runtime.shared.model_wrappers.StandardScalerWrapper object at 0x7feb20d81ef0\", \"primary_metric\": 0.96547904, \"best_metric\": 0.96778242}, {\"run_id\": \"AutoML_ff35158a-806d-424c-9003-feef720d8671_35\", \"run_number\": 41, \"metric\": null, \"status\": \"Canceled\", \"run_type\": \"azureml.scriptrun\", \"training_percent\": \"100\", \"start_time\": \"2021-04-18T17:40:59.973742Z\", \"end_time\": \"2021-04-18T17:42:45.802485Z\", \"created_time\": \"2021-04-18T17:40:59.973742Z\", \"created_time_dt\": \"2021-04-18T17:40:59.973742Z\", \"duration\": \"0:01:45\", \"iteration\": \"35\", \"goal\": null, \"run_name\": \"Canceled\", \"run_properties\": null}, {\"run_id\": \"AutoML_ff35158a-806d-424c-9003-feef720d8671_37\", \"run_number\": 42, \"metric\": null, \"status\": \"Completed\", \"run_type\": \"azureml.scriptrun\", \"training_percent\": \"100\", \"start_time\": \"2021-04-18T17:43:00.850857Z\", \"end_time\": \"2021-04-18T17:46:01.686336Z\", \"created_time\": \"2021-04-18T17:42:49.818266Z\", \"created_time_dt\": \"2021-04-18T17:42:49.818266Z\", \"duration\": \"0:03:11\", \"iteration\": \"37\", \"goal\": \"AUC_weighted_max\", \"run_name\": \"StackEnsemble\", \"run_properties\": \"base_learners=[('10',\\n                                        Pipeline(memory=None,\\n                                                 steps=[('robustscaler',\\n                                                         RobustScaler(copy=True,\\n                                                                      quantile_range=[10,\\n                                                                                      90],\\n                                                                      with_centering=True,\\n                                                                      with_scaling=False\", \"primary_metric\": 0.96755452, \"best_metric\": 0.97148729}, {\"run_id\": \"AutoML_ff35158a-806d-424c-9003-feef720d8671_36\", \"run_number\": 43, \"metric\": null, \"status\": \"Completed\", \"run_type\": \"azureml.scriptrun\", \"training_percent\": \"100\", \"start_time\": \"2021-04-18T17:43:00.69932Z\", \"end_time\": \"2021-04-18T17:44:19.221314Z\", \"created_time\": \"2021-04-18T17:42:49.880499Z\", \"created_time_dt\": \"2021-04-18T17:42:49.880499Z\", \"duration\": \"0:01:29\", \"iteration\": \"36\", \"goal\": \"AUC_weighted_max\", \"run_name\": \"VotingEnsemble\", \"run_properties\": \"classification_labels=None,\\n                              estimators=[('10',\\n                                           Pipeline(memory=None,\\n                                                    steps=[('robustscaler',\\n                                                            RobustScaler(copy=True,\\n                                                                         quantile_range=[10,\\n                                                                                         90],\\n                                                                         with_centering=True,\\n                                                                         with_scaling=False\", \"primary_metric\": 0.97148729, \"best_metric\": 0.97148729}], \"children_metrics\": {\"categories\": [0], \"series\": {\"average_precision_score_weighted\": [{\"categories\": [\"0\", \"1\", \"2\", \"3\", \"4\", \"5\", \"6\", \"7\", \"8\", \"9\", \"10\", \"11\", \"12\", \"13\", \"14\", \"15\", \"16\", \"17\", \"18\", \"19\", \"20\", \"21\", \"22\", \"23\", \"24\", \"25\", \"27\", \"29\", \"30\", \"31\", \"32\", \"33\", \"34\", \"36\", \"37\"], \"mode\": \"markers\", \"name\": \"average_precision_score_weighted\", \"stepped\": false, \"type\": \"scatter\", \"data\": [0.9979593005469743, 0.9996711107546401, 0.9993232763430537, 0.9991959905847663, 0.9993168220771557, 0.999253531621185, 0.9992158781095041, 0.9991270399893363, 0.9990231065641059, 0.9989124769860451, 0.9994005302037449, 0.9994723917080226, 0.9993702465989136, 0.9994404092467595, 0.9994719756331011, 0.9990128842415318, 0.9993330332722365, 0.9995214330114277, 0.9993438756326183, 0.9990866947192937, 0.9990874866228541, 0.999657954265448, 0.9996833819083953, 0.9994592598290521, 0.9993514839890824, 0.9991238790570558, 0.9994454876825762, 0.9995443912577711, 0.9965650294452614, 0.9994408436606617, 0.9997043305421097, 0.9996180681101383, 0.9996695410999039, 0.9997272213454247, 0.9997164135380695]}, {\"categories\": [\"0\", \"1\", \"2\", \"3\", \"4\", \"5\", \"6\", \"7\", \"8\", \"9\", \"10\", \"11\", \"12\", \"13\", \"14\", \"15\", \"16\", \"17\", \"18\", \"19\", \"20\", \"21\", \"22\", \"23\", \"24\", \"25\", \"27\", \"29\", \"30\", \"31\", \"32\", \"33\", \"34\", \"36\", \"37\"], \"mode\": \"lines\", \"name\": \"average_precision_score_weighted_max\", \"stepped\": true, \"type\": \"scatter\", \"data\": [0.9979593005469743, 0.9996711107546401, 0.9996711107546401, 0.9996711107546401, 0.9996711107546401, 0.9996711107546401, 0.9996711107546401, 0.9996711107546401, 0.9996711107546401, 0.9996711107546401, 0.9996711107546401, 0.9996711107546401, 0.9996711107546401, 0.9996711107546401, 0.9996711107546401, 0.9996711107546401, 0.9996711107546401, 0.9996711107546401, 0.9996711107546401, 0.9996711107546401, 0.9996711107546401, 0.9996711107546401, 0.9996833819083953, 0.9996833819083953, 0.9996833819083953, 0.9996833819083953, 0.9996833819083953, 0.9996833819083953, 0.9996833819083953, 0.9996833819083953, 0.9997043305421097, 0.9997043305421097, 0.9997043305421097, 0.9997272213454247, 0.9997272213454247]}], \"average_precision_score_macro\": [{\"categories\": [\"0\", \"1\", \"2\", \"3\", \"4\", \"5\", \"6\", \"7\", \"8\", \"9\", \"10\", \"11\", \"12\", \"13\", \"14\", \"15\", \"16\", \"17\", \"18\", \"19\", \"20\", \"21\", \"22\", \"23\", \"24\", \"25\", \"27\", \"29\", \"30\", \"31\", \"32\", \"33\", \"34\", \"36\", \"37\"], \"mode\": \"markers\", \"name\": \"average_precision_score_macro\", \"stepped\": false, \"type\": \"scatter\", \"data\": [0.6114478041035856, 0.9384022408179007, 0.8273737699318164, 0.8035214123878351, 0.8394943490969636, 0.8312773591778089, 0.8068277212411943, 0.778100916383736, 0.7930111339853521, 0.7238778492364892, 0.8453951692479065, 0.8742812313080899, 0.870098577153545, 0.8736082132705453, 0.8854139345922706, 0.7868173843872373, 0.8389561864912745, 0.9222718987164749, 0.8477415011964742, 0.8108406437821615, 0.7834819267179052, 0.9223971712833783, 0.9427447223803118, 0.873624662607319, 0.853151616530316, 0.768950293537651, 0.8706893031347667, 0.9288443431531164, 0.5, 0.8704106772932314, 0.938308845333753, 0.9374243358929135, 0.9276590111657375, 0.938063883026647, 0.9391510032404822]}, {\"categories\": [\"0\", \"1\", \"2\", \"3\", \"4\", \"5\", \"6\", \"7\", \"8\", \"9\", \"10\", \"11\", \"12\", \"13\", \"14\", \"15\", \"16\", \"17\", \"18\", \"19\", \"20\", \"21\", \"22\", \"23\", \"24\", \"25\", \"27\", \"29\", \"30\", \"31\", \"32\", \"33\", \"34\", \"36\", \"37\"], \"mode\": \"lines\", \"name\": \"average_precision_score_macro_max\", \"stepped\": true, \"type\": \"scatter\", \"data\": [0.6114478041035856, 0.9384022408179007, 0.9384022408179007, 0.9384022408179007, 0.9384022408179007, 0.9384022408179007, 0.9384022408179007, 0.9384022408179007, 0.9384022408179007, 0.9384022408179007, 0.9384022408179007, 0.9384022408179007, 0.9384022408179007, 0.9384022408179007, 0.9384022408179007, 0.9384022408179007, 0.9384022408179007, 0.9384022408179007, 0.9384022408179007, 0.9384022408179007, 0.9384022408179007, 0.9384022408179007, 0.9427447223803118, 0.9427447223803118, 0.9427447223803118, 0.9427447223803118, 0.9427447223803118, 0.9427447223803118, 0.9427447223803118, 0.9427447223803118, 0.9427447223803118, 0.9427447223803118, 0.9427447223803118, 0.9427447223803118, 0.9427447223803118]}], \"precision_score_micro\": [{\"categories\": [\"0\", \"1\", \"2\", \"3\", \"4\", \"5\", \"6\", \"7\", \"8\", \"9\", \"10\", \"11\", \"12\", \"13\", \"14\", \"15\", \"16\", \"17\", \"18\", \"19\", \"20\", \"21\", \"22\", \"23\", \"24\", \"25\", \"27\", \"29\", \"30\", \"31\", \"32\", \"33\", \"34\", \"36\", \"37\"], \"mode\": \"markers\", \"name\": \"precision_score_micro\", \"stepped\": false, \"type\": \"scatter\", \"data\": [0.997471998876444, 0.9995435553526912, 0.9982795547909132, 0.9982795547909132, 0.9743337663705628, 0.9982795547909132, 0.9982795547909132, 0.9982795547909132, 0.9982795547909132, 0.9982795547909132, 0.9982795547909132, 0.9797408798848355, 0.9991573329588147, 0.9790386573505144, 0.9982795547909132, 0.9814613250939223, 0.9693128752501667, 0.9994733330992591, 0.9982795547909132, 0.9334644148730733, 0.9767564341139707, 0.9994382219725431, 0.9996839998595555, 0.9992626663389628, 0.9746497665110073, 0.9982795547909132, 0.9861311049471577, 0.9994733330992591, 0.9982795547909132, 0.9982795547909132, 0.9996137776061234, 0.9995786664794073, 0.9993679997191109, 0.9993328885923949, 0.9995084442259752]}, {\"categories\": [\"0\", \"1\", \"2\", \"3\", \"4\", \"5\", \"6\", \"7\", \"8\", \"9\", \"10\", \"11\", \"12\", \"13\", \"14\", \"15\", \"16\", \"17\", \"18\", \"19\", \"20\", \"21\", \"22\", \"23\", \"24\", \"25\", \"27\", \"29\", \"30\", \"31\", \"32\", \"33\", \"34\", \"36\", \"37\"], \"mode\": \"lines\", \"name\": \"precision_score_micro_max\", \"stepped\": true, \"type\": \"scatter\", \"data\": [0.997471998876444, 0.9995435553526912, 0.9995435553526912, 0.9995435553526912, 0.9995435553526912, 0.9995435553526912, 0.9995435553526912, 0.9995435553526912, 0.9995435553526912, 0.9995435553526912, 0.9995435553526912, 0.9995435553526912, 0.9995435553526912, 0.9995435553526912, 0.9995435553526912, 0.9995435553526912, 0.9995435553526912, 0.9995435553526912, 0.9995435553526912, 0.9995435553526912, 0.9995435553526912, 0.9995435553526912, 0.9996839998595555, 0.9996839998595555, 0.9996839998595555, 0.9996839998595555, 0.9996839998595555, 0.9996839998595555, 0.9996839998595555, 0.9996839998595555, 0.9996839998595555, 0.9996839998595555, 0.9996839998595555, 0.9996839998595555, 0.9996839998595555]}], \"AUC_weighted\": [{\"categories\": [\"0\", \"1\", \"2\", \"3\", \"4\", \"5\", \"6\", \"7\", \"8\", \"9\", \"10\", \"11\", \"12\", \"13\", \"14\", \"15\", \"16\", \"17\", \"18\", \"19\", \"20\", \"21\", \"22\", \"23\", \"24\", \"25\", \"27\", \"29\", \"30\", \"31\", \"32\", \"33\", \"34\", \"36\", \"37\"], \"mode\": \"markers\", \"name\": \"AUC_weighted\", \"stepped\": false, \"type\": \"scatter\", \"data\": [0.794979033766479, 0.9583539148773018, 0.9652199160474545, 0.9573655151424669, 0.9569194095758733, 0.9429257634398723, 0.961692703248998, 0.9564424391028218, 0.9345556314816303, 0.9480059117062695, 0.9677824210719741, 0.9614310693326288, 0.9453698333582168, 0.9550868954785067, 0.9550370091762084, 0.9149101185212408, 0.9543177850768892, 0.938491265949261, 0.9587863775223089, 0.9438237168812376, 0.9459498064842142, 0.9677361218599136, 0.9549605924841923, 0.9574207848586818, 0.9555602510757143, 0.9616370746385218, 0.9607628082183916, 0.9386097010554362, 0.5, 0.9589482388340818, 0.9654234090935192, 0.9536021616518824, 0.9654790364690797, 0.9714872865296934, 0.9675545232161521]}, {\"categories\": [\"0\", \"1\", \"2\", \"3\", \"4\", \"5\", \"6\", \"7\", \"8\", \"9\", \"10\", \"11\", \"12\", \"13\", \"14\", \"15\", \"16\", \"17\", \"18\", \"19\", \"20\", \"21\", \"22\", \"23\", \"24\", \"25\", \"27\", \"29\", \"30\", \"31\", \"32\", \"33\", \"34\", \"36\", \"37\"], \"mode\": \"lines\", \"name\": \"AUC_weighted_max\", \"stepped\": true, \"type\": \"scatter\", \"data\": [0.794979033766479, 0.9583539148773018, 0.9652199160474545, 0.9652199160474545, 0.9652199160474545, 0.9652199160474545, 0.9652199160474545, 0.9652199160474545, 0.9652199160474545, 0.9652199160474545, 0.9677824210719741, 0.9677824210719741, 0.9677824210719741, 0.9677824210719741, 0.9677824210719741, 0.9677824210719741, 0.9677824210719741, 0.9677824210719741, 0.9677824210719741, 0.9677824210719741, 0.9677824210719741, 0.9677824210719741, 0.9677824210719741, 0.9677824210719741, 0.9677824210719741, 0.9677824210719741, 0.9677824210719741, 0.9677824210719741, 0.9677824210719741, 0.9677824210719741, 0.9677824210719741, 0.9677824210719741, 0.9677824210719741, 0.9714872865296934, 0.9714872865296934]}], \"log_loss\": [{\"categories\": [\"0\", \"1\", \"2\", \"3\", \"4\", \"5\", \"6\", \"7\", \"8\", \"9\", \"10\", \"11\", \"12\", \"13\", \"14\", \"15\", \"16\", \"17\", \"18\", \"19\", \"20\", \"21\", \"22\", \"23\", \"24\", \"25\", \"27\", \"29\", \"30\", \"31\", \"32\", \"33\", \"34\", \"36\", \"37\"], \"mode\": \"markers\", \"name\": \"log_loss\", \"stepped\": false, \"type\": \"scatter\", \"data\": [0.08660103808165362, 0.0025149251042369506, 0.006541737517938212, 0.010009046833482211, 0.13277737198861195, 0.009062162063741094, 0.007536324314016267, 0.009169379472907852, 0.010427731677846244, 0.009988293639902977, 0.009355878433609447, 0.17706930269205723, 0.005037557580125634, 0.15014399282229532, 0.007919086205126604, 0.6252827542038669, 0.28905492677705175, 0.1987215303422923, 0.008157844796409226, 0.38568247316446397, 0.5656610542317946, 0.0028781080211009486, 0.0022147363319640215, 0.004548919292398284, 0.11488318433809734, 0.010448674323503012, 0.2922153142721752, 0.19863493139205327, 0.6916312106468041, 0.007501437431349424, 0.0025103664744837136, 0.0024925547547508574, 0.0027255243686021514, 0.003540101530010447, 0.0028668493048542706]}, {\"categories\": [\"0\", \"1\", \"2\", \"3\", \"4\", \"5\", \"6\", \"7\", \"8\", \"9\", \"10\", \"11\", \"12\", \"13\", \"14\", \"15\", \"16\", \"17\", \"18\", \"19\", \"20\", \"21\", \"22\", \"23\", \"24\", \"25\", \"27\", \"29\", \"30\", \"31\", \"32\", \"33\", \"34\", \"36\", \"37\"], \"mode\": \"lines\", \"name\": \"log_loss_min\", \"stepped\": true, \"type\": \"scatter\", \"data\": [0.08660103808165362, 0.0025149251042369506, 0.0025149251042369506, 0.0025149251042369506, 0.0025149251042369506, 0.0025149251042369506, 0.0025149251042369506, 0.0025149251042369506, 0.0025149251042369506, 0.0025149251042369506, 0.0025149251042369506, 0.0025149251042369506, 0.0025149251042369506, 0.0025149251042369506, 0.0025149251042369506, 0.0025149251042369506, 0.0025149251042369506, 0.0025149251042369506, 0.0025149251042369506, 0.0025149251042369506, 0.0025149251042369506, 0.0025149251042369506, 0.0022147363319640215, 0.0022147363319640215, 0.0022147363319640215, 0.0022147363319640215, 0.0022147363319640215, 0.0022147363319640215, 0.0022147363319640215, 0.0022147363319640215, 0.0022147363319640215, 0.0022147363319640215, 0.0022147363319640215, 0.0022147363319640215, 0.0022147363319640215]}], \"AUC_macro\": [{\"categories\": [\"0\", \"1\", \"2\", \"3\", \"4\", \"5\", \"6\", \"7\", \"8\", \"9\", \"10\", \"11\", \"12\", \"13\", \"14\", \"15\", \"16\", \"17\", \"18\", \"19\", \"20\", \"21\", \"22\", \"23\", \"24\", \"25\", \"27\", \"29\", \"30\", \"31\", \"32\", \"33\", \"34\", \"36\", \"37\"], \"mode\": \"markers\", \"name\": \"AUC_macro\", \"stepped\": false, \"type\": \"scatter\", \"data\": [0.7944282383746971, 0.958355345514683, 0.9652199160474544, 0.9573655151424667, 0.9569194095758731, 0.9429257634398723, 0.9616927032489979, 0.9564424391028218, 0.9345556314816303, 0.9480059117062694, 0.9677824210719741, 0.9614310693326289, 0.9453698333582166, 0.9550868954785066, 0.9550370091762086, 0.9149101185212407, 0.9543177850768894, 0.9384912659492609, 0.9587863775223089, 0.9438237168812376, 0.9459498064842143, 0.9677355853708958, 0.9549686398194619, 0.9574207848586818, 0.9555527402294627, 0.9616370746385217, 0.9607628082183914, 0.9386097010554362, 0.5, 0.9589482388340818, 0.9654234090935192, 0.9536055594156627, 0.9654786788097343, 0.9714872865296935, 0.967554523216152]}, {\"categories\": [\"0\", \"1\", \"2\", \"3\", \"4\", \"5\", \"6\", \"7\", \"8\", \"9\", \"10\", \"11\", \"12\", \"13\", \"14\", \"15\", \"16\", \"17\", \"18\", \"19\", \"20\", \"21\", \"22\", \"23\", \"24\", \"25\", \"27\", \"29\", \"30\", \"31\", \"32\", \"33\", \"34\", \"36\", \"37\"], \"mode\": \"lines\", \"name\": \"AUC_macro_max\", \"stepped\": true, \"type\": \"scatter\", \"data\": [0.7944282383746971, 0.958355345514683, 0.9652199160474544, 0.9652199160474544, 0.9652199160474544, 0.9652199160474544, 0.9652199160474544, 0.9652199160474544, 0.9652199160474544, 0.9652199160474544, 0.9677824210719741, 0.9677824210719741, 0.9677824210719741, 0.9677824210719741, 0.9677824210719741, 0.9677824210719741, 0.9677824210719741, 0.9677824210719741, 0.9677824210719741, 0.9677824210719741, 0.9677824210719741, 0.9677824210719741, 0.9677824210719741, 0.9677824210719741, 0.9677824210719741, 0.9677824210719741, 0.9677824210719741, 0.9677824210719741, 0.9677824210719741, 0.9677824210719741, 0.9677824210719741, 0.9677824210719741, 0.9677824210719741, 0.9714872865296935, 0.9714872865296935]}], \"recall_score_weighted\": [{\"categories\": [\"0\", \"1\", \"2\", \"3\", \"4\", \"5\", \"6\", \"7\", \"8\", \"9\", \"10\", \"11\", \"12\", \"13\", \"14\", \"15\", \"16\", \"17\", \"18\", \"19\", \"20\", \"21\", \"22\", \"23\", \"24\", \"25\", \"27\", \"29\", \"30\", \"31\", \"32\", \"33\", \"34\", \"36\", \"37\"], \"mode\": \"markers\", \"name\": \"recall_score_weighted\", \"stepped\": false, \"type\": \"scatter\", \"data\": [0.997471998876444, 0.9995435553526912, 0.9982795547909132, 0.9982795547909132, 0.9743337663705628, 0.9982795547909132, 0.9982795547909132, 0.9982795547909132, 0.9982795547909132, 0.9982795547909132, 0.9982795547909132, 0.9797408798848355, 0.9991573329588147, 0.9790386573505144, 0.9982795547909132, 0.9814613250939223, 0.9693128752501667, 0.9994733330992591, 0.9982795547909132, 0.9334644148730733, 0.9767564341139707, 0.9994382219725431, 0.9996839998595555, 0.9992626663389628, 0.9746497665110073, 0.9982795547909132, 0.9861311049471577, 0.9994733330992591, 0.9982795547909132, 0.9982795547909132, 0.9996137776061234, 0.9995786664794073, 0.9993679997191109, 0.9993328885923949, 0.9995084442259752]}, {\"categories\": [\"0\", \"1\", \"2\", \"3\", \"4\", \"5\", \"6\", \"7\", \"8\", \"9\", \"10\", \"11\", \"12\", \"13\", \"14\", \"15\", \"16\", \"17\", \"18\", \"19\", \"20\", \"21\", \"22\", \"23\", \"24\", \"25\", \"27\", \"29\", \"30\", \"31\", \"32\", \"33\", \"34\", \"36\", \"37\"], \"mode\": \"lines\", \"name\": \"recall_score_weighted_max\", \"stepped\": true, \"type\": \"scatter\", \"data\": [0.997471998876444, 0.9995435553526912, 0.9995435553526912, 0.9995435553526912, 0.9995435553526912, 0.9995435553526912, 0.9995435553526912, 0.9995435553526912, 0.9995435553526912, 0.9995435553526912, 0.9995435553526912, 0.9995435553526912, 0.9995435553526912, 0.9995435553526912, 0.9995435553526912, 0.9995435553526912, 0.9995435553526912, 0.9995435553526912, 0.9995435553526912, 0.9995435553526912, 0.9995435553526912, 0.9995435553526912, 0.9996839998595555, 0.9996839998595555, 0.9996839998595555, 0.9996839998595555, 0.9996839998595555, 0.9996839998595555, 0.9996839998595555, 0.9996839998595555, 0.9996839998595555, 0.9996839998595555, 0.9996839998595555, 0.9996839998595555, 0.9996839998595555]}], \"recall_score_micro\": [{\"categories\": [\"0\", \"1\", \"2\", \"3\", \"4\", \"5\", \"6\", \"7\", \"8\", \"9\", \"10\", \"11\", \"12\", \"13\", \"14\", \"15\", \"16\", \"17\", \"18\", \"19\", \"20\", \"21\", \"22\", \"23\", \"24\", \"25\", \"27\", \"29\", \"30\", \"31\", \"32\", \"33\", \"34\", \"36\", \"37\"], \"mode\": \"markers\", \"name\": \"recall_score_micro\", \"stepped\": false, \"type\": \"scatter\", \"data\": [0.997471998876444, 0.9995435553526912, 0.9982795547909132, 0.9982795547909132, 0.9743337663705628, 0.9982795547909132, 0.9982795547909132, 0.9982795547909132, 0.9982795547909132, 0.9982795547909132, 0.9982795547909132, 0.9797408798848355, 0.9991573329588147, 0.9790386573505144, 0.9982795547909132, 0.9814613250939223, 0.9693128752501667, 0.9994733330992591, 0.9982795547909132, 0.9334644148730733, 0.9767564341139707, 0.9994382219725431, 0.9996839998595555, 0.9992626663389628, 0.9746497665110073, 0.9982795547909132, 0.9861311049471577, 0.9994733330992591, 0.9982795547909132, 0.9982795547909132, 0.9996137776061234, 0.9995786664794073, 0.9993679997191109, 0.9993328885923949, 0.9995084442259752]}, {\"categories\": [\"0\", \"1\", \"2\", \"3\", \"4\", \"5\", \"6\", \"7\", \"8\", \"9\", \"10\", \"11\", \"12\", \"13\", \"14\", \"15\", \"16\", \"17\", \"18\", \"19\", \"20\", \"21\", \"22\", \"23\", \"24\", \"25\", \"27\", \"29\", \"30\", \"31\", \"32\", \"33\", \"34\", \"36\", \"37\"], \"mode\": \"lines\", \"name\": \"recall_score_micro_max\", \"stepped\": true, \"type\": \"scatter\", \"data\": [0.997471998876444, 0.9995435553526912, 0.9995435553526912, 0.9995435553526912, 0.9995435553526912, 0.9995435553526912, 0.9995435553526912, 0.9995435553526912, 0.9995435553526912, 0.9995435553526912, 0.9995435553526912, 0.9995435553526912, 0.9995435553526912, 0.9995435553526912, 0.9995435553526912, 0.9995435553526912, 0.9995435553526912, 0.9995435553526912, 0.9995435553526912, 0.9995435553526912, 0.9995435553526912, 0.9995435553526912, 0.9996839998595555, 0.9996839998595555, 0.9996839998595555, 0.9996839998595555, 0.9996839998595555, 0.9996839998595555, 0.9996839998595555, 0.9996839998595555, 0.9996839998595555, 0.9996839998595555, 0.9996839998595555, 0.9996839998595555, 0.9996839998595555]}], \"f1_score_weighted\": [{\"categories\": [\"0\", \"1\", \"2\", \"3\", \"4\", \"5\", \"6\", \"7\", \"8\", \"9\", \"10\", \"11\", \"12\", \"13\", \"14\", \"15\", \"16\", \"17\", \"18\", \"19\", \"20\", \"21\", \"22\", \"23\", \"24\", \"25\", \"27\", \"29\", \"30\", \"31\", \"32\", \"33\", \"34\", \"36\", \"37\"], \"mode\": \"markers\", \"name\": \"f1_score_weighted\", \"stepped\": false, \"type\": \"scatter\", \"data\": [0.9977824257642381, 0.9995205128063204, 0.9974200728063972, 0.9974200728063972, 0.9854697687472899, 0.9974200728063972, 0.9974200728063972, 0.9974200728063972, 0.9974200728063972, 0.9974200728063972, 0.9974200728063972, 0.988275641949374, 0.9991298991380119, 0.9879145737810262, 0.9974200728063972, 0.9891527048121324, 0.9828539428036883, 0.9994400889957298, 0.9974200728063972, 0.9639474972908793, 0.9867138451158999, 0.9993990874201273, 0.9996755191237057, 0.999225443764056, 0.985633951769322, 0.9974200728063972, 0.9916112931209644, 0.9994331187599419, 0.9974200728063972, 0.9974200728063972, 0.9995989466678702, 0.999554764115789, 0.9993474243535088, 0.9992527777484448, 0.9994675417407876]}, {\"categories\": [\"0\", \"1\", \"2\", \"3\", \"4\", \"5\", \"6\", \"7\", \"8\", \"9\", \"10\", \"11\", \"12\", \"13\", \"14\", \"15\", \"16\", \"17\", \"18\", \"19\", \"20\", \"21\", \"22\", \"23\", \"24\", \"25\", \"27\", \"29\", \"30\", \"31\", \"32\", \"33\", \"34\", \"36\", \"37\"], \"mode\": \"lines\", \"name\": \"f1_score_weighted_max\", \"stepped\": true, \"type\": \"scatter\", \"data\": [0.9977824257642381, 0.9995205128063204, 0.9995205128063204, 0.9995205128063204, 0.9995205128063204, 0.9995205128063204, 0.9995205128063204, 0.9995205128063204, 0.9995205128063204, 0.9995205128063204, 0.9995205128063204, 0.9995205128063204, 0.9995205128063204, 0.9995205128063204, 0.9995205128063204, 0.9995205128063204, 0.9995205128063204, 0.9995205128063204, 0.9995205128063204, 0.9995205128063204, 0.9995205128063204, 0.9995205128063204, 0.9996755191237057, 0.9996755191237057, 0.9996755191237057, 0.9996755191237057, 0.9996755191237057, 0.9996755191237057, 0.9996755191237057, 0.9996755191237057, 0.9996755191237057, 0.9996755191237057, 0.9996755191237057, 0.9996755191237057, 0.9996755191237057]}], \"recall_score_macro\": [{\"categories\": [\"0\", \"1\", \"2\", \"3\", \"4\", \"5\", \"6\", \"7\", \"8\", \"9\", \"10\", \"11\", \"12\", \"13\", \"14\", \"15\", \"16\", \"17\", \"18\", \"19\", \"20\", \"21\", \"22\", \"23\", \"24\", \"25\", \"27\", \"29\", \"30\", \"31\", \"32\", \"33\", \"34\", \"36\", \"37\"], \"mode\": \"markers\", \"name\": \"recall_score_macro\", \"stepped\": false, \"type\": \"scatter\", \"data\": [0.7950039047695612, 0.8877199304032248, 0.5, 0.5, 0.946398783204897, 0.5, 0.5, 0.5, 0.5, 0.5, 0.5, 0.938920503485581, 0.8467805031410426, 0.948755282923524, 0.5, 0.8990362253511421, 0.923511019489394, 0.8673117671379188, 0.5, 0.915742394312818, 0.9068662214463725, 0.8571076855052657, 0.9285362569338371, 0.8468332605974298, 0.9465570555740586, 0.5, 0.9421211225064027, 0.8571252713240614, 0.5, 0.5, 0.908128093668531, 0.8877375162220206, 0.8774455054953889, 0.8061224489795918, 0.8571428571428572]}, {\"categories\": [\"0\", \"1\", \"2\", \"3\", \"4\", \"5\", \"6\", \"7\", \"8\", \"9\", \"10\", \"11\", \"12\", \"13\", \"14\", \"15\", \"16\", \"17\", \"18\", \"19\", \"20\", \"21\", \"22\", \"23\", \"24\", \"25\", \"27\", \"29\", \"30\", \"31\", \"32\", \"33\", \"34\", \"36\", \"37\"], \"mode\": \"lines\", \"name\": \"recall_score_macro_max\", \"stepped\": true, \"type\": \"scatter\", \"data\": [0.7950039047695612, 0.8877199304032248, 0.8877199304032248, 0.8877199304032248, 0.946398783204897, 0.946398783204897, 0.946398783204897, 0.946398783204897, 0.946398783204897, 0.946398783204897, 0.946398783204897, 0.946398783204897, 0.946398783204897, 0.948755282923524, 0.948755282923524, 0.948755282923524, 0.948755282923524, 0.948755282923524, 0.948755282923524, 0.948755282923524, 0.948755282923524, 0.948755282923524, 0.948755282923524, 0.948755282923524, 0.948755282923524, 0.948755282923524, 0.948755282923524, 0.948755282923524, 0.948755282923524, 0.948755282923524, 0.948755282923524, 0.948755282923524, 0.948755282923524, 0.948755282923524, 0.948755282923524]}], \"matthews_correlation\": [{\"categories\": [\"0\", \"1\", \"2\", \"3\", \"4\", \"5\", \"6\", \"7\", \"8\", \"9\", \"10\", \"11\", \"12\", \"13\", \"14\", \"15\", \"16\", \"17\", \"18\", \"19\", \"20\", \"21\", \"22\", \"23\", \"24\", \"25\", \"27\", \"29\", \"30\", \"31\", \"32\", \"33\", \"34\", \"36\", \"37\"], \"mode\": \"markers\", \"name\": \"matthews_correlation\", \"stepped\": false, \"type\": \"scatter\", \"data\": [0.45915342256335906, 0.8581188462647884, 0.0, 0.0, 0.22784298751893045, 0.0, 0.0, 0.0, 0.0, 0.0, 0.0, 0.25009080808937906, 0.7402913256211177, 0.2513465695067337, 0.0, 0.23843219628009762, 0.1994889682828081, 0.8340403915712905, 0.0, 0.13696830899269213, 0.2185636619967243, 0.8217405925041452, 0.9043802833559871, 0.7676266657754605, 0.2292268478161259, 0.0, 0.29914719356855, 0.8331018614033996, 0.0, 0.0, 0.8815489362933638, 0.8690748763736589, 0.8057535849968727, 0.7821994833358615, 0.8449462533266463]}, {\"categories\": [\"0\", \"1\", \"2\", \"3\", \"4\", \"5\", \"6\", \"7\", \"8\", \"9\", \"10\", \"11\", \"12\", \"13\", \"14\", \"15\", \"16\", \"17\", \"18\", \"19\", \"20\", \"21\", \"22\", \"23\", \"24\", \"25\", \"27\", \"29\", \"30\", \"31\", \"32\", \"33\", \"34\", \"36\", \"37\"], \"mode\": \"lines\", \"name\": \"matthews_correlation_max\", \"stepped\": true, \"type\": \"scatter\", \"data\": [0.45915342256335906, 0.8581188462647884, 0.8581188462647884, 0.8581188462647884, 0.8581188462647884, 0.8581188462647884, 0.8581188462647884, 0.8581188462647884, 0.8581188462647884, 0.8581188462647884, 0.8581188462647884, 0.8581188462647884, 0.8581188462647884, 0.8581188462647884, 0.8581188462647884, 0.8581188462647884, 0.8581188462647884, 0.8581188462647884, 0.8581188462647884, 0.8581188462647884, 0.8581188462647884, 0.8581188462647884, 0.9043802833559871, 0.9043802833559871, 0.9043802833559871, 0.9043802833559871, 0.9043802833559871, 0.9043802833559871, 0.9043802833559871, 0.9043802833559871, 0.9043802833559871, 0.9043802833559871, 0.9043802833559871, 0.9043802833559871, 0.9043802833559871]}], \"accuracy\": [{\"categories\": [\"0\", \"1\", \"2\", \"3\", \"4\", \"5\", \"6\", \"7\", \"8\", \"9\", \"10\", \"11\", \"12\", \"13\", \"14\", \"15\", \"16\", \"17\", \"18\", \"19\", \"20\", \"21\", \"22\", \"23\", \"24\", \"25\", \"27\", \"29\", \"30\", \"31\", \"32\", \"33\", \"34\", \"36\", \"37\"], \"mode\": \"markers\", \"name\": \"accuracy\", \"stepped\": false, \"type\": \"scatter\", \"data\": [0.997471998876444, 0.9995435553526912, 0.9982795547909132, 0.9982795547909132, 0.9743337663705628, 0.9982795547909132, 0.9982795547909132, 0.9982795547909132, 0.9982795547909132, 0.9982795547909132, 0.9982795547909132, 0.9797408798848355, 0.9991573329588147, 0.9790386573505144, 0.9982795547909132, 0.9814613250939223, 0.9693128752501667, 0.9994733330992591, 0.9982795547909132, 0.9334644148730733, 0.9767564341139707, 0.9994382219725431, 0.9996839998595555, 0.9992626663389628, 0.9746497665110073, 0.9982795547909132, 0.9861311049471577, 0.9994733330992591, 0.9982795547909132, 0.9982795547909132, 0.9996137776061234, 0.9995786664794073, 0.9993679997191109, 0.9993328885923949, 0.9995084442259752]}, {\"categories\": [\"0\", \"1\", \"2\", \"3\", \"4\", \"5\", \"6\", \"7\", \"8\", \"9\", \"10\", \"11\", \"12\", \"13\", \"14\", \"15\", \"16\", \"17\", \"18\", \"19\", \"20\", \"21\", \"22\", \"23\", \"24\", \"25\", \"27\", \"29\", \"30\", \"31\", \"32\", \"33\", \"34\", \"36\", \"37\"], \"mode\": \"lines\", \"name\": \"accuracy_max\", \"stepped\": true, \"type\": \"scatter\", \"data\": [0.997471998876444, 0.9995435553526912, 0.9995435553526912, 0.9995435553526912, 0.9995435553526912, 0.9995435553526912, 0.9995435553526912, 0.9995435553526912, 0.9995435553526912, 0.9995435553526912, 0.9995435553526912, 0.9995435553526912, 0.9995435553526912, 0.9995435553526912, 0.9995435553526912, 0.9995435553526912, 0.9995435553526912, 0.9995435553526912, 0.9995435553526912, 0.9995435553526912, 0.9995435553526912, 0.9995435553526912, 0.9996839998595555, 0.9996839998595555, 0.9996839998595555, 0.9996839998595555, 0.9996839998595555, 0.9996839998595555, 0.9996839998595555, 0.9996839998595555, 0.9996839998595555, 0.9996839998595555, 0.9996839998595555, 0.9996839998595555, 0.9996839998595555]}], \"balanced_accuracy\": [{\"categories\": [\"0\", \"1\", \"2\", \"3\", \"4\", \"5\", \"6\", \"7\", \"8\", \"9\", \"10\", \"11\", \"12\", \"13\", \"14\", \"15\", \"16\", \"17\", \"18\", \"19\", \"20\", \"21\", \"22\", \"23\", \"24\", \"25\", \"27\", \"29\", \"30\", \"31\", \"32\", \"33\", \"34\", \"36\", \"37\"], \"mode\": \"markers\", \"name\": \"balanced_accuracy\", \"stepped\": false, \"type\": \"scatter\", \"data\": [0.7950039047695612, 0.8877199304032248, 0.5, 0.5, 0.946398783204897, 0.5, 0.5, 0.5, 0.5, 0.5, 0.5, 0.938920503485581, 0.8467805031410426, 0.948755282923524, 0.5, 0.8990362253511421, 0.923511019489394, 0.8673117671379188, 0.5, 0.915742394312818, 0.9068662214463725, 0.8571076855052657, 0.9285362569338371, 0.8468332605974298, 0.9465570555740586, 0.5, 0.9421211225064027, 0.8571252713240614, 0.5, 0.5, 0.908128093668531, 0.8877375162220206, 0.8774455054953889, 0.8061224489795918, 0.8571428571428572]}, {\"categories\": [\"0\", \"1\", \"2\", \"3\", \"4\", \"5\", \"6\", \"7\", \"8\", \"9\", \"10\", \"11\", \"12\", \"13\", \"14\", \"15\", \"16\", \"17\", \"18\", \"19\", \"20\", \"21\", \"22\", \"23\", \"24\", \"25\", \"27\", \"29\", \"30\", \"31\", \"32\", \"33\", \"34\", \"36\", \"37\"], \"mode\": \"lines\", \"name\": \"balanced_accuracy_max\", \"stepped\": true, \"type\": \"scatter\", \"data\": [0.7950039047695612, 0.8877199304032248, 0.8877199304032248, 0.8877199304032248, 0.946398783204897, 0.946398783204897, 0.946398783204897, 0.946398783204897, 0.946398783204897, 0.946398783204897, 0.946398783204897, 0.946398783204897, 0.946398783204897, 0.948755282923524, 0.948755282923524, 0.948755282923524, 0.948755282923524, 0.948755282923524, 0.948755282923524, 0.948755282923524, 0.948755282923524, 0.948755282923524, 0.948755282923524, 0.948755282923524, 0.948755282923524, 0.948755282923524, 0.948755282923524, 0.948755282923524, 0.948755282923524, 0.948755282923524, 0.948755282923524, 0.948755282923524, 0.948755282923524, 0.948755282923524, 0.948755282923524]}], \"average_precision_score_micro\": [{\"categories\": [\"0\", \"1\", \"2\", \"3\", \"4\", \"5\", \"6\", \"7\", \"8\", \"9\", \"10\", \"11\", \"12\", \"13\", \"14\", \"15\", \"16\", \"17\", \"18\", \"19\", \"20\", \"21\", \"22\", \"23\", \"24\", \"25\", \"27\", \"29\", \"30\", \"31\", \"32\", \"33\", \"34\", \"36\", \"37\"], \"mode\": \"markers\", \"name\": \"average_precision_score_micro\", \"stepped\": false, \"type\": \"scatter\", \"data\": [0.99642318709727, 0.9998362154301887, 0.9998718887923652, 0.999822423474857, 0.9969306664220796, 0.9997705021939349, 0.9998321061164271, 0.9998374395453011, 0.999657741242411, 0.9997985002142453, 0.9998876838410719, 0.9973308865460728, 0.9994350379684546, 0.9972500735924572, 0.9998158804822742, 0.996818224608649, 0.9960180964008202, 0.9996825200153858, 0.9998177142175766, 0.9860325215351998, 0.9960843939152993, 0.9998852682686218, 0.9998300354982697, 0.9996667237505958, 0.9902380174668168, 0.9998661318979012, 0.9980837208224749, 0.9996830310513732, 0.9974222921180873, 0.9998376563718362, 0.9998759359064433, 0.999784685007491, 0.9998767031638542, 0.9999018619636073, 0.9998854990566436]}, {\"categories\": [\"0\", \"1\", \"2\", \"3\", \"4\", \"5\", \"6\", \"7\", \"8\", \"9\", \"10\", \"11\", \"12\", \"13\", \"14\", \"15\", \"16\", \"17\", \"18\", \"19\", \"20\", \"21\", \"22\", \"23\", \"24\", \"25\", \"27\", \"29\", \"30\", \"31\", \"32\", \"33\", \"34\", \"36\", \"37\"], \"mode\": \"lines\", \"name\": \"average_precision_score_micro_max\", \"stepped\": true, \"type\": \"scatter\", \"data\": [0.99642318709727, 0.9998362154301887, 0.9998718887923652, 0.9998718887923652, 0.9998718887923652, 0.9998718887923652, 0.9998718887923652, 0.9998718887923652, 0.9998718887923652, 0.9998718887923652, 0.9998876838410719, 0.9998876838410719, 0.9998876838410719, 0.9998876838410719, 0.9998876838410719, 0.9998876838410719, 0.9998876838410719, 0.9998876838410719, 0.9998876838410719, 0.9998876838410719, 0.9998876838410719, 0.9998876838410719, 0.9998876838410719, 0.9998876838410719, 0.9998876838410719, 0.9998876838410719, 0.9998876838410719, 0.9998876838410719, 0.9998876838410719, 0.9998876838410719, 0.9998876838410719, 0.9998876838410719, 0.9998876838410719, 0.9999018619636073, 0.9999018619636073]}], \"f1_score_macro\": [{\"categories\": [\"0\", \"1\", \"2\", \"3\", \"4\", \"5\", \"6\", \"7\", \"8\", \"9\", \"10\", \"11\", \"12\", \"13\", \"14\", \"15\", \"16\", \"17\", \"18\", \"19\", \"20\", \"21\", \"22\", \"23\", \"24\", \"25\", \"27\", \"29\", \"30\", \"31\", \"32\", \"33\", \"34\", \"36\", \"37\"], \"mode\": \"markers\", \"name\": \"f1_score_macro\", \"stepped\": false, \"type\": \"scatter\", \"data\": [0.7224434771309771, 0.9268520024015661, 0.4995695183877146, 0.4995695183877146, 0.5483008123729531, 0.4995695183877146, 0.4995695183877146, 0.4995695183877146, 0.4995695183877146, 0.4995695183877146, 0.4995695183877146, 0.5610408065387904, 0.8693542098302001, 0.5601978742102006, 0.4995695183877146, 0.5611048017886929, 0.5369883739271217, 0.9136612353164077, 0.4995695183877146, 0.5049547502009134, 0.5492197329367207, 0.906836087318475, 0.9515337739989869, 0.8818378500332991, 0.5489895117318583, 0.4995695183877146, 0.5876004335439432, 0.9116328423874429, 0.4995695183877146, 0.4995695183877146, 0.939463729462147, 0.9317126854578062, 0.90201565737265, 0.8795798259674478, 0.9165435962352169]}, {\"categories\": [\"0\", \"1\", \"2\", \"3\", \"4\", \"5\", \"6\", \"7\", \"8\", \"9\", \"10\", \"11\", \"12\", \"13\", \"14\", \"15\", \"16\", \"17\", \"18\", \"19\", \"20\", \"21\", \"22\", \"23\", \"24\", \"25\", \"27\", \"29\", \"30\", \"31\", \"32\", \"33\", \"34\", \"36\", \"37\"], \"mode\": \"lines\", \"name\": \"f1_score_macro_max\", \"stepped\": true, \"type\": \"scatter\", \"data\": [0.7224434771309771, 0.9268520024015661, 0.9268520024015661, 0.9268520024015661, 0.9268520024015661, 0.9268520024015661, 0.9268520024015661, 0.9268520024015661, 0.9268520024015661, 0.9268520024015661, 0.9268520024015661, 0.9268520024015661, 0.9268520024015661, 0.9268520024015661, 0.9268520024015661, 0.9268520024015661, 0.9268520024015661, 0.9268520024015661, 0.9268520024015661, 0.9268520024015661, 0.9268520024015661, 0.9268520024015661, 0.9515337739989869, 0.9515337739989869, 0.9515337739989869, 0.9515337739989869, 0.9515337739989869, 0.9515337739989869, 0.9515337739989869, 0.9515337739989869, 0.9515337739989869, 0.9515337739989869, 0.9515337739989869, 0.9515337739989869, 0.9515337739989869]}], \"precision_score_macro\": [{\"categories\": [\"0\", \"1\", \"2\", \"3\", \"4\", \"5\", \"6\", \"7\", \"8\", \"9\", \"10\", \"11\", \"12\", \"13\", \"14\", \"15\", \"16\", \"17\", \"18\", \"19\", \"20\", \"21\", \"22\", \"23\", \"24\", \"25\", \"27\", \"29\", \"30\", \"31\", \"32\", \"33\", \"34\", \"36\", \"37\"], \"mode\": \"markers\", \"name\": \"precision_score_macro\", \"stepped\": false, \"type\": \"scatter\", \"data\": [0.678660233002956, 0.9748066172075525, 0.4991397773954566, 0.4991397773954566, 0.5290728990057102, 0.4991397773954566, 0.4991397773954566, 0.4991397773954566, 0.4991397773954566, 0.4991397773954566, 0.4991397773954566, 0.5356245674296993, 0.8950851055826057, 0.5351946263402372, 0.4991397773954566, 0.5356170120726035, 0.5234916251497536, 0.9734556832964174, 0.4991397773954566, 0.5112812151977708, 0.5293524454890849, 0.9727268753776981, 0.9771496481856224, 0.9247362961921171, 0.5294167044859306, 0.4991397773954566, 0.5506021081466446, 0.9858650221675358, 0.4991397773954566, 0.4991397773954566, 0.9760322427786121, 0.9869861111862377, 0.9300215728381775, 0.9996660925802257, 0.999753919707516]}, {\"categories\": [\"0\", \"1\", \"2\", \"3\", \"4\", \"5\", \"6\", \"7\", \"8\", \"9\", \"10\", \"11\", \"12\", \"13\", \"14\", \"15\", \"16\", \"17\", \"18\", \"19\", \"20\", \"21\", \"22\", \"23\", \"24\", \"25\", \"27\", \"29\", \"30\", \"31\", \"32\", \"33\", \"34\", \"36\", \"37\"], \"mode\": \"lines\", \"name\": \"precision_score_macro_max\", \"stepped\": true, \"type\": \"scatter\", \"data\": [0.678660233002956, 0.9748066172075525, 0.9748066172075525, 0.9748066172075525, 0.9748066172075525, 0.9748066172075525, 0.9748066172075525, 0.9748066172075525, 0.9748066172075525, 0.9748066172075525, 0.9748066172075525, 0.9748066172075525, 0.9748066172075525, 0.9748066172075525, 0.9748066172075525, 0.9748066172075525, 0.9748066172075525, 0.9748066172075525, 0.9748066172075525, 0.9748066172075525, 0.9748066172075525, 0.9748066172075525, 0.9771496481856224, 0.9771496481856224, 0.9771496481856224, 0.9771496481856224, 0.9771496481856224, 0.9858650221675358, 0.9858650221675358, 0.9858650221675358, 0.9858650221675358, 0.9869861111862377, 0.9869861111862377, 0.9996660925802257, 0.999753919707516]}], \"norm_macro_recall\": [{\"categories\": [\"0\", \"1\", \"2\", \"3\", \"4\", \"5\", \"6\", \"7\", \"8\", \"9\", \"10\", \"11\", \"12\", \"13\", \"14\", \"15\", \"16\", \"17\", \"18\", \"19\", \"20\", \"21\", \"22\", \"23\", \"24\", \"25\", \"27\", \"29\", \"30\", \"31\", \"32\", \"33\", \"34\", \"36\", \"37\"], \"mode\": \"markers\", \"name\": \"norm_macro_recall\", \"stepped\": false, \"type\": \"scatter\", \"data\": [0.5900078095391224, 0.7754398608064497, 0.0, 0.0, 0.892797566409794, 0.0, 0.0, 0.0, 0.0, 0.0, 0.0, 0.877841006971162, 0.6935610062820852, 0.8975105658470479, 0.0, 0.7980724507022843, 0.8470220389787879, 0.7346235342758376, 0.0, 0.831484788625636, 0.813732442892745, 0.7142153710105315, 0.8570725138676742, 0.6936665211948596, 0.8931141111481171, 0.0, 0.8842422450128054, 0.7142505426481227, 0.0, 0.0, 0.816256187337062, 0.7754750324440411, 0.7548910109907778, 0.6122448979591837, 0.7142857142857144]}, {\"categories\": [\"0\", \"1\", \"2\", \"3\", \"4\", \"5\", \"6\", \"7\", \"8\", \"9\", \"10\", \"11\", \"12\", \"13\", \"14\", \"15\", \"16\", \"17\", \"18\", \"19\", \"20\", \"21\", \"22\", \"23\", \"24\", \"25\", \"27\", \"29\", \"30\", \"31\", \"32\", \"33\", \"34\", \"36\", \"37\"], \"mode\": \"lines\", \"name\": \"norm_macro_recall_max\", \"stepped\": true, \"type\": \"scatter\", \"data\": [0.5900078095391224, 0.7754398608064497, 0.7754398608064497, 0.7754398608064497, 0.892797566409794, 0.892797566409794, 0.892797566409794, 0.892797566409794, 0.892797566409794, 0.892797566409794, 0.892797566409794, 0.892797566409794, 0.892797566409794, 0.8975105658470479, 0.8975105658470479, 0.8975105658470479, 0.8975105658470479, 0.8975105658470479, 0.8975105658470479, 0.8975105658470479, 0.8975105658470479, 0.8975105658470479, 0.8975105658470479, 0.8975105658470479, 0.8975105658470479, 0.8975105658470479, 0.8975105658470479, 0.8975105658470479, 0.8975105658470479, 0.8975105658470479, 0.8975105658470479, 0.8975105658470479, 0.8975105658470479, 0.8975105658470479, 0.8975105658470479]}], \"precision_score_weighted\": [{\"categories\": [\"0\", \"1\", \"2\", \"3\", \"4\", \"5\", \"6\", \"7\", \"8\", \"9\", \"10\", \"11\", \"12\", \"13\", \"14\", \"15\", \"16\", \"17\", \"18\", \"19\", \"20\", \"21\", \"22\", \"23\", \"24\", \"25\", \"27\", \"29\", \"30\", \"31\", \"32\", \"33\", \"34\", \"36\", \"37\"], \"mode\": \"markers\", \"name\": \"precision_score_weighted\", \"stepped\": false, \"type\": \"scatter\", \"data\": [0.9981925028849155, 0.9995278775636481, 0.996562069513544, 0.996562069513544, 0.9982357307396306, 0.996562069513544, 0.996562069513544, 0.996562069513544, 0.996562069513544, 0.996562069513544, 0.996562069513544, 0.9982233158760323, 0.9991133510349366, 0.9982574872909705, 0.996562069513544, 0.9980808916356664, 0.9981435078760384, 0.9994531821295123, 0.996562069513544, 0.9981306750923026, 0.9980936292453189, 0.9994156545659786, 0.9996760632724833, 0.9992154329787769, 0.9982369604480066, 0.996562069513544, 0.9982760123290574, 0.9994608787332405, 0.996562069513544, 0.996562069513544, 0.9996021516777653, 0.9995697994193833, 0.9993386932523891, 0.9993333340992926, 0.9995086861503524]}, {\"categories\": [\"0\", \"1\", \"2\", \"3\", \"4\", \"5\", \"6\", \"7\", \"8\", \"9\", \"10\", \"11\", \"12\", \"13\", \"14\", \"15\", \"16\", \"17\", \"18\", \"19\", \"20\", \"21\", \"22\", \"23\", \"24\", \"25\", \"27\", \"29\", \"30\", \"31\", \"32\", \"33\", \"34\", \"36\", \"37\"], \"mode\": \"lines\", \"name\": \"precision_score_weighted_max\", \"stepped\": true, \"type\": \"scatter\", \"data\": [0.9981925028849155, 0.9995278775636481, 0.9995278775636481, 0.9995278775636481, 0.9995278775636481, 0.9995278775636481, 0.9995278775636481, 0.9995278775636481, 0.9995278775636481, 0.9995278775636481, 0.9995278775636481, 0.9995278775636481, 0.9995278775636481, 0.9995278775636481, 0.9995278775636481, 0.9995278775636481, 0.9995278775636481, 0.9995278775636481, 0.9995278775636481, 0.9995278775636481, 0.9995278775636481, 0.9995278775636481, 0.9996760632724833, 0.9996760632724833, 0.9996760632724833, 0.9996760632724833, 0.9996760632724833, 0.9996760632724833, 0.9996760632724833, 0.9996760632724833, 0.9996760632724833, 0.9996760632724833, 0.9996760632724833, 0.9996760632724833, 0.9996760632724833]}], \"weighted_accuracy\": [{\"categories\": [\"0\", \"1\", \"2\", \"3\", \"4\", \"5\", \"6\", \"7\", \"8\", \"9\", \"10\", \"11\", \"12\", \"13\", \"14\", \"15\", \"16\", \"17\", \"18\", \"19\", \"20\", \"21\", \"22\", \"23\", \"24\", \"25\", \"27\", \"29\", \"30\", \"31\", \"32\", \"33\", \"34\", \"36\", \"37\"], \"mode\": \"markers\", \"name\": \"weighted_accuracy\", \"stepped\": false, \"type\": \"scatter\", \"data\": [0.9981698679777894, 0.9999289901689614, 0.9999970298659596, 0.9999970298659596, 0.9744300529567724, 0.9999970298659596, 0.9999970298659596, 0.9999970298659596, 0.9999970298659596, 0.9999970298659596, 0.9999970298659596, 0.9798815799764722, 0.999682546977151, 0.9791430383957861, 0.9999970298659596, 0.9817454287722797, 0.9694707455559092, 0.9999288689390007, 0.9999970298659596, 0.9335254993151278, 0.9769973324151194, 0.9999288083240202, 0.9999292326288831, 0.9997880615765319, 0.9747465967549152, 0.9999970298659596, 0.9862827990055804, 0.9999639798571472, 0.9999970298659596, 0.9999970298659596, 0.9999291113989223, 0.9999641617020885, 0.9997882434214731, 0.9999988483153721, 0.9999991513902742]}, {\"categories\": [\"0\", \"1\", \"2\", \"3\", \"4\", \"5\", \"6\", \"7\", \"8\", \"9\", \"10\", \"11\", \"12\", \"13\", \"14\", \"15\", \"16\", \"17\", \"18\", \"19\", \"20\", \"21\", \"22\", \"23\", \"24\", \"25\", \"27\", \"29\", \"30\", \"31\", \"32\", \"33\", \"34\", \"36\", \"37\"], \"mode\": \"lines\", \"name\": \"weighted_accuracy_max\", \"stepped\": true, \"type\": \"scatter\", \"data\": [0.9981698679777894, 0.9999289901689614, 0.9999970298659596, 0.9999970298659596, 0.9999970298659596, 0.9999970298659596, 0.9999970298659596, 0.9999970298659596, 0.9999970298659596, 0.9999970298659596, 0.9999970298659596, 0.9999970298659596, 0.9999970298659596, 0.9999970298659596, 0.9999970298659596, 0.9999970298659596, 0.9999970298659596, 0.9999970298659596, 0.9999970298659596, 0.9999970298659596, 0.9999970298659596, 0.9999970298659596, 0.9999970298659596, 0.9999970298659596, 0.9999970298659596, 0.9999970298659596, 0.9999970298659596, 0.9999970298659596, 0.9999970298659596, 0.9999970298659596, 0.9999970298659596, 0.9999970298659596, 0.9999970298659596, 0.9999988483153721, 0.9999991513902742]}], \"AUC_micro\": [{\"categories\": [\"0\", \"1\", \"2\", \"3\", \"4\", \"5\", \"6\", \"7\", \"8\", \"9\", \"10\", \"11\", \"12\", \"13\", \"14\", \"15\", \"16\", \"17\", \"18\", \"19\", \"20\", \"21\", \"22\", \"23\", \"24\", \"25\", \"27\", \"29\", \"30\", \"31\", \"32\", \"33\", \"34\", \"36\", \"37\"], \"mode\": \"markers\", \"name\": \"AUC_micro\", \"stepped\": false, \"type\": \"scatter\", \"data\": [0.9976048074744959, 0.9998561986026456, 0.9998775715040141, 0.9998505918681805, 0.9969351898023421, 0.9998009917462642, 0.9998654556319113, 0.9998474211291645, 0.9997722405894486, 0.999818441905973, 0.9998863736333197, 0.997391545688683, 0.9995981938923206, 0.9972660758967593, 0.9998425935187498, 0.9976765325004244, 0.9961032431135995, 0.9997878156737128, 0.9998554724886175, 0.9857076633535801, 0.9968647481120728, 0.999888238230039, 0.9998446812506797, 0.9997415539504184, 0.9931792361650509, 0.9998652645492723, 0.9983179956867125, 0.9997883211181126, 0.9982795547909133, 0.9998560284774574, 0.9998805240389843, 0.9998399066502874, 0.9998805351341054, 0.9999005223781433, 0.9998876310803635]}, {\"categories\": [\"0\", \"1\", \"2\", \"3\", \"4\", \"5\", \"6\", \"7\", \"8\", \"9\", \"10\", \"11\", \"12\", \"13\", \"14\", \"15\", \"16\", \"17\", \"18\", \"19\", \"20\", \"21\", \"22\", \"23\", \"24\", \"25\", \"27\", \"29\", \"30\", \"31\", \"32\", \"33\", \"34\", \"36\", \"37\"], \"mode\": \"lines\", \"name\": \"AUC_micro_max\", \"stepped\": true, \"type\": \"scatter\", \"data\": [0.9976048074744959, 0.9998561986026456, 0.9998775715040141, 0.9998775715040141, 0.9998775715040141, 0.9998775715040141, 0.9998775715040141, 0.9998775715040141, 0.9998775715040141, 0.9998775715040141, 0.9998863736333197, 0.9998863736333197, 0.9998863736333197, 0.9998863736333197, 0.9998863736333197, 0.9998863736333197, 0.9998863736333197, 0.9998863736333197, 0.9998863736333197, 0.9998863736333197, 0.9998863736333197, 0.999888238230039, 0.999888238230039, 0.999888238230039, 0.999888238230039, 0.999888238230039, 0.999888238230039, 0.999888238230039, 0.999888238230039, 0.999888238230039, 0.999888238230039, 0.999888238230039, 0.999888238230039, 0.9999005223781433, 0.9999005223781433]}], \"f1_score_micro\": [{\"categories\": [\"0\", \"1\", \"2\", \"3\", \"4\", \"5\", \"6\", \"7\", \"8\", \"9\", \"10\", \"11\", \"12\", \"13\", \"14\", \"15\", \"16\", \"17\", \"18\", \"19\", \"20\", \"21\", \"22\", \"23\", \"24\", \"25\", \"27\", \"29\", \"30\", \"31\", \"32\", \"33\", \"34\", \"36\", \"37\"], \"mode\": \"markers\", \"name\": \"f1_score_micro\", \"stepped\": false, \"type\": \"scatter\", \"data\": [0.997471998876444, 0.9995435553526912, 0.9982795547909132, 0.9982795547909132, 0.9743337663705628, 0.9982795547909132, 0.9982795547909132, 0.9982795547909132, 0.9982795547909132, 0.9982795547909132, 0.9982795547909132, 0.9797408798848355, 0.9991573329588147, 0.9790386573505144, 0.9982795547909132, 0.9814613250939223, 0.9693128752501667, 0.9994733330992591, 0.9982795547909132, 0.9334644148730733, 0.9767564341139707, 0.9994382219725431, 0.9996839998595555, 0.9992626663389628, 0.9746497665110073, 0.9982795547909132, 0.9861311049471577, 0.9994733330992591, 0.9982795547909132, 0.9982795547909132, 0.9996137776061234, 0.9995786664794073, 0.9993679997191109, 0.9993328885923949, 0.9995084442259752]}, {\"categories\": [\"0\", \"1\", \"2\", \"3\", \"4\", \"5\", \"6\", \"7\", \"8\", \"9\", \"10\", \"11\", \"12\", \"13\", \"14\", \"15\", \"16\", \"17\", \"18\", \"19\", \"20\", \"21\", \"22\", \"23\", \"24\", \"25\", \"27\", \"29\", \"30\", \"31\", \"32\", \"33\", \"34\", \"36\", \"37\"], \"mode\": \"lines\", \"name\": \"f1_score_micro_max\", \"stepped\": true, \"type\": \"scatter\", \"data\": [0.997471998876444, 0.9995435553526912, 0.9995435553526912, 0.9995435553526912, 0.9995435553526912, 0.9995435553526912, 0.9995435553526912, 0.9995435553526912, 0.9995435553526912, 0.9995435553526912, 0.9995435553526912, 0.9995435553526912, 0.9995435553526912, 0.9995435553526912, 0.9995435553526912, 0.9995435553526912, 0.9995435553526912, 0.9995435553526912, 0.9995435553526912, 0.9995435553526912, 0.9995435553526912, 0.9995435553526912, 0.9996839998595555, 0.9996839998595555, 0.9996839998595555, 0.9996839998595555, 0.9996839998595555, 0.9996839998595555, 0.9996839998595555, 0.9996839998595555, 0.9996839998595555, 0.9996839998595555, 0.9996839998595555, 0.9996839998595555, 0.9996839998595555]}]}, \"metricName\": null, \"primaryMetricName\": \"AUC_weighted\", \"showLegend\": false}, \"run_metrics\": [{\"name\": \"experiment_status\", \"run_id\": \"AutoML_ff35158a-806d-424c-9003-feef720d8671\", \"categories\": [0, 1, 2, 3, 4, 5, 6, 7, 8, 9, 10, 11, 12, 13], \"series\": [{\"data\": [\"DatasetEvaluation\", \"FeaturesGeneration\", \"DatasetFeaturization\", \"DatasetFeaturizationCompleted\", \"DatasetBalancing\", \"ModelSelection\", \"BestRunExplainModel\", \"ModelExplanationDataSetSetup\", \"PickSurrogateModel\", \"EngineeredFeatureExplanations\", \"EngineeredFeatureExplanations\", \"RawFeaturesExplanations\", \"RawFeaturesExplanations\", \"BestRunExplainModel\"]}]}, {\"name\": \"experiment_status_description\", \"run_id\": \"AutoML_ff35158a-806d-424c-9003-feef720d8671\", \"categories\": [0, 1, 2, 3, 4, 5, 6, 7, 8, 9, 10, 11, 12, 13], \"series\": [{\"data\": [\"Gathering dataset statistics.\", \"Generating features for the dataset.\", \"Beginning to fit featurizers and featurize the dataset.\", \"Completed fit featurizers and featurizing the dataset.\", \"Performing class balancing sweeping\", \"Beginning model selection.\", \"Best run model explanations started\", \"Model explanations data setup completed\", \"Choosing LightGBM as the surrogate model for explanations\", \"Computation of engineered features started\", \"Computation of engineered features completed\", \"Computation of raw features started\", \"Computation of raw features completed\", \"Best run model explanations completed\"]}]}, {\"name\": \"AUC_weighted\", \"run_id\": \"AutoML_ff35158a-806d-424c-9003-feef720d8671\", \"categories\": [0], \"series\": [{\"data\": [0.9714872865296934]}]}, {\"name\": \"f1_score_macro\", \"run_id\": \"AutoML_ff35158a-806d-424c-9003-feef720d8671\", \"categories\": [0], \"series\": [{\"data\": [0.8795798259674478]}]}, {\"name\": \"precision_score_micro\", \"run_id\": \"AutoML_ff35158a-806d-424c-9003-feef720d8671\", \"categories\": [0], \"series\": [{\"data\": [0.9993328885923949]}]}, {\"name\": \"f1_score_micro\", \"run_id\": \"AutoML_ff35158a-806d-424c-9003-feef720d8671\", \"categories\": [0], \"series\": [{\"data\": [0.9993328885923949]}]}, {\"name\": \"average_precision_score_micro\", \"run_id\": \"AutoML_ff35158a-806d-424c-9003-feef720d8671\", \"categories\": [0], \"series\": [{\"data\": [0.9999018619636073]}]}, {\"name\": \"AUC_micro\", \"run_id\": \"AutoML_ff35158a-806d-424c-9003-feef720d8671\", \"categories\": [0], \"series\": [{\"data\": [0.9999005223781433]}]}, {\"name\": \"log_loss\", \"run_id\": \"AutoML_ff35158a-806d-424c-9003-feef720d8671\", \"categories\": [0], \"series\": [{\"data\": [0.003540101530010447]}]}, {\"name\": \"average_precision_score_weighted\", \"run_id\": \"AutoML_ff35158a-806d-424c-9003-feef720d8671\", \"categories\": [0], \"series\": [{\"data\": [0.9997272213454247]}]}, {\"name\": \"recall_score_macro\", \"run_id\": \"AutoML_ff35158a-806d-424c-9003-feef720d8671\", \"categories\": [0], \"series\": [{\"data\": [0.8061224489795918]}]}, {\"name\": \"matthews_correlation\", \"run_id\": \"AutoML_ff35158a-806d-424c-9003-feef720d8671\", \"categories\": [0], \"series\": [{\"data\": [0.7821994833358615]}]}, {\"name\": \"balanced_accuracy\", \"run_id\": \"AutoML_ff35158a-806d-424c-9003-feef720d8671\", \"categories\": [0], \"series\": [{\"data\": [0.8061224489795918]}]}, {\"name\": \"recall_score_micro\", \"run_id\": \"AutoML_ff35158a-806d-424c-9003-feef720d8671\", \"categories\": [0], \"series\": [{\"data\": [0.9993328885923949]}]}, {\"name\": \"average_precision_score_macro\", \"run_id\": \"AutoML_ff35158a-806d-424c-9003-feef720d8671\", \"categories\": [0], \"series\": [{\"data\": [0.938063883026647]}]}, {\"name\": \"precision_score_weighted\", \"run_id\": \"AutoML_ff35158a-806d-424c-9003-feef720d8671\", \"categories\": [0], \"series\": [{\"data\": [0.9993333340992926]}]}, {\"name\": \"weighted_accuracy\", \"run_id\": \"AutoML_ff35158a-806d-424c-9003-feef720d8671\", \"categories\": [0], \"series\": [{\"data\": [0.9999988483153721]}]}, {\"name\": \"accuracy\", \"run_id\": \"AutoML_ff35158a-806d-424c-9003-feef720d8671\", \"categories\": [0], \"series\": [{\"data\": [0.9993328885923949]}]}, {\"name\": \"recall_score_weighted\", \"run_id\": \"AutoML_ff35158a-806d-424c-9003-feef720d8671\", \"categories\": [0], \"series\": [{\"data\": [0.9993328885923949]}]}, {\"name\": \"f1_score_weighted\", \"run_id\": \"AutoML_ff35158a-806d-424c-9003-feef720d8671\", \"categories\": [0], \"series\": [{\"data\": [0.9992527777484448]}]}, {\"name\": \"precision_score_macro\", \"run_id\": \"AutoML_ff35158a-806d-424c-9003-feef720d8671\", \"categories\": [0], \"series\": [{\"data\": [0.9996660925802257]}]}, {\"name\": \"AUC_macro\", \"run_id\": \"AutoML_ff35158a-806d-424c-9003-feef720d8671\", \"categories\": [0], \"series\": [{\"data\": [0.9714872865296935]}]}, {\"name\": \"norm_macro_recall\", \"run_id\": \"AutoML_ff35158a-806d-424c-9003-feef720d8671\", \"categories\": [0], \"series\": [{\"data\": [0.6122448979591837]}]}], \"run_logs\": \"\\nRun is completed.\", \"graph\": {}, \"widget_settings\": {\"childWidgetDisplay\": \"popup\", \"send_telemetry\": false, \"log_level\": \"INFO\", \"sdk_version\": \"1.26.0\"}, \"loading\": false}"
          },
          "metadata": {}
        }
      ],
      "execution_count": 9,
      "metadata": {
        "gather": {
          "logged": 1618765831890
        },
        "jupyter": {
          "outputs_hidden": false,
          "source_hidden": false
        },
        "nteract": {
          "transient": {
            "deleting": false
          }
        }
      }
    },
    {
      "cell_type": "markdown",
      "source": [
        "## Best Model\n",
        "\n",
        "Get the best model from the automl experiments and display all the properties of the model.\n",
        "\n"
      ],
      "metadata": {}
    },
    {
      "cell_type": "code",
      "source": [
        "# Retrieve and save your best automl model.\n",
        "best_automl_run, best_model = remote_run.get_output()\n",
        "best_automl_model_name = best_automl_run.properties['model_name']\n",
        "print(('Best AutoML model name:{}\\n\\n' \\\n",
        "       'Best AutoML model run:{}\\n\\n' \\\n",
        "       'Best AutoML model specification:{}').format(best_automl_model_name, str(best_automl_run), str(best_model)))"
      ],
      "outputs": [
        {
          "output_type": "stream",
          "name": "stdout",
          "text": [
            "Best AutoML model name:AutoMLff35158a82\n",
            "\n",
            "Best AutoML model run:Run(Experiment: fraud_detection,\n",
            "Id: AutoML_ff35158a-806d-424c-9003-feef720d8671_2,\n",
            "Type: azureml.scriptrun,\n",
            "Status: Completed)\n",
            "\n",
            "Best AutoML model specification:Pipeline(memory=None,\n",
            "         steps=[('datatransformer',\n",
            "                 DataTransformer(enable_dnn=None, enable_feature_sweeping=None,\n",
            "                                 feature_sweeping_config=None,\n",
            "                                 feature_sweeping_timeout=None,\n",
            "                                 featurization_config=None, force_text_dnn=None,\n",
            "                                 is_cross_validation=None,\n",
            "                                 is_onnx_compatible=None, logger=None,\n",
            "                                 observer=None, task=None, working_dir=None)),\n",
            "                ('MinMaxScaler', MinMaxScaler(copy...\n",
            "                 RandomForestClassifier(bootstrap=False, ccp_alpha=0.0,\n",
            "                                        class_weight=None, criterion='gini',\n",
            "                                        max_depth=None, max_features='sqrt',\n",
            "                                        max_leaf_nodes=None, max_samples=None,\n",
            "                                        min_impurity_decrease=0.0,\n",
            "                                        min_impurity_split=None,\n",
            "                                        min_samples_leaf=0.01,\n",
            "                                        min_samples_split=0.10368421052631578,\n",
            "                                        min_weight_fraction_leaf=0.0,\n",
            "                                        n_estimators=10, n_jobs=1,\n",
            "                                        oob_score=False, random_state=None,\n",
            "                                        verbose=0, warm_start=False))],\n",
            "         verbose=False)\n"
          ]
        }
      ],
      "execution_count": 11,
      "metadata": {
        "gather": {
          "logged": 1618767029412
        },
        "jupyter": {
          "outputs_hidden": false,
          "source_hidden": false
        },
        "nteract": {
          "transient": {
            "deleting": false
          }
        }
      }
    },
    {
      "cell_type": "code",
      "source": [
        "registered_model =  remote_run.register_model(model_name = 'best_automl_model')\r\n",
        "\r\n",
        "registered_model.download(target_dir='outputs', exist_ok=True)"
      ],
      "outputs": [
        {
          "output_type": "execute_result",
          "execution_count": 12,
          "data": {
            "text/plain": "'outputs/model.pkl'"
          },
          "metadata": {}
        }
      ],
      "execution_count": 12,
      "metadata": {
        "collapsed": true,
        "jupyter": {
          "source_hidden": false,
          "outputs_hidden": false
        },
        "nteract": {
          "transient": {
            "deleting": false
          }
        },
        "gather": {
          "logged": 1618767093034
        }
      }
    },
    {
      "cell_type": "markdown",
      "source": [
        "## Model Deployment\n",
        "\n",
        "In the cell below, register the model, create an inference config and deploy the model as a web service.\n"
      ],
      "metadata": {}
    },
    {
      "cell_type": "code",
      "source": [
        "deployment_config = AciWebservice.deploy_configuration(cpu_cores=1,\r\n",
        "                                                memory_gb=4,\r\n",
        "                                                enable_app_insights=True,\r\n",
        "                                                description='predict a fraud')\r\n",
        "model = Model(ws, 'best_automl_model')\r\n",
        "\r\n",
        "env_deploy = Environment.get(workspace=ws, name='AzureML-AutoML')\r\n",
        "\r\n",
        "inference_config = InferenceConfig(entry_script='score.py', environment=env_deploy)\r\n",
        "\r\n",
        "service = Model.deploy(workspace=ws,\r\n",
        "                       name='fraud-detection',\r\n",
        "                       models=[model],\r\n",
        "                       inference_config=inference_config,\r\n",
        "                       deployment_config=deployment_config)"
      ],
      "outputs": [],
      "execution_count": 27,
      "metadata": {
        "gather": {
          "logged": 1618773648023
        },
        "jupyter": {
          "outputs_hidden": false,
          "source_hidden": false
        },
        "nteract": {
          "transient": {
            "deleting": false
          }
        }
      }
    },
    {
      "cell_type": "code",
      "source": [
        "service.wait_for_deployment(show_output=True)"
      ],
      "outputs": [
        {
          "output_type": "stream",
          "name": "stdout",
          "text": [
            "Tips: You can try get_logs(): https://aka.ms/debugimage#dockerlog or local deployment: https://aka.ms/debugimage#debug-locally to debug if deployment takes longer than 10 minutes.\n",
            "Running\n",
            "2021-04-18 19:20:47+00:00 Creating Container Registry if not exists.\n",
            "2021-04-18 19:20:47+00:00 Registering the environment.\n",
            "2021-04-18 19:20:48+00:00 Use the existing image.\n",
            "2021-04-18 19:20:48+00:00 Generating deployment configuration.\n",
            "2021-04-18 19:20:49+00:00 Submitting deployment to compute.\n",
            "2021-04-18 19:20:53+00:00 Checking the status of deployment fraud-detection..\n",
            "2021-04-18 19:24:03+00:00 Checking the status of inference endpoint fraud-detection.\n",
            "Succeeded\n",
            "ACI service creation operation finished, operation \"Succeeded\"\n"
          ]
        }
      ],
      "execution_count": 28,
      "metadata": {
        "collapsed": true,
        "jupyter": {
          "source_hidden": false,
          "outputs_hidden": true
        },
        "nteract": {
          "transient": {
            "deleting": false
          }
        },
        "gather": {
          "logged": 1618773844847
        }
      }
    },
    {
      "cell_type": "code",
      "source": [
        "print(service.scoring_uri)\r\n",
        "print(service.swagger_uri)"
      ],
      "outputs": [
        {
          "output_type": "stream",
          "name": "stdout",
          "text": [
            "http://f27eafae-b45b-4fe4-bd9c-9322cddb2480.southcentralus.azurecontainer.io/score\n",
            "http://f27eafae-b45b-4fe4-bd9c-9322cddb2480.southcentralus.azurecontainer.io/swagger.json\n"
          ]
        }
      ],
      "execution_count": 15,
      "metadata": {
        "collapsed": true,
        "jupyter": {
          "source_hidden": false,
          "outputs_hidden": false
        },
        "nteract": {
          "transient": {
            "deleting": false
          }
        },
        "gather": {
          "logged": 1618768528443
        }
      }
    },
    {
      "cell_type": "markdown",
      "source": [
        "TODO: In the cell below, send a request to the web service you deployed to test it."
      ],
      "metadata": {
        "nteract": {
          "transient": {
            "deleting": false
          }
        }
      }
    },
    {
      "cell_type": "code",
      "source": [
        "import requests\r\n",
        "import json\r\n",
        "\r\n",
        "# URL for the web service, should be similar to:\r\n",
        "# 'http://8530a665-66f3-49c8-a953-b82a2d312917.eastus.azurecontainer.io/score'\r\n",
        "scoring_uri = service.scoring_uri\r\n",
        "# If the service is authenticated, set the key or token\r\n",
        "# key = ''\r\n",
        "\r\n",
        "\r\n",
        "\r\n",
        "# One set of data to score, so we get two results back\r\n",
        "data = {\r\n",
        "  \"data\": [\r\n",
        "    {\r\n",
        "      \"Time\": 4,\r\n",
        "      \"V1\": 1.22965763450793,\r\n",
        "      \"V2\": 0.141003507049326,\r\n",
        "      \"V3\": 0.0453707735899449,\r\n",
        "      \"V4\": 1.20261273673594,\r\n",
        "      \"V5\": 0.191880988597645,\r\n",
        "      \"V6\": 0.272708122899098,\r\n",
        "      \"V7\": -0.00515900288250983,\r\n",
        "      \"V8\": 0.0812129398830894,\r\n",
        "      \"V9\": 0.464959994783886,\r\n",
        "      \"V10\": -0.0992543211289237,\r\n",
        "      \"V11\": -1.41690724314928,\r\n",
        "      \"V12\": -0.153825826253651,\r\n",
        "      \"V13\": -0.75106271556262,\r\n",
        "      \"V14\": 0.16737196252175,\r\n",
        "      \"V15\": 0.0501435942254188,\r\n",
        "      \"V16\": -0.443586797916727,\r\n",
        "      \"V17\": 0.00282051247234708,\r\n",
        "      \"V18\": -0.61198733994012,\r\n",
        "      \"V19\": -0.0455750446637976,\r\n",
        "      \"V20\": -0.21963255278686,\r\n",
        "      \"V21\": -0.167716265815783,\r\n",
        "      \"V22\": -0.270709726172363,\r\n",
        "      \"V23\": -0.154103786809305,\r\n",
        "      \"V24\": -0.780055415004671,\r\n",
        "      \"V25\": 0.75013693580659,\r\n",
        "      \"V26\": -0.257236845917139,\r\n",
        "      \"V27\": -0.0345074297438413,\r\n",
        "      \"V28\": 0.00516776890624916,\r\n",
        "      \"Amount\": 4.99\r\n",
        "    }\r\n",
        "  ]\r\n",
        "}\r\n",
        "# Convert to JSON string\r\n",
        "input_data = json.dumps(data)\r\n",
        "with open(\"data.json\", \"w\") as _f:\r\n",
        "    _f.write(input_data)\r\n",
        "\r\n",
        "# Set the content type\r\n",
        "headers = {'Content-Type': 'application/json'}\r\n",
        "# If authentication is enabled, set the authorization header\r\n",
        "# headers['Authorization'] = f'Bearer {key}'\r\n",
        "\r\n",
        "# Make the request and display the response\r\n",
        "resp = requests.post(scoring_uri, input_data, headers=headers)\r\n",
        "print(resp.json())"
      ],
      "outputs": [
        {
          "output_type": "stream",
          "name": "stdout",
          "text": [
            "[0]\n"
          ]
        }
      ],
      "execution_count": 20,
      "metadata": {
        "collapsed": true,
        "jupyter": {
          "source_hidden": false,
          "outputs_hidden": false
        },
        "nteract": {
          "transient": {
            "deleting": false
          }
        },
        "gather": {
          "logged": 1618770440339
        }
      }
    },
    {
      "cell_type": "markdown",
      "source": [
        "In the cell below, print the logs of the web service and delete the service"
      ],
      "metadata": {
        "nteract": {
          "transient": {
            "deleting": false
          }
        }
      }
    },
    {
      "cell_type": "code",
      "source": [
        "print(service.get_logs())"
      ],
      "outputs": [
        {
          "output_type": "stream",
          "name": "stdout",
          "text": [
            "2021-04-18T19:23:50,963184700+00:00 - iot-server/run \n",
            "2021-04-18T19:23:50,964556400+00:00 - rsyslog/run \n",
            "2021-04-18T19:23:50,998306500+00:00 - nginx/run \n",
            "/usr/sbin/nginx: /azureml-envs/azureml_1c91e9a5baadb44a18d64bdd7f599d89/lib/libcrypto.so.1.0.0: no version information available (required by /usr/sbin/nginx)\n",
            "/usr/sbin/nginx: /azureml-envs/azureml_1c91e9a5baadb44a18d64bdd7f599d89/lib/libcrypto.so.1.0.0: no version information available (required by /usr/sbin/nginx)\n",
            "/usr/sbin/nginx: /azureml-envs/azureml_1c91e9a5baadb44a18d64bdd7f599d89/lib/libssl.so.1.0.0: no version information available (required by /usr/sbin/nginx)\n",
            "/usr/sbin/nginx: /azureml-envs/azureml_1c91e9a5baadb44a18d64bdd7f599d89/lib/libssl.so.1.0.0: no version information available (required by /usr/sbin/nginx)\n",
            "/usr/sbin/nginx: /azureml-envs/azureml_1c91e9a5baadb44a18d64bdd7f599d89/lib/libssl.so.1.0.0: no version information available (required by /usr/sbin/nginx)\n",
            "2021-04-18T19:23:51,011510600+00:00 - gunicorn/run \n",
            "rsyslogd: /azureml-envs/azureml_1c91e9a5baadb44a18d64bdd7f599d89/lib/libuuid.so.1: no version information available (required by rsyslogd)\n",
            "EdgeHubConnectionString and IOTEDGE_IOTHUBHOSTNAME are not set. Exiting...\n",
            "2021-04-18T19:23:51,304264200+00:00 - iot-server/finish 1 0\n",
            "2021-04-18T19:23:51,310450000+00:00 - Exit code 1 is normal. Not restarting iot-server.\n",
            "Starting gunicorn 19.9.0\n",
            "Listening at: http://127.0.0.1:31311 (67)\n",
            "Using worker: sync\n",
            "worker timeout is set to 300\n",
            "Booting worker with pid: 96\n",
            "SPARK_HOME not set. Skipping PySpark Initialization.\n",
            "Generating new fontManager, this may take some time...\n",
            "Initializing logger\n",
            "2021-04-18 19:23:56,746 | root | INFO | Starting up app insights client\n",
            "2021-04-18 19:23:56,747 | root | INFO | Starting up request id generator\n",
            "2021-04-18 19:23:56,747 | root | INFO | Starting up app insight hooks\n",
            "2021-04-18 19:23:56,747 | root | INFO | Invoking user's init function\n",
            "/azureml-envs/azureml_1c91e9a5baadb44a18d64bdd7f599d89/lib/python3.6/site-packages/sklearn/externals/joblib/__init__.py:15: FutureWarning: sklearn.externals.joblib is deprecated in 0.21 and will be removed in 0.23. Please import this functionality directly from joblib, which can be installed with: pip install joblib. If this warning is raised when loading pickled models, you may need to re-serialize those models with scikit-learn 0.21+.\n",
            "  warnings.warn(msg, category=FutureWarning)\n",
            "2021-04-18 19:23:59,344 | root | INFO | Users's init has completed successfully\n",
            "2021-04-18 19:23:59,347 | root | INFO | Skipping middleware: dbg_model_info as it's not enabled.\n",
            "2021-04-18 19:23:59,347 | root | INFO | Skipping middleware: dbg_resource_usage as it's not enabled.\n",
            "2021-04-18 19:23:59,348 | root | INFO | Scoring timeout is found from os.environ: 60000 ms\n",
            "2021-04-18 19:24:03,248 | root | INFO | Swagger file not present\n",
            "2021-04-18 19:24:03,249 | root | INFO | 404\n",
            "127.0.0.1 - - [18/Apr/2021:19:24:03 +0000] \"GET /swagger.json HTTP/1.0\" 404 19 \"-\" \"Go-http-client/1.1\"\n",
            "2021-04-18 19:24:04,219 | root | INFO | Swagger file not present\n",
            "2021-04-18 19:24:04,219 | root | INFO | 404\n",
            "127.0.0.1 - - [18/Apr/2021:19:24:04 +0000] \"GET /swagger.json HTTP/1.0\" 404 19 \"-\" \"Go-http-client/1.1\"\n",
            "\n"
          ]
        }
      ],
      "execution_count": 29,
      "metadata": {
        "collapsed": true,
        "jupyter": {
          "source_hidden": false,
          "outputs_hidden": false
        },
        "nteract": {
          "transient": {
            "deleting": false
          }
        },
        "gather": {
          "logged": 1618774991039
        }
      }
    },
    {
      "cell_type": "code",
      "source": [
        "# delete service\r\n",
        "service.delete()"
      ],
      "outputs": [],
      "execution_count": 21,
      "metadata": {
        "collapsed": true,
        "jupyter": {
          "source_hidden": false,
          "outputs_hidden": false
        },
        "nteract": {
          "transient": {
            "deleting": false
          }
        },
        "gather": {
          "logged": 1618770918983
        }
      }
    }
  ],
  "metadata": {
    "kernel_info": {
      "name": "python3"
    },
    "kernelspec": {
      "name": "python3",
      "language": "python",
      "display_name": "Python 3"
    },
    "language_info": {
      "name": "python",
      "version": "3.6.9",
      "mimetype": "text/x-python",
      "codemirror_mode": {
        "name": "ipython",
        "version": 3
      },
      "pygments_lexer": "ipython3",
      "nbconvert_exporter": "python",
      "file_extension": ".py"
    },
    "nteract": {
      "version": "nteract-front-end@1.0.0"
    },
    "microsoft": {
      "host": {
        "AzureML": {
          "notebookHasBeenCompleted": true
        }
      }
    }
  },
  "nbformat": 4,
  "nbformat_minor": 2
}