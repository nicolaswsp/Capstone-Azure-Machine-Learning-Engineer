{
  "cells": [
    {
      "cell_type": "markdown",
      "source": [
        "# Automated ML\n",
        "\n",
        "TODO: Import Dependencies. In the cell below, import all the dependencies that you will need to complete the project."
      ],
      "metadata": {}
    },
    {
      "cell_type": "code",
      "source": [
        "import logging\n",
        "import os\n",
        "import csv\n",
        "import io\n",
        "import requests\n",
        "import json\n",
        "\n",
        "from matplotlib import pyplot as plt\n",
        "import numpy as np\n",
        "import pandas as pd\n",
        "from sklearn import datasets\n",
        "import pkg_resources\n",
        "\n",
        "import azureml.core\n",
        "from azureml.core.experiment import Experiment\n",
        "from azureml.core.workspace import Workspace\n",
        "from azureml.train.automl import AutoMLConfig\n",
        "from azureml.core.dataset import Dataset\n",
        "from azureml.core.webservice import AciWebservice, LocalWebservice\n",
        "from azureml.core import Environment\n",
        "from azureml.core.model import InferenceConfig\n",
        "from azureml.core.model import Model\n",
        "\n",
        "\n",
        "from azureml.widgets import RunDetails\n",
        "from azureml.pipeline.steps import AutoMLStep\n",
        "\n",
        "# Check core SDK version number\n",
        "print(\"SDK version:\", azureml.core.VERSION)"
      ],
      "outputs": [
        {
          "output_type": "stream",
          "name": "stdout",
          "text": [
            "SDK version: 1.26.0\n"
          ]
        }
      ],
      "execution_count": 1,
      "metadata": {
        "gather": {
          "logged": 1618702955226
        },
        "jupyter": {
          "outputs_hidden": false,
          "source_hidden": false
        },
        "nteract": {
          "transient": {
            "deleting": false
          }
        }
      }
    },
    {
      "cell_type": "markdown",
      "source": [
        "## Dataset\n",
        "\n",
        "### Overview\n",
        "TODO: In this markdown cell, give an overview of the dataset you are using. Also mention the task you will be performing.\n",
        "\n",
        "\n",
        "TODO: Get data. In the cell below, write code to access the data you will be using in this project. Remember that the dataset needs to be external."
      ],
      "metadata": {}
    },
    {
      "cell_type": "code",
      "source": [
        "ws = Workspace.from_config()\n",
        "\n",
        "experiment_name = 'fraud_detection'\n",
        "\n",
        "exp=Experiment(ws, experiment_name)\n",
        "\n",
        "print('Workspace name: ' + ws.name, \n",
        "      'Azure region: ' + ws.location, \n",
        "      'Subscription id: ' + ws.subscription_id, \n",
        "      'Resource group: ' + ws.resource_group, sep = '\\n')\n",
        "\n",
        "run = exp.start_logging()\n",
        "print(exp)"
      ],
      "outputs": [
        {
          "output_type": "stream",
          "name": "stdout",
          "text": [
            "Performing interactive authentication. Please follow the instructions on the terminal.\n",
            "To sign in, use a web browser to open the page https://microsoft.com/devicelogin and enter the code APAEE33W8 to authenticate.\n",
            "You have logged in. Now let us find all the subscriptions to which you have access...\n",
            "Interactive authentication successfully completed.\n",
            "Workspace name: quick-starts-ws-142979\n",
            "Azure region: southcentralus\n",
            "Subscription id: 976ee174-3882-4721-b90a-b5fef6b72f24\n",
            "Resource group: aml-quickstarts-142979\n",
            "Experiment(Name: fraud_detection,\n",
            "Workspace: quick-starts-ws-142979)\n"
          ]
        }
      ],
      "execution_count": 3,
      "metadata": {
        "gather": {
          "logged": 1618704176718
        },
        "jupyter": {
          "outputs_hidden": false,
          "source_hidden": false
        },
        "nteract": {
          "transient": {
            "deleting": false
          }
        }
      }
    },
    {
      "cell_type": "code",
      "source": [
        "dataset = Dataset.get_by_name(workspace=ws, name='Banking-Transactions')\n",
        "transactions_df = dataset.to_pandas_dataframe()"
      ],
      "outputs": [],
      "execution_count": 4,
      "metadata": {
        "scrolled": true,
        "gather": {
          "logged": 1618704242337
        },
        "jupyter": {
          "outputs_hidden": false
        }
      }
    },
    {
      "cell_type": "code",
      "source": [
        "# Calculate the fraction of data points that are fraudulent\n",
        "def fraudulent_percentage(transaction_df):\n",
        "    '''Calculate the fraction of all data points that have a 'Class' label of 1; fraudulent.\n",
        "       :param transaction_df: Dataframe of all transaction data points; has a column 'Class'\n",
        "       :return: A fractional percentage of fraudulent data points/all points\n",
        "    '''\n",
        "    # counts for all classes\n",
        "    counts = transactions_df['Class'].value_counts()\n",
        "    \n",
        "    # get fraudulent and valid cnts\n",
        "    fraud_cnts = counts[1]\n",
        "    valid_cnts = counts[0]\n",
        "    \n",
        "    # calculate percentage of fraudulent data\n",
        "    fraud_percentage = fraud_cnts/(fraud_cnts+valid_cnts)\n",
        "    \n",
        "    return fraud_percentage"
      ],
      "outputs": [],
      "execution_count": 5,
      "metadata": {
        "gather": {
          "logged": 1618704242517
        }
      }
    },
    {
      "cell_type": "code",
      "source": [
        "# call the function to calculate the fraud percentage\n",
        "fraud_percentage = fraudulent_percentage(dataset)\n",
        "\n",
        "print('Fraudulent percentage = ', fraud_percentage)\n",
        "print('Total # of fraudulent pts: ', fraud_percentage*transactions_df.shape[0])\n",
        "print('Out of (total) pts: ', transactions_df.shape[0])"
      ],
      "outputs": [
        {
          "output_type": "stream",
          "name": "stdout",
          "text": [
            "Fraudulent percentage =  0.001727485630620034\n",
            "Total # of fraudulent pts:  492.0\n",
            "Out of (total) pts:  284807\n"
          ]
        }
      ],
      "execution_count": 6,
      "metadata": {
        "gather": {
          "logged": 1618704242752
        }
      }
    },
    {
      "cell_type": "code",
      "source": [
        "from azureml.core.compute import ComputeTarget, AmlCompute\n",
        "from azureml.core.compute_target import ComputeTargetException\n",
        "# Create compute cluster\n",
        "# Choose a name for the computer cluster:\n",
        "amlcompute_cluster_name = \"compute-cluster\"\n",
        "\n",
        "# Check if the cluster already exists:\n",
        "try:\n",
        "    aml_compute = ComputeTarget(workspace=ws, name=amlcompute_cluster_name)\n",
        "    print('The cluster already exists')\n",
        "except ComputeTargetException:\n",
        "    compute_config = AmlCompute.provisioning_configuration(vm_size='STANDARD_D2_V2', max_nodes=4)\n",
        "    aml_compute = ComputeTarget.create(ws, amlcompute_cluster_name, compute_config)\n",
        "\n",
        "aml_compute.wait_for_completion(show_output=True)"
      ],
      "outputs": [
        {
          "output_type": "stream",
          "name": "stdout",
          "text": [
            "Creating....\n",
            "SucceededProvisioning operation finished, operation \"Succeeded\"\n",
            "Succeeded\n",
            "AmlCompute wait for completion finished\n",
            "\n",
            "Minimum number of nodes requested have been provisioned\n"
          ]
        }
      ],
      "execution_count": 7,
      "metadata": {
        "gather": {
          "logged": 1618704263460
        }
      }
    },
    {
      "cell_type": "markdown",
      "source": [
        "## AutoML Configuration\n",
        "\n",
        "TODO: Explain why you chose the automl settings and cofiguration you used below."
      ],
      "metadata": {}
    },
    {
      "cell_type": "code",
      "source": [
        "# Set the automl settings here\n",
        "automl_settings = {\n",
        "    \"experiment_timeout_minutes\": 20,\n",
        "    \"max_concurrent_iterations\": 5,\n",
        "    \"primary_metric\" : 'AUC_weighted'}\n",
        "\n",
        "# TODO: Put your automl config here\n",
        "automl_config = AutoMLConfig(compute_target=aml_compute,\n",
        "                             task = \"classification\",\n",
        "                             training_data=dataset,\n",
        "                             label_column_name=\"Class\",   \n",
        "                             enable_early_stopping= True,\n",
        "                             featurization= 'auto',\n",
        "                             debug_log = \"automl_errors.log\",\n",
        "                             **automl_settings)"
      ],
      "outputs": [],
      "execution_count": 8,
      "metadata": {
        "gather": {
          "logged": 1618704263655
        },
        "jupyter": {
          "outputs_hidden": false,
          "source_hidden": false
        },
        "nteract": {
          "transient": {
            "deleting": false
          }
        }
      }
    },
    {
      "cell_type": "code",
      "source": [
        "# Submit the experiment\n",
        "remote_run = exp.submit(automl_config)"
      ],
      "outputs": [
        {
          "output_type": "stream",
          "name": "stdout",
          "text": [
            "Submitting remote run.\n"
          ]
        },
        {
          "output_type": "display_data",
          "data": {
            "text/plain": "<IPython.core.display.HTML object>",
            "text/html": "<table style=\"width:100%\"><tr><th>Experiment</th><th>Id</th><th>Type</th><th>Status</th><th>Details Page</th><th>Docs Page</th></tr><tr><td>fraud_detection</td><td>AutoML_9150a662-0a53-42f6-b5b7-0239de5045d8</td><td>automl</td><td>NotStarted</td><td><a href=\"https://ml.azure.com/runs/AutoML_9150a662-0a53-42f6-b5b7-0239de5045d8?wsid=/subscriptions/976ee174-3882-4721-b90a-b5fef6b72f24/resourcegroups/aml-quickstarts-142979/workspaces/quick-starts-ws-142979&amp;tid=660b3398-b80e-49d2-bc5b-ac1dc93b5254\" target=\"_blank\" rel=\"noopener\">Link to Azure Machine Learning studio</a></td><td><a href=\"https://docs.microsoft.com/en-us/python/api/overview/azure/ml/intro?view=azure-ml-py\" target=\"_blank\" rel=\"noopener\">Link to Documentation</a></td></tr></table>"
          },
          "metadata": {}
        }
      ],
      "execution_count": 9,
      "metadata": {
        "gather": {
          "logged": 1618704273947
        },
        "jupyter": {
          "outputs_hidden": false,
          "source_hidden": false
        },
        "nteract": {
          "transient": {
            "deleting": false
          }
        }
      }
    },
    {
      "cell_type": "markdown",
      "source": [
        "## Run Details\n",
        "\n",
        "OPTIONAL: Write about the different models trained and their performance. Why do you think some models did better than others?\n",
        "\n",
        "TODO: In the cell below, use the `RunDetails` widget to show the different experiments."
      ],
      "metadata": {}
    },
    {
      "cell_type": "code",
      "source": [
        "RunDetails(remote_run).show()"
      ],
      "outputs": [
        {
          "output_type": "display_data",
          "data": {
            "text/plain": "_AutoMLWidget(widget_settings={'childWidgetDisplay': 'popup', 'send_telemetry': False, 'log_level': 'INFO', 's…",
            "application/vnd.jupyter.widget-view+json": {
              "version_major": 2,
              "version_minor": 0,
              "model_id": "1dab639fe2fe4efcb936d6c3f8285d43"
            }
          },
          "metadata": {}
        },
        {
          "output_type": "display_data",
          "data": {
            "application/aml.mini.widget.v1": "{\"status\": \"Completed\", \"workbench_run_details_uri\": \"https://ml.azure.com/runs/AutoML_9150a662-0a53-42f6-b5b7-0239de5045d8?wsid=/subscriptions/976ee174-3882-4721-b90a-b5fef6b72f24/resourcegroups/aml-quickstarts-142979/workspaces/quick-starts-ws-142979&tid=660b3398-b80e-49d2-bc5b-ac1dc93b5254\", \"run_id\": \"AutoML_9150a662-0a53-42f6-b5b7-0239de5045d8\", \"run_properties\": {\"run_id\": \"AutoML_9150a662-0a53-42f6-b5b7-0239de5045d8\", \"created_utc\": \"2021-04-18T00:04:31.902962Z\", \"properties\": {\"num_iterations\": \"1000\", \"training_type\": \"TrainFull\", \"acquisition_function\": \"EI\", \"primary_metric\": \"AUC_weighted\", \"train_split\": \"0\", \"acquisition_parameter\": \"0\", \"num_cross_validation\": null, \"target\": \"compute-cluster\", \"AMLSettingsJsonString\": \"{\\\"path\\\":null,\\\"name\\\":\\\"fraud_detection\\\",\\\"subscription_id\\\":\\\"976ee174-3882-4721-b90a-b5fef6b72f24\\\",\\\"resource_group\\\":\\\"aml-quickstarts-142979\\\",\\\"workspace_name\\\":\\\"quick-starts-ws-142979\\\",\\\"region\\\":\\\"southcentralus\\\",\\\"compute_target\\\":\\\"compute-cluster\\\",\\\"spark_service\\\":null,\\\"azure_service\\\":\\\"remote\\\",\\\"many_models\\\":false,\\\"pipeline_fetch_max_batch_size\\\":1,\\\"enable_batch_run\\\":false,\\\"enable_run_restructure\\\":false,\\\"iterations\\\":1000,\\\"primary_metric\\\":\\\"AUC_weighted\\\",\\\"task_type\\\":\\\"classification\\\",\\\"data_script\\\":null,\\\"test_size\\\":0.0,\\\"validation_size\\\":0.0,\\\"n_cross_validations\\\":null,\\\"y_min\\\":null,\\\"y_max\\\":null,\\\"num_classes\\\":null,\\\"featurization\\\":\\\"auto\\\",\\\"_ignore_package_version_incompatibilities\\\":false,\\\"is_timeseries\\\":false,\\\"max_cores_per_iteration\\\":1,\\\"max_concurrent_iterations\\\":5,\\\"iteration_timeout_minutes\\\":null,\\\"mem_in_mb\\\":null,\\\"enforce_time_on_windows\\\":false,\\\"experiment_timeout_minutes\\\":20,\\\"experiment_exit_score\\\":null,\\\"whitelist_models\\\":null,\\\"blacklist_algos\\\":[\\\"TensorFlowLinearClassifier\\\",\\\"TensorFlowDNN\\\"],\\\"supported_models\\\":[\\\"GradientBoosting\\\",\\\"XGBoostClassifier\\\",\\\"DecisionTree\\\",\\\"AveragedPerceptronClassifier\\\",\\\"RandomForest\\\",\\\"KNN\\\",\\\"MultinomialNaiveBayes\\\",\\\"LogisticRegression\\\",\\\"BernoulliNaiveBayes\\\",\\\"LinearSVM\\\",\\\"LightGBM\\\",\\\"TensorFlowLinearClassifier\\\",\\\"ExtremeRandomTrees\\\",\\\"SGD\\\",\\\"TensorFlowDNN\\\",\\\"SVM\\\"],\\\"private_models\\\":[],\\\"auto_blacklist\\\":true,\\\"blacklist_samples_reached\\\":false,\\\"exclude_nan_labels\\\":true,\\\"verbosity\\\":20,\\\"_debug_log\\\":\\\"azureml_automl.log\\\",\\\"show_warnings\\\":false,\\\"model_explainability\\\":true,\\\"service_url\\\":null,\\\"sdk_url\\\":null,\\\"sdk_packages\\\":null,\\\"enable_onnx_compatible_models\\\":false,\\\"enable_split_onnx_featurizer_estimator_models\\\":false,\\\"vm_type\\\":\\\"STANDARD_D2_V2\\\",\\\"telemetry_verbosity\\\":20,\\\"send_telemetry\\\":true,\\\"enable_dnn\\\":false,\\\"scenario\\\":\\\"SDK-1.13.0\\\",\\\"environment_label\\\":null,\\\"save_mlflow\\\":false,\\\"force_text_dnn\\\":false,\\\"enable_feature_sweeping\\\":true,\\\"enable_early_stopping\\\":true,\\\"early_stopping_n_iters\\\":10,\\\"metrics\\\":null,\\\"enable_metric_confidence\\\":false,\\\"enable_ensembling\\\":true,\\\"enable_stack_ensembling\\\":true,\\\"ensemble_iterations\\\":15,\\\"enable_tf\\\":false,\\\"enable_subsampling\\\":null,\\\"subsample_seed\\\":null,\\\"enable_nimbusml\\\":false,\\\"enable_streaming\\\":false,\\\"force_streaming\\\":false,\\\"track_child_runs\\\":true,\\\"allowed_private_models\\\":[],\\\"label_column_name\\\":\\\"Class\\\",\\\"weight_column_name\\\":null,\\\"cv_split_column_names\\\":null,\\\"enable_local_managed\\\":false,\\\"_local_managed_run_id\\\":null,\\\"cost_mode\\\":1,\\\"lag_length\\\":0,\\\"metric_operation\\\":\\\"maximize\\\",\\\"preprocess\\\":true}\", \"DataPrepJsonString\": \"{\\\\\\\"training_data\\\\\\\": {\\\\\\\"datasetId\\\\\\\": \\\\\\\"75032c2c-44f4-421e-bbd5-85d48d060480\\\\\\\"}, \\\\\\\"datasets\\\\\\\": 0}\", \"EnableSubsampling\": null, \"runTemplate\": \"AutoML\", \"azureml.runsource\": \"automl\", \"display_task_type\": \"classification\", \"dependencies_versions\": \"{\\\"azureml-widgets\\\": \\\"1.26.0\\\", \\\"azureml-train\\\": \\\"1.26.0\\\", \\\"azureml-train-restclients-hyperdrive\\\": \\\"1.26.0\\\", \\\"azureml-train-core\\\": \\\"1.26.0\\\", \\\"azureml-train-automl\\\": \\\"1.26.0\\\", \\\"azureml-train-automl-runtime\\\": \\\"1.26.0\\\", \\\"azureml-train-automl-client\\\": \\\"1.26.0\\\", \\\"azureml-tensorboard\\\": \\\"1.26.0\\\", \\\"azureml-telemetry\\\": \\\"1.26.0\\\", \\\"azureml-sdk\\\": \\\"1.26.0\\\", \\\"azureml-samples\\\": \\\"0+unknown\\\", \\\"azureml-pipeline\\\": \\\"1.26.0\\\", \\\"azureml-pipeline-steps\\\": \\\"1.26.0\\\", \\\"azureml-pipeline-core\\\": \\\"1.26.0\\\", \\\"azureml-opendatasets\\\": \\\"1.26.0\\\", \\\"azureml-model-management-sdk\\\": \\\"1.0.1b6.post1\\\", \\\"azureml-mlflow\\\": \\\"1.26.0\\\", \\\"azureml-interpret\\\": \\\"1.26.0\\\", \\\"azureml-explain-model\\\": \\\"1.26.0\\\", \\\"azureml-defaults\\\": \\\"1.26.0\\\", \\\"azureml-dataset-runtime\\\": \\\"1.26.0\\\", \\\"azureml-dataprep\\\": \\\"2.13.2\\\", \\\"azureml-dataprep-rslex\\\": \\\"1.11.2\\\", \\\"azureml-dataprep-native\\\": \\\"32.0.0\\\", \\\"azureml-datadrift\\\": \\\"1.26.0\\\", \\\"azureml-core\\\": \\\"1.26.0\\\", \\\"azureml-contrib-services\\\": \\\"1.26.0\\\", \\\"azureml-contrib-server\\\": \\\"1.26.0\\\", \\\"azureml-contrib-reinforcementlearning\\\": \\\"1.26.0\\\", \\\"azureml-contrib-pipeline-steps\\\": \\\"1.26.0\\\", \\\"azureml-contrib-notebook\\\": \\\"1.26.0\\\", \\\"azureml-contrib-gbdt\\\": \\\"1.26.0\\\", \\\"azureml-contrib-fairness\\\": \\\"1.26.0\\\", \\\"azureml-contrib-dataset\\\": \\\"1.26.0\\\", \\\"azureml-cli-common\\\": \\\"1.26.0\\\", \\\"azureml-automl-runtime\\\": \\\"1.26.0\\\", \\\"azureml-automl-dnn-nlp\\\": \\\"1.26.0\\\", \\\"azureml-automl-core\\\": \\\"1.26.0\\\", \\\"azureml-accel-models\\\": \\\"1.26.0\\\"}\", \"_aml_system_scenario_identification\": \"Remote.Parent\", \"ClientType\": \"SDK\", \"environment_cpu_name\": \"AzureML-AutoML\", \"environment_cpu_label\": \"prod\", \"environment_gpu_name\": \"AzureML-AutoML-GPU\", \"environment_gpu_label\": \"prod\", \"root_attribution\": \"automl\", \"attribution\": \"AutoML\", \"Orchestrator\": \"AutoML\", \"CancelUri\": \"https://southcentralus.experiments.azureml.net/jasmine/v1.0/subscriptions/976ee174-3882-4721-b90a-b5fef6b72f24/resourceGroups/aml-quickstarts-142979/providers/Microsoft.MachineLearningServices/workspaces/quick-starts-ws-142979/experimentids/d256a594-29b0-4c40-a48a-b567737b4792/cancel/AutoML_9150a662-0a53-42f6-b5b7-0239de5045d8\", \"ClientSdkVersion\": \"1.25.0\", \"snapshotId\": \"00000000-0000-0000-0000-000000000000\", \"SetupRunId\": \"AutoML_9150a662-0a53-42f6-b5b7-0239de5045d8_setup\", \"SetupRunContainerId\": \"dcid.AutoML_9150a662-0a53-42f6-b5b7-0239de5045d8_setup\", \"FeaturizationRunJsonPath\": \"featurizer_container.json\", \"FeaturizationRunId\": \"AutoML_9150a662-0a53-42f6-b5b7-0239de5045d8_featurize\", \"ProblemInfoJsonString\": \"{\\\"dataset_num_categorical\\\": 0, \\\"is_sparse\\\": false, \\\"subsampling\\\": false, \\\"dataset_classes\\\": 2, \\\"dataset_features\\\": 30, \\\"dataset_samples\\\": 256326, \\\"single_frequency_class_detected\\\": false}\", \"ModelExplainRunId\": \"AutoML_9150a662-0a53-42f6-b5b7-0239de5045d8_ModelExplain\"}, \"tags\": {\"model_explain_run\": \"best_run\", \"_aml_system_azureml.automlComponent\": \"AutoML\", \"pipeline_id\": \"\", \"score\": \"\", \"predicted_cost\": \"\", \"fit_time\": \"\", \"training_percent\": \"\", \"iteration\": \"\", \"run_preprocessor\": \"\", \"run_algorithm\": \"\", \"dynamic_whitelisting_iterations\": \"<25>;<30>;<35>;\", \"automl_best_child_run_id\": \"AutoML_9150a662-0a53-42f6-b5b7-0239de5045d8_38\", \"model_explain_best_run_child_id\": \"AutoML_9150a662-0a53-42f6-b5b7-0239de5045d8_38\"}, \"end_time_utc\": \"2021-04-18T00:34:10.381558Z\", \"status\": \"Completed\", \"log_files\": {}, \"log_groups\": [], \"run_duration\": \"0:29:38\", \"run_number\": \"2\", \"run_queued_details\": {\"status\": \"Completed\", \"details\": null}}, \"child_runs\": [{\"run_id\": \"AutoML_9150a662-0a53-42f6-b5b7-0239de5045d8_0\", \"run_number\": 6, \"metric\": null, \"status\": \"Completed\", \"run_type\": \"azureml.scriptrun\", \"training_percent\": \"100\", \"start_time\": \"2021-04-18T00:15:55.693229Z\", \"end_time\": \"2021-04-18T00:21:32.2185Z\", \"created_time\": \"2021-04-18T00:13:18.560334Z\", \"created_time_dt\": \"2021-04-18T00:13:18.560334Z\", \"duration\": \"0:08:13\", \"iteration\": \"0\", \"goal\": \"AUC_weighted_max\", \"run_name\": \"MaxAbsScaler, LightGBM\", \"run_properties\": \"copy=True\", \"primary_metric\": 0.92515188, \"best_metric\": 0.92515188}, {\"run_id\": \"AutoML_9150a662-0a53-42f6-b5b7-0239de5045d8_4\", \"run_number\": 7, \"metric\": null, \"status\": \"Completed\", \"run_type\": \"azureml.scriptrun\", \"training_percent\": \"100\", \"start_time\": \"2021-04-18T00:13:33.623923Z\", \"end_time\": \"2021-04-18T00:14:57.729509Z\", \"created_time\": \"2021-04-18T00:13:18.751042Z\", \"created_time_dt\": \"2021-04-18T00:13:18.751042Z\", \"duration\": \"0:01:38\", \"iteration\": \"4\", \"goal\": \"AUC_weighted_max\", \"run_name\": \"MinMaxScaler, RandomForest\", \"run_properties\": \"copy=True, feature_range=(0, 1\", \"primary_metric\": 0.98063658, \"best_metric\": 0.98063658}, {\"run_id\": \"AutoML_9150a662-0a53-42f6-b5b7-0239de5045d8_1\", \"run_number\": 8, \"metric\": null, \"status\": \"Completed\", \"run_type\": \"azureml.scriptrun\", \"training_percent\": \"100\", \"start_time\": \"2021-04-18T00:15:55.271094Z\", \"end_time\": \"2021-04-18T00:19:13.306507Z\", \"created_time\": \"2021-04-18T00:13:18.763052Z\", \"created_time_dt\": \"2021-04-18T00:13:18.763052Z\", \"duration\": \"0:05:54\", \"iteration\": \"1\", \"goal\": \"AUC_weighted_max\", \"run_name\": \"MaxAbsScaler, XGBoostClassifier\", \"run_properties\": \"copy=True\", \"primary_metric\": 0.97354806, \"best_metric\": 0.97354806}, {\"run_id\": \"AutoML_9150a662-0a53-42f6-b5b7-0239de5045d8_2\", \"run_number\": 9, \"metric\": null, \"status\": \"Completed\", \"run_type\": \"azureml.scriptrun\", \"training_percent\": \"100\", \"start_time\": \"2021-04-18T00:16:07.982186Z\", \"end_time\": \"2021-04-18T00:18:50.153309Z\", \"created_time\": \"2021-04-18T00:13:18.933923Z\", \"created_time_dt\": \"2021-04-18T00:13:18.933923Z\", \"duration\": \"0:05:31\", \"iteration\": \"2\", \"goal\": \"AUC_weighted_max\", \"run_name\": \"MinMaxScaler, RandomForest\", \"run_properties\": \"copy=True, feature_range=(0, 1\", \"primary_metric\": 0.95509874, \"best_metric\": 0.97354806}, {\"run_id\": \"AutoML_9150a662-0a53-42f6-b5b7-0239de5045d8_3\", \"run_number\": 10, \"metric\": null, \"status\": \"Completed\", \"run_type\": \"azureml.scriptrun\", \"training_percent\": \"100\", \"start_time\": \"2021-04-18T00:15:10.123039Z\", \"end_time\": \"2021-04-18T00:16:04.634785Z\", \"created_time\": \"2021-04-18T00:13:19.03471Z\", \"created_time_dt\": \"2021-04-18T00:13:19.03471Z\", \"duration\": \"0:02:45\", \"iteration\": \"3\", \"goal\": \"AUC_weighted_max\", \"run_name\": \"RobustScaler, ExtremeRandomTrees\", \"run_properties\": \"copy=True, quantile_range=[10, 90], with_centering=False,\\n             with_scaling=False\", \"primary_metric\": 0.97252198, \"best_metric\": 0.97354806}, {\"run_id\": \"AutoML_9150a662-0a53-42f6-b5b7-0239de5045d8_5\", \"run_number\": 11, \"metric\": null, \"status\": \"Completed\", \"run_type\": \"azureml.scriptrun\", \"training_percent\": \"100\", \"start_time\": \"2021-04-18T00:16:18.520453Z\", \"end_time\": \"2021-04-18T00:17:17.117564Z\", \"created_time\": \"2021-04-18T00:15:01.709875Z\", \"created_time_dt\": \"2021-04-18T00:15:01.709875Z\", \"duration\": \"0:02:15\", \"iteration\": \"5\", \"goal\": \"AUC_weighted_max\", \"run_name\": \"MinMaxScaler, RandomForest\", \"run_properties\": \"copy=True, feature_range=(0, 1\", \"primary_metric\": 0.94677132, \"best_metric\": 0.98063658}, {\"run_id\": \"AutoML_9150a662-0a53-42f6-b5b7-0239de5045d8_6\", \"run_number\": 12, \"metric\": null, \"status\": \"Completed\", \"run_type\": \"azureml.scriptrun\", \"training_percent\": \"100\", \"start_time\": \"2021-04-18T00:17:29.666008Z\", \"end_time\": \"2021-04-18T00:18:46.259061Z\", \"created_time\": \"2021-04-18T00:16:08.83194Z\", \"created_time_dt\": \"2021-04-18T00:16:08.83194Z\", \"duration\": \"0:02:37\", \"iteration\": \"6\", \"goal\": \"AUC_weighted_max\", \"run_name\": \"StandardScalerWrapper, RandomForest\", \"run_properties\": \"<azureml.automl.runtime.shared.model_wrappers.StandardScalerWrapper object at 0x7fcd42e0f320\", \"primary_metric\": 0.95211812, \"best_metric\": 0.98063658}, {\"run_id\": \"AutoML_9150a662-0a53-42f6-b5b7-0239de5045d8_7\", \"run_number\": 13, \"metric\": null, \"status\": \"Completed\", \"run_type\": \"azureml.scriptrun\", \"training_percent\": \"100\", \"start_time\": \"2021-04-18T00:18:57.986941Z\", \"end_time\": \"2021-04-18T00:19:53.517783Z\", \"created_time\": \"2021-04-18T00:17:20.734558Z\", \"created_time_dt\": \"2021-04-18T00:17:20.734558Z\", \"duration\": \"0:02:32\", \"iteration\": \"7\", \"goal\": \"AUC_weighted_max\", \"run_name\": \"MinMaxScaler, ExtremeRandomTrees\", \"run_properties\": \"copy=True, feature_range=(0, 1\", \"primary_metric\": 0.96063971, \"best_metric\": 0.98063658}, {\"run_id\": \"AutoML_9150a662-0a53-42f6-b5b7-0239de5045d8_8\", \"run_number\": 14, \"metric\": null, \"status\": \"Completed\", \"run_type\": \"azureml.scriptrun\", \"training_percent\": \"100\", \"start_time\": \"2021-04-18T00:19:05.634359Z\", \"end_time\": \"2021-04-18T00:19:58.029602Z\", \"created_time\": \"2021-04-18T00:18:49.268351Z\", \"created_time_dt\": \"2021-04-18T00:18:49.268351Z\", \"duration\": \"0:01:08\", \"iteration\": \"8\", \"goal\": \"AUC_weighted_max\", \"run_name\": \"MinMaxScaler, ExtremeRandomTrees\", \"run_properties\": \"copy=True, feature_range=(0, 1\", \"primary_metric\": 0.93486392, \"best_metric\": 0.98063658}, {\"run_id\": \"AutoML_9150a662-0a53-42f6-b5b7-0239de5045d8_9\", \"run_number\": 15, \"metric\": null, \"status\": \"Completed\", \"run_type\": \"azureml.scriptrun\", \"training_percent\": \"100\", \"start_time\": \"2021-04-18T00:19:23.01312Z\", \"end_time\": \"2021-04-18T00:20:10.005214Z\", \"created_time\": \"2021-04-18T00:18:57.004769Z\", \"created_time_dt\": \"2021-04-18T00:18:57.004769Z\", \"duration\": \"0:01:13\", \"iteration\": \"9\", \"goal\": \"AUC_weighted_max\", \"run_name\": \"MinMaxScaler, ExtremeRandomTrees\", \"run_properties\": \"copy=True, feature_range=(0, 1\", \"primary_metric\": 0.94776007, \"best_metric\": 0.98063658}, {\"run_id\": \"AutoML_9150a662-0a53-42f6-b5b7-0239de5045d8_10\", \"run_number\": 16, \"metric\": null, \"status\": \"Completed\", \"run_type\": \"azureml.scriptrun\", \"training_percent\": \"100\", \"start_time\": \"2021-04-18T00:20:08.891611Z\", \"end_time\": \"2021-04-18T00:21:06.955101Z\", \"created_time\": \"2021-04-18T00:19:17.656221Z\", \"created_time_dt\": \"2021-04-18T00:19:17.656221Z\", \"duration\": \"0:01:49\", \"iteration\": \"10\", \"goal\": \"AUC_weighted_max\", \"run_name\": \"RobustScaler, ExtremeRandomTrees\", \"run_properties\": \"copy=True, quantile_range=[10, 90], with_centering=True,\\n             with_scaling=False\", \"primary_metric\": 0.96136216, \"best_metric\": 0.98063658}, {\"run_id\": \"AutoML_9150a662-0a53-42f6-b5b7-0239de5045d8_11\", \"run_number\": 17, \"metric\": null, \"status\": \"Completed\", \"run_type\": \"azureml.scriptrun\", \"training_percent\": \"100\", \"start_time\": \"2021-04-18T00:20:14.844212Z\", \"end_time\": \"2021-04-18T00:21:50.046259Z\", \"created_time\": \"2021-04-18T00:19:56.549983Z\", \"created_time_dt\": \"2021-04-18T00:19:56.549983Z\", \"duration\": \"0:01:53\", \"iteration\": \"11\", \"goal\": \"AUC_weighted_max\", \"run_name\": \"StandardScalerWrapper, RandomForest\", \"run_properties\": \"<azureml.automl.runtime.shared.model_wrappers.StandardScalerWrapper object at 0x7f2192f98cf8\", \"primary_metric\": 0.96486928, \"best_metric\": 0.98063658}, {\"run_id\": \"AutoML_9150a662-0a53-42f6-b5b7-0239de5045d8_12\", \"run_number\": 18, \"metric\": null, \"status\": \"Completed\", \"run_type\": \"azureml.scriptrun\", \"training_percent\": \"100\", \"start_time\": \"2021-04-18T00:20:25.143357Z\", \"end_time\": \"2021-04-18T00:21:14.733438Z\", \"created_time\": \"2021-04-18T00:20:02.26087Z\", \"created_time_dt\": \"2021-04-18T00:20:02.26087Z\", \"duration\": \"0:01:12\", \"iteration\": \"12\", \"goal\": \"AUC_weighted_max\", \"run_name\": \"StandardScalerWrapper, SGD\", \"run_properties\": \"<azureml.automl.runtime.shared.model_wrappers.StandardScalerWrapper object at 0x7f2474106550\", \"primary_metric\": 0.95030629, \"best_metric\": 0.98063658}, {\"run_id\": \"AutoML_9150a662-0a53-42f6-b5b7-0239de5045d8_13\", \"run_number\": 19, \"metric\": null, \"status\": \"Completed\", \"run_type\": \"azureml.scriptrun\", \"training_percent\": \"100\", \"start_time\": \"2021-04-18T00:21:18.828432Z\", \"end_time\": \"2021-04-18T00:22:30.452223Z\", \"created_time\": \"2021-04-18T00:20:13.052935Z\", \"created_time_dt\": \"2021-04-18T00:20:13.052935Z\", \"duration\": \"0:02:17\", \"iteration\": \"13\", \"goal\": \"AUC_weighted_max\", \"run_name\": \"RobustScaler, RandomForest\", \"run_properties\": \"copy=True, quantile_range=[10, 90], with_centering=True,\\n             with_scaling=False\", \"primary_metric\": 0.95908031, \"best_metric\": 0.98063658}, {\"run_id\": \"AutoML_9150a662-0a53-42f6-b5b7-0239de5045d8_14\", \"run_number\": 20, \"metric\": null, \"status\": \"Completed\", \"run_type\": \"azureml.scriptrun\", \"training_percent\": \"100\", \"start_time\": \"2021-04-18T00:21:29.9143Z\", \"end_time\": \"2021-04-18T00:22:23.841524Z\", \"created_time\": \"2021-04-18T00:21:10.546188Z\", \"created_time_dt\": \"2021-04-18T00:21:10.546188Z\", \"duration\": \"0:01:13\", \"iteration\": \"14\", \"goal\": \"AUC_weighted_max\", \"run_name\": \"MinMaxScaler, RandomForest\", \"run_properties\": \"copy=True, feature_range=(0, 1\", \"primary_metric\": 0.96170634, \"best_metric\": 0.98063658}, {\"run_id\": \"AutoML_9150a662-0a53-42f6-b5b7-0239de5045d8_15\", \"run_number\": 21, \"metric\": null, \"status\": \"Completed\", \"run_type\": \"azureml.scriptrun\", \"training_percent\": \"100\", \"start_time\": \"2021-04-18T00:21:44.895826Z\", \"end_time\": \"2021-04-18T00:22:33.357375Z\", \"created_time\": \"2021-04-18T00:21:17.63721Z\", \"created_time_dt\": \"2021-04-18T00:21:17.63721Z\", \"duration\": \"0:01:15\", \"iteration\": \"15\", \"goal\": \"AUC_weighted_max\", \"run_name\": \"MinMaxScaler, ExtremeRandomTrees\", \"run_properties\": \"copy=True, feature_range=(0, 1\", \"primary_metric\": 0.96040248, \"best_metric\": 0.98063658}, {\"run_id\": \"AutoML_9150a662-0a53-42f6-b5b7-0239de5045d8_16\", \"run_number\": 22, \"metric\": null, \"status\": \"Completed\", \"run_type\": \"azureml.scriptrun\", \"training_percent\": \"100\", \"start_time\": \"2021-04-18T00:22:00.503964Z\", \"end_time\": \"2021-04-18T00:23:04.609703Z\", \"created_time\": \"2021-04-18T00:21:35.178593Z\", \"created_time_dt\": \"2021-04-18T00:21:35.178593Z\", \"duration\": \"0:01:29\", \"iteration\": \"16\", \"goal\": \"AUC_weighted_max\", \"run_name\": \"MaxAbsScaler, RandomForest\", \"run_properties\": \"copy=True\", \"primary_metric\": 0.9744173, \"best_metric\": 0.98063658}, {\"run_id\": \"AutoML_9150a662-0a53-42f6-b5b7-0239de5045d8_17\", \"run_number\": 23, \"metric\": null, \"status\": \"Completed\", \"run_type\": \"azureml.scriptrun\", \"training_percent\": \"100\", \"start_time\": \"2021-04-18T00:22:42.21858Z\", \"end_time\": \"2021-04-18T00:23:36.26349Z\", \"created_time\": \"2021-04-18T00:21:53.014916Z\", \"created_time_dt\": \"2021-04-18T00:21:53.014916Z\", \"duration\": \"0:01:43\", \"iteration\": \"17\", \"goal\": \"AUC_weighted_max\", \"run_name\": \"StandardScalerWrapper, XGBoostClassifier\", \"run_properties\": \"<azureml.automl.runtime.shared.model_wrappers.StandardScalerWrapper object at 0x7f534fcc06a0\", \"primary_metric\": 0.97200661, \"best_metric\": 0.98063658}, {\"run_id\": \"AutoML_9150a662-0a53-42f6-b5b7-0239de5045d8_18\", \"run_number\": 24, \"metric\": null, \"status\": \"Completed\", \"run_type\": \"azureml.scriptrun\", \"training_percent\": \"100\", \"start_time\": \"2021-04-18T00:22:46.176891Z\", \"end_time\": \"2021-04-18T00:23:54.303105Z\", \"created_time\": \"2021-04-18T00:22:28.367783Z\", \"created_time_dt\": \"2021-04-18T00:22:28.367783Z\", \"duration\": \"0:01:25\", \"iteration\": \"18\", \"goal\": \"AUC_weighted_max\", \"run_name\": \"MaxAbsScaler, RandomForest\", \"run_properties\": \"copy=True\", \"primary_metric\": 0.96601989, \"best_metric\": 0.98063658}, {\"run_id\": \"AutoML_9150a662-0a53-42f6-b5b7-0239de5045d8_19\", \"run_number\": 25, \"metric\": null, \"status\": \"Completed\", \"run_type\": \"azureml.scriptrun\", \"training_percent\": \"100\", \"start_time\": \"2021-04-18T00:22:51.711382Z\", \"end_time\": \"2021-04-18T00:23:45.133202Z\", \"created_time\": \"2021-04-18T00:22:34.939045Z\", \"created_time_dt\": \"2021-04-18T00:22:34.939045Z\", \"duration\": \"0:01:10\", \"iteration\": \"19\", \"goal\": \"AUC_weighted_max\", \"run_name\": \"MaxAbsScaler, ExtremeRandomTrees\", \"run_properties\": \"copy=True\", \"primary_metric\": 0.94800842, \"best_metric\": 0.98063658}, {\"run_id\": \"AutoML_9150a662-0a53-42f6-b5b7-0239de5045d8_20\", \"run_number\": 26, \"metric\": null, \"status\": \"Completed\", \"run_type\": \"azureml.scriptrun\", \"training_percent\": \"100\", \"start_time\": \"2021-04-18T00:23:18.358471Z\", \"end_time\": \"2021-04-18T00:24:19.045608Z\", \"created_time\": \"2021-04-18T00:22:42.121953Z\", \"created_time_dt\": \"2021-04-18T00:22:42.121953Z\", \"duration\": \"0:01:36\", \"iteration\": \"20\", \"goal\": \"AUC_weighted_max\", \"run_name\": \"MaxAbsScaler, ExtremeRandomTrees\", \"run_properties\": \"copy=True\", \"primary_metric\": 0.95980456, \"best_metric\": 0.98063658}, {\"run_id\": \"AutoML_9150a662-0a53-42f6-b5b7-0239de5045d8_21\", \"run_number\": 27, \"metric\": null, \"status\": \"Completed\", \"run_type\": \"azureml.scriptrun\", \"training_percent\": \"100\", \"start_time\": \"2021-04-18T00:23:49.112195Z\", \"end_time\": \"2021-04-18T00:25:02.476193Z\", \"created_time\": \"2021-04-18T00:23:07.830019Z\", \"created_time_dt\": \"2021-04-18T00:23:07.830019Z\", \"duration\": \"0:01:54\", \"iteration\": \"21\", \"goal\": \"AUC_weighted_max\", \"run_name\": \"MaxAbsScaler, ExtremeRandomTrees\", \"run_properties\": \"copy=True\", \"primary_metric\": 0.95369331, \"best_metric\": 0.98063658}, {\"run_id\": \"AutoML_9150a662-0a53-42f6-b5b7-0239de5045d8_22\", \"run_number\": 28, \"metric\": null, \"status\": \"Completed\", \"run_type\": \"azureml.scriptrun\", \"training_percent\": \"100\", \"start_time\": \"2021-04-18T00:24:02.185889Z\", \"end_time\": \"2021-04-18T00:27:08.358242Z\", \"created_time\": \"2021-04-18T00:23:38.892612Z\", \"created_time_dt\": \"2021-04-18T00:23:38.892612Z\", \"duration\": \"0:03:29\", \"iteration\": \"22\", \"goal\": \"AUC_weighted_max\", \"run_name\": \"SparseNormalizer, XGBoostClassifier\", \"run_properties\": \"<azureml.automl.runtime.shared.model_wrappers.SparseNormalizer object at 0x7f642f80c4a8\", \"primary_metric\": 0.95326048, \"best_metric\": 0.98063658}, {\"run_id\": \"AutoML_9150a662-0a53-42f6-b5b7-0239de5045d8_23\", \"run_number\": 29, \"metric\": null, \"status\": \"Completed\", \"run_type\": \"azureml.scriptrun\", \"training_percent\": \"100\", \"start_time\": \"2021-04-18T00:24:06.877618Z\", \"end_time\": \"2021-04-18T00:25:06.951807Z\", \"created_time\": \"2021-04-18T00:23:47.624312Z\", \"created_time_dt\": \"2021-04-18T00:23:47.624312Z\", \"duration\": \"0:01:19\", \"iteration\": \"23\", \"goal\": \"AUC_weighted_max\", \"run_name\": \"SparseNormalizer, XGBoostClassifier\", \"run_properties\": \"<azureml.automl.runtime.shared.model_wrappers.SparseNormalizer object at 0x7f3c946aa5f8\", \"primary_metric\": 0.96088986, \"best_metric\": 0.98063658}, {\"run_id\": \"AutoML_9150a662-0a53-42f6-b5b7-0239de5045d8_24\", \"run_number\": 30, \"metric\": null, \"status\": \"Completed\", \"run_type\": \"azureml.scriptrun\", \"training_percent\": \"100\", \"start_time\": \"2021-04-18T00:24:33.076345Z\", \"end_time\": \"2021-04-18T00:25:40.505158Z\", \"created_time\": \"2021-04-18T00:23:56.19363Z\", \"created_time_dt\": \"2021-04-18T00:23:56.19363Z\", \"duration\": \"0:01:44\", \"iteration\": \"24\", \"goal\": \"AUC_weighted_max\", \"run_name\": \"SparseNormalizer, XGBoostClassifier\", \"run_properties\": \"<azureml.automl.runtime.shared.model_wrappers.SparseNormalizer object at 0x7f9d1c9fbfd0\", \"primary_metric\": 0.97036179, \"best_metric\": 0.98063658}, {\"run_id\": \"AutoML_9150a662-0a53-42f6-b5b7-0239de5045d8_25\", \"run_number\": 31, \"metric\": null, \"status\": \"Completed\", \"run_type\": \"azureml.scriptrun\", \"training_percent\": \"100\", \"start_time\": \"2021-04-18T00:25:19.280721Z\", \"end_time\": \"2021-04-18T00:26:15.447617Z\", \"created_time\": \"2021-04-18T00:24:22.428577Z\", \"created_time_dt\": \"2021-04-18T00:24:22.428577Z\", \"duration\": \"0:01:53\", \"iteration\": \"25\", \"goal\": \"AUC_weighted_max\", \"run_name\": \"MinMaxScaler, RandomForest\", \"run_properties\": \"copy=True, feature_range=(0, 1\", \"primary_metric\": 0.95951206, \"best_metric\": 0.98063658}, {\"run_id\": \"AutoML_9150a662-0a53-42f6-b5b7-0239de5045d8_26\", \"run_number\": 32, \"metric\": null, \"status\": \"Completed\", \"run_type\": \"azureml.scriptrun\", \"training_percent\": \"100\", \"start_time\": \"2021-04-18T00:25:22.098822Z\", \"end_time\": \"2021-04-18T00:26:18.404628Z\", \"created_time\": \"2021-04-18T00:25:06.658632Z\", \"created_time_dt\": \"2021-04-18T00:25:06.658632Z\", \"duration\": \"0:01:11\", \"iteration\": \"26\", \"goal\": \"AUC_weighted_max\", \"run_name\": \"SparseNormalizer, XGBoostClassifier\", \"run_properties\": \"<azureml.automl.runtime.shared.model_wrappers.SparseNormalizer object at 0x7fab3bf30b00\", \"primary_metric\": 0.97933092, \"best_metric\": 0.98063658}, {\"run_id\": \"AutoML_9150a662-0a53-42f6-b5b7-0239de5045d8_27\", \"run_number\": 33, \"metric\": null, \"status\": \"Canceled\", \"run_type\": \"azureml.scriptrun\", \"training_percent\": \"100\", \"start_time\": \"2021-04-18T00:25:56.471467Z\", \"end_time\": \"2021-04-18T00:30:46.430946Z\", \"created_time\": \"2021-04-18T00:25:11.356502Z\", \"created_time_dt\": \"2021-04-18T00:25:11.356502Z\", \"duration\": \"0:05:35\", \"iteration\": \"27\", \"goal\": null, \"run_name\": \"StandardScalerWrapper, RandomForest\", \"run_properties\": null}, {\"run_id\": \"AutoML_9150a662-0a53-42f6-b5b7-0239de5045d8_28\", \"run_number\": 34, \"metric\": null, \"status\": \"Completed\", \"run_type\": \"azureml.scriptrun\", \"training_percent\": \"100\", \"start_time\": \"2021-04-18T00:26:28.62992Z\", \"end_time\": \"2021-04-18T00:27:31.864337Z\", \"created_time\": \"2021-04-18T00:25:43.833966Z\", \"created_time_dt\": \"2021-04-18T00:25:43.833966Z\", \"duration\": \"0:01:48\", \"iteration\": \"28\", \"goal\": \"AUC_weighted_max\", \"run_name\": \"RobustScaler, RandomForest\", \"run_properties\": \"copy=True, quantile_range=[10, 90], with_centering=False,\\n             with_scaling=False\", \"primary_metric\": 0.95996247, \"best_metric\": 0.98063658}, {\"run_id\": \"AutoML_9150a662-0a53-42f6-b5b7-0239de5045d8_29\", \"run_number\": 35, \"metric\": null, \"status\": \"Completed\", \"run_type\": \"azureml.scriptrun\", \"training_percent\": \"100\", \"start_time\": \"2021-04-18T00:26:34.645306Z\", \"end_time\": \"2021-04-18T00:27:31.819979Z\", \"created_time\": \"2021-04-18T00:26:17.415399Z\", \"created_time_dt\": \"2021-04-18T00:26:17.415399Z\", \"duration\": \"0:01:14\", \"iteration\": \"29\", \"goal\": \"AUC_weighted_max\", \"run_name\": \"MinMaxScaler, ExtremeRandomTrees\", \"run_properties\": \"copy=True, feature_range=(0, 1\", \"primary_metric\": 0.95105723, \"best_metric\": 0.98063658}, {\"run_id\": \"AutoML_9150a662-0a53-42f6-b5b7-0239de5045d8_30\", \"run_number\": 36, \"metric\": null, \"status\": \"Completed\", \"run_type\": \"azureml.scriptrun\", \"training_percent\": \"100\", \"start_time\": \"2021-04-18T00:27:26.010349Z\", \"end_time\": \"2021-04-18T00:28:24.246382Z\", \"created_time\": \"2021-04-18T00:26:22.236489Z\", \"created_time_dt\": \"2021-04-18T00:26:22.236489Z\", \"duration\": \"0:02:02\", \"iteration\": \"30\", \"goal\": \"AUC_weighted_max\", \"run_name\": \"RobustScaler, RandomForest\", \"run_properties\": \"copy=True, quantile_range=[10, 90], with_centering=False,\\n             with_scaling=False\", \"primary_metric\": 0.88717082, \"best_metric\": 0.98063658}, {\"run_id\": \"AutoML_9150a662-0a53-42f6-b5b7-0239de5045d8_31\", \"run_number\": 37, \"metric\": null, \"status\": \"Completed\", \"run_type\": \"azureml.scriptrun\", \"training_percent\": \"100\", \"start_time\": \"2021-04-18T00:27:44.871675Z\", \"end_time\": \"2021-04-18T00:28:41.493453Z\", \"created_time\": \"2021-04-18T00:27:10.22423Z\", \"created_time_dt\": \"2021-04-18T00:27:10.22423Z\", \"duration\": \"0:01:31\", \"iteration\": \"31\", \"goal\": \"AUC_weighted_max\", \"run_name\": \"SparseNormalizer, XGBoostClassifier\", \"run_properties\": \"<azureml.automl.runtime.shared.model_wrappers.SparseNormalizer object at 0x7fa6d42150b8\", \"primary_metric\": 0.95884595, \"best_metric\": 0.98063658}, {\"run_id\": \"AutoML_9150a662-0a53-42f6-b5b7-0239de5045d8_32\", \"run_number\": 38, \"metric\": null, \"status\": \"Completed\", \"run_type\": \"azureml.scriptrun\", \"training_percent\": \"100\", \"start_time\": \"2021-04-18T00:28:36.930339Z\", \"end_time\": \"2021-04-18T00:29:27.660893Z\", \"created_time\": \"2021-04-18T00:27:33.684744Z\", \"created_time_dt\": \"2021-04-18T00:27:33.684744Z\", \"duration\": \"0:01:53\", \"iteration\": \"32\", \"goal\": \"AUC_weighted_max\", \"run_name\": \"MaxAbsScaler, LightGBM\", \"run_properties\": \"copy=True\", \"primary_metric\": 0.95916968, \"best_metric\": 0.98063658}, {\"run_id\": \"AutoML_9150a662-0a53-42f6-b5b7-0239de5045d8_33\", \"run_number\": 39, \"metric\": null, \"status\": \"Completed\", \"run_type\": \"azureml.scriptrun\", \"training_percent\": \"100\", \"start_time\": \"2021-04-18T00:27:46.862904Z\", \"end_time\": \"2021-04-18T00:28:42.826614Z\", \"created_time\": \"2021-04-18T00:27:33.741239Z\", \"created_time_dt\": \"2021-04-18T00:27:33.741239Z\", \"duration\": \"0:01:09\", \"iteration\": \"33\", \"goal\": \"AUC_weighted_max\", \"run_name\": \"StandardScalerWrapper, LightGBM\", \"run_properties\": \"<azureml.automl.runtime.shared.model_wrappers.StandardScalerWrapper object at 0x7fd26b557e80\", \"primary_metric\": 0.96991748, \"best_metric\": 0.98063658}, {\"run_id\": \"AutoML_9150a662-0a53-42f6-b5b7-0239de5045d8_34\", \"run_number\": 40, \"metric\": null, \"status\": \"Canceled\", \"run_type\": \"azureml.scriptrun\", \"training_percent\": \"100\", \"start_time\": \"2021-04-18T00:28:56.786551Z\", \"end_time\": \"2021-04-18T00:30:44.69981Z\", \"created_time\": \"2021-04-18T00:28:26.354637Z\", \"created_time_dt\": \"2021-04-18T00:28:26.354637Z\", \"duration\": \"0:02:18\", \"iteration\": \"34\", \"goal\": \"AUC_weighted_max\", \"run_name\": \"StandardScalerWrapper, XGBoostClassifier\", \"run_properties\": \"<azureml.automl.runtime.shared.model_wrappers.StandardScalerWrapper object at 0x7f0744b6e828\", \"primary_metric\": 0.97408963, \"best_metric\": 0.98063658}, {\"run_id\": \"AutoML_9150a662-0a53-42f6-b5b7-0239de5045d8_35\", \"run_number\": 41, \"metric\": null, \"status\": \"Canceled\", \"run_type\": \"azureml.scriptrun\", \"training_percent\": \"100\", \"start_time\": \"2021-04-18T00:28:56.397053Z\", \"end_time\": \"2021-04-18T00:30:45.077154Z\", \"created_time\": \"2021-04-18T00:28:44.384144Z\", \"created_time_dt\": \"2021-04-18T00:28:44.384144Z\", \"duration\": \"0:02:00\", \"iteration\": \"35\", \"goal\": null, \"run_name\": \"StandardScalerWrapper, RandomForest\", \"run_properties\": null}, {\"run_id\": \"AutoML_9150a662-0a53-42f6-b5b7-0239de5045d8_36\", \"run_number\": 42, \"metric\": null, \"status\": \"Completed\", \"run_type\": \"azureml.scriptrun\", \"training_percent\": \"100\", \"start_time\": \"2021-04-18T00:29:39.649508Z\", \"end_time\": \"2021-04-18T00:30:38.174936Z\", \"created_time\": \"2021-04-18T00:28:48.487539Z\", \"created_time_dt\": \"2021-04-18T00:28:48.487539Z\", \"duration\": \"0:01:49\", \"iteration\": \"36\", \"goal\": \"AUC_weighted_max\", \"run_name\": \"MinMaxScaler, LightGBM\", \"run_properties\": \"copy=True, feature_range=(0, 1\", \"primary_metric\": 0.97754255, \"best_metric\": 0.98063658}, {\"run_id\": \"AutoML_9150a662-0a53-42f6-b5b7-0239de5045d8_37\", \"run_number\": 43, \"metric\": null, \"status\": \"Canceled\", \"run_type\": \"azureml.scriptrun\", \"training_percent\": \"100\", \"start_time\": \"2021-04-18T00:29:29.653341Z\", \"end_time\": \"2021-04-18T00:30:45.116208Z\", \"created_time\": \"2021-04-18T00:29:29.653341Z\", \"created_time_dt\": \"2021-04-18T00:29:29.653341Z\", \"duration\": \"0:01:15\", \"iteration\": \"37\", \"goal\": null, \"run_name\": \"Canceled\", \"run_properties\": null}, {\"run_id\": \"AutoML_9150a662-0a53-42f6-b5b7-0239de5045d8_39\", \"run_number\": 44, \"metric\": null, \"status\": \"Completed\", \"run_type\": \"azureml.scriptrun\", \"training_percent\": \"100\", \"start_time\": \"2021-04-18T00:30:55.234149Z\", \"end_time\": \"2021-04-18T00:34:05.989537Z\", \"created_time\": \"2021-04-18T00:30:47.073614Z\", \"created_time_dt\": \"2021-04-18T00:30:47.073614Z\", \"duration\": \"0:03:18\", \"iteration\": \"39\", \"goal\": \"AUC_weighted_max\", \"run_name\": \"StackEnsemble\", \"run_properties\": \"base_learners=[('4',\\n                                        Pipeline(memory=None,\\n                                                 steps=[('minmaxscaler',\\n                                                         MinMaxScaler(copy=True,\\n                                                                      feature_range=(0,\\n                                                                                     1\", \"primary_metric\": 0.98455247, \"best_metric\": 0.98567222}, {\"run_id\": \"AutoML_9150a662-0a53-42f6-b5b7-0239de5045d8_38\", \"run_number\": 45, \"metric\": null, \"status\": \"Completed\", \"run_type\": \"azureml.scriptrun\", \"training_percent\": \"100\", \"start_time\": \"2021-04-18T00:30:58.396234Z\", \"end_time\": \"2021-04-18T00:32:08.556589Z\", \"created_time\": \"2021-04-18T00:30:47.086206Z\", \"created_time_dt\": \"2021-04-18T00:30:47.086206Z\", \"duration\": \"0:01:21\", \"iteration\": \"38\", \"goal\": \"AUC_weighted_max\", \"run_name\": \"VotingEnsemble\", \"run_properties\": \"classification_labels=None,\\n                              estimators=[('4',\\n                                           Pipeline(memory=None,\\n                                                    steps=[('minmaxscaler',\\n                                                            MinMaxScaler(copy=True,\\n                                                                         feature_range=(0,\\n                                                                                        1\", \"primary_metric\": 0.98567222, \"best_metric\": 0.98567222}], \"children_metrics\": {\"categories\": [0], \"series\": {\"average_precision_score_micro\": [{\"categories\": [\"0\", \"1\", \"2\", \"3\", \"4\", \"5\", \"6\", \"7\", \"8\", \"9\", \"10\", \"11\", \"12\", \"13\", \"14\", \"15\", \"16\", \"17\", \"18\", \"19\", \"20\", \"21\", \"22\", \"23\", \"24\", \"25\", \"26\", \"28\", \"29\", \"30\", \"31\", \"32\", \"33\", \"34\", \"36\", \"38\", \"39\"], \"mode\": \"markers\", \"name\": \"average_precision_score_micro\", \"stepped\": false, \"type\": \"scatter\", \"data\": [0.9993073134574981, 0.9984471171966365, 0.9929370680357165, 0.9975474014185254, 0.97634705013623, 0.9929661531522409, 0.9969815488345211, 0.9948076913813211, 0.9943469790866417, 0.9873630307772274, 0.9982687082535109, 0.3619920608180203, 0.9660198301810856, 0.6875610030794916, 0.9962047963457973, 0.30819094867499036, 0.3083044144100666, 0.9986409345019058, 0.9965028988672437, 0.30819855665920587, 0.30821756941217854, 0.30817815823432737, 0.9998122522107649, 0.9995190630918843, 0.9990003287136981, 0.3530734423762226, 0.9994215926691336, 0.30839530721677144, 0.9967312561964485, 0.9290089485050914, 0.9991745493008334, 0.9957382093691884, 0.9969016702570581, 0.9996772403231047, 0.9998868925280398, 0.9994622720153947, 0.9991286376966761]}, {\"categories\": [\"0\", \"1\", \"2\", \"3\", \"4\", \"5\", \"6\", \"7\", \"8\", \"9\", \"10\", \"11\", \"12\", \"13\", \"14\", \"15\", \"16\", \"17\", \"18\", \"19\", \"20\", \"21\", \"22\", \"23\", \"24\", \"25\", \"26\", \"28\", \"29\", \"30\", \"31\", \"32\", \"33\", \"34\", \"36\", \"38\", \"39\"], \"mode\": \"lines\", \"name\": \"average_precision_score_micro_max\", \"stepped\": true, \"type\": \"scatter\", \"data\": [0.9993073134574981, 0.9993073134574981, 0.9993073134574981, 0.9993073134574981, 0.9993073134574981, 0.9993073134574981, 0.9993073134574981, 0.9993073134574981, 0.9993073134574981, 0.9993073134574981, 0.9993073134574981, 0.9993073134574981, 0.9993073134574981, 0.9993073134574981, 0.9993073134574981, 0.9993073134574981, 0.9993073134574981, 0.9993073134574981, 0.9993073134574981, 0.9993073134574981, 0.9993073134574981, 0.9993073134574981, 0.9998122522107649, 0.9998122522107649, 0.9998122522107649, 0.9998122522107649, 0.9998122522107649, 0.9998122522107649, 0.9998122522107649, 0.9998122522107649, 0.9998122522107649, 0.9998122522107649, 0.9998122522107649, 0.9998122522107649, 0.9998868925280398, 0.9998868925280398, 0.9998868925280398]}], \"accuracy\": [{\"categories\": [\"0\", \"1\", \"2\", \"3\", \"4\", \"5\", \"6\", \"7\", \"8\", \"9\", \"10\", \"11\", \"12\", \"13\", \"14\", \"15\", \"16\", \"17\", \"18\", \"19\", \"20\", \"21\", \"22\", \"23\", \"24\", \"25\", \"26\", \"28\", \"29\", \"30\", \"31\", \"32\", \"33\", \"34\", \"36\", \"38\", \"39\"], \"mode\": \"markers\", \"name\": \"accuracy\", \"stepped\": false, \"type\": \"scatter\", \"data\": [0.9994382219725431, 0.9930128857835048, 0.9491941996418665, 0.9877813279028124, 0.9329377479723324, 0.960745760331449, 0.9791791018573786, 0.965661318071697, 0.9706119869386609, 0.947684421193076, 0.9863768828341701, 0.32221480987324885, 0.946385309504582, 0.6751518556230469, 0.9692777641234507, 0.0017204452090867595, 0.0018257785892349286, 0.9895017731118991, 0.9727537656683403, 0.0017204452090867595, 0.0017204452090867595, 0.0017204452090867595, 0.9990871107053826, 0.9976826656367402, 0.9955759980337769, 0.36094238264105893, 0.9944524419788631, 0.0017204452090867595, 0.9772128787612795, 0.8556581580702924, 0.9979284435237527, 0.9747199887644394, 0.9761595449597977, 0.9982795547909132, 0.9989466661985184, 0.9987008883115059, 0.9983848881710614]}, {\"categories\": [\"0\", \"1\", \"2\", \"3\", \"4\", \"5\", \"6\", \"7\", \"8\", \"9\", \"10\", \"11\", \"12\", \"13\", \"14\", \"15\", \"16\", \"17\", \"18\", \"19\", \"20\", \"21\", \"22\", \"23\", \"24\", \"25\", \"26\", \"28\", \"29\", \"30\", \"31\", \"32\", \"33\", \"34\", \"36\", \"38\", \"39\"], \"mode\": \"lines\", \"name\": \"accuracy_max\", \"stepped\": true, \"type\": \"scatter\", \"data\": [0.9994382219725431, 0.9994382219725431, 0.9994382219725431, 0.9994382219725431, 0.9994382219725431, 0.9994382219725431, 0.9994382219725431, 0.9994382219725431, 0.9994382219725431, 0.9994382219725431, 0.9994382219725431, 0.9994382219725431, 0.9994382219725431, 0.9994382219725431, 0.9994382219725431, 0.9994382219725431, 0.9994382219725431, 0.9994382219725431, 0.9994382219725431, 0.9994382219725431, 0.9994382219725431, 0.9994382219725431, 0.9994382219725431, 0.9994382219725431, 0.9994382219725431, 0.9994382219725431, 0.9994382219725431, 0.9994382219725431, 0.9994382219725431, 0.9994382219725431, 0.9994382219725431, 0.9994382219725431, 0.9994382219725431, 0.9994382219725431, 0.9994382219725431, 0.9994382219725431, 0.9994382219725431]}], \"weighted_accuracy\": [{\"categories\": [\"0\", \"1\", \"2\", \"3\", \"4\", \"5\", \"6\", \"7\", \"8\", \"9\", \"10\", \"11\", \"12\", \"13\", \"14\", \"15\", \"16\", \"17\", \"18\", \"19\", \"20\", \"21\", \"22\", \"23\", \"24\", \"25\", \"26\", \"28\", \"29\", \"30\", \"31\", \"32\", \"33\", \"34\", \"36\", \"38\", \"39\"], \"mode\": \"markers\", \"name\": \"weighted_accuracy\", \"stepped\": false, \"type\": \"scatter\", \"data\": [0.999718142815141, 0.9931764194984659, 0.9492472352378631, 0.9879709719806943, 0.9329979263182234, 0.9608537805547822, 0.9793188354464405, 0.9657777951925579, 0.970772092281607, 0.9478401920678431, 0.9864938888193224, 0.32104872451700595, 0.9464335125877057, 0.67469830826373, 0.9694004631046356, 2.9701340404421287e-06, 0.00010848473342134664, 0.9897294880220623, 0.9728824448842055, 2.9701340404421287e-06, 2.9701340404421287e-06, 2.9701340404421287e-06, 0.9993313165657247, 0.9979595661587924, 0.9957790523348814, 0.3598780364741984, 0.9947237851111114, 2.9701340404421287e-06, 0.9773843405094769, 0.8558662692509389, 0.9981706559725346, 0.9748520507393156, 0.9762589726793747, 0.9985223713038044, 0.9991204085969237, 0.998874207865035, 0.9985576640668922]}, {\"categories\": [\"0\", \"1\", \"2\", \"3\", \"4\", \"5\", \"6\", \"7\", \"8\", \"9\", \"10\", \"11\", \"12\", \"13\", \"14\", \"15\", \"16\", \"17\", \"18\", \"19\", \"20\", \"21\", \"22\", \"23\", \"24\", \"25\", \"26\", \"28\", \"29\", \"30\", \"31\", \"32\", \"33\", \"34\", \"36\", \"38\", \"39\"], \"mode\": \"lines\", \"name\": \"weighted_accuracy_max\", \"stepped\": true, \"type\": \"scatter\", \"data\": [0.999718142815141, 0.999718142815141, 0.999718142815141, 0.999718142815141, 0.999718142815141, 0.999718142815141, 0.999718142815141, 0.999718142815141, 0.999718142815141, 0.999718142815141, 0.999718142815141, 0.999718142815141, 0.999718142815141, 0.999718142815141, 0.999718142815141, 0.999718142815141, 0.999718142815141, 0.999718142815141, 0.999718142815141, 0.999718142815141, 0.999718142815141, 0.999718142815141, 0.999718142815141, 0.999718142815141, 0.999718142815141, 0.999718142815141, 0.999718142815141, 0.999718142815141, 0.999718142815141, 0.999718142815141, 0.999718142815141, 0.999718142815141, 0.999718142815141, 0.999718142815141, 0.999718142815141, 0.999718142815141, 0.999718142815141]}], \"recall_score_micro\": [{\"categories\": [\"0\", \"1\", \"2\", \"3\", \"4\", \"5\", \"6\", \"7\", \"8\", \"9\", \"10\", \"11\", \"12\", \"13\", \"14\", \"15\", \"16\", \"17\", \"18\", \"19\", \"20\", \"21\", \"22\", \"23\", \"24\", \"25\", \"26\", \"28\", \"29\", \"30\", \"31\", \"32\", \"33\", \"34\", \"36\", \"38\", \"39\"], \"mode\": \"markers\", \"name\": \"recall_score_micro\", \"stepped\": false, \"type\": \"scatter\", \"data\": [0.9994382219725431, 0.9930128857835048, 0.9491941996418665, 0.9877813279028124, 0.9329377479723324, 0.960745760331449, 0.9791791018573786, 0.965661318071697, 0.9706119869386609, 0.947684421193076, 0.9863768828341701, 0.32221480987324885, 0.946385309504582, 0.6751518556230469, 0.9692777641234507, 0.0017204452090867595, 0.0018257785892349286, 0.9895017731118991, 0.9727537656683403, 0.0017204452090867595, 0.0017204452090867595, 0.0017204452090867595, 0.9990871107053826, 0.9976826656367402, 0.9955759980337769, 0.36094238264105893, 0.9944524419788631, 0.0017204452090867595, 0.9772128787612795, 0.8556581580702924, 0.9979284435237527, 0.9747199887644394, 0.9761595449597977, 0.9982795547909132, 0.9989466661985184, 0.9987008883115059, 0.9983848881710614]}, {\"categories\": [\"0\", \"1\", \"2\", \"3\", \"4\", \"5\", \"6\", \"7\", \"8\", \"9\", \"10\", \"11\", \"12\", \"13\", \"14\", \"15\", \"16\", \"17\", \"18\", \"19\", \"20\", \"21\", \"22\", \"23\", \"24\", \"25\", \"26\", \"28\", \"29\", \"30\", \"31\", \"32\", \"33\", \"34\", \"36\", \"38\", \"39\"], \"mode\": \"lines\", \"name\": \"recall_score_micro_max\", \"stepped\": true, \"type\": \"scatter\", \"data\": [0.9994382219725431, 0.9994382219725431, 0.9994382219725431, 0.9994382219725431, 0.9994382219725431, 0.9994382219725431, 0.9994382219725431, 0.9994382219725431, 0.9994382219725431, 0.9994382219725431, 0.9994382219725431, 0.9994382219725431, 0.9994382219725431, 0.9994382219725431, 0.9994382219725431, 0.9994382219725431, 0.9994382219725431, 0.9994382219725431, 0.9994382219725431, 0.9994382219725431, 0.9994382219725431, 0.9994382219725431, 0.9994382219725431, 0.9994382219725431, 0.9994382219725431, 0.9994382219725431, 0.9994382219725431, 0.9994382219725431, 0.9994382219725431, 0.9994382219725431, 0.9994382219725431, 0.9994382219725431, 0.9994382219725431, 0.9994382219725431, 0.9994382219725431, 0.9994382219725431, 0.9994382219725431]}], \"f1_score_micro\": [{\"categories\": [\"0\", \"1\", \"2\", \"3\", \"4\", \"5\", \"6\", \"7\", \"8\", \"9\", \"10\", \"11\", \"12\", \"13\", \"14\", \"15\", \"16\", \"17\", \"18\", \"19\", \"20\", \"21\", \"22\", \"23\", \"24\", \"25\", \"26\", \"28\", \"29\", \"30\", \"31\", \"32\", \"33\", \"34\", \"36\", \"38\", \"39\"], \"mode\": \"markers\", \"name\": \"f1_score_micro\", \"stepped\": false, \"type\": \"scatter\", \"data\": [0.9994382219725431, 0.9930128857835048, 0.9491941996418664, 0.9877813279028124, 0.9329377479723324, 0.960745760331449, 0.9791791018573786, 0.965661318071697, 0.9706119869386609, 0.947684421193076, 0.9863768828341701, 0.32221480987324885, 0.946385309504582, 0.6751518556230469, 0.9692777641234507, 0.0017204452090867595, 0.0018257785892349286, 0.9895017731118991, 0.9727537656683403, 0.0017204452090867595, 0.0017204452090867595, 0.0017204452090867595, 0.9990871107053826, 0.9976826656367402, 0.9955759980337769, 0.360942382641059, 0.9944524419788631, 0.0017204452090867595, 0.9772128787612795, 0.8556581580702924, 0.9979284435237527, 0.9747199887644394, 0.9761595449597977, 0.9982795547909132, 0.9989466661985184, 0.9987008883115059, 0.9983848881710614]}, {\"categories\": [\"0\", \"1\", \"2\", \"3\", \"4\", \"5\", \"6\", \"7\", \"8\", \"9\", \"10\", \"11\", \"12\", \"13\", \"14\", \"15\", \"16\", \"17\", \"18\", \"19\", \"20\", \"21\", \"22\", \"23\", \"24\", \"25\", \"26\", \"28\", \"29\", \"30\", \"31\", \"32\", \"33\", \"34\", \"36\", \"38\", \"39\"], \"mode\": \"lines\", \"name\": \"f1_score_micro_max\", \"stepped\": true, \"type\": \"scatter\", \"data\": [0.9994382219725431, 0.9994382219725431, 0.9994382219725431, 0.9994382219725431, 0.9994382219725431, 0.9994382219725431, 0.9994382219725431, 0.9994382219725431, 0.9994382219725431, 0.9994382219725431, 0.9994382219725431, 0.9994382219725431, 0.9994382219725431, 0.9994382219725431, 0.9994382219725431, 0.9994382219725431, 0.9994382219725431, 0.9994382219725431, 0.9994382219725431, 0.9994382219725431, 0.9994382219725431, 0.9994382219725431, 0.9994382219725431, 0.9994382219725431, 0.9994382219725431, 0.9994382219725431, 0.9994382219725431, 0.9994382219725431, 0.9994382219725431, 0.9994382219725431, 0.9994382219725431, 0.9994382219725431, 0.9994382219725431, 0.9994382219725431, 0.9994382219725431, 0.9994382219725431, 0.9994382219725431]}], \"average_precision_score_weighted\": [{\"categories\": [\"0\", \"1\", \"2\", \"3\", \"4\", \"5\", \"6\", \"7\", \"8\", \"9\", \"10\", \"11\", \"12\", \"13\", \"14\", \"15\", \"16\", \"17\", \"18\", \"19\", \"20\", \"21\", \"22\", \"23\", \"24\", \"25\", \"26\", \"28\", \"29\", \"30\", \"31\", \"32\", \"33\", \"34\", \"36\", \"38\", \"39\"], \"mode\": \"markers\", \"name\": \"average_precision_score_weighted\", \"stepped\": false, \"type\": \"scatter\", \"data\": [0.9991205202051671, 0.9995997587006605, 0.9993388447445994, 0.9994107269777673, 0.9992795357672519, 0.9992898338318164, 0.9992624490210851, 0.9993799377915203, 0.9988538183769123, 0.9990229357134295, 0.9993668555107642, 0.9994533393124476, 0.9982451686557164, 0.9993049292354311, 0.9992163343395134, 0.9991425363817172, 0.999351646703169, 0.9994445833398333, 0.999421108349714, 0.9991397238570334, 0.9992045518956371, 0.9991483641047376, 0.9996321459051641, 0.9995545880589765, 0.9993562874823344, 0.9993420535065409, 0.9994356342246903, 0.9994101025547684, 0.9992913023573873, 0.9982590024872581, 0.999387814513611, 0.999279209557354, 0.9994405692445257, 0.9996143199122801, 0.999724938739689, 0.9997370192408314, 0.999735242446229]}, {\"categories\": [\"0\", \"1\", \"2\", \"3\", \"4\", \"5\", \"6\", \"7\", \"8\", \"9\", \"10\", \"11\", \"12\", \"13\", \"14\", \"15\", \"16\", \"17\", \"18\", \"19\", \"20\", \"21\", \"22\", \"23\", \"24\", \"25\", \"26\", \"28\", \"29\", \"30\", \"31\", \"32\", \"33\", \"34\", \"36\", \"38\", \"39\"], \"mode\": \"lines\", \"name\": \"average_precision_score_weighted_max\", \"stepped\": true, \"type\": \"scatter\", \"data\": [0.9991205202051671, 0.9995997587006605, 0.9995997587006605, 0.9995997587006605, 0.9995997587006605, 0.9995997587006605, 0.9995997587006605, 0.9995997587006605, 0.9995997587006605, 0.9995997587006605, 0.9995997587006605, 0.9995997587006605, 0.9995997587006605, 0.9995997587006605, 0.9995997587006605, 0.9995997587006605, 0.9995997587006605, 0.9995997587006605, 0.9995997587006605, 0.9995997587006605, 0.9995997587006605, 0.9995997587006605, 0.9996321459051641, 0.9996321459051641, 0.9996321459051641, 0.9996321459051641, 0.9996321459051641, 0.9996321459051641, 0.9996321459051641, 0.9996321459051641, 0.9996321459051641, 0.9996321459051641, 0.9996321459051641, 0.9996321459051641, 0.999724938739689, 0.9997370192408314, 0.9997370192408314]}], \"precision_score_macro\": [{\"categories\": [\"0\", \"1\", \"2\", \"3\", \"4\", \"5\", \"6\", \"7\", \"8\", \"9\", \"10\", \"11\", \"12\", \"13\", \"14\", \"15\", \"16\", \"17\", \"18\", \"19\", \"20\", \"21\", \"22\", \"23\", \"24\", \"25\", \"26\", \"28\", \"29\", \"30\", \"31\", \"32\", \"33\", \"34\", \"36\", \"38\", \"39\"], \"mode\": \"markers\", \"name\": \"precision_score_macro\", \"stepped\": false, \"type\": \"scatter\", \"data\": [0.9182266603884097, 0.5923484572811528, 0.5150468744584916, 0.55573737907878, 0.5111936140774122, 0.5189231985152845, 0.534720356752123, 0.521541223465577, 0.52449087424267, 0.5136406505805453, 0.5523762562832861, 0.5012659535989252, 0.5142751762671405, 0.5023962666205808, 0.5239793337402194, 0.0008602226045433798, 0.5008603132242433, 0.5627499043196869, 0.526903501407455, 0.0008602226045433798, 0.0008602226045433798, 0.0008602226045433798, 0.8441391423726077, 0.706929772675668, 0.6317959008057915, 0.5012663510996072, 0.6071884502136622, 0.0008602226045433798, 0.5312331747902306, 0.5040871630858696, 0.7232809594442766, 0.5288953261627609, 0.5311779564857173, 0.7498767475437547, 0.8187525887204222, 0.7893856715367014, 0.7587354888426705]}, {\"categories\": [\"0\", \"1\", \"2\", \"3\", \"4\", \"5\", \"6\", \"7\", \"8\", \"9\", \"10\", \"11\", \"12\", \"13\", \"14\", \"15\", \"16\", \"17\", \"18\", \"19\", \"20\", \"21\", \"22\", \"23\", \"24\", \"25\", \"26\", \"28\", \"29\", \"30\", \"31\", \"32\", \"33\", \"34\", \"36\", \"38\", \"39\"], \"mode\": \"lines\", \"name\": \"precision_score_macro_max\", \"stepped\": true, \"type\": \"scatter\", \"data\": [0.9182266603884097, 0.9182266603884097, 0.9182266603884097, 0.9182266603884097, 0.9182266603884097, 0.9182266603884097, 0.9182266603884097, 0.9182266603884097, 0.9182266603884097, 0.9182266603884097, 0.9182266603884097, 0.9182266603884097, 0.9182266603884097, 0.9182266603884097, 0.9182266603884097, 0.9182266603884097, 0.9182266603884097, 0.9182266603884097, 0.9182266603884097, 0.9182266603884097, 0.9182266603884097, 0.9182266603884097, 0.9182266603884097, 0.9182266603884097, 0.9182266603884097, 0.9182266603884097, 0.9182266603884097, 0.9182266603884097, 0.9182266603884097, 0.9182266603884097, 0.9182266603884097, 0.9182266603884097, 0.9182266603884097, 0.9182266603884097, 0.9182266603884097, 0.9182266603884097, 0.9182266603884097]}], \"matthews_correlation\": [{\"categories\": [\"0\", \"1\", \"2\", \"3\", \"4\", \"5\", \"6\", \"7\", \"8\", \"9\", \"10\", \"11\", \"12\", \"13\", \"14\", \"15\", \"16\", \"17\", \"18\", \"19\", \"20\", \"21\", \"22\", \"23\", \"24\", \"25\", \"26\", \"28\", \"29\", \"30\", \"31\", \"32\", \"33\", \"34\", \"36\", \"38\", \"39\"], \"mode\": \"markers\", \"name\": \"matthews_correlation\", \"stepped\": false, \"type\": \"scatter\", \"data\": [0.8364533207768194, 0.4056969911108376, 0.1615852040035409, 0.3106185624543339, 0.1363921872326192, 0.180285838293289, 0.24681739883892279, 0.19290389118058138, 0.20384396704865412, 0.14819241662189528, 0.30787417749132556, 0.028510708000085098, 0.15713170205723115, 0.05422259592255064, 0.2039544632072817, 0.0, 0.00042608889873978033, 0.32600976470368925, 0.2164656784180025, 0.0, 0.0, 0.0, 0.7677843876261288, 0.5877468716608935, 0.47979447666398556, 0.029321859297355535, 0.4221914164878347, 0.0, 0.23109459025743675, 0.06947973953552126, 0.6180215455149767, 0.2245892779990839, 0.2361890167851567, 0.6539280529203781, 0.7562361246302642, 0.7204593257152895, 0.6811179078013586]}, {\"categories\": [\"0\", \"1\", \"2\", \"3\", \"4\", \"5\", \"6\", \"7\", \"8\", \"9\", \"10\", \"11\", \"12\", \"13\", \"14\", \"15\", \"16\", \"17\", \"18\", \"19\", \"20\", \"21\", \"22\", \"23\", \"24\", \"25\", \"26\", \"28\", \"29\", \"30\", \"31\", \"32\", \"33\", \"34\", \"36\", \"38\", \"39\"], \"mode\": \"lines\", \"name\": \"matthews_correlation_max\", \"stepped\": true, \"type\": \"scatter\", \"data\": [0.8364533207768194, 0.8364533207768194, 0.8364533207768194, 0.8364533207768194, 0.8364533207768194, 0.8364533207768194, 0.8364533207768194, 0.8364533207768194, 0.8364533207768194, 0.8364533207768194, 0.8364533207768194, 0.8364533207768194, 0.8364533207768194, 0.8364533207768194, 0.8364533207768194, 0.8364533207768194, 0.8364533207768194, 0.8364533207768194, 0.8364533207768194, 0.8364533207768194, 0.8364533207768194, 0.8364533207768194, 0.8364533207768194, 0.8364533207768194, 0.8364533207768194, 0.8364533207768194, 0.8364533207768194, 0.8364533207768194, 0.8364533207768194, 0.8364533207768194, 0.8364533207768194, 0.8364533207768194, 0.8364533207768194, 0.8364533207768194, 0.8364533207768194, 0.8364533207768194, 0.8364533207768194]}], \"log_loss\": [{\"categories\": [\"0\", \"1\", \"2\", \"3\", \"4\", \"5\", \"6\", \"7\", \"8\", \"9\", \"10\", \"11\", \"12\", \"13\", \"14\", \"15\", \"16\", \"17\", \"18\", \"19\", \"20\", \"21\", \"22\", \"23\", \"24\", \"25\", \"26\", \"28\", \"29\", \"30\", \"31\", \"32\", \"33\", \"34\", \"36\", \"38\", \"39\"], \"mode\": \"markers\", \"name\": \"log_loss\", \"stepped\": false, \"type\": \"scatter\", \"data\": [0.0039053037916055794, 0.042567896011948846, 0.15673049700245428, 0.52026319861915, 0.2684982864913397, 0.20176703457035539, 0.12440489882313854, 0.26848985507066264, 0.41028907423858696, 0.543576716106319, 0.34334836642347316, 1.1271947896954624, 1.0863495020781466, 0.7662414774497897, 0.23579965332329422, 5.23667733071715, 2.0557553046365267, 0.23751055578187058, 0.1325704810422202, 3.5660264576940475, 4.8922222551079635, 5.033129461687527, 0.0039604832855191525, 0.020168661544489257, 0.21696923049208416, 1.3922901876048075, 0.06561903668328933, 2.200376467577021, 0.40843523408433213, 0.5495366904468298, 0.20896583283114473, 0.20470614841775556, 0.1215959986864875, 0.014856815935708628, 0.005782881781750647, 0.2155072624046866, 0.30625134096264783]}, {\"categories\": [\"0\", \"1\", \"2\", \"3\", \"4\", \"5\", \"6\", \"7\", \"8\", \"9\", \"10\", \"11\", \"12\", \"13\", \"14\", \"15\", \"16\", \"17\", \"18\", \"19\", \"20\", \"21\", \"22\", \"23\", \"24\", \"25\", \"26\", \"28\", \"29\", \"30\", \"31\", \"32\", \"33\", \"34\", \"36\", \"38\", \"39\"], \"mode\": \"lines\", \"name\": \"log_loss_min\", \"stepped\": true, \"type\": \"scatter\", \"data\": [0.0039053037916055794, 0.0039053037916055794, 0.0039053037916055794, 0.0039053037916055794, 0.0039053037916055794, 0.0039053037916055794, 0.0039053037916055794, 0.0039053037916055794, 0.0039053037916055794, 0.0039053037916055794, 0.0039053037916055794, 0.0039053037916055794, 0.0039053037916055794, 0.0039053037916055794, 0.0039053037916055794, 0.0039053037916055794, 0.0039053037916055794, 0.0039053037916055794, 0.0039053037916055794, 0.0039053037916055794, 0.0039053037916055794, 0.0039053037916055794, 0.0039053037916055794, 0.0039053037916055794, 0.0039053037916055794, 0.0039053037916055794, 0.0039053037916055794, 0.0039053037916055794, 0.0039053037916055794, 0.0039053037916055794, 0.0039053037916055794, 0.0039053037916055794, 0.0039053037916055794, 0.0039053037916055794, 0.0039053037916055794, 0.0039053037916055794, 0.0039053037916055794]}], \"norm_macro_recall\": [{\"categories\": [\"0\", \"1\", \"2\", \"3\", \"4\", \"5\", \"6\", \"7\", \"8\", \"9\", \"10\", \"11\", \"12\", \"13\", \"14\", \"15\", \"16\", \"17\", \"18\", \"19\", \"20\", \"21\", \"22\", \"23\", \"24\", \"25\", \"26\", \"28\", \"29\", \"30\", \"31\", \"32\", \"33\", \"34\", \"36\", \"38\", \"39\"], \"mode\": \"markers\", \"name\": \"norm_macro_recall\", \"stepped\": false, \"type\": \"scatter\", \"data\": [0.8364533207768194, 0.8911358859807288, 0.8676146738943187, 0.8655223203518885, 0.8309572140617643, 0.8588131510341896, 0.877278260769699, 0.8637371802969922, 0.8483233895696713, 0.8049833185947421, 0.9048614381036602, 0.32104670793472145, 0.8648009428870029, 0.6134730341207952, 0.8673598589689111, 0.0, 0.00010551491277444036, 0.8468727389661548, 0.8708418510904643, 0.0, 0.0, 0.0, 0.8564745960286198, 0.8346947388972472, 0.8733304238971897, 0.33946803257037184, 0.8314589482388342, 0.0, 0.8549356574368634, 0.5905605067012738, 0.855313931988102, 0.8728114627955854, 0.8946264915645492, 0.8556656483640164, 0.8970798927336832, 0.896833691270543, 0.8965171465322201]}, {\"categories\": [\"0\", \"1\", \"2\", \"3\", \"4\", \"5\", \"6\", \"7\", \"8\", \"9\", \"10\", \"11\", \"12\", \"13\", \"14\", \"15\", \"16\", \"17\", \"18\", \"19\", \"20\", \"21\", \"22\", \"23\", \"24\", \"25\", \"26\", \"28\", \"29\", \"30\", \"31\", \"32\", \"33\", \"34\", \"36\", \"38\", \"39\"], \"mode\": \"lines\", \"name\": \"norm_macro_recall_max\", \"stepped\": true, \"type\": \"scatter\", \"data\": [0.8364533207768194, 0.8911358859807288, 0.8911358859807288, 0.8911358859807288, 0.8911358859807288, 0.8911358859807288, 0.8911358859807288, 0.8911358859807288, 0.8911358859807288, 0.8911358859807288, 0.9048614381036602, 0.9048614381036602, 0.9048614381036602, 0.9048614381036602, 0.9048614381036602, 0.9048614381036602, 0.9048614381036602, 0.9048614381036602, 0.9048614381036602, 0.9048614381036602, 0.9048614381036602, 0.9048614381036602, 0.9048614381036602, 0.9048614381036602, 0.9048614381036602, 0.9048614381036602, 0.9048614381036602, 0.9048614381036602, 0.9048614381036602, 0.9048614381036602, 0.9048614381036602, 0.9048614381036602, 0.9048614381036602, 0.9048614381036602, 0.9048614381036602, 0.9048614381036602, 0.9048614381036602]}], \"recall_score_macro\": [{\"categories\": [\"0\", \"1\", \"2\", \"3\", \"4\", \"5\", \"6\", \"7\", \"8\", \"9\", \"10\", \"11\", \"12\", \"13\", \"14\", \"15\", \"16\", \"17\", \"18\", \"19\", \"20\", \"21\", \"22\", \"23\", \"24\", \"25\", \"26\", \"28\", \"29\", \"30\", \"31\", \"32\", \"33\", \"34\", \"36\", \"38\", \"39\"], \"mode\": \"markers\", \"name\": \"recall_score_macro\", \"stepped\": false, \"type\": \"scatter\", \"data\": [0.9182266603884097, 0.9455679429903644, 0.9338073369471593, 0.9327611601759442, 0.9154786070308821, 0.9294065755170948, 0.9386391303848495, 0.9318685901484961, 0.9241616947848357, 0.9024916592973711, 0.9524307190518301, 0.6605233539673607, 0.9324004714435015, 0.8067365170603976, 0.9336799294844556, 0.5, 0.5000527574563872, 0.9234363694830774, 0.9354209255452322, 0.5, 0.5, 0.5, 0.9282372980143099, 0.9173473694486236, 0.9366652119485949, 0.6697340162851859, 0.9157294741194171, 0.5, 0.9274678287184317, 0.7952802533506369, 0.927656965994051, 0.9364057313977927, 0.9473132457822746, 0.9278328241820082, 0.9485399463668416, 0.9484168456352715, 0.9482585732661101]}, {\"categories\": [\"0\", \"1\", \"2\", \"3\", \"4\", \"5\", \"6\", \"7\", \"8\", \"9\", \"10\", \"11\", \"12\", \"13\", \"14\", \"15\", \"16\", \"17\", \"18\", \"19\", \"20\", \"21\", \"22\", \"23\", \"24\", \"25\", \"26\", \"28\", \"29\", \"30\", \"31\", \"32\", \"33\", \"34\", \"36\", \"38\", \"39\"], \"mode\": \"lines\", \"name\": \"recall_score_macro_max\", \"stepped\": true, \"type\": \"scatter\", \"data\": [0.9182266603884097, 0.9455679429903644, 0.9455679429903644, 0.9455679429903644, 0.9455679429903644, 0.9455679429903644, 0.9455679429903644, 0.9455679429903644, 0.9455679429903644, 0.9455679429903644, 0.9524307190518301, 0.9524307190518301, 0.9524307190518301, 0.9524307190518301, 0.9524307190518301, 0.9524307190518301, 0.9524307190518301, 0.9524307190518301, 0.9524307190518301, 0.9524307190518301, 0.9524307190518301, 0.9524307190518301, 0.9524307190518301, 0.9524307190518301, 0.9524307190518301, 0.9524307190518301, 0.9524307190518301, 0.9524307190518301, 0.9524307190518301, 0.9524307190518301, 0.9524307190518301, 0.9524307190518301, 0.9524307190518301, 0.9524307190518301, 0.9524307190518301, 0.9524307190518301, 0.9524307190518301]}], \"f1_score_macro\": [{\"categories\": [\"0\", \"1\", \"2\", \"3\", \"4\", \"5\", \"6\", \"7\", \"8\", \"9\", \"10\", \"11\", \"12\", \"13\", \"14\", \"15\", \"16\", \"17\", \"18\", \"19\", \"20\", \"21\", \"22\", \"23\", \"24\", \"25\", \"26\", \"28\", \"29\", \"30\", \"31\", \"32\", \"33\", \"34\", \"36\", \"38\", \"39\"], \"mode\": \"markers\", \"name\": \"f1_score_macro\", \"stepped\": false, \"type\": \"scatter\", \"data\": [0.9182266603884097, 0.651554480356701, 0.5162241377843005, 0.5960002204364119, 0.5046470129251586, 0.5264584186226244, 0.5593426586296928, 0.5325274075064628, 0.5391192022534531, 0.5132330417306067, 0.5907076584652847, 0.2455500069764335, 0.5140340294167586, 0.40777480794645976, 0.5378779108520276, 0.0017174903610234842, 0.001823174758923504, 0.6070182512891122, 0.5440094583156724, 0.0017174903610234842, 0.0017174903610234842, 0.0017174903610234842, 0.8815895179189347, 0.7764461842770006, 0.701720056520655, 0.2672554770931554, 0.6694405756731663, 0.0017174903610234842, 0.5527321526721917, 0.46966084955160853, 0.793187101182666, 0.5480445042046678, 0.5524758774775316, 0.8153583557690616, 0.8726174758393176, 0.8516745078030157, 0.8279534788925789]}, {\"categories\": [\"0\", \"1\", \"2\", \"3\", \"4\", \"5\", \"6\", \"7\", \"8\", \"9\", \"10\", \"11\", \"12\", \"13\", \"14\", \"15\", \"16\", \"17\", \"18\", \"19\", \"20\", \"21\", \"22\", \"23\", \"24\", \"25\", \"26\", \"28\", \"29\", \"30\", \"31\", \"32\", \"33\", \"34\", \"36\", \"38\", \"39\"], \"mode\": \"lines\", \"name\": \"f1_score_macro_max\", \"stepped\": true, \"type\": \"scatter\", \"data\": [0.9182266603884097, 0.9182266603884097, 0.9182266603884097, 0.9182266603884097, 0.9182266603884097, 0.9182266603884097, 0.9182266603884097, 0.9182266603884097, 0.9182266603884097, 0.9182266603884097, 0.9182266603884097, 0.9182266603884097, 0.9182266603884097, 0.9182266603884097, 0.9182266603884097, 0.9182266603884097, 0.9182266603884097, 0.9182266603884097, 0.9182266603884097, 0.9182266603884097, 0.9182266603884097, 0.9182266603884097, 0.9182266603884097, 0.9182266603884097, 0.9182266603884097, 0.9182266603884097, 0.9182266603884097, 0.9182266603884097, 0.9182266603884097, 0.9182266603884097, 0.9182266603884097, 0.9182266603884097, 0.9182266603884097, 0.9182266603884097, 0.9182266603884097, 0.9182266603884097, 0.9182266603884097]}], \"AUC_macro\": [{\"categories\": [\"0\", \"1\", \"2\", \"3\", \"4\", \"5\", \"6\", \"7\", \"8\", \"9\", \"10\", \"11\", \"12\", \"13\", \"14\", \"15\", \"16\", \"17\", \"18\", \"19\", \"20\", \"21\", \"22\", \"23\", \"24\", \"25\", \"26\", \"28\", \"29\", \"30\", \"31\", \"32\", \"33\", \"34\", \"36\", \"38\", \"39\"], \"mode\": \"markers\", \"name\": \"AUC_macro\", \"stepped\": false, \"type\": \"scatter\", \"data\": [0.9251518840513133, 0.9735480573771433, 0.9550987389891241, 0.972521978684552, 0.9806365779288642, 0.9467713154479576, 0.9521181221503794, 0.9606397074868214, 0.9348639216519472, 0.9477600691373904, 0.9613621616344906, 0.9648692763543234, 0.957958946803257, 0.9590803119221802, 0.9617063412309212, 0.9604024783802096, 0.9744172992776176, 0.972006606525559, 0.9660198913555293, 0.9480084239660973, 0.9598045605411551, 0.9536933090625107, 0.9532604825835793, 0.9608896773397034, 0.9703617941267673, 0.9595120617183283, 0.9793309206068471, 0.9599624740160555, 0.951057230714458, 0.8871708221836849, 0.9588459539696577, 0.9591696765932034, 0.9699174830314794, 0.9740894493700687, 0.9775425505036004, 0.9856722233068803, 0.9845524732121322]}, {\"categories\": [\"0\", \"1\", \"2\", \"3\", \"4\", \"5\", \"6\", \"7\", \"8\", \"9\", \"10\", \"11\", \"12\", \"13\", \"14\", \"15\", \"16\", \"17\", \"18\", \"19\", \"20\", \"21\", \"22\", \"23\", \"24\", \"25\", \"26\", \"28\", \"29\", \"30\", \"31\", \"32\", \"33\", \"34\", \"36\", \"38\", \"39\"], \"mode\": \"lines\", \"name\": \"AUC_macro_max\", \"stepped\": true, \"type\": \"scatter\", \"data\": [0.9251518840513133, 0.9735480573771433, 0.9735480573771433, 0.9735480573771433, 0.9806365779288642, 0.9806365779288642, 0.9806365779288642, 0.9806365779288642, 0.9806365779288642, 0.9806365779288642, 0.9806365779288642, 0.9806365779288642, 0.9806365779288642, 0.9806365779288642, 0.9806365779288642, 0.9806365779288642, 0.9806365779288642, 0.9806365779288642, 0.9806365779288642, 0.9806365779288642, 0.9806365779288642, 0.9806365779288642, 0.9806365779288642, 0.9806365779288642, 0.9806365779288642, 0.9806365779288642, 0.9806365779288642, 0.9806365779288642, 0.9806365779288642, 0.9806365779288642, 0.9806365779288642, 0.9806365779288642, 0.9806365779288642, 0.9806365779288642, 0.9806365779288642, 0.9856722233068803, 0.9856722233068803]}], \"AUC_weighted\": [{\"categories\": [\"0\", \"1\", \"2\", \"3\", \"4\", \"5\", \"6\", \"7\", \"8\", \"9\", \"10\", \"11\", \"12\", \"13\", \"14\", \"15\", \"16\", \"17\", \"18\", \"19\", \"20\", \"21\", \"22\", \"23\", \"24\", \"25\", \"26\", \"28\", \"29\", \"30\", \"31\", \"32\", \"33\", \"34\", \"36\", \"38\", \"39\"], \"mode\": \"markers\", \"name\": \"AUC_weighted\", \"stepped\": false, \"type\": \"scatter\", \"data\": [0.9251518840513135, 0.9735480573771432, 0.9550987389891241, 0.9725219786845519, 0.9806365779288643, 0.9467713154479577, 0.9521181221503795, 0.9606397074868214, 0.9348639216519471, 0.9477600691373904, 0.9613621616344907, 0.9648692763543235, 0.950306288621269, 0.9590803119221804, 0.961706341230921, 0.9604024783802095, 0.9744172992776176, 0.972006606525559, 0.9660198913555292, 0.9480084239660973, 0.959804560541155, 0.9536933090625105, 0.9532604825835794, 0.960889856169376, 0.9703617941267674, 0.9595120617183283, 0.9793309206068471, 0.9599624740160554, 0.951057230714458, 0.887170822183685, 0.9588459539696578, 0.9591696765932034, 0.9699174830314793, 0.9740896281997413, 0.9775425505036004, 0.9856722233068802, 0.9845524732121322]}, {\"categories\": [\"0\", \"1\", \"2\", \"3\", \"4\", \"5\", \"6\", \"7\", \"8\", \"9\", \"10\", \"11\", \"12\", \"13\", \"14\", \"15\", \"16\", \"17\", \"18\", \"19\", \"20\", \"21\", \"22\", \"23\", \"24\", \"25\", \"26\", \"28\", \"29\", \"30\", \"31\", \"32\", \"33\", \"34\", \"36\", \"38\", \"39\"], \"mode\": \"lines\", \"name\": \"AUC_weighted_max\", \"stepped\": true, \"type\": \"scatter\", \"data\": [0.9251518840513135, 0.9735480573771432, 0.9735480573771432, 0.9735480573771432, 0.9806365779288643, 0.9806365779288643, 0.9806365779288643, 0.9806365779288643, 0.9806365779288643, 0.9806365779288643, 0.9806365779288643, 0.9806365779288643, 0.9806365779288643, 0.9806365779288643, 0.9806365779288643, 0.9806365779288643, 0.9806365779288643, 0.9806365779288643, 0.9806365779288643, 0.9806365779288643, 0.9806365779288643, 0.9806365779288643, 0.9806365779288643, 0.9806365779288643, 0.9806365779288643, 0.9806365779288643, 0.9806365779288643, 0.9806365779288643, 0.9806365779288643, 0.9806365779288643, 0.9806365779288643, 0.9806365779288643, 0.9806365779288643, 0.9806365779288643, 0.9806365779288643, 0.9856722233068802, 0.9856722233068802]}], \"AUC_micro\": [{\"categories\": [\"0\", \"1\", \"2\", \"3\", \"4\", \"5\", \"6\", \"7\", \"8\", \"9\", \"10\", \"11\", \"12\", \"13\", \"14\", \"15\", \"16\", \"17\", \"18\", \"19\", \"20\", \"21\", \"22\", \"23\", \"24\", \"25\", \"26\", \"28\", \"29\", \"30\", \"31\", \"32\", \"33\", \"34\", \"36\", \"38\", \"39\"], \"mode\": \"markers\", \"name\": \"AUC_micro\", \"stepped\": false, \"type\": \"scatter\", \"data\": [0.9997415009403958, 0.9990427357690492, 0.992749356935726, 0.9985144804168223, 0.9777611601904678, 0.9928557936640154, 0.9970255139493958, 0.9947649656480693, 0.9950775632847486, 0.9876061236147297, 0.998586252288817, 0.2555385571042472, 0.9680927127441462, 0.6972274726423564, 0.9962367913863833, 0.0033019141656514444, 0.003350095344874213, 0.9989607816579789, 0.9964643276617241, 0.00325934095368514, 0.003299860335480139, 0.003278868366598392, 0.9998303186165794, 0.9996050309524228, 0.9991909980214304, 0.22786980084125946, 0.9994325720903852, 0.003300402763616618, 0.996913431037322, 0.9251199839634573, 0.9996092495639751, 0.9966401175256361, 0.9968954778987957, 0.9997261644012326, 0.9998851161862761, 0.9997809169740497, 0.9996658790614235]}, {\"categories\": [\"0\", \"1\", \"2\", \"3\", \"4\", \"5\", \"6\", \"7\", \"8\", \"9\", \"10\", \"11\", \"12\", \"13\", \"14\", \"15\", \"16\", \"17\", \"18\", \"19\", \"20\", \"21\", \"22\", \"23\", \"24\", \"25\", \"26\", \"28\", \"29\", \"30\", \"31\", \"32\", \"33\", \"34\", \"36\", \"38\", \"39\"], \"mode\": \"lines\", \"name\": \"AUC_micro_max\", \"stepped\": true, \"type\": \"scatter\", \"data\": [0.9997415009403958, 0.9997415009403958, 0.9997415009403958, 0.9997415009403958, 0.9997415009403958, 0.9997415009403958, 0.9997415009403958, 0.9997415009403958, 0.9997415009403958, 0.9997415009403958, 0.9997415009403958, 0.9997415009403958, 0.9997415009403958, 0.9997415009403958, 0.9997415009403958, 0.9997415009403958, 0.9997415009403958, 0.9997415009403958, 0.9997415009403958, 0.9997415009403958, 0.9997415009403958, 0.9997415009403958, 0.9998303186165794, 0.9998303186165794, 0.9998303186165794, 0.9998303186165794, 0.9998303186165794, 0.9998303186165794, 0.9998303186165794, 0.9998303186165794, 0.9998303186165794, 0.9998303186165794, 0.9998303186165794, 0.9998303186165794, 0.9998851161862761, 0.9998851161862761, 0.9998851161862761]}], \"precision_score_weighted\": [{\"categories\": [\"0\", \"1\", \"2\", \"3\", \"4\", \"5\", \"6\", \"7\", \"8\", \"9\", \"10\", \"11\", \"12\", \"13\", \"14\", \"15\", \"16\", \"17\", \"18\", \"19\", \"20\", \"21\", \"22\", \"23\", \"24\", \"25\", \"26\", \"28\", \"29\", \"30\", \"31\", \"32\", \"33\", \"34\", \"36\", \"38\", \"39\"], \"mode\": \"markers\", \"name\": \"precision_score_weighted\", \"stepped\": false, \"type\": \"scatter\", \"data\": [0.9994382219725431, 0.9984208898532743, 0.9981836527639113, 0.9982585222880656, 0.9981302675509313, 0.9981623077761167, 0.9982201018497631, 0.998172245706493, 0.9981472368525646, 0.9980677018681653, 0.9983176740653424, 0.9982839107985216, 0.998180558460011, 0.9981319740977819, 0.9981813128632921, 2.959931717469584e-06, 0.9982825150344432, 0.998247631710812, 0.9981920214073323, 2.959931717469584e-06, 2.959931717469584e-06, 2.959931717469584e-06, 0.9992182419596577, 0.9987106785524886, 0.9985218997268325, 0.998186525367726, 0.9983665660993412, 2.959931717469584e-06, 0.9981719013316109, 0.9977615088357769, 0.9988020968502699, 0.9981992388810579, 0.9982432434817539, 0.9988936965811616, 0.9992009710744708, 0.9990998795115427, 0.9989943599930261]}, {\"categories\": [\"0\", \"1\", \"2\", \"3\", \"4\", \"5\", \"6\", \"7\", \"8\", \"9\", \"10\", \"11\", \"12\", \"13\", \"14\", \"15\", \"16\", \"17\", \"18\", \"19\", \"20\", \"21\", \"22\", \"23\", \"24\", \"25\", \"26\", \"28\", \"29\", \"30\", \"31\", \"32\", \"33\", \"34\", \"36\", \"38\", \"39\"], \"mode\": \"lines\", \"name\": \"precision_score_weighted_max\", \"stepped\": true, \"type\": \"scatter\", \"data\": [0.9994382219725431, 0.9994382219725431, 0.9994382219725431, 0.9994382219725431, 0.9994382219725431, 0.9994382219725431, 0.9994382219725431, 0.9994382219725431, 0.9994382219725431, 0.9994382219725431, 0.9994382219725431, 0.9994382219725431, 0.9994382219725431, 0.9994382219725431, 0.9994382219725431, 0.9994382219725431, 0.9994382219725431, 0.9994382219725431, 0.9994382219725431, 0.9994382219725431, 0.9994382219725431, 0.9994382219725431, 0.9994382219725431, 0.9994382219725431, 0.9994382219725431, 0.9994382219725431, 0.9994382219725431, 0.9994382219725431, 0.9994382219725431, 0.9994382219725431, 0.9994382219725431, 0.9994382219725431, 0.9994382219725431, 0.9994382219725431, 0.9994382219725431, 0.9994382219725431, 0.9994382219725431]}], \"recall_score_weighted\": [{\"categories\": [\"0\", \"1\", \"2\", \"3\", \"4\", \"5\", \"6\", \"7\", \"8\", \"9\", \"10\", \"11\", \"12\", \"13\", \"14\", \"15\", \"16\", \"17\", \"18\", \"19\", \"20\", \"21\", \"22\", \"23\", \"24\", \"25\", \"26\", \"28\", \"29\", \"30\", \"31\", \"32\", \"33\", \"34\", \"36\", \"38\", \"39\"], \"mode\": \"markers\", \"name\": \"recall_score_weighted\", \"stepped\": false, \"type\": \"scatter\", \"data\": [0.9994382219725431, 0.9930128857835048, 0.9491941996418665, 0.9877813279028124, 0.9329377479723324, 0.960745760331449, 0.9791791018573786, 0.965661318071697, 0.9706119869386609, 0.947684421193076, 0.9863768828341701, 0.32221480987324885, 0.946385309504582, 0.6751518556230469, 0.9692777641234507, 0.0017204452090867595, 0.0018257785892349286, 0.9895017731118991, 0.9727537656683403, 0.0017204452090867595, 0.0017204452090867595, 0.0017204452090867595, 0.9990871107053826, 0.9976826656367402, 0.9955759980337769, 0.36094238264105893, 0.9944524419788631, 0.0017204452090867595, 0.9772128787612795, 0.8556581580702924, 0.9979284435237527, 0.9747199887644394, 0.9761595449597977, 0.9982795547909132, 0.9989466661985184, 0.9987008883115059, 0.9983848881710614]}, {\"categories\": [\"0\", \"1\", \"2\", \"3\", \"4\", \"5\", \"6\", \"7\", \"8\", \"9\", \"10\", \"11\", \"12\", \"13\", \"14\", \"15\", \"16\", \"17\", \"18\", \"19\", \"20\", \"21\", \"22\", \"23\", \"24\", \"25\", \"26\", \"28\", \"29\", \"30\", \"31\", \"32\", \"33\", \"34\", \"36\", \"38\", \"39\"], \"mode\": \"lines\", \"name\": \"recall_score_weighted_max\", \"stepped\": true, \"type\": \"scatter\", \"data\": [0.9994382219725431, 0.9994382219725431, 0.9994382219725431, 0.9994382219725431, 0.9994382219725431, 0.9994382219725431, 0.9994382219725431, 0.9994382219725431, 0.9994382219725431, 0.9994382219725431, 0.9994382219725431, 0.9994382219725431, 0.9994382219725431, 0.9994382219725431, 0.9994382219725431, 0.9994382219725431, 0.9994382219725431, 0.9994382219725431, 0.9994382219725431, 0.9994382219725431, 0.9994382219725431, 0.9994382219725431, 0.9994382219725431, 0.9994382219725431, 0.9994382219725431, 0.9994382219725431, 0.9994382219725431, 0.9994382219725431, 0.9994382219725431, 0.9994382219725431, 0.9994382219725431, 0.9994382219725431, 0.9994382219725431, 0.9994382219725431, 0.9994382219725431, 0.9994382219725431, 0.9994382219725431]}], \"balanced_accuracy\": [{\"categories\": [\"0\", \"1\", \"2\", \"3\", \"4\", \"5\", \"6\", \"7\", \"8\", \"9\", \"10\", \"11\", \"12\", \"13\", \"14\", \"15\", \"16\", \"17\", \"18\", \"19\", \"20\", \"21\", \"22\", \"23\", \"24\", \"25\", \"26\", \"28\", \"29\", \"30\", \"31\", \"32\", \"33\", \"34\", \"36\", \"38\", \"39\"], \"mode\": \"markers\", \"name\": \"balanced_accuracy\", \"stepped\": false, \"type\": \"scatter\", \"data\": [0.9182266603884097, 0.9455679429903644, 0.9338073369471593, 0.9327611601759442, 0.9154786070308821, 0.9294065755170948, 0.9386391303848495, 0.9318685901484961, 0.9241616947848357, 0.9024916592973711, 0.9524307190518301, 0.6605233539673607, 0.9324004714435015, 0.8067365170603976, 0.9336799294844556, 0.5, 0.5000527574563872, 0.9234363694830774, 0.9354209255452322, 0.5, 0.5, 0.5, 0.9282372980143099, 0.9173473694486236, 0.9366652119485949, 0.6697340162851859, 0.9157294741194171, 0.5, 0.9274678287184317, 0.7952802533506369, 0.927656965994051, 0.9364057313977927, 0.9473132457822746, 0.9278328241820082, 0.9485399463668416, 0.9484168456352715, 0.9482585732661101]}, {\"categories\": [\"0\", \"1\", \"2\", \"3\", \"4\", \"5\", \"6\", \"7\", \"8\", \"9\", \"10\", \"11\", \"12\", \"13\", \"14\", \"15\", \"16\", \"17\", \"18\", \"19\", \"20\", \"21\", \"22\", \"23\", \"24\", \"25\", \"26\", \"28\", \"29\", \"30\", \"31\", \"32\", \"33\", \"34\", \"36\", \"38\", \"39\"], \"mode\": \"lines\", \"name\": \"balanced_accuracy_max\", \"stepped\": true, \"type\": \"scatter\", \"data\": [0.9182266603884097, 0.9455679429903644, 0.9455679429903644, 0.9455679429903644, 0.9455679429903644, 0.9455679429903644, 0.9455679429903644, 0.9455679429903644, 0.9455679429903644, 0.9455679429903644, 0.9524307190518301, 0.9524307190518301, 0.9524307190518301, 0.9524307190518301, 0.9524307190518301, 0.9524307190518301, 0.9524307190518301, 0.9524307190518301, 0.9524307190518301, 0.9524307190518301, 0.9524307190518301, 0.9524307190518301, 0.9524307190518301, 0.9524307190518301, 0.9524307190518301, 0.9524307190518301, 0.9524307190518301, 0.9524307190518301, 0.9524307190518301, 0.9524307190518301, 0.9524307190518301, 0.9524307190518301, 0.9524307190518301, 0.9524307190518301, 0.9524307190518301, 0.9524307190518301, 0.9524307190518301]}], \"average_precision_score_macro\": [{\"categories\": [\"0\", \"1\", \"2\", \"3\", \"4\", \"5\", \"6\", \"7\", \"8\", \"9\", \"10\", \"11\", \"12\", \"13\", \"14\", \"15\", \"16\", \"17\", \"18\", \"19\", \"20\", \"21\", \"22\", \"23\", \"24\", \"25\", \"26\", \"28\", \"29\", \"30\", \"31\", \"32\", \"33\", \"34\", \"36\", \"38\", \"39\"], \"mode\": \"markers\", \"name\": \"average_precision_score_macro\", \"stepped\": false, \"type\": \"scatter\", \"data\": [0.9230587466456577, 0.900491774100895, 0.8454939202363039, 0.8471676700900304, 0.8013320393465797, 0.8434045359242464, 0.8375681971771571, 0.8464357518478378, 0.7472713857283617, 0.761630337330633, 0.8490541313697071, 0.8648715019855693, 0.5389185024793577, 0.8297306557110111, 0.801983885559421, 0.7881752907525537, 0.8260753091934926, 0.8566333408359506, 0.8535598047735269, 0.7934138662891006, 0.8001931084272109, 0.7916603805370448, 0.9303594255145687, 0.9052114111179576, 0.8336304793990437, 0.8422435037403371, 0.8480285353651773, 0.8542642127250943, 0.8391126561682525, 0.5847066478508782, 0.8530418404762473, 0.8218462188395763, 0.8562572883629616, 0.9074939166157172, 0.9335356275502227, 0.931568555182817, 0.9316537773955711]}, {\"categories\": [\"0\", \"1\", \"2\", \"3\", \"4\", \"5\", \"6\", \"7\", \"8\", \"9\", \"10\", \"11\", \"12\", \"13\", \"14\", \"15\", \"16\", \"17\", \"18\", \"19\", \"20\", \"21\", \"22\", \"23\", \"24\", \"25\", \"26\", \"28\", \"29\", \"30\", \"31\", \"32\", \"33\", \"34\", \"36\", \"38\", \"39\"], \"mode\": \"lines\", \"name\": \"average_precision_score_macro_max\", \"stepped\": true, \"type\": \"scatter\", \"data\": [0.9230587466456577, 0.9230587466456577, 0.9230587466456577, 0.9230587466456577, 0.9230587466456577, 0.9230587466456577, 0.9230587466456577, 0.9230587466456577, 0.9230587466456577, 0.9230587466456577, 0.9230587466456577, 0.9230587466456577, 0.9230587466456577, 0.9230587466456577, 0.9230587466456577, 0.9230587466456577, 0.9230587466456577, 0.9230587466456577, 0.9230587466456577, 0.9230587466456577, 0.9230587466456577, 0.9230587466456577, 0.9303594255145687, 0.9303594255145687, 0.9303594255145687, 0.9303594255145687, 0.9303594255145687, 0.9303594255145687, 0.9303594255145687, 0.9303594255145687, 0.9303594255145687, 0.9303594255145687, 0.9303594255145687, 0.9303594255145687, 0.9335356275502227, 0.9335356275502227, 0.9335356275502227]}], \"f1_score_weighted\": [{\"categories\": [\"0\", \"1\", \"2\", \"3\", \"4\", \"5\", \"6\", \"7\", \"8\", \"9\", \"10\", \"11\", \"12\", \"13\", \"14\", \"15\", \"16\", \"17\", \"18\", \"19\", \"20\", \"21\", \"22\", \"23\", \"24\", \"25\", \"26\", \"28\", \"29\", \"30\", \"31\", \"32\", \"33\", \"34\", \"36\", \"38\", \"39\"], \"mode\": \"markers\", \"name\": \"f1_score_weighted\", \"stepped\": false, \"type\": \"scatter\", \"data\": [0.9994382219725431, 0.9953018706251614, 0.9723178605316022, 0.9924748228259311, 0.9636650974640679, 0.9783879372191989, 0.9879835855408945, 0.9809549028036738, 0.9835295262145626, 0.9715165182714053, 0.9917461041768898, 0.4852214576450435, 0.9708322122165164, 0.8043344956824985, 0.9828383743814555, 5.909696126551085e-06, 0.00021655485176774272, 0.9933813305081372, 0.9846456489080891, 5.909696126551085e-06, 5.909696126551085e-06, 5.909696126551085e-06, 0.9991368083231414, 0.9980730875499858, 0.9967610267695828, 0.5283626491440339, 0.996086650576838, 5.909696126551085e-06, 0.9869582194416927, 0.9205523471104945, 0.9982535674000089, 0.9856671066785593, 0.9864183404592421, 0.9985053993642788, 0.9990357464723674, 0.9988408838071234, 0.9986013319123401]}, {\"categories\": [\"0\", \"1\", \"2\", \"3\", \"4\", \"5\", \"6\", \"7\", \"8\", \"9\", \"10\", \"11\", \"12\", \"13\", \"14\", \"15\", \"16\", \"17\", \"18\", \"19\", \"20\", \"21\", \"22\", \"23\", \"24\", \"25\", \"26\", \"28\", \"29\", \"30\", \"31\", \"32\", \"33\", \"34\", \"36\", \"38\", \"39\"], \"mode\": \"lines\", \"name\": \"f1_score_weighted_max\", \"stepped\": true, \"type\": \"scatter\", \"data\": [0.9994382219725431, 0.9994382219725431, 0.9994382219725431, 0.9994382219725431, 0.9994382219725431, 0.9994382219725431, 0.9994382219725431, 0.9994382219725431, 0.9994382219725431, 0.9994382219725431, 0.9994382219725431, 0.9994382219725431, 0.9994382219725431, 0.9994382219725431, 0.9994382219725431, 0.9994382219725431, 0.9994382219725431, 0.9994382219725431, 0.9994382219725431, 0.9994382219725431, 0.9994382219725431, 0.9994382219725431, 0.9994382219725431, 0.9994382219725431, 0.9994382219725431, 0.9994382219725431, 0.9994382219725431, 0.9994382219725431, 0.9994382219725431, 0.9994382219725431, 0.9994382219725431, 0.9994382219725431, 0.9994382219725431, 0.9994382219725431, 0.9994382219725431, 0.9994382219725431, 0.9994382219725431]}], \"precision_score_micro\": [{\"categories\": [\"0\", \"1\", \"2\", \"3\", \"4\", \"5\", \"6\", \"7\", \"8\", \"9\", \"10\", \"11\", \"12\", \"13\", \"14\", \"15\", \"16\", \"17\", \"18\", \"19\", \"20\", \"21\", \"22\", \"23\", \"24\", \"25\", \"26\", \"28\", \"29\", \"30\", \"31\", \"32\", \"33\", \"34\", \"36\", \"38\", \"39\"], \"mode\": \"markers\", \"name\": \"precision_score_micro\", \"stepped\": false, \"type\": \"scatter\", \"data\": [0.9994382219725431, 0.9930128857835048, 0.9491941996418665, 0.9877813279028124, 0.9329377479723324, 0.960745760331449, 0.9791791018573786, 0.965661318071697, 0.9706119869386609, 0.947684421193076, 0.9863768828341701, 0.32221480987324885, 0.946385309504582, 0.6751518556230469, 0.9692777641234507, 0.0017204452090867595, 0.0018257785892349286, 0.9895017731118991, 0.9727537656683403, 0.0017204452090867595, 0.0017204452090867595, 0.0017204452090867595, 0.9990871107053826, 0.9976826656367402, 0.9955759980337769, 0.36094238264105893, 0.9944524419788631, 0.0017204452090867595, 0.9772128787612795, 0.8556581580702924, 0.9979284435237527, 0.9747199887644394, 0.9761595449597977, 0.9982795547909132, 0.9989466661985184, 0.9987008883115059, 0.9983848881710614]}, {\"categories\": [\"0\", \"1\", \"2\", \"3\", \"4\", \"5\", \"6\", \"7\", \"8\", \"9\", \"10\", \"11\", \"12\", \"13\", \"14\", \"15\", \"16\", \"17\", \"18\", \"19\", \"20\", \"21\", \"22\", \"23\", \"24\", \"25\", \"26\", \"28\", \"29\", \"30\", \"31\", \"32\", \"33\", \"34\", \"36\", \"38\", \"39\"], \"mode\": \"lines\", \"name\": \"precision_score_micro_max\", \"stepped\": true, \"type\": \"scatter\", \"data\": [0.9994382219725431, 0.9994382219725431, 0.9994382219725431, 0.9994382219725431, 0.9994382219725431, 0.9994382219725431, 0.9994382219725431, 0.9994382219725431, 0.9994382219725431, 0.9994382219725431, 0.9994382219725431, 0.9994382219725431, 0.9994382219725431, 0.9994382219725431, 0.9994382219725431, 0.9994382219725431, 0.9994382219725431, 0.9994382219725431, 0.9994382219725431, 0.9994382219725431, 0.9994382219725431, 0.9994382219725431, 0.9994382219725431, 0.9994382219725431, 0.9994382219725431, 0.9994382219725431, 0.9994382219725431, 0.9994382219725431, 0.9994382219725431, 0.9994382219725431, 0.9994382219725431, 0.9994382219725431, 0.9994382219725431, 0.9994382219725431, 0.9994382219725431, 0.9994382219725431, 0.9994382219725431]}]}, \"metricName\": null, \"primaryMetricName\": \"AUC_weighted\", \"showLegend\": false}, \"run_metrics\": [{\"name\": \"experiment_status\", \"run_id\": \"AutoML_9150a662-0a53-42f6-b5b7-0239de5045d8\", \"categories\": [0, 1, 2, 3, 4, 5, 6, 7, 8, 9, 10, 11, 12, 13], \"series\": [{\"data\": [\"DatasetEvaluation\", \"FeaturesGeneration\", \"DatasetFeaturization\", \"DatasetFeaturizationCompleted\", \"DatasetBalancing\", \"ModelSelection\", \"BestRunExplainModel\", \"ModelExplanationDataSetSetup\", \"PickSurrogateModel\", \"EngineeredFeatureExplanations\", \"EngineeredFeatureExplanations\", \"RawFeaturesExplanations\", \"RawFeaturesExplanations\", \"BestRunExplainModel\"]}]}, {\"name\": \"experiment_status_description\", \"run_id\": \"AutoML_9150a662-0a53-42f6-b5b7-0239de5045d8\", \"categories\": [0, 1, 2, 3, 4, 5, 6, 7, 8, 9, 10, 11, 12, 13], \"series\": [{\"data\": [\"Gathering dataset statistics.\", \"Generating features for the dataset.\", \"Beginning to fit featurizers and featurize the dataset.\", \"Completed fit featurizers and featurizing the dataset.\", \"Performing class balancing sweeping\", \"Beginning model selection.\", \"Best run model explanations started\", \"Model explanations data setup completed\", \"Choosing LightGBM as the surrogate model for explanations\", \"Computation of engineered features started\", \"Computation of engineered features completed\", \"Computation of raw features started\", \"Computation of raw features completed\", \"Best run model explanations completed\"]}]}, {\"name\": \"f1_score_weighted\", \"run_id\": \"AutoML_9150a662-0a53-42f6-b5b7-0239de5045d8\", \"categories\": [0], \"series\": [{\"data\": [0.9988408838071234]}]}, {\"name\": \"precision_score_macro\", \"run_id\": \"AutoML_9150a662-0a53-42f6-b5b7-0239de5045d8\", \"categories\": [0], \"series\": [{\"data\": [0.7893856715367014]}]}, {\"name\": \"f1_score_macro\", \"run_id\": \"AutoML_9150a662-0a53-42f6-b5b7-0239de5045d8\", \"categories\": [0], \"series\": [{\"data\": [0.8516745078030157]}]}, {\"name\": \"recall_score_macro\", \"run_id\": \"AutoML_9150a662-0a53-42f6-b5b7-0239de5045d8\", \"categories\": [0], \"series\": [{\"data\": [0.9484168456352715]}]}, {\"name\": \"weighted_accuracy\", \"run_id\": \"AutoML_9150a662-0a53-42f6-b5b7-0239de5045d8\", \"categories\": [0], \"series\": [{\"data\": [0.998874207865035]}]}, {\"name\": \"average_precision_score_weighted\", \"run_id\": \"AutoML_9150a662-0a53-42f6-b5b7-0239de5045d8\", \"categories\": [0], \"series\": [{\"data\": [0.9997370192408314]}]}, {\"name\": \"norm_macro_recall\", \"run_id\": \"AutoML_9150a662-0a53-42f6-b5b7-0239de5045d8\", \"categories\": [0], \"series\": [{\"data\": [0.896833691270543]}]}, {\"name\": \"average_precision_score_macro\", \"run_id\": \"AutoML_9150a662-0a53-42f6-b5b7-0239de5045d8\", \"categories\": [0], \"series\": [{\"data\": [0.931568555182817]}]}, {\"name\": \"recall_score_weighted\", \"run_id\": \"AutoML_9150a662-0a53-42f6-b5b7-0239de5045d8\", \"categories\": [0], \"series\": [{\"data\": [0.9987008883115059]}]}, {\"name\": \"AUC_macro\", \"run_id\": \"AutoML_9150a662-0a53-42f6-b5b7-0239de5045d8\", \"categories\": [0], \"series\": [{\"data\": [0.9856722233068803]}]}, {\"name\": \"balanced_accuracy\", \"run_id\": \"AutoML_9150a662-0a53-42f6-b5b7-0239de5045d8\", \"categories\": [0], \"series\": [{\"data\": [0.9484168456352715]}]}, {\"name\": \"AUC_weighted\", \"run_id\": \"AutoML_9150a662-0a53-42f6-b5b7-0239de5045d8\", \"categories\": [0], \"series\": [{\"data\": [0.9856722233068802]}]}, {\"name\": \"precision_score_weighted\", \"run_id\": \"AutoML_9150a662-0a53-42f6-b5b7-0239de5045d8\", \"categories\": [0], \"series\": [{\"data\": [0.9990998795115427]}]}, {\"name\": \"AUC_micro\", \"run_id\": \"AutoML_9150a662-0a53-42f6-b5b7-0239de5045d8\", \"categories\": [0], \"series\": [{\"data\": [0.9997809169740497]}]}, {\"name\": \"average_precision_score_micro\", \"run_id\": \"AutoML_9150a662-0a53-42f6-b5b7-0239de5045d8\", \"categories\": [0], \"series\": [{\"data\": [0.9994622720153947]}]}, {\"name\": \"recall_score_micro\", \"run_id\": \"AutoML_9150a662-0a53-42f6-b5b7-0239de5045d8\", \"categories\": [0], \"series\": [{\"data\": [0.9987008883115059]}]}, {\"name\": \"matthews_correlation\", \"run_id\": \"AutoML_9150a662-0a53-42f6-b5b7-0239de5045d8\", \"categories\": [0], \"series\": [{\"data\": [0.7204593257152895]}]}, {\"name\": \"accuracy\", \"run_id\": \"AutoML_9150a662-0a53-42f6-b5b7-0239de5045d8\", \"categories\": [0], \"series\": [{\"data\": [0.9987008883115059]}]}, {\"name\": \"f1_score_micro\", \"run_id\": \"AutoML_9150a662-0a53-42f6-b5b7-0239de5045d8\", \"categories\": [0], \"series\": [{\"data\": [0.9987008883115059]}]}, {\"name\": \"precision_score_micro\", \"run_id\": \"AutoML_9150a662-0a53-42f6-b5b7-0239de5045d8\", \"categories\": [0], \"series\": [{\"data\": [0.9987008883115059]}]}, {\"name\": \"log_loss\", \"run_id\": \"AutoML_9150a662-0a53-42f6-b5b7-0239de5045d8\", \"categories\": [0], \"series\": [{\"data\": [0.2155072624046866]}]}], \"run_logs\": \"\\nRun is completed.\", \"graph\": {}, \"widget_settings\": {\"childWidgetDisplay\": \"popup\", \"send_telemetry\": false, \"log_level\": \"INFO\", \"sdk_version\": \"1.26.0\"}, \"loading\": false}"
          },
          "metadata": {}
        }
      ],
      "execution_count": 10,
      "metadata": {
        "gather": {
          "logged": 1618704274699
        },
        "jupyter": {
          "outputs_hidden": false,
          "source_hidden": false
        },
        "nteract": {
          "transient": {
            "deleting": false
          }
        }
      }
    },
    {
      "cell_type": "markdown",
      "source": [
        "## Best Model\n",
        "\n",
        "TODO: In the cell below, get the best model from the automl experiments and display all the properties of the model.\n",
        "\n"
      ],
      "metadata": {}
    },
    {
      "cell_type": "code",
      "source": [
        "# Retrieve and save your best automl model.\n",
        "best_automl_run, best_model = remote_run.get_output()\n",
        "best_automl_model_name = best_automl_run.properties['model_name']\n",
        "print(('Best AutoML model name:{}\\n' \\\n",
        "       'Best AutoML model run:{}\\n' \\\n",
        "       'Best AutoML model specification:{}').format(best_automl_model_name, str(best_automl_run), str(best_model)))"
      ],
      "outputs": [
        {
          "output_type": "stream",
          "name": "stdout",
          "text": [
            "Best AutoML model name:AutoML9150a662038\n",
            "Best AutoML model run:Run(Experiment: fraud_detection,\n",
            "Id: AutoML_9150a662-0a53-42f6-b5b7-0239de5045d8_38,\n",
            "Type: azureml.scriptrun,\n",
            "Status: Completed)\n",
            "Best AutoML model specification:Pipeline(memory=None,\n",
            "         steps=[('datatransformer',\n",
            "                 DataTransformer(enable_dnn=None, enable_feature_sweeping=None,\n",
            "                                 feature_sweeping_config=None,\n",
            "                                 feature_sweeping_timeout=None,\n",
            "                                 featurization_config=None, force_text_dnn=None,\n",
            "                                 is_cross_validation=None,\n",
            "                                 is_onnx_compatible=None, logger=None,\n",
            "                                 observer=None, task=None, working_dir=None)),\n",
            "                ('prefittedsoftvotingclassifier',...\n",
            "                                                                                               reg_alpha=0.5208333333333334,\n",
            "                                                                                               reg_lambda=0,\n",
            "                                                                                               scale_pos_weight=1,\n",
            "                                                                                               seed=None,\n",
            "                                                                                               silent=None,\n",
            "                                                                                               subsample=0.6,\n",
            "                                                                                               tree_method='hist',\n",
            "                                                                                               verbose=-10,\n",
            "                                                                                               verbosity=0))],\n",
            "                                                                     verbose=False))],\n",
            "                                               flatten_transform=None,\n",
            "                                               weights=[0.07692307692307693,\n",
            "                                                        0.07692307692307693,\n",
            "                                                        0.07692307692307693,\n",
            "                                                        0.07692307692307693,\n",
            "                                                        0.07692307692307693,\n",
            "                                                        0.23076923076923078,\n",
            "                                                        0.15384615384615385,\n",
            "                                                        0.23076923076923078]))],\n",
            "         verbose=False)\n"
          ]
        }
      ],
      "execution_count": 11,
      "metadata": {
        "gather": {
          "logged": 1618706119594
        },
        "jupyter": {
          "outputs_hidden": false,
          "source_hidden": false
        },
        "nteract": {
          "transient": {
            "deleting": false
          }
        }
      }
    },
    {
      "cell_type": "code",
      "source": [
        "registered_model = best_automl_run.register_model(model_name = 'best_automl_model', model_path = '/outputs/')\r\n",
        "print(registered_model)\r\n",
        "\r\n",
        "registered_model.download(target_dir='outputs', exist_ok=True)"
      ],
      "outputs": [
        {
          "output_type": "stream",
          "name": "stdout",
          "text": [
            "Model(workspace=Workspace.create(name='quick-starts-ws-142979', subscription_id='976ee174-3882-4721-b90a-b5fef6b72f24', resource_group='aml-quickstarts-142979'), name=best_automl_model, id=best_automl_model:1, version=1, tags={}, properties={})\n"
          ]
        },
        {
          "output_type": "execute_result",
          "execution_count": 12,
          "data": {
            "text/plain": "'outputs/mnt/batch/tasks/shared/LS_root/mounts/clusters/notebook142979/code/Users/odl_user_142979/outputs'"
          },
          "metadata": {}
        }
      ],
      "execution_count": 12,
      "metadata": {
        "collapsed": true,
        "jupyter": {
          "source_hidden": false,
          "outputs_hidden": false
        },
        "nteract": {
          "transient": {
            "deleting": false
          }
        },
        "gather": {
          "logged": 1618706128584
        }
      }
    },
    {
      "cell_type": "markdown",
      "source": [
        "## Model Deployment\n",
        "\n",
        "Remember you have to deploy only one of the two models you trained.. Perform the steps in the rest of this notebook only if you wish to deploy this model.\n",
        "\n",
        "TODO: In the cell below, register the model, create an inference config and deploy the model as a web service.\n",
        "\n",
        "Creating a pipeline"
      ],
      "metadata": {}
    },
    {
      "cell_type": "code",
      "source": [
        "deployment_config = AciWebservice.deploy_configuration(cpu_cores=1,\r\n",
        "                                                memory_gb=4,\r\n",
        "                                                enable_app_insights=True,\r\n",
        "                                                description='predict a fraud')\r\n",
        "model = Model(ws, 'best_automl_model')\r\n",
        "\r\n",
        "env_deploy = Environment.get(workspace=ws, name='AzureML-AutoML')\r\n",
        "\r\n",
        "inference_config = InferenceConfig(entry_script='score.py', environment=env_deploy)\r\n",
        "\r\n",
        "service = Model.deploy(workspace=ws,\r\n",
        "                       name='fraud-detection2',\r\n",
        "                       models=[model],\r\n",
        "                       inference_config=inference_config,\r\n",
        "                       deployment_config=deployment_config)"
      ],
      "outputs": [],
      "execution_count": 31,
      "metadata": {
        "gather": {
          "logged": 1618717613927
        },
        "jupyter": {
          "outputs_hidden": false,
          "source_hidden": false
        },
        "nteract": {
          "transient": {
            "deleting": false
          }
        }
      }
    },
    {
      "cell_type": "code",
      "source": [
        "service.wait_for_deployment(show_output=True)"
      ],
      "outputs": [
        {
          "output_type": "stream",
          "name": "stdout",
          "text": [
            "Tips: You can try get_logs(): https://aka.ms/debugimage#dockerlog or local deployment: https://aka.ms/debugimage#debug-locally to debug if deployment takes longer than 10 minutes.\n",
            "Running\n",
            "2021-04-18 03:46:53+00:00 Creating Container Registry if not exists.\n",
            "2021-04-18 03:46:53+00:00 Registering the environment.\n",
            "2021-04-18 03:46:53+00:00 Use the existing image.\n",
            "2021-04-18 03:46:54+00:00 Generating deployment configuration.\n",
            "2021-04-18 03:46:54+00:00 Submitting deployment to compute.\n",
            "2021-04-18 03:46:58+00:00 Checking the status of deployment fraud-detection2..\n",
            "2021-04-18 03:51:22+00:00 Checking the status of inference endpoint fraud-detection2.\n",
            "Failed\n"
          ]
        },
        {
          "output_type": "stream",
          "name": "stderr",
          "text": [
            "ERROR:azureml.core.webservice.webservice:Service deployment polling reached non-successful terminal state, current service state: Failed\n",
            "Operation ID: 2c88d08c-7e36-4553-80e8-e182b77a4665\n",
            "More information can be found using '.get_logs()'\n",
            "Error:\n",
            "{\n",
            "  \"code\": \"AciDeploymentFailed\",\n",
            "  \"statusCode\": 400,\n",
            "  \"message\": \"Aci Deployment failed with exception: Your container application crashed. This may be caused by errors in your scoring file's init() function.\n",
            "\t1. Please check the logs for your container instance: fraud-detection2. From the AML SDK, you can run print(service.get_logs()) if you have service object to fetch the logs.\n",
            "\t2. You can interactively debug your scoring file locally. Please refer to https://docs.microsoft.com/azure/machine-learning/how-to-debug-visual-studio-code#debug-and-troubleshoot-deployments for more information.\n",
            "\t3. You can also try to run image viennaglobal.azurecr.io/azureml/azureml_39c362815a3a9e28eebe0c654b193f75 locally. Please refer to https://aka.ms/debugimage#service-launch-fails for more information.\",\n",
            "  \"details\": [\n",
            "    {\n",
            "      \"code\": \"CrashLoopBackOff\",\n",
            "      \"message\": \"Your container application crashed. This may be caused by errors in your scoring file's init() function.\n",
            "\t1. Please check the logs for your container instance: fraud-detection2. From the AML SDK, you can run print(service.get_logs()) if you have service object to fetch the logs.\n",
            "\t2. You can interactively debug your scoring file locally. Please refer to https://docs.microsoft.com/azure/machine-learning/how-to-debug-visual-studio-code#debug-and-troubleshoot-deployments for more information.\n",
            "\t3. You can also try to run image viennaglobal.azurecr.io/azureml/azureml_39c362815a3a9e28eebe0c654b193f75 locally. Please refer to https://aka.ms/debugimage#service-launch-fails for more information.\"\n",
            "    },\n",
            "    {\n",
            "      \"code\": \"AciDeploymentFailed\",\n",
            "      \"message\": \"Your container application crashed. Please follow the steps to debug:\n",
            "\t1. From the AML SDK, you can run print(service.get_logs()) if you have service object to fetch the logs. Please refer to https://aka.ms/debugimage#dockerlog for more information.\n",
            "\t2. If your container application crashed. This may be caused by errors in your scoring file's init() function. You can try debugging locally first. Please refer to https://aka.ms/debugimage#debug-locally for more information.\n",
            "\t3. You can also interactively debug your scoring file locally. Please refer to https://docs.microsoft.com/azure/machine-learning/how-to-debug-visual-studio-code#debug-and-troubleshoot-deployments for more information.\n",
            "\t4. View the diagnostic events to check status of container, it may help you to debug the issue.\n",
            "\"RestartCount\": 3\n",
            "\"CurrentState\": {\"state\":\"Waiting\",\"startTime\":null,\"exitCode\":null,\"finishTime\":null,\"detailStatus\":\"CrashLoopBackOff: Back-off restarting failed\"}\n",
            "\"PreviousState\": {\"state\":\"Terminated\",\"startTime\":\"2021-04-18T03:54:22.692Z\",\"exitCode\":111,\"finishTime\":\"2021-04-18T03:55:01.184Z\",\"detailStatus\":\"Error\"}\n",
            "\"Events\":\n",
            "{\"count\":2,\"firstTimestamp\":\"2021-04-18T03:47:13Z\",\"lastTimestamp\":\"2021-04-18T03:50:55Z\",\"name\":\"Pulling\",\"message\":\"pulling image \"viennaglobal.azurecr.io/azureml/azureml_39c362815a3a9e28eebe0c654b193f75@sha256:4bd1494c6fadf2d6b166c6bf8c14bc533c1f084e5cb5d80e301c8703541b7755\"\",\"type\":\"Normal\"}\n",
            "{\"count\":2,\"firstTimestamp\":\"2021-04-18T03:50:43Z\",\"lastTimestamp\":\"2021-04-18T03:50:57Z\",\"name\":\"Pulled\",\"message\":\"Successfully pulled image \"viennaglobal.azurecr.io/azureml/azureml_39c362815a3a9e28eebe0c654b193f75@sha256:4bd1494c6fadf2d6b166c6bf8c14bc533c1f084e5cb5d80e301c8703541b7755\"\",\"type\":\"Normal\"}\n",
            "{\"count\":4,\"firstTimestamp\":\"2021-04-18T03:51:16Z\",\"lastTimestamp\":\"2021-04-18T03:54:22Z\",\"name\":\"Started\",\"message\":\"Started container\",\"type\":\"Normal\"}\n",
            "{\"count\":4,\"firstTimestamp\":\"2021-04-18T03:51:54Z\",\"lastTimestamp\":\"2021-04-18T03:55:01Z\",\"name\":\"Killing\",\"message\":\"Killing container with id ea486c1dd70a22b5096984bf769c083b49f55e3f6cc45d6d69fadb9d591a1e33.\",\"type\":\"Normal\"}\n",
            "\"\n",
            "    }\n",
            "  ]\n",
            "}\n",
            "\n"
          ]
        },
        {
          "output_type": "error",
          "ename": "WebserviceException",
          "evalue": "WebserviceException:\n\tMessage: Service deployment polling reached non-successful terminal state, current service state: Failed\nOperation ID: 2c88d08c-7e36-4553-80e8-e182b77a4665\nMore information can be found using '.get_logs()'\nError:\n{\n  \"code\": \"AciDeploymentFailed\",\n  \"statusCode\": 400,\n  \"message\": \"Aci Deployment failed with exception: Your container application crashed. This may be caused by errors in your scoring file's init() function.\n\t1. Please check the logs for your container instance: fraud-detection2. From the AML SDK, you can run print(service.get_logs()) if you have service object to fetch the logs.\n\t2. You can interactively debug your scoring file locally. Please refer to https://docs.microsoft.com/azure/machine-learning/how-to-debug-visual-studio-code#debug-and-troubleshoot-deployments for more information.\n\t3. You can also try to run image viennaglobal.azurecr.io/azureml/azureml_39c362815a3a9e28eebe0c654b193f75 locally. Please refer to https://aka.ms/debugimage#service-launch-fails for more information.\",\n  \"details\": [\n    {\n      \"code\": \"CrashLoopBackOff\",\n      \"message\": \"Your container application crashed. This may be caused by errors in your scoring file's init() function.\n\t1. Please check the logs for your container instance: fraud-detection2. From the AML SDK, you can run print(service.get_logs()) if you have service object to fetch the logs.\n\t2. You can interactively debug your scoring file locally. Please refer to https://docs.microsoft.com/azure/machine-learning/how-to-debug-visual-studio-code#debug-and-troubleshoot-deployments for more information.\n\t3. You can also try to run image viennaglobal.azurecr.io/azureml/azureml_39c362815a3a9e28eebe0c654b193f75 locally. Please refer to https://aka.ms/debugimage#service-launch-fails for more information.\"\n    },\n    {\n      \"code\": \"AciDeploymentFailed\",\n      \"message\": \"Your container application crashed. Please follow the steps to debug:\n\t1. From the AML SDK, you can run print(service.get_logs()) if you have service object to fetch the logs. Please refer to https://aka.ms/debugimage#dockerlog for more information.\n\t2. If your container application crashed. This may be caused by errors in your scoring file's init() function. You can try debugging locally first. Please refer to https://aka.ms/debugimage#debug-locally for more information.\n\t3. You can also interactively debug your scoring file locally. Please refer to https://docs.microsoft.com/azure/machine-learning/how-to-debug-visual-studio-code#debug-and-troubleshoot-deployments for more information.\n\t4. View the diagnostic events to check status of container, it may help you to debug the issue.\n\"RestartCount\": 3\n\"CurrentState\": {\"state\":\"Waiting\",\"startTime\":null,\"exitCode\":null,\"finishTime\":null,\"detailStatus\":\"CrashLoopBackOff: Back-off restarting failed\"}\n\"PreviousState\": {\"state\":\"Terminated\",\"startTime\":\"2021-04-18T03:54:22.692Z\",\"exitCode\":111,\"finishTime\":\"2021-04-18T03:55:01.184Z\",\"detailStatus\":\"Error\"}\n\"Events\":\n{\"count\":2,\"firstTimestamp\":\"2021-04-18T03:47:13Z\",\"lastTimestamp\":\"2021-04-18T03:50:55Z\",\"name\":\"Pulling\",\"message\":\"pulling image \"viennaglobal.azurecr.io/azureml/azureml_39c362815a3a9e28eebe0c654b193f75@sha256:4bd1494c6fadf2d6b166c6bf8c14bc533c1f084e5cb5d80e301c8703541b7755\"\",\"type\":\"Normal\"}\n{\"count\":2,\"firstTimestamp\":\"2021-04-18T03:50:43Z\",\"lastTimestamp\":\"2021-04-18T03:50:57Z\",\"name\":\"Pulled\",\"message\":\"Successfully pulled image \"viennaglobal.azurecr.io/azureml/azureml_39c362815a3a9e28eebe0c654b193f75@sha256:4bd1494c6fadf2d6b166c6bf8c14bc533c1f084e5cb5d80e301c8703541b7755\"\",\"type\":\"Normal\"}\n{\"count\":4,\"firstTimestamp\":\"2021-04-18T03:51:16Z\",\"lastTimestamp\":\"2021-04-18T03:54:22Z\",\"name\":\"Started\",\"message\":\"Started container\",\"type\":\"Normal\"}\n{\"count\":4,\"firstTimestamp\":\"2021-04-18T03:51:54Z\",\"lastTimestamp\":\"2021-04-18T03:55:01Z\",\"name\":\"Killing\",\"message\":\"Killing container with id ea486c1dd70a22b5096984bf769c083b49f55e3f6cc45d6d69fadb9d591a1e33.\",\"type\":\"Normal\"}\n\"\n    }\n  ]\n}\n\tInnerException None\n\tErrorResponse \n{\n    \"error\": {\n        \"message\": \"Service deployment polling reached non-successful terminal state, current service state: Failed\\nOperation ID: 2c88d08c-7e36-4553-80e8-e182b77a4665\\nMore information can be found using '.get_logs()'\\nError:\\n{\\n  \\\"code\\\": \\\"AciDeploymentFailed\\\",\\n  \\\"statusCode\\\": 400,\\n  \\\"message\\\": \\\"Aci Deployment failed with exception: Your container application crashed. This may be caused by errors in your scoring file's init() function.\\n\\t1. Please check the logs for your container instance: fraud-detection2. From the AML SDK, you can run print(service.get_logs()) if you have service object to fetch the logs.\\n\\t2. You can interactively debug your scoring file locally. Please refer to https://docs.microsoft.com/azure/machine-learning/how-to-debug-visual-studio-code#debug-and-troubleshoot-deployments for more information.\\n\\t3. You can also try to run image viennaglobal.azurecr.io/azureml/azureml_39c362815a3a9e28eebe0c654b193f75 locally. Please refer to https://aka.ms/debugimage#service-launch-fails for more information.\\\",\\n  \\\"details\\\": [\\n    {\\n      \\\"code\\\": \\\"CrashLoopBackOff\\\",\\n      \\\"message\\\": \\\"Your container application crashed. This may be caused by errors in your scoring file's init() function.\\n\\t1. Please check the logs for your container instance: fraud-detection2. From the AML SDK, you can run print(service.get_logs()) if you have service object to fetch the logs.\\n\\t2. You can interactively debug your scoring file locally. Please refer to https://docs.microsoft.com/azure/machine-learning/how-to-debug-visual-studio-code#debug-and-troubleshoot-deployments for more information.\\n\\t3. You can also try to run image viennaglobal.azurecr.io/azureml/azureml_39c362815a3a9e28eebe0c654b193f75 locally. Please refer to https://aka.ms/debugimage#service-launch-fails for more information.\\\"\\n    },\\n    {\\n      \\\"code\\\": \\\"AciDeploymentFailed\\\",\\n      \\\"message\\\": \\\"Your container application crashed. Please follow the steps to debug:\\n\\t1. From the AML SDK, you can run print(service.get_logs()) if you have service object to fetch the logs. Please refer to https://aka.ms/debugimage#dockerlog for more information.\\n\\t2. If your container application crashed. This may be caused by errors in your scoring file's init() function. You can try debugging locally first. Please refer to https://aka.ms/debugimage#debug-locally for more information.\\n\\t3. You can also interactively debug your scoring file locally. Please refer to https://docs.microsoft.com/azure/machine-learning/how-to-debug-visual-studio-code#debug-and-troubleshoot-deployments for more information.\\n\\t4. View the diagnostic events to check status of container, it may help you to debug the issue.\\n\\\"RestartCount\\\": 3\\n\\\"CurrentState\\\": {\\\"state\\\":\\\"Waiting\\\",\\\"startTime\\\":null,\\\"exitCode\\\":null,\\\"finishTime\\\":null,\\\"detailStatus\\\":\\\"CrashLoopBackOff: Back-off restarting failed\\\"}\\n\\\"PreviousState\\\": {\\\"state\\\":\\\"Terminated\\\",\\\"startTime\\\":\\\"2021-04-18T03:54:22.692Z\\\",\\\"exitCode\\\":111,\\\"finishTime\\\":\\\"2021-04-18T03:55:01.184Z\\\",\\\"detailStatus\\\":\\\"Error\\\"}\\n\\\"Events\\\":\\n{\\\"count\\\":2,\\\"firstTimestamp\\\":\\\"2021-04-18T03:47:13Z\\\",\\\"lastTimestamp\\\":\\\"2021-04-18T03:50:55Z\\\",\\\"name\\\":\\\"Pulling\\\",\\\"message\\\":\\\"pulling image \\\"viennaglobal.azurecr.io/azureml/azureml_39c362815a3a9e28eebe0c654b193f75@sha256:4bd1494c6fadf2d6b166c6bf8c14bc533c1f084e5cb5d80e301c8703541b7755\\\"\\\",\\\"type\\\":\\\"Normal\\\"}\\n{\\\"count\\\":2,\\\"firstTimestamp\\\":\\\"2021-04-18T03:50:43Z\\\",\\\"lastTimestamp\\\":\\\"2021-04-18T03:50:57Z\\\",\\\"name\\\":\\\"Pulled\\\",\\\"message\\\":\\\"Successfully pulled image \\\"viennaglobal.azurecr.io/azureml/azureml_39c362815a3a9e28eebe0c654b193f75@sha256:4bd1494c6fadf2d6b166c6bf8c14bc533c1f084e5cb5d80e301c8703541b7755\\\"\\\",\\\"type\\\":\\\"Normal\\\"}\\n{\\\"count\\\":4,\\\"firstTimestamp\\\":\\\"2021-04-18T03:51:16Z\\\",\\\"lastTimestamp\\\":\\\"2021-04-18T03:54:22Z\\\",\\\"name\\\":\\\"Started\\\",\\\"message\\\":\\\"Started container\\\",\\\"type\\\":\\\"Normal\\\"}\\n{\\\"count\\\":4,\\\"firstTimestamp\\\":\\\"2021-04-18T03:51:54Z\\\",\\\"lastTimestamp\\\":\\\"2021-04-18T03:55:01Z\\\",\\\"name\\\":\\\"Killing\\\",\\\"message\\\":\\\"Killing container with id ea486c1dd70a22b5096984bf769c083b49f55e3f6cc45d6d69fadb9d591a1e33.\\\",\\\"type\\\":\\\"Normal\\\"}\\n\\\"\\n    }\\n  ]\\n}\"\n    }\n}",
          "traceback": [
            "\u001b[0;31m---------------------------------------------------------------------------\u001b[0m",
            "\u001b[0;31mWebserviceException\u001b[0m                       Traceback (most recent call last)",
            "\u001b[0;32m<ipython-input-32-deecaad5a878>\u001b[0m in \u001b[0;36m<module>\u001b[0;34m\u001b[0m\n\u001b[0;32m----> 1\u001b[0;31m \u001b[0mservice\u001b[0m\u001b[0;34m.\u001b[0m\u001b[0mwait_for_deployment\u001b[0m\u001b[0;34m(\u001b[0m\u001b[0mshow_output\u001b[0m\u001b[0;34m=\u001b[0m\u001b[0;32mTrue\u001b[0m\u001b[0;34m)\u001b[0m\u001b[0;34m\u001b[0m\u001b[0;34m\u001b[0m\u001b[0m\n\u001b[0m",
            "\u001b[0;32m/anaconda/envs/azureml_py36/lib/python3.6/site-packages/azureml/core/webservice/webservice.py\u001b[0m in \u001b[0;36mwait_for_deployment\u001b[0;34m(self, show_output, timeout_sec)\u001b[0m\n\u001b[1;32m    921\u001b[0m                                           \u001b[0;34m'Error:\\n'\u001b[0m\u001b[0;34m\u001b[0m\u001b[0;34m\u001b[0m\u001b[0m\n\u001b[1;32m    922\u001b[0m                                           '{}'.format(self.state, self._operation_endpoint.split('/')[-1],\n\u001b[0;32m--> 923\u001b[0;31m                                                       logs_response, format_error_response), logger=module_logger)\n\u001b[0m\u001b[1;32m    924\u001b[0m             print('{} service creation operation finished, operation \"{}\"'.format(self._webservice_type,\n\u001b[1;32m    925\u001b[0m                                                                                   operation_state))\n",
            "\u001b[0;31mWebserviceException\u001b[0m: WebserviceException:\n\tMessage: Service deployment polling reached non-successful terminal state, current service state: Failed\nOperation ID: 2c88d08c-7e36-4553-80e8-e182b77a4665\nMore information can be found using '.get_logs()'\nError:\n{\n  \"code\": \"AciDeploymentFailed\",\n  \"statusCode\": 400,\n  \"message\": \"Aci Deployment failed with exception: Your container application crashed. This may be caused by errors in your scoring file's init() function.\n\t1. Please check the logs for your container instance: fraud-detection2. From the AML SDK, you can run print(service.get_logs()) if you have service object to fetch the logs.\n\t2. You can interactively debug your scoring file locally. Please refer to https://docs.microsoft.com/azure/machine-learning/how-to-debug-visual-studio-code#debug-and-troubleshoot-deployments for more information.\n\t3. You can also try to run image viennaglobal.azurecr.io/azureml/azureml_39c362815a3a9e28eebe0c654b193f75 locally. Please refer to https://aka.ms/debugimage#service-launch-fails for more information.\",\n  \"details\": [\n    {\n      \"code\": \"CrashLoopBackOff\",\n      \"message\": \"Your container application crashed. This may be caused by errors in your scoring file's init() function.\n\t1. Please check the logs for your container instance: fraud-detection2. From the AML SDK, you can run print(service.get_logs()) if you have service object to fetch the logs.\n\t2. You can interactively debug your scoring file locally. Please refer to https://docs.microsoft.com/azure/machine-learning/how-to-debug-visual-studio-code#debug-and-troubleshoot-deployments for more information.\n\t3. You can also try to run image viennaglobal.azurecr.io/azureml/azureml_39c362815a3a9e28eebe0c654b193f75 locally. Please refer to https://aka.ms/debugimage#service-launch-fails for more information.\"\n    },\n    {\n      \"code\": \"AciDeploymentFailed\",\n      \"message\": \"Your container application crashed. Please follow the steps to debug:\n\t1. From the AML SDK, you can run print(service.get_logs()) if you have service object to fetch the logs. Please refer to https://aka.ms/debugimage#dockerlog for more information.\n\t2. If your container application crashed. This may be caused by errors in your scoring file's init() function. You can try debugging locally first. Please refer to https://aka.ms/debugimage#debug-locally for more information.\n\t3. You can also interactively debug your scoring file locally. Please refer to https://docs.microsoft.com/azure/machine-learning/how-to-debug-visual-studio-code#debug-and-troubleshoot-deployments for more information.\n\t4. View the diagnostic events to check status of container, it may help you to debug the issue.\n\"RestartCount\": 3\n\"CurrentState\": {\"state\":\"Waiting\",\"startTime\":null,\"exitCode\":null,\"finishTime\":null,\"detailStatus\":\"CrashLoopBackOff: Back-off restarting failed\"}\n\"PreviousState\": {\"state\":\"Terminated\",\"startTime\":\"2021-04-18T03:54:22.692Z\",\"exitCode\":111,\"finishTime\":\"2021-04-18T03:55:01.184Z\",\"detailStatus\":\"Error\"}\n\"Events\":\n{\"count\":2,\"firstTimestamp\":\"2021-04-18T03:47:13Z\",\"lastTimestamp\":\"2021-04-18T03:50:55Z\",\"name\":\"Pulling\",\"message\":\"pulling image \"viennaglobal.azurecr.io/azureml/azureml_39c362815a3a9e28eebe0c654b193f75@sha256:4bd1494c6fadf2d6b166c6bf8c14bc533c1f084e5cb5d80e301c8703541b7755\"\",\"type\":\"Normal\"}\n{\"count\":2,\"firstTimestamp\":\"2021-04-18T03:50:43Z\",\"lastTimestamp\":\"2021-04-18T03:50:57Z\",\"name\":\"Pulled\",\"message\":\"Successfully pulled image \"viennaglobal.azurecr.io/azureml/azureml_39c362815a3a9e28eebe0c654b193f75@sha256:4bd1494c6fadf2d6b166c6bf8c14bc533c1f084e5cb5d80e301c8703541b7755\"\",\"type\":\"Normal\"}\n{\"count\":4,\"firstTimestamp\":\"2021-04-18T03:51:16Z\",\"lastTimestamp\":\"2021-04-18T03:54:22Z\",\"name\":\"Started\",\"message\":\"Started container\",\"type\":\"Normal\"}\n{\"count\":4,\"firstTimestamp\":\"2021-04-18T03:51:54Z\",\"lastTimestamp\":\"2021-04-18T03:55:01Z\",\"name\":\"Killing\",\"message\":\"Killing container with id ea486c1dd70a22b5096984bf769c083b49f55e3f6cc45d6d69fadb9d591a1e33.\",\"type\":\"Normal\"}\n\"\n    }\n  ]\n}\n\tInnerException None\n\tErrorResponse \n{\n    \"error\": {\n        \"message\": \"Service deployment polling reached non-successful terminal state, current service state: Failed\\nOperation ID: 2c88d08c-7e36-4553-80e8-e182b77a4665\\nMore information can be found using '.get_logs()'\\nError:\\n{\\n  \\\"code\\\": \\\"AciDeploymentFailed\\\",\\n  \\\"statusCode\\\": 400,\\n  \\\"message\\\": \\\"Aci Deployment failed with exception: Your container application crashed. This may be caused by errors in your scoring file's init() function.\\n\\t1. Please check the logs for your container instance: fraud-detection2. From the AML SDK, you can run print(service.get_logs()) if you have service object to fetch the logs.\\n\\t2. You can interactively debug your scoring file locally. Please refer to https://docs.microsoft.com/azure/machine-learning/how-to-debug-visual-studio-code#debug-and-troubleshoot-deployments for more information.\\n\\t3. You can also try to run image viennaglobal.azurecr.io/azureml/azureml_39c362815a3a9e28eebe0c654b193f75 locally. Please refer to https://aka.ms/debugimage#service-launch-fails for more information.\\\",\\n  \\\"details\\\": [\\n    {\\n      \\\"code\\\": \\\"CrashLoopBackOff\\\",\\n      \\\"message\\\": \\\"Your container application crashed. This may be caused by errors in your scoring file's init() function.\\n\\t1. Please check the logs for your container instance: fraud-detection2. From the AML SDK, you can run print(service.get_logs()) if you have service object to fetch the logs.\\n\\t2. You can interactively debug your scoring file locally. Please refer to https://docs.microsoft.com/azure/machine-learning/how-to-debug-visual-studio-code#debug-and-troubleshoot-deployments for more information.\\n\\t3. You can also try to run image viennaglobal.azurecr.io/azureml/azureml_39c362815a3a9e28eebe0c654b193f75 locally. Please refer to https://aka.ms/debugimage#service-launch-fails for more information.\\\"\\n    },\\n    {\\n      \\\"code\\\": \\\"AciDeploymentFailed\\\",\\n      \\\"message\\\": \\\"Your container application crashed. Please follow the steps to debug:\\n\\t1. From the AML SDK, you can run print(service.get_logs()) if you have service object to fetch the logs. Please refer to https://aka.ms/debugimage#dockerlog for more information.\\n\\t2. If your container application crashed. This may be caused by errors in your scoring file's init() function. You can try debugging locally first. Please refer to https://aka.ms/debugimage#debug-locally for more information.\\n\\t3. You can also interactively debug your scoring file locally. Please refer to https://docs.microsoft.com/azure/machine-learning/how-to-debug-visual-studio-code#debug-and-troubleshoot-deployments for more information.\\n\\t4. View the diagnostic events to check status of container, it may help you to debug the issue.\\n\\\"RestartCount\\\": 3\\n\\\"CurrentState\\\": {\\\"state\\\":\\\"Waiting\\\",\\\"startTime\\\":null,\\\"exitCode\\\":null,\\\"finishTime\\\":null,\\\"detailStatus\\\":\\\"CrashLoopBackOff: Back-off restarting failed\\\"}\\n\\\"PreviousState\\\": {\\\"state\\\":\\\"Terminated\\\",\\\"startTime\\\":\\\"2021-04-18T03:54:22.692Z\\\",\\\"exitCode\\\":111,\\\"finishTime\\\":\\\"2021-04-18T03:55:01.184Z\\\",\\\"detailStatus\\\":\\\"Error\\\"}\\n\\\"Events\\\":\\n{\\\"count\\\":2,\\\"firstTimestamp\\\":\\\"2021-04-18T03:47:13Z\\\",\\\"lastTimestamp\\\":\\\"2021-04-18T03:50:55Z\\\",\\\"name\\\":\\\"Pulling\\\",\\\"message\\\":\\\"pulling image \\\"viennaglobal.azurecr.io/azureml/azureml_39c362815a3a9e28eebe0c654b193f75@sha256:4bd1494c6fadf2d6b166c6bf8c14bc533c1f084e5cb5d80e301c8703541b7755\\\"\\\",\\\"type\\\":\\\"Normal\\\"}\\n{\\\"count\\\":2,\\\"firstTimestamp\\\":\\\"2021-04-18T03:50:43Z\\\",\\\"lastTimestamp\\\":\\\"2021-04-18T03:50:57Z\\\",\\\"name\\\":\\\"Pulled\\\",\\\"message\\\":\\\"Successfully pulled image \\\"viennaglobal.azurecr.io/azureml/azureml_39c362815a3a9e28eebe0c654b193f75@sha256:4bd1494c6fadf2d6b166c6bf8c14bc533c1f084e5cb5d80e301c8703541b7755\\\"\\\",\\\"type\\\":\\\"Normal\\\"}\\n{\\\"count\\\":4,\\\"firstTimestamp\\\":\\\"2021-04-18T03:51:16Z\\\",\\\"lastTimestamp\\\":\\\"2021-04-18T03:54:22Z\\\",\\\"name\\\":\\\"Started\\\",\\\"message\\\":\\\"Started container\\\",\\\"type\\\":\\\"Normal\\\"}\\n{\\\"count\\\":4,\\\"firstTimestamp\\\":\\\"2021-04-18T03:51:54Z\\\",\\\"lastTimestamp\\\":\\\"2021-04-18T03:55:01Z\\\",\\\"name\\\":\\\"Killing\\\",\\\"message\\\":\\\"Killing container with id ea486c1dd70a22b5096984bf769c083b49f55e3f6cc45d6d69fadb9d591a1e33.\\\",\\\"type\\\":\\\"Normal\\\"}\\n\\\"\\n    }\\n  ]\\n}\"\n    }\n}"
          ]
        }
      ],
      "execution_count": 32,
      "metadata": {
        "collapsed": true,
        "jupyter": {
          "source_hidden": false,
          "outputs_hidden": true
        },
        "nteract": {
          "transient": {
            "deleting": false
          }
        },
        "gather": {
          "logged": 1618716585987
        }
      }
    },
    {
      "cell_type": "code",
      "source": [
        "print(service.scoring_uri)\r\n",
        "print(service.swagger_uri)"
      ],
      "outputs": [],
      "execution_count": null,
      "metadata": {
        "collapsed": true,
        "jupyter": {
          "source_hidden": false,
          "outputs_hidden": false
        },
        "nteract": {
          "transient": {
            "deleting": false
          }
        }
      }
    },
    {
      "cell_type": "markdown",
      "source": [
        "Send a request to the web service deployed and test it "
      ],
      "metadata": {
        "nteract": {
          "transient": {
            "deleting": false
          }
        }
      }
    },
    {
      "cell_type": "code",
      "source": [],
      "outputs": [],
      "execution_count": null,
      "metadata": {
        "collapsed": true,
        "jupyter": {
          "source_hidden": false,
          "outputs_hidden": false
        },
        "nteract": {
          "transient": {
            "deleting": false
          }
        }
      }
    }
  ],
  "metadata": {
    "kernel_info": {
      "name": "python3"
    },
    "kernelspec": {
      "name": "python3",
      "language": "python",
      "display_name": "Python 3"
    },
    "language_info": {
      "name": "python",
      "version": "3.6.9",
      "mimetype": "text/x-python",
      "codemirror_mode": {
        "name": "ipython",
        "version": 3
      },
      "pygments_lexer": "ipython3",
      "nbconvert_exporter": "python",
      "file_extension": ".py"
    },
    "nteract": {
      "version": "nteract-front-end@1.0.0"
    },
    "microsoft": {
      "host": {
        "AzureML": {
          "notebookHasBeenCompleted": true
        }
      }
    }
  },
  "nbformat": 4,
  "nbformat_minor": 2
}