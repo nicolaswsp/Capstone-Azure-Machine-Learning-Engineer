{
  "cells": [
    {
      "cell_type": "markdown",
      "source": [
        "# Automated ML\n",
        "\n",
        "TODO: Import Dependencies. In the cell below, import all the dependencies that you will need to complete the project."
      ],
      "metadata": {}
    },
    {
      "cell_type": "code",
      "source": [
        "import logging\n",
        "import os\n",
        "import csv\n",
        "import io\n",
        "import requests\n",
        "import json\n",
        "\n",
        "from matplotlib import pyplot as plt\n",
        "import numpy as np\n",
        "import pandas as pd\n",
        "from sklearn import datasets\n",
        "import pkg_resources\n",
        "\n",
        "import azureml.core\n",
        "from azureml.core.experiment import Experiment\n",
        "from azureml.core.workspace import Workspace\n",
        "from azureml.train.automl import AutoMLConfig\n",
        "from azureml.core.dataset import Dataset\n",
        "from azureml.core.webservice import AciWebservice, LocalWebservice\n",
        "from azureml.core import Environment\n",
        "from azureml.core.model import InferenceConfig\n",
        "from azureml.core.model import Model\n",
        "\n",
        "\n",
        "from azureml.widgets import RunDetails\n",
        "from azureml.pipeline.steps import AutoMLStep\n",
        "\n",
        "# Check core SDK version number\n",
        "print(\"SDK version:\", azureml.core.VERSION)"
      ],
      "outputs": [
        {
          "output_type": "stream",
          "name": "stdout",
          "text": [
            "SDK version: 1.26.0\n"
          ]
        }
      ],
      "execution_count": 28,
      "metadata": {
        "gather": {
          "logged": 1618673557553
        },
        "jupyter": {
          "outputs_hidden": false,
          "source_hidden": false
        },
        "nteract": {
          "transient": {
            "deleting": false
          }
        }
      }
    },
    {
      "cell_type": "markdown",
      "source": [
        "## Dataset\n",
        "\n",
        "### Overview\n",
        "TODO: In this markdown cell, give an overview of the dataset you are using. Also mention the task you will be performing.\n",
        "\n",
        "\n",
        "TODO: Get data. In the cell below, write code to access the data you will be using in this project. Remember that the dataset needs to be external."
      ],
      "metadata": {}
    },
    {
      "cell_type": "code",
      "source": [
        "ws = Workspace.from_config()\n",
        "\n",
        "experiment_name = 'fraud_detection'\n",
        "\n",
        "exp=Experiment(ws, experiment_name)\n",
        "\n",
        "print('Workspace name: ' + ws.name, \n",
        "      'Azure region: ' + ws.location, \n",
        "      'Subscription id: ' + ws.subscription_id, \n",
        "      'Resource group: ' + ws.resource_group, sep = '\\n')\n",
        "\n",
        "run = exp.start_logging()\n",
        "print(exp)"
      ],
      "outputs": [
        {
          "output_type": "stream",
          "name": "stdout",
          "text": [
            "Performing interactive authentication. Please follow the instructions on the terminal.\n",
            "To sign in, use a web browser to open the page https://microsoft.com/devicelogin and enter the code AH2FULY2T to authenticate.\n",
            "You have logged in. Now let us find all the subscriptions to which you have access...\n",
            "Interactive authentication successfully completed.\n",
            "Workspace name: quick-starts-ws-142935\n",
            "Azure region: southcentralus\n",
            "Subscription id: 81cefad3-d2c9-4f77-a466-99a7f541c7bb\n",
            "Resource group: aml-quickstarts-142935\n",
            "Experiment(Name: fraud_detection,\n",
            "Workspace: quick-starts-ws-142935)\n"
          ]
        }
      ],
      "execution_count": 2,
      "metadata": {
        "gather": {
          "logged": 1618665496192
        },
        "jupyter": {
          "outputs_hidden": false,
          "source_hidden": false
        },
        "nteract": {
          "transient": {
            "deleting": false
          }
        }
      }
    },
    {
      "cell_type": "code",
      "source": [
        "dataset = Dataset.get_by_name(workspace=ws, name='Banking-Transactions')\n",
        "transactions_df = dataset.to_pandas_dataframe()"
      ],
      "outputs": [],
      "execution_count": 15,
      "metadata": {
        "scrolled": true,
        "gather": {
          "logged": 1618666341761
        },
        "jupyter": {
          "outputs_hidden": false
        }
      }
    },
    {
      "cell_type": "code",
      "source": [
        "# Calculate the fraction of data points that are fraudulent\n",
        "def fraudulent_percentage(transaction_df):\n",
        "    '''Calculate the fraction of all data points that have a 'Class' label of 1; fraudulent.\n",
        "       :param transaction_df: Dataframe of all transaction data points; has a column 'Class'\n",
        "       :return: A fractional percentage of fraudulent data points/all points\n",
        "    '''\n",
        "    # counts for all classes\n",
        "    counts = transactions_df['Class'].value_counts()\n",
        "    \n",
        "    # get fraudulent and valid cnts\n",
        "    fraud_cnts = counts[1]\n",
        "    valid_cnts = counts[0]\n",
        "    \n",
        "    # calculate percentage of fraudulent data\n",
        "    fraud_percentage = fraud_cnts/(fraud_cnts+valid_cnts)\n",
        "    \n",
        "    return fraud_percentage"
      ],
      "outputs": [],
      "execution_count": 7,
      "metadata": {
        "gather": {
          "logged": 1618665678259
        }
      }
    },
    {
      "cell_type": "code",
      "source": [
        "# call the function to calculate the fraud percentage\n",
        "fraud_percentage = fraudulent_percentage(dataset)\n",
        "\n",
        "print('Fraudulent percentage = ', fraud_percentage)\n",
        "print('Total # of fraudulent pts: ', fraud_percentage*transactions_df.shape[0])\n",
        "print('Out of (total) pts: ', transactions_df.shape[0])"
      ],
      "outputs": [
        {
          "output_type": "stream",
          "name": "stdout",
          "text": [
            "Fraudulent percentage =  0.001727485630620034\n",
            "Total # of fraudulent pts:  492.0\n",
            "Out of (total) pts:  284807\n"
          ]
        }
      ],
      "execution_count": 16,
      "metadata": {
        "gather": {
          "logged": 1618666351191
        }
      }
    },
    {
      "cell_type": "code",
      "source": [
        "from azureml.core.compute import ComputeTarget, AmlCompute\n",
        "from azureml.core.compute_target import ComputeTargetException\n",
        "# Create compute cluster\n",
        "# Choose a name for the computer cluster:\n",
        "amlcompute_cluster_name = \"compute-cluster\"\n",
        "\n",
        "# Check if the cluster already exists:\n",
        "try:\n",
        "    aml_compute = ComputeTarget(workspace=ws, name=amlcompute_cluster_name)\n",
        "    print('The cluster already exists')\n",
        "except ComputeTargetException:\n",
        "    compute_config = AmlCompute.provisioning_configuration(vm_size='STANDARD_D2_V2', max_nodes=4)\n",
        "    aml_compute = ComputeTarget.create(ws, amlcompute_cluster_name, compute_config)\n",
        "\n",
        "aml_compute.wait_for_completion(show_output=True)"
      ],
      "outputs": [
        {
          "output_type": "stream",
          "name": "stdout",
          "text": [
            "Creating....\n",
            "SucceededProvisioning operation finished, operation \"Succeeded\"\n",
            "Succeeded\n",
            "AmlCompute wait for completion finished\n",
            "\n",
            "Minimum number of nodes requested have been provisioned\n"
          ]
        }
      ],
      "execution_count": 9,
      "metadata": {
        "gather": {
          "logged": 1618665709521
        }
      }
    },
    {
      "cell_type": "markdown",
      "source": [
        "## AutoML Configuration\n",
        "\n",
        "TODO: Explain why you chose the automl settings and cofiguration you used below."
      ],
      "metadata": {}
    },
    {
      "cell_type": "code",
      "source": [
        "# Set the automl settings here\n",
        "automl_settings = {\n",
        "    \"experiment_timeout_minutes\": 20,\n",
        "    \"max_concurrent_iterations\": 5,\n",
        "    \"primary_metric\" : 'AUC_weighted'}\n",
        "\n",
        "# TODO: Put your automl config here\n",
        "automl_config = AutoMLConfig(compute_target=aml_compute,\n",
        "                             task = \"classification\",\n",
        "                             training_data=dataset,\n",
        "                             label_column_name=\"Class\",   \n",
        "                             enable_early_stopping= True,\n",
        "                             featurization= 'auto',\n",
        "                             debug_log = \"automl_errors.log\",\n",
        "                             **automl_settings)"
      ],
      "outputs": [],
      "execution_count": 10,
      "metadata": {
        "gather": {
          "logged": 1618665715270
        },
        "jupyter": {
          "outputs_hidden": false,
          "source_hidden": false
        },
        "nteract": {
          "transient": {
            "deleting": false
          }
        }
      }
    },
    {
      "cell_type": "code",
      "source": [
        "# Submit the experiment\n",
        "remote_run = exp.submit(automl_config)"
      ],
      "outputs": [
        {
          "output_type": "stream",
          "name": "stdout",
          "text": [
            "Submitting remote run.\n"
          ]
        },
        {
          "output_type": "display_data",
          "data": {
            "text/plain": "<IPython.core.display.HTML object>",
            "text/html": "<table style=\"width:100%\"><tr><th>Experiment</th><th>Id</th><th>Type</th><th>Status</th><th>Details Page</th><th>Docs Page</th></tr><tr><td>fraud_detection</td><td>AutoML_c308166a-0ee8-4ea9-bdb1-3c904aa67b91</td><td>automl</td><td>NotStarted</td><td><a href=\"https://ml.azure.com/runs/AutoML_c308166a-0ee8-4ea9-bdb1-3c904aa67b91?wsid=/subscriptions/81cefad3-d2c9-4f77-a466-99a7f541c7bb/resourcegroups/aml-quickstarts-142935/workspaces/quick-starts-ws-142935&amp;tid=660b3398-b80e-49d2-bc5b-ac1dc93b5254\" target=\"_blank\" rel=\"noopener\">Link to Azure Machine Learning studio</a></td><td><a href=\"https://docs.microsoft.com/en-us/python/api/overview/azure/ml/intro?view=azure-ml-py\" target=\"_blank\" rel=\"noopener\">Link to Documentation</a></td></tr></table>"
          },
          "metadata": {}
        }
      ],
      "execution_count": 11,
      "metadata": {
        "gather": {
          "logged": 1618665726003
        },
        "jupyter": {
          "outputs_hidden": false,
          "source_hidden": false
        },
        "nteract": {
          "transient": {
            "deleting": false
          }
        }
      }
    },
    {
      "cell_type": "markdown",
      "source": [
        "## Run Details\n",
        "\n",
        "OPTIONAL: Write about the different models trained and their performance. Why do you think some models did better than others?\n",
        "\n",
        "TODO: In the cell below, use the `RunDetails` widget to show the different experiments."
      ],
      "metadata": {}
    },
    {
      "cell_type": "code",
      "source": [
        "RunDetails(remote_run).show()"
      ],
      "outputs": [
        {
          "output_type": "display_data",
          "data": {
            "text/plain": "_AutoMLWidget(widget_settings={'childWidgetDisplay': 'popup', 'send_telemetry': False, 'log_level': 'INFO', 's…",
            "application/vnd.jupyter.widget-view+json": {
              "version_major": 2,
              "version_minor": 0,
              "model_id": "0a4f2dea1c104214a783175ace201a98"
            }
          },
          "metadata": {}
        },
        {
          "output_type": "display_data",
          "data": {
            "application/aml.mini.widget.v1": "{\"status\": \"Completed\", \"workbench_run_details_uri\": \"https://ml.azure.com/runs/AutoML_c308166a-0ee8-4ea9-bdb1-3c904aa67b91?wsid=/subscriptions/81cefad3-d2c9-4f77-a466-99a7f541c7bb/resourcegroups/aml-quickstarts-142935/workspaces/quick-starts-ws-142935&tid=660b3398-b80e-49d2-bc5b-ac1dc93b5254\", \"run_id\": \"AutoML_c308166a-0ee8-4ea9-bdb1-3c904aa67b91\", \"run_properties\": {\"run_id\": \"AutoML_c308166a-0ee8-4ea9-bdb1-3c904aa67b91\", \"created_utc\": \"2021-04-17T13:22:05.051037Z\", \"properties\": {\"num_iterations\": \"1000\", \"training_type\": \"TrainFull\", \"acquisition_function\": \"EI\", \"primary_metric\": \"AUC_weighted\", \"train_split\": \"0\", \"acquisition_parameter\": \"0\", \"num_cross_validation\": null, \"target\": \"compute-cluster\", \"AMLSettingsJsonString\": \"{\\\"path\\\":null,\\\"name\\\":\\\"fraud_detection\\\",\\\"subscription_id\\\":\\\"81cefad3-d2c9-4f77-a466-99a7f541c7bb\\\",\\\"resource_group\\\":\\\"aml-quickstarts-142935\\\",\\\"workspace_name\\\":\\\"quick-starts-ws-142935\\\",\\\"region\\\":\\\"southcentralus\\\",\\\"compute_target\\\":\\\"compute-cluster\\\",\\\"spark_service\\\":null,\\\"azure_service\\\":\\\"remote\\\",\\\"many_models\\\":false,\\\"pipeline_fetch_max_batch_size\\\":1,\\\"enable_batch_run\\\":false,\\\"enable_run_restructure\\\":false,\\\"iterations\\\":1000,\\\"primary_metric\\\":\\\"AUC_weighted\\\",\\\"task_type\\\":\\\"classification\\\",\\\"data_script\\\":null,\\\"test_size\\\":0.0,\\\"validation_size\\\":0.0,\\\"n_cross_validations\\\":null,\\\"y_min\\\":null,\\\"y_max\\\":null,\\\"num_classes\\\":null,\\\"featurization\\\":\\\"auto\\\",\\\"_ignore_package_version_incompatibilities\\\":false,\\\"is_timeseries\\\":false,\\\"max_cores_per_iteration\\\":1,\\\"max_concurrent_iterations\\\":5,\\\"iteration_timeout_minutes\\\":null,\\\"mem_in_mb\\\":null,\\\"enforce_time_on_windows\\\":false,\\\"experiment_timeout_minutes\\\":20,\\\"experiment_exit_score\\\":null,\\\"whitelist_models\\\":null,\\\"blacklist_algos\\\":[\\\"TensorFlowLinearClassifier\\\",\\\"TensorFlowDNN\\\"],\\\"supported_models\\\":[\\\"TensorFlowDNN\\\",\\\"ExtremeRandomTrees\\\",\\\"SVM\\\",\\\"DecisionTree\\\",\\\"BernoulliNaiveBayes\\\",\\\"MultinomialNaiveBayes\\\",\\\"LinearSVM\\\",\\\"RandomForest\\\",\\\"LightGBM\\\",\\\"SGD\\\",\\\"AveragedPerceptronClassifier\\\",\\\"GradientBoosting\\\",\\\"XGBoostClassifier\\\",\\\"TensorFlowLinearClassifier\\\",\\\"KNN\\\",\\\"LogisticRegression\\\"],\\\"private_models\\\":[],\\\"auto_blacklist\\\":true,\\\"blacklist_samples_reached\\\":false,\\\"exclude_nan_labels\\\":true,\\\"verbosity\\\":20,\\\"_debug_log\\\":\\\"azureml_automl.log\\\",\\\"show_warnings\\\":false,\\\"model_explainability\\\":true,\\\"service_url\\\":null,\\\"sdk_url\\\":null,\\\"sdk_packages\\\":null,\\\"enable_onnx_compatible_models\\\":false,\\\"enable_split_onnx_featurizer_estimator_models\\\":false,\\\"vm_type\\\":\\\"STANDARD_D2_V2\\\",\\\"telemetry_verbosity\\\":20,\\\"send_telemetry\\\":true,\\\"enable_dnn\\\":false,\\\"scenario\\\":\\\"SDK-1.13.0\\\",\\\"environment_label\\\":null,\\\"save_mlflow\\\":false,\\\"force_text_dnn\\\":false,\\\"enable_feature_sweeping\\\":true,\\\"enable_early_stopping\\\":true,\\\"early_stopping_n_iters\\\":10,\\\"metrics\\\":null,\\\"enable_metric_confidence\\\":false,\\\"enable_ensembling\\\":true,\\\"enable_stack_ensembling\\\":true,\\\"ensemble_iterations\\\":15,\\\"enable_tf\\\":false,\\\"enable_subsampling\\\":null,\\\"subsample_seed\\\":null,\\\"enable_nimbusml\\\":false,\\\"enable_streaming\\\":false,\\\"force_streaming\\\":false,\\\"track_child_runs\\\":true,\\\"allowed_private_models\\\":[],\\\"label_column_name\\\":\\\"Class\\\",\\\"weight_column_name\\\":null,\\\"cv_split_column_names\\\":null,\\\"enable_local_managed\\\":false,\\\"_local_managed_run_id\\\":null,\\\"cost_mode\\\":1,\\\"lag_length\\\":0,\\\"metric_operation\\\":\\\"maximize\\\",\\\"preprocess\\\":true}\", \"DataPrepJsonString\": \"{\\\\\\\"training_data\\\\\\\": {\\\\\\\"datasetId\\\\\\\": \\\\\\\"3bc2faa1-d5a6-4a27-ad4f-25f469fbe876\\\\\\\"}, \\\\\\\"datasets\\\\\\\": 0}\", \"EnableSubsampling\": null, \"runTemplate\": \"AutoML\", \"azureml.runsource\": \"automl\", \"display_task_type\": \"classification\", \"dependencies_versions\": \"{\\\"azureml-widgets\\\": \\\"1.26.0\\\", \\\"azureml-train\\\": \\\"1.26.0\\\", \\\"azureml-train-restclients-hyperdrive\\\": \\\"1.26.0\\\", \\\"azureml-train-core\\\": \\\"1.26.0\\\", \\\"azureml-train-automl\\\": \\\"1.26.0\\\", \\\"azureml-train-automl-runtime\\\": \\\"1.26.0\\\", \\\"azureml-train-automl-client\\\": \\\"1.26.0\\\", \\\"azureml-tensorboard\\\": \\\"1.26.0\\\", \\\"azureml-telemetry\\\": \\\"1.26.0\\\", \\\"azureml-sdk\\\": \\\"1.26.0\\\", \\\"azureml-samples\\\": \\\"0+unknown\\\", \\\"azureml-pipeline\\\": \\\"1.26.0\\\", \\\"azureml-pipeline-steps\\\": \\\"1.26.0\\\", \\\"azureml-pipeline-core\\\": \\\"1.26.0\\\", \\\"azureml-opendatasets\\\": \\\"1.26.0\\\", \\\"azureml-model-management-sdk\\\": \\\"1.0.1b6.post1\\\", \\\"azureml-mlflow\\\": \\\"1.26.0\\\", \\\"azureml-interpret\\\": \\\"1.26.0\\\", \\\"azureml-explain-model\\\": \\\"1.26.0\\\", \\\"azureml-defaults\\\": \\\"1.26.0\\\", \\\"azureml-dataset-runtime\\\": \\\"1.26.0\\\", \\\"azureml-dataprep\\\": \\\"2.13.2\\\", \\\"azureml-dataprep-rslex\\\": \\\"1.11.2\\\", \\\"azureml-dataprep-native\\\": \\\"32.0.0\\\", \\\"azureml-datadrift\\\": \\\"1.26.0\\\", \\\"azureml-core\\\": \\\"1.26.0\\\", \\\"azureml-contrib-services\\\": \\\"1.26.0\\\", \\\"azureml-contrib-server\\\": \\\"1.26.0\\\", \\\"azureml-contrib-reinforcementlearning\\\": \\\"1.26.0\\\", \\\"azureml-contrib-pipeline-steps\\\": \\\"1.26.0\\\", \\\"azureml-contrib-notebook\\\": \\\"1.26.0\\\", \\\"azureml-contrib-gbdt\\\": \\\"1.26.0\\\", \\\"azureml-contrib-fairness\\\": \\\"1.26.0\\\", \\\"azureml-contrib-dataset\\\": \\\"1.26.0\\\", \\\"azureml-cli-common\\\": \\\"1.26.0\\\", \\\"azureml-automl-runtime\\\": \\\"1.26.0\\\", \\\"azureml-automl-dnn-nlp\\\": \\\"1.26.0\\\", \\\"azureml-automl-core\\\": \\\"1.26.0\\\", \\\"azureml-accel-models\\\": \\\"1.26.0\\\"}\", \"_aml_system_scenario_identification\": \"Remote.Parent\", \"ClientType\": \"SDK\", \"environment_cpu_name\": \"AzureML-AutoML\", \"environment_cpu_label\": \"prod\", \"environment_gpu_name\": \"AzureML-AutoML-GPU\", \"environment_gpu_label\": \"prod\", \"root_attribution\": \"automl\", \"attribution\": \"AutoML\", \"Orchestrator\": \"AutoML\", \"CancelUri\": \"https://southcentralus.experiments.azureml.net/jasmine/v1.0/subscriptions/81cefad3-d2c9-4f77-a466-99a7f541c7bb/resourceGroups/aml-quickstarts-142935/providers/Microsoft.MachineLearningServices/workspaces/quick-starts-ws-142935/experimentids/b81e170a-9fcc-4c8a-a5ee-069f9b23e376/cancel/AutoML_c308166a-0ee8-4ea9-bdb1-3c904aa67b91\", \"ClientSdkVersion\": \"1.25.0\", \"snapshotId\": \"00000000-0000-0000-0000-000000000000\", \"SetupRunId\": \"AutoML_c308166a-0ee8-4ea9-bdb1-3c904aa67b91_setup\", \"SetupRunContainerId\": \"dcid.AutoML_c308166a-0ee8-4ea9-bdb1-3c904aa67b91_setup\", \"FeaturizationRunJsonPath\": \"featurizer_container.json\", \"FeaturizationRunId\": \"AutoML_c308166a-0ee8-4ea9-bdb1-3c904aa67b91_featurize\", \"ProblemInfoJsonString\": \"{\\\"dataset_num_categorical\\\": 0, \\\"is_sparse\\\": false, \\\"subsampling\\\": false, \\\"dataset_classes\\\": 2, \\\"dataset_features\\\": 30, \\\"dataset_samples\\\": 256326, \\\"single_frequency_class_detected\\\": false}\", \"ModelExplainRunId\": \"AutoML_c308166a-0ee8-4ea9-bdb1-3c904aa67b91_ModelExplain\"}, \"tags\": {\"model_explain_run\": \"best_run\", \"_aml_system_azureml.automlComponent\": \"AutoML\", \"pipeline_id\": \"\", \"score\": \"\", \"predicted_cost\": \"\", \"fit_time\": \"\", \"training_percent\": \"\", \"iteration\": \"\", \"run_preprocessor\": \"\", \"run_algorithm\": \"\", \"dynamic_whitelisting_iterations\": \"<25>;<30>;<35>;\", \"automl_best_child_run_id\": \"AutoML_c308166a-0ee8-4ea9-bdb1-3c904aa67b91_38\", \"model_explain_best_run_child_id\": \"AutoML_c308166a-0ee8-4ea9-bdb1-3c904aa67b91_38\"}, \"end_time_utc\": \"2021-04-17T13:53:25.661542Z\", \"status\": \"Completed\", \"log_files\": {}, \"log_groups\": [], \"run_duration\": \"0:31:20\", \"run_number\": \"2\", \"run_queued_details\": {\"status\": \"Completed\", \"details\": null}}, \"child_runs\": [{\"run_id\": \"AutoML_c308166a-0ee8-4ea9-bdb1-3c904aa67b91_0\", \"run_number\": 6, \"metric\": null, \"status\": \"Completed\", \"run_type\": \"azureml.scriptrun\", \"training_percent\": \"100\", \"start_time\": \"2021-04-17T13:31:07.138084Z\", \"end_time\": \"2021-04-17T13:32:09.962844Z\", \"created_time\": \"2021-04-17T13:30:55.530473Z\", \"created_time_dt\": \"2021-04-17T13:30:55.530473Z\", \"duration\": \"0:01:14\", \"iteration\": \"0\", \"goal\": \"AUC_weighted_max\", \"run_name\": \"MaxAbsScaler, LightGBM\", \"run_properties\": \"copy=True\", \"primary_metric\": 0.92515188, \"best_metric\": 0.92515188}, {\"run_id\": \"AutoML_c308166a-0ee8-4ea9-bdb1-3c904aa67b91_3\", \"run_number\": 7, \"metric\": null, \"status\": \"Completed\", \"run_type\": \"azureml.scriptrun\", \"training_percent\": \"100\", \"start_time\": \"2021-04-17T13:33:41.466627Z\", \"end_time\": \"2021-04-17T13:39:14.338058Z\", \"created_time\": \"2021-04-17T13:30:55.553625Z\", \"created_time_dt\": \"2021-04-17T13:30:55.553625Z\", \"duration\": \"0:08:18\", \"iteration\": \"3\", \"goal\": \"AUC_weighted_max\", \"run_name\": \"RobustScaler, ExtremeRandomTrees\", \"run_properties\": \"copy=True, quantile_range=[10, 90], with_centering=False,\\n             with_scaling=False\", \"primary_metric\": 0.95481091, \"best_metric\": 0.97354806}, {\"run_id\": \"AutoML_c308166a-0ee8-4ea9-bdb1-3c904aa67b91_4\", \"run_number\": 8, \"metric\": null, \"status\": \"Completed\", \"run_type\": \"azureml.scriptrun\", \"training_percent\": \"100\", \"start_time\": \"2021-04-17T13:33:35.017657Z\", \"end_time\": \"2021-04-17T13:39:12.379545Z\", \"created_time\": \"2021-04-17T13:30:55.564312Z\", \"created_time_dt\": \"2021-04-17T13:30:55.564312Z\", \"duration\": \"0:08:16\", \"iteration\": \"4\", \"goal\": \"AUC_weighted_max\", \"run_name\": \"MinMaxScaler, RandomForest\", \"run_properties\": \"copy=True, feature_range=(0, 1\", \"primary_metric\": 0.9822796, \"best_metric\": 0.9822796}, {\"run_id\": \"AutoML_c308166a-0ee8-4ea9-bdb1-3c904aa67b91_2\", \"run_number\": 9, \"metric\": null, \"status\": \"Completed\", \"run_type\": \"azureml.scriptrun\", \"training_percent\": \"100\", \"start_time\": \"2021-04-17T13:32:23.416784Z\", \"end_time\": \"2021-04-17T13:33:29.258363Z\", \"created_time\": \"2021-04-17T13:30:55.575979Z\", \"created_time_dt\": \"2021-04-17T13:30:55.575979Z\", \"duration\": \"0:02:33\", \"iteration\": \"2\", \"goal\": \"AUC_weighted_max\", \"run_name\": \"MinMaxScaler, RandomForest\", \"run_properties\": \"copy=True, feature_range=(0, 1\", \"primary_metric\": 0.95630714, \"best_metric\": 0.97354806}, {\"run_id\": \"AutoML_c308166a-0ee8-4ea9-bdb1-3c904aa67b91_1\", \"run_number\": 10, \"metric\": null, \"status\": \"Completed\", \"run_type\": \"azureml.scriptrun\", \"training_percent\": \"100\", \"start_time\": \"2021-04-17T13:33:37.053612Z\", \"end_time\": \"2021-04-17T13:37:30.445513Z\", \"created_time\": \"2021-04-17T13:30:56.145705Z\", \"created_time_dt\": \"2021-04-17T13:30:56.145705Z\", \"duration\": \"0:06:34\", \"iteration\": \"1\", \"goal\": \"AUC_weighted_max\", \"run_name\": \"MaxAbsScaler, XGBoostClassifier\", \"run_properties\": \"copy=True\", \"primary_metric\": 0.97354806, \"best_metric\": 0.97354806}, {\"run_id\": \"AutoML_c308166a-0ee8-4ea9-bdb1-3c904aa67b91_5\", \"run_number\": 11, \"metric\": null, \"status\": \"Completed\", \"run_type\": \"azureml.scriptrun\", \"training_percent\": \"100\", \"start_time\": \"2021-04-17T13:33:39.638912Z\", \"end_time\": \"2021-04-17T13:34:36.465363Z\", \"created_time\": \"2021-04-17T13:32:13.058379Z\", \"created_time_dt\": \"2021-04-17T13:32:13.058379Z\", \"duration\": \"0:02:23\", \"iteration\": \"5\", \"goal\": \"AUC_weighted_max\", \"run_name\": \"MinMaxScaler, RandomForest\", \"run_properties\": \"copy=True, feature_range=(0, 1\", \"primary_metric\": 0.96237101, \"best_metric\": 0.9822796}, {\"run_id\": \"AutoML_c308166a-0ee8-4ea9-bdb1-3c904aa67b91_6\", \"run_number\": 12, \"metric\": null, \"status\": \"Completed\", \"run_type\": \"azureml.scriptrun\", \"training_percent\": \"100\", \"start_time\": \"2021-04-17T13:34:50.39472Z\", \"end_time\": \"2021-04-17T13:36:01.94206Z\", \"created_time\": \"2021-04-17T13:33:32.93527Z\", \"created_time_dt\": \"2021-04-17T13:33:32.93527Z\", \"duration\": \"0:02:29\", \"iteration\": \"6\", \"goal\": \"AUC_weighted_max\", \"run_name\": \"StandardScalerWrapper, RandomForest\", \"run_properties\": \"<azureml.automl.runtime.shared.model_wrappers.StandardScalerWrapper object at 0x7fe1696633c8\", \"primary_metric\": 0.9557024, \"best_metric\": 0.9822796}, {\"run_id\": \"AutoML_c308166a-0ee8-4ea9-bdb1-3c904aa67b91_7\", \"run_number\": 13, \"metric\": null, \"status\": \"Completed\", \"run_type\": \"azureml.scriptrun\", \"training_percent\": \"100\", \"start_time\": \"2021-04-17T13:36:18.056008Z\", \"end_time\": \"2021-04-17T13:37:05.00781Z\", \"created_time\": \"2021-04-17T13:34:39.941956Z\", \"created_time_dt\": \"2021-04-17T13:34:39.941956Z\", \"duration\": \"0:02:25\", \"iteration\": \"7\", \"goal\": \"AUC_weighted_max\", \"run_name\": \"MinMaxScaler, ExtremeRandomTrees\", \"run_properties\": \"copy=True, feature_range=(0, 1\", \"primary_metric\": 0.95504706, \"best_metric\": 0.9822796}, {\"run_id\": \"AutoML_c308166a-0ee8-4ea9-bdb1-3c904aa67b91_8\", \"run_number\": 14, \"metric\": null, \"status\": \"Completed\", \"run_type\": \"azureml.scriptrun\", \"training_percent\": \"100\", \"start_time\": \"2021-04-17T13:37:21.739578Z\", \"end_time\": \"2021-04-17T13:38:11.703777Z\", \"created_time\": \"2021-04-17T13:36:05.482826Z\", \"created_time_dt\": \"2021-04-17T13:36:05.482826Z\", \"duration\": \"0:02:06\", \"iteration\": \"8\", \"goal\": \"AUC_weighted_max\", \"run_name\": \"MinMaxScaler, ExtremeRandomTrees\", \"run_properties\": \"copy=True, feature_range=(0, 1\", \"primary_metric\": 0.95343598, \"best_metric\": 0.9822796}, {\"run_id\": \"AutoML_c308166a-0ee8-4ea9-bdb1-3c904aa67b91_9\", \"run_number\": 15, \"metric\": null, \"status\": \"Completed\", \"run_type\": \"azureml.scriptrun\", \"training_percent\": \"100\", \"start_time\": \"2021-04-17T13:37:44.360555Z\", \"end_time\": \"2021-04-17T13:38:38.214727Z\", \"created_time\": \"2021-04-17T13:37:08.52673Z\", \"created_time_dt\": \"2021-04-17T13:37:08.52673Z\", \"duration\": \"0:01:29\", \"iteration\": \"9\", \"goal\": \"AUC_weighted_max\", \"run_name\": \"MinMaxScaler, ExtremeRandomTrees\", \"run_properties\": \"copy=True, feature_range=(0, 1\", \"primary_metric\": 0.94305927, \"best_metric\": 0.9822796}, {\"run_id\": \"AutoML_c308166a-0ee8-4ea9-bdb1-3c904aa67b91_10\", \"run_number\": 16, \"metric\": null, \"status\": \"Completed\", \"run_type\": \"azureml.scriptrun\", \"training_percent\": \"100\", \"start_time\": \"2021-04-17T13:38:25.003428Z\", \"end_time\": \"2021-04-17T13:39:13.299892Z\", \"created_time\": \"2021-04-17T13:37:34.197649Z\", \"created_time_dt\": \"2021-04-17T13:37:34.197649Z\", \"duration\": \"0:01:39\", \"iteration\": \"10\", \"goal\": \"AUC_weighted_max\", \"run_name\": \"RobustScaler, ExtremeRandomTrees\", \"run_properties\": \"copy=True, quantile_range=[10, 90], with_centering=True,\\n             with_scaling=False\", \"primary_metric\": 0.96226981, \"best_metric\": 0.9822796}, {\"run_id\": \"AutoML_c308166a-0ee8-4ea9-bdb1-3c904aa67b91_11\", \"run_number\": 17, \"metric\": null, \"status\": \"Completed\", \"run_type\": \"azureml.scriptrun\", \"training_percent\": \"100\", \"start_time\": \"2021-04-17T13:38:49.509117Z\", \"end_time\": \"2021-04-17T13:40:11.522393Z\", \"created_time\": \"2021-04-17T13:38:15.226326Z\", \"created_time_dt\": \"2021-04-17T13:38:15.226326Z\", \"duration\": \"0:01:56\", \"iteration\": \"11\", \"goal\": \"AUC_weighted_max\", \"run_name\": \"StandardScalerWrapper, RandomForest\", \"run_properties\": \"<azureml.automl.runtime.shared.model_wrappers.StandardScalerWrapper object at 0x7f89608d30b8\", \"primary_metric\": 0.97088901, \"best_metric\": 0.9822796}, {\"run_id\": \"AutoML_c308166a-0ee8-4ea9-bdb1-3c904aa67b91_12\", \"run_number\": 18, \"metric\": null, \"status\": \"Completed\", \"run_type\": \"azureml.scriptrun\", \"training_percent\": \"100\", \"start_time\": \"2021-04-17T13:39:23.221499Z\", \"end_time\": \"2021-04-17T13:40:11.562945Z\", \"created_time\": \"2021-04-17T13:38:41.466418Z\", \"created_time_dt\": \"2021-04-17T13:38:41.466418Z\", \"duration\": \"0:01:30\", \"iteration\": \"12\", \"goal\": \"AUC_weighted_max\", \"run_name\": \"StandardScalerWrapper, SGD\", \"run_properties\": \"<azureml.automl.runtime.shared.model_wrappers.StandardScalerWrapper object at 0x7fd5deacb6a0\", \"primary_metric\": 0.95337785, \"best_metric\": 0.9822796}, {\"run_id\": \"AutoML_c308166a-0ee8-4ea9-bdb1-3c904aa67b91_13\", \"run_number\": 19, \"metric\": null, \"status\": \"Completed\", \"run_type\": \"azureml.scriptrun\", \"training_percent\": \"100\", \"start_time\": \"2021-04-17T13:39:25.985616Z\", \"end_time\": \"2021-04-17T13:40:27.59102Z\", \"created_time\": \"2021-04-17T13:39:15.535621Z\", \"created_time_dt\": \"2021-04-17T13:39:15.535621Z\", \"duration\": \"0:01:12\", \"iteration\": \"13\", \"goal\": \"AUC_weighted_max\", \"run_name\": \"RobustScaler, RandomForest\", \"run_properties\": \"copy=True, quantile_range=[10, 90], with_centering=True,\\n             with_scaling=False\", \"primary_metric\": 0.96441779, \"best_metric\": 0.9822796}, {\"run_id\": \"AutoML_c308166a-0ee8-4ea9-bdb1-3c904aa67b91_14\", \"run_number\": 20, \"metric\": null, \"status\": \"Completed\", \"run_type\": \"azureml.scriptrun\", \"training_percent\": \"100\", \"start_time\": \"2021-04-17T13:39:29.929962Z\", \"end_time\": \"2021-04-17T13:40:24.468703Z\", \"created_time\": \"2021-04-17T13:39:21.39361Z\", \"created_time_dt\": \"2021-04-17T13:39:21.39361Z\", \"duration\": \"0:01:03\", \"iteration\": \"14\", \"goal\": \"AUC_weighted_max\", \"run_name\": \"MinMaxScaler, RandomForest\", \"run_properties\": \"copy=True, feature_range=(0, 1\", \"primary_metric\": 0.95472908, \"best_metric\": 0.9822796}, {\"run_id\": \"AutoML_c308166a-0ee8-4ea9-bdb1-3c904aa67b91_15\", \"run_number\": 21, \"metric\": null, \"status\": \"Completed\", \"run_type\": \"azureml.scriptrun\", \"training_percent\": \"100\", \"start_time\": \"2021-04-17T13:40:24.688241Z\", \"end_time\": \"2021-04-17T13:41:18.916847Z\", \"created_time\": \"2021-04-17T13:39:21.430484Z\", \"created_time_dt\": \"2021-04-17T13:39:21.430484Z\", \"duration\": \"0:01:57\", \"iteration\": \"15\", \"goal\": \"AUC_weighted_max\", \"run_name\": \"MinMaxScaler, ExtremeRandomTrees\", \"run_properties\": \"copy=True, feature_range=(0, 1\", \"primary_metric\": 0.94827544, \"best_metric\": 0.9822796}, {\"run_id\": \"AutoML_c308166a-0ee8-4ea9-bdb1-3c904aa67b91_16\", \"run_number\": 22, \"metric\": null, \"status\": \"Completed\", \"run_type\": \"azureml.scriptrun\", \"training_percent\": \"100\", \"start_time\": \"2021-04-17T13:40:25.46428Z\", \"end_time\": \"2021-04-17T13:41:38.026638Z\", \"created_time\": \"2021-04-17T13:40:14.840423Z\", \"created_time_dt\": \"2021-04-17T13:40:14.840423Z\", \"duration\": \"0:01:23\", \"iteration\": \"16\", \"goal\": \"AUC_weighted_max\", \"run_name\": \"MaxAbsScaler, RandomForest\", \"run_properties\": \"copy=True\", \"primary_metric\": 0.96773253, \"best_metric\": 0.9822796}, {\"run_id\": \"AutoML_c308166a-0ee8-4ea9-bdb1-3c904aa67b91_17\", \"run_number\": 23, \"metric\": null, \"status\": \"Completed\", \"run_type\": \"azureml.scriptrun\", \"training_percent\": \"100\", \"start_time\": \"2021-04-17T13:40:41.134943Z\", \"end_time\": \"2021-04-17T13:41:36.784955Z\", \"created_time\": \"2021-04-17T13:40:14.983033Z\", \"created_time_dt\": \"2021-04-17T13:40:14.983033Z\", \"duration\": \"0:01:21\", \"iteration\": \"17\", \"goal\": \"AUC_weighted_max\", \"run_name\": \"StandardScalerWrapper, XGBoostClassifier\", \"run_properties\": \"<azureml.automl.runtime.shared.model_wrappers.StandardScalerWrapper object at 0x7f5dcea79860\", \"primary_metric\": 0.97200661, \"best_metric\": 0.9822796}, {\"run_id\": \"AutoML_c308166a-0ee8-4ea9-bdb1-3c904aa67b91_18\", \"run_number\": 24, \"metric\": null, \"status\": \"Completed\", \"run_type\": \"azureml.scriptrun\", \"training_percent\": \"100\", \"start_time\": \"2021-04-17T13:40:44.213776Z\", \"end_time\": \"2021-04-17T13:41:42.727732Z\", \"created_time\": \"2021-04-17T13:40:28.379698Z\", \"created_time_dt\": \"2021-04-17T13:40:28.379698Z\", \"duration\": \"0:01:14\", \"iteration\": \"18\", \"goal\": \"AUC_weighted_max\", \"run_name\": \"MaxAbsScaler, RandomForest\", \"run_properties\": \"copy=True\", \"primary_metric\": 0.95056339, \"best_metric\": 0.9822796}, {\"run_id\": \"AutoML_c308166a-0ee8-4ea9-bdb1-3c904aa67b91_19\", \"run_number\": 25, \"metric\": null, \"status\": \"Completed\", \"run_type\": \"azureml.scriptrun\", \"training_percent\": \"100\", \"start_time\": \"2021-04-17T13:41:32.202737Z\", \"end_time\": \"2021-04-17T13:42:27.859051Z\", \"created_time\": \"2021-04-17T13:40:35.635512Z\", \"created_time_dt\": \"2021-04-17T13:40:35.635512Z\", \"duration\": \"0:01:52\", \"iteration\": \"19\", \"goal\": \"AUC_weighted_max\", \"run_name\": \"MaxAbsScaler, ExtremeRandomTrees\", \"run_properties\": \"copy=True\", \"primary_metric\": 0.95232377, \"best_metric\": 0.9822796}, {\"run_id\": \"AutoML_c308166a-0ee8-4ea9-bdb1-3c904aa67b91_20\", \"run_number\": 26, \"metric\": null, \"status\": \"Completed\", \"run_type\": \"azureml.scriptrun\", \"training_percent\": \"100\", \"start_time\": \"2021-04-17T13:41:50.840999Z\", \"end_time\": \"2021-04-17T13:42:39.432971Z\", \"created_time\": \"2021-04-17T13:41:22.286828Z\", \"created_time_dt\": \"2021-04-17T13:41:22.286828Z\", \"duration\": \"0:01:17\", \"iteration\": \"20\", \"goal\": \"AUC_weighted_max\", \"run_name\": \"MaxAbsScaler, ExtremeRandomTrees\", \"run_properties\": \"copy=True\", \"primary_metric\": 0.95759377, \"best_metric\": 0.9822796}, {\"run_id\": \"AutoML_c308166a-0ee8-4ea9-bdb1-3c904aa67b91_21\", \"run_number\": 27, \"metric\": null, \"status\": \"Completed\", \"run_type\": \"azureml.scriptrun\", \"training_percent\": \"100\", \"start_time\": \"2021-04-17T13:41:51.439093Z\", \"end_time\": \"2021-04-17T13:43:30.599529Z\", \"created_time\": \"2021-04-17T13:41:39.795653Z\", \"created_time_dt\": \"2021-04-17T13:41:39.795653Z\", \"duration\": \"0:01:50\", \"iteration\": \"21\", \"goal\": \"AUC_weighted_max\", \"run_name\": \"StandardScalerWrapper, XGBoostClassifier\", \"run_properties\": \"<azureml.automl.runtime.shared.model_wrappers.StandardScalerWrapper object at 0x7f3349d89550\", \"primary_metric\": 0.97583888, \"best_metric\": 0.9822796}, {\"run_id\": \"AutoML_c308166a-0ee8-4ea9-bdb1-3c904aa67b91_23\", \"run_number\": 28, \"metric\": null, \"status\": \"Completed\", \"run_type\": \"azureml.scriptrun\", \"training_percent\": \"100\", \"start_time\": \"2021-04-17T13:42:41.95357Z\", \"end_time\": \"2021-04-17T13:45:26.763502Z\", \"created_time\": \"2021-04-17T13:41:46.238815Z\", \"created_time_dt\": \"2021-04-17T13:41:46.238815Z\", \"duration\": \"0:03:40\", \"iteration\": \"23\", \"goal\": \"AUC_weighted_max\", \"run_name\": \"StandardScalerWrapper, XGBoostClassifier\", \"run_properties\": \"<azureml.automl.runtime.shared.model_wrappers.StandardScalerWrapper object at 0x7f13e8abee80\", \"primary_metric\": 0.97886077, \"best_metric\": 0.9822796}, {\"run_id\": \"AutoML_c308166a-0ee8-4ea9-bdb1-3c904aa67b91_22\", \"run_number\": 29, \"metric\": null, \"status\": \"Completed\", \"run_type\": \"azureml.scriptrun\", \"training_percent\": \"100\", \"start_time\": \"2021-04-17T13:41:56.860289Z\", \"end_time\": \"2021-04-17T13:43:22.808374Z\", \"created_time\": \"2021-04-17T13:41:46.268549Z\", \"created_time_dt\": \"2021-04-17T13:41:46.268549Z\", \"duration\": \"0:01:36\", \"iteration\": \"22\", \"goal\": \"AUC_weighted_max\", \"run_name\": \"StandardScalerWrapper, XGBoostClassifier\", \"run_properties\": \"<azureml.automl.runtime.shared.model_wrappers.StandardScalerWrapper object at 0x7f80189d3b00\", \"primary_metric\": 0.97361194, \"best_metric\": 0.9822796}, {\"run_id\": \"AutoML_c308166a-0ee8-4ea9-bdb1-3c904aa67b91_24\", \"run_number\": 30, \"metric\": null, \"status\": \"Canceled\", \"run_type\": \"azureml.scriptrun\", \"training_percent\": \"100\", \"start_time\": \"2021-04-17T13:42:55.056103Z\", \"end_time\": \"2021-04-17T13:48:45.167888Z\", \"created_time\": \"2021-04-17T13:42:30.029652Z\", \"created_time_dt\": \"2021-04-17T13:42:30.029652Z\", \"duration\": \"0:06:15\", \"iteration\": \"24\", \"goal\": null, \"run_name\": \"SparseNormalizer, XGBoostClassifier\", \"run_properties\": null}, {\"run_id\": \"AutoML_c308166a-0ee8-4ea9-bdb1-3c904aa67b91_25\", \"run_number\": 31, \"metric\": null, \"status\": \"Completed\", \"run_type\": \"azureml.scriptrun\", \"training_percent\": \"100\", \"start_time\": \"2021-04-17T13:43:41.785079Z\", \"end_time\": \"2021-04-17T13:44:38.393052Z\", \"created_time\": \"2021-04-17T13:42:43.757409Z\", \"created_time_dt\": \"2021-04-17T13:42:43.757409Z\", \"duration\": \"0:01:54\", \"iteration\": \"25\", \"goal\": \"AUC_weighted_max\", \"run_name\": \"MinMaxScaler, RandomForest\", \"run_properties\": \"copy=True, feature_range=(0, 1\", \"primary_metric\": 0.9655964, \"best_metric\": 0.9822796}, {\"run_id\": \"AutoML_c308166a-0ee8-4ea9-bdb1-3c904aa67b91_26\", \"run_number\": 32, \"metric\": null, \"status\": \"Completed\", \"run_type\": \"azureml.scriptrun\", \"training_percent\": \"100\", \"start_time\": \"2021-04-17T13:43:47.602167Z\", \"end_time\": \"2021-04-17T13:44:42.589469Z\", \"created_time\": \"2021-04-17T13:43:25.517766Z\", \"created_time_dt\": \"2021-04-17T13:43:25.517766Z\", \"duration\": \"0:01:17\", \"iteration\": \"26\", \"goal\": \"AUC_weighted_max\", \"run_name\": \"SparseNormalizer, XGBoostClassifier\", \"run_properties\": \"<azureml.automl.runtime.shared.model_wrappers.SparseNormalizer object at 0x7f7a3b8d0390\", \"primary_metric\": 0.95262093, \"best_metric\": 0.9822796}, {\"run_id\": \"AutoML_c308166a-0ee8-4ea9-bdb1-3c904aa67b91_27\", \"run_number\": 33, \"metric\": null, \"status\": \"Completed\", \"run_type\": \"azureml.scriptrun\", \"training_percent\": \"100\", \"start_time\": \"2021-04-17T13:44:53.497102Z\", \"end_time\": \"2021-04-17T13:45:47.829437Z\", \"created_time\": \"2021-04-17T13:43:33.491735Z\", \"created_time_dt\": \"2021-04-17T13:43:33.491735Z\", \"duration\": \"0:02:14\", \"iteration\": \"27\", \"goal\": \"AUC_weighted_max\", \"run_name\": \"SparseNormalizer, XGBoostClassifier\", \"run_properties\": \"<azureml.automl.runtime.shared.model_wrappers.SparseNormalizer object at 0x7ffa8455ceb8\", \"primary_metric\": 0.95523368, \"best_metric\": 0.9822796}, {\"run_id\": \"AutoML_c308166a-0ee8-4ea9-bdb1-3c904aa67b91_28\", \"run_number\": 34, \"metric\": null, \"status\": \"Completed\", \"run_type\": \"azureml.scriptrun\", \"training_percent\": \"100\", \"start_time\": \"2021-04-17T13:44:59.774055Z\", \"end_time\": \"2021-04-17T13:46:07.945367Z\", \"created_time\": \"2021-04-17T13:44:40.218641Z\", \"created_time_dt\": \"2021-04-17T13:44:40.218641Z\", \"duration\": \"0:01:27\", \"iteration\": \"28\", \"goal\": \"AUC_weighted_max\", \"run_name\": \"TruncatedSVDWrapper, XGBoostClassifier\", \"run_properties\": \"n_components=0.6036842105263158, random_state=None\", \"primary_metric\": 0.95545476, \"best_metric\": 0.9822796}, {\"run_id\": \"AutoML_c308166a-0ee8-4ea9-bdb1-3c904aa67b91_29\", \"run_number\": 35, \"metric\": null, \"status\": \"Completed\", \"run_type\": \"azureml.scriptrun\", \"training_percent\": \"100\", \"start_time\": \"2021-04-17T13:45:40.667724Z\", \"end_time\": \"2021-04-17T13:46:33.457302Z\", \"created_time\": \"2021-04-17T13:44:44.381324Z\", \"created_time_dt\": \"2021-04-17T13:44:44.381324Z\", \"duration\": \"0:01:49\", \"iteration\": \"29\", \"goal\": \"AUC_weighted_max\", \"run_name\": \"SparseNormalizer, XGBoostClassifier\", \"run_properties\": \"<azureml.automl.runtime.shared.model_wrappers.SparseNormalizer object at 0x7f439f762a20\", \"primary_metric\": 0.97464771, \"best_metric\": 0.9822796}, {\"run_id\": \"AutoML_c308166a-0ee8-4ea9-bdb1-3c904aa67b91_30\", \"run_number\": 36, \"metric\": null, \"status\": \"Completed\", \"run_type\": \"azureml.scriptrun\", \"training_percent\": \"100\", \"start_time\": \"2021-04-17T13:46:03.496312Z\", \"end_time\": \"2021-04-17T13:47:06.839399Z\", \"created_time\": \"2021-04-17T13:45:29.384041Z\", \"created_time_dt\": \"2021-04-17T13:45:29.384041Z\", \"duration\": \"0:01:37\", \"iteration\": \"30\", \"goal\": \"AUC_weighted_max\", \"run_name\": \"StandardScalerWrapper, RandomForest\", \"run_properties\": \"<azureml.automl.runtime.shared.model_wrappers.StandardScalerWrapper object at 0x7f52a86497b8\", \"primary_metric\": 0.96959843, \"best_metric\": 0.9822796}, {\"run_id\": \"AutoML_c308166a-0ee8-4ea9-bdb1-3c904aa67b91_31\", \"run_number\": 37, \"metric\": null, \"status\": \"Completed\", \"run_type\": \"azureml.scriptrun\", \"training_percent\": \"100\", \"start_time\": \"2021-04-17T13:46:21.575017Z\", \"end_time\": \"2021-04-17T13:47:23.77541Z\", \"created_time\": \"2021-04-17T13:45:50.119773Z\", \"created_time_dt\": \"2021-04-17T13:45:50.119773Z\", \"duration\": \"0:01:33\", \"iteration\": \"31\", \"goal\": \"AUC_weighted_max\", \"run_name\": \"StandardScalerWrapper, LightGBM\", \"run_properties\": \"<azureml.automl.runtime.shared.model_wrappers.StandardScalerWrapper object at 0x7fc2529287f0\", \"primary_metric\": 0.97929252, \"best_metric\": 0.9822796}, {\"run_id\": \"AutoML_c308166a-0ee8-4ea9-bdb1-3c904aa67b91_32\", \"run_number\": 38, \"metric\": null, \"status\": \"Completed\", \"run_type\": \"azureml.scriptrun\", \"training_percent\": \"100\", \"start_time\": \"2021-04-17T13:46:49.224639Z\", \"end_time\": \"2021-04-17T13:47:51.636558Z\", \"created_time\": \"2021-04-17T13:46:09.619373Z\", \"created_time_dt\": \"2021-04-17T13:46:09.619373Z\", \"duration\": \"0:01:42\", \"iteration\": \"32\", \"goal\": \"AUC_weighted_max\", \"run_name\": \"MinMaxScaler, LightGBM\", \"run_properties\": \"copy=True, feature_range=(0, 1\", \"primary_metric\": 0.97436203, \"best_metric\": 0.9822796}, {\"run_id\": \"AutoML_c308166a-0ee8-4ea9-bdb1-3c904aa67b91_33\", \"run_number\": 39, \"metric\": null, \"status\": \"Completed\", \"run_type\": \"azureml.scriptrun\", \"training_percent\": \"100\", \"start_time\": \"2021-04-17T13:47:18.850953Z\", \"end_time\": \"2021-04-17T13:48:33.550761Z\", \"created_time\": \"2021-04-17T13:46:35.247769Z\", \"created_time_dt\": \"2021-04-17T13:46:35.247769Z\", \"duration\": \"0:01:58\", \"iteration\": \"33\", \"goal\": \"AUC_weighted_max\", \"run_name\": \"MaxAbsScaler, LogisticRegression\", \"run_properties\": \"copy=True\", \"primary_metric\": 0.94825104, \"best_metric\": 0.9822796}, {\"run_id\": \"AutoML_c308166a-0ee8-4ea9-bdb1-3c904aa67b91_34\", \"run_number\": 40, \"metric\": null, \"status\": \"Completed\", \"run_type\": \"azureml.scriptrun\", \"training_percent\": \"100\", \"start_time\": \"2021-04-17T13:47:37.725503Z\", \"end_time\": \"2021-04-17T13:48:35.097143Z\", \"created_time\": \"2021-04-17T13:47:09.626283Z\", \"created_time_dt\": \"2021-04-17T13:47:09.626283Z\", \"duration\": \"0:01:25\", \"iteration\": \"34\", \"goal\": \"AUC_weighted_max\", \"run_name\": \"RobustScaler, LightGBM\", \"run_properties\": \"copy=True, quantile_range=[25, 75], with_centering=False,\\n             with_scaling=True\", \"primary_metric\": 0.9779158, \"best_metric\": 0.9822796}, {\"run_id\": \"AutoML_c308166a-0ee8-4ea9-bdb1-3c904aa67b91_35\", \"run_number\": 41, \"metric\": null, \"status\": \"Canceled\", \"run_type\": \"azureml.scriptrun\", \"training_percent\": \"100\", \"start_time\": \"2021-04-17T13:48:06.120498Z\", \"end_time\": \"2021-04-17T13:48:44.777701Z\", \"created_time\": \"2021-04-17T13:47:26.270465Z\", \"created_time_dt\": \"2021-04-17T13:47:26.270465Z\", \"duration\": \"0:01:18\", \"iteration\": \"35\", \"goal\": \"AUC_weighted_max\", \"run_name\": \"StandardScalerWrapper, RandomForest\", \"run_properties\": \"<azureml.automl.runtime.shared.model_wrappers.StandardScalerWrapper object at 0x7fe3b0832cc0\", \"primary_metric\": 0.95480983, \"best_metric\": 0.9822796}, {\"run_id\": \"AutoML_c308166a-0ee8-4ea9-bdb1-3c904aa67b91_36\", \"run_number\": 42, \"metric\": null, \"status\": \"Canceled\", \"run_type\": \"azureml.scriptrun\", \"training_percent\": \"100\", \"start_time\": \"2021-04-17T13:47:53.434225Z\", \"end_time\": \"2021-04-17T13:48:44.784281Z\", \"created_time\": \"2021-04-17T13:47:53.434225Z\", \"created_time_dt\": \"2021-04-17T13:47:53.434225Z\", \"duration\": \"0:00:51\", \"iteration\": \"36\", \"goal\": null, \"run_name\": \"Canceled\", \"run_properties\": null}, {\"run_id\": \"AutoML_c308166a-0ee8-4ea9-bdb1-3c904aa67b91_37\", \"run_number\": 43, \"metric\": null, \"status\": \"Canceled\", \"run_type\": \"azureml.scriptrun\", \"training_percent\": \"100\", \"start_time\": \"2021-04-17T13:48:36.036812Z\", \"end_time\": \"2021-04-17T13:48:40.508132Z\", \"created_time\": \"2021-04-17T13:48:36.036812Z\", \"created_time_dt\": \"2021-04-17T13:48:36.036812Z\", \"duration\": \"0:00:04\", \"iteration\": \"37\", \"goal\": null, \"run_name\": \"Canceled\", \"run_properties\": null}, {\"run_id\": \"AutoML_c308166a-0ee8-4ea9-bdb1-3c904aa67b91_38\", \"run_number\": 44, \"metric\": null, \"status\": \"Completed\", \"run_type\": \"azureml.scriptrun\", \"training_percent\": \"100\", \"start_time\": \"2021-04-17T13:48:58.243515Z\", \"end_time\": \"2021-04-17T13:50:19.207764Z\", \"created_time\": \"2021-04-17T13:48:46.013642Z\", \"created_time_dt\": \"2021-04-17T13:48:46.013642Z\", \"duration\": \"0:01:33\", \"iteration\": \"38\", \"goal\": \"AUC_weighted_max\", \"run_name\": \"VotingEnsemble\", \"run_properties\": \"classification_labels=None,\\n                              estimators=[('4',\\n                                           Pipeline(memory=None,\\n                                                    steps=[('minmaxscaler',\\n                                                            MinMaxScaler(copy=True,\\n                                                                         feature_range=(0,\\n                                                                                        1\", \"primary_metric\": 0.98741573, \"best_metric\": 0.98741573}, {\"run_id\": \"AutoML_c308166a-0ee8-4ea9-bdb1-3c904aa67b91_39\", \"run_number\": 45, \"metric\": null, \"status\": \"Completed\", \"run_type\": \"azureml.scriptrun\", \"training_percent\": \"100\", \"start_time\": \"2021-04-17T13:48:56.164247Z\", \"end_time\": \"2021-04-17T13:53:20.202475Z\", \"created_time\": \"2021-04-17T13:48:46.037939Z\", \"created_time_dt\": \"2021-04-17T13:48:46.037939Z\", \"duration\": \"0:04:34\", \"iteration\": \"39\", \"goal\": \"AUC_weighted_max\", \"run_name\": \"StackEnsemble\", \"run_properties\": \"base_learners=[('4',\\n                                        Pipeline(memory=None,\\n                                                 steps=[('minmaxscaler',\\n                                                         MinMaxScaler(copy=True,\\n                                                                      feature_range=(0,\\n                                                                                     1\", \"primary_metric\": 0.98600743, \"best_metric\": 0.98741573}], \"children_metrics\": {\"categories\": [0], \"series\": {\"norm_macro_recall\": [{\"categories\": [\"0\", \"1\", \"2\", \"3\", \"4\", \"5\", \"6\", \"7\", \"8\", \"9\", \"10\", \"11\", \"12\", \"13\", \"14\", \"15\", \"16\", \"17\", \"18\", \"19\", \"20\", \"21\", \"22\", \"23\", \"25\", \"26\", \"27\", \"28\", \"29\", \"30\", \"31\", \"32\", \"33\", \"34\", \"35\", \"38\", \"39\"], \"mode\": \"markers\", \"name\": \"norm_macro_recall\", \"stepped\": false, \"type\": \"scatter\", \"data\": [0.8364533207768194, 0.8911358859807288, 0.8619520402420957, 0.8659092083653945, 0.8300427514843867, 0.8803116350648308, 0.8766099996554615, 0.8553311589126364, 0.8607389776394521, 0.7728895581868089, 0.8439183214084733, 0.24247326955543058, 0.8440762348833737, 0.6896813593191919, 0.827712809941084, 0.0, 0.0, 0.8468727389661548, 0.8680984633583315, 0.0, 0.0, 0.8560525363775222, 0.8559118498271565, 0.8363829775016365, 0.4159749577940348, 0.8526057158935605, 0.8706925510778312, 0.853590521746121, 0.8768210294810102, 0.8377718982922375, 0.8961302585187143, 0.8899752219402111, 0.85621906331469, 0.8950751093909708, 0.8460982451506207, 0.0, 0.889491432476198]}, {\"categories\": [\"0\", \"1\", \"2\", \"3\", \"4\", \"5\", \"6\", \"7\", \"8\", \"9\", \"10\", \"11\", \"12\", \"13\", \"14\", \"15\", \"16\", \"17\", \"18\", \"19\", \"20\", \"21\", \"22\", \"23\", \"25\", \"26\", \"27\", \"28\", \"29\", \"30\", \"31\", \"32\", \"33\", \"34\", \"35\", \"38\", \"39\"], \"mode\": \"lines\", \"name\": \"norm_macro_recall_max\", \"stepped\": true, \"type\": \"scatter\", \"data\": [0.8364533207768194, 0.8911358859807288, 0.8911358859807288, 0.8911358859807288, 0.8911358859807288, 0.8911358859807288, 0.8911358859807288, 0.8911358859807288, 0.8911358859807288, 0.8911358859807288, 0.8911358859807288, 0.8911358859807288, 0.8911358859807288, 0.8911358859807288, 0.8911358859807288, 0.8911358859807288, 0.8911358859807288, 0.8911358859807288, 0.8911358859807288, 0.8911358859807288, 0.8911358859807288, 0.8911358859807288, 0.8911358859807288, 0.8911358859807288, 0.8911358859807288, 0.8911358859807288, 0.8911358859807288, 0.8911358859807288, 0.8911358859807288, 0.8911358859807288, 0.8961302585187143, 0.8961302585187143, 0.8961302585187143, 0.8961302585187143, 0.8961302585187143, 0.8961302585187143, 0.8961302585187143]}], \"recall_score_micro\": [{\"categories\": [\"0\", \"1\", \"2\", \"3\", \"4\", \"5\", \"6\", \"7\", \"8\", \"9\", \"10\", \"11\", \"12\", \"13\", \"14\", \"15\", \"16\", \"17\", \"18\", \"19\", \"20\", \"21\", \"22\", \"23\", \"25\", \"26\", \"27\", \"28\", \"29\", \"30\", \"31\", \"32\", \"33\", \"34\", \"35\", \"38\", \"39\"], \"mode\": \"markers\", \"name\": \"recall_score_micro\", \"stepped\": false, \"type\": \"scatter\", \"data\": [0.9994382219725431, 0.9930128857835048, 0.9435413082405815, 0.988167550296689, 0.932024858677715, 0.9618693163863629, 0.9785119904497735, 0.9572697587865595, 0.9830062146694287, 0.9563217583652259, 0.9865524384677504, 0.24377655278957902, 0.9460341982374214, 0.7715670095853376, 0.9500368666830519, 0.0017204452090867595, 0.0017204452090867595, 0.9895017731118991, 0.9700150977844879, 0.0017204452090867595, 0.0017204452090867595, 0.9986657771847899, 0.9985253326779256, 0.9993679997191109, 0.4169797408798848, 0.9952248867666164, 0.9929426635300727, 0.9962079983146659, 0.9787226572100699, 0.960078648923844, 0.9979986657771848, 0.991854218601875, 0.9378181945858642, 0.9969453319757031, 0.9073768477230434, 0.0017204452090867595, 0.9710333204592535]}, {\"categories\": [\"0\", \"1\", \"2\", \"3\", \"4\", \"5\", \"6\", \"7\", \"8\", \"9\", \"10\", \"11\", \"12\", \"13\", \"14\", \"15\", \"16\", \"17\", \"18\", \"19\", \"20\", \"21\", \"22\", \"23\", \"25\", \"26\", \"27\", \"28\", \"29\", \"30\", \"31\", \"32\", \"33\", \"34\", \"35\", \"38\", \"39\"], \"mode\": \"lines\", \"name\": \"recall_score_micro_max\", \"stepped\": true, \"type\": \"scatter\", \"data\": [0.9994382219725431, 0.9994382219725431, 0.9994382219725431, 0.9994382219725431, 0.9994382219725431, 0.9994382219725431, 0.9994382219725431, 0.9994382219725431, 0.9994382219725431, 0.9994382219725431, 0.9994382219725431, 0.9994382219725431, 0.9994382219725431, 0.9994382219725431, 0.9994382219725431, 0.9994382219725431, 0.9994382219725431, 0.9994382219725431, 0.9994382219725431, 0.9994382219725431, 0.9994382219725431, 0.9994382219725431, 0.9994382219725431, 0.9994382219725431, 0.9994382219725431, 0.9994382219725431, 0.9994382219725431, 0.9994382219725431, 0.9994382219725431, 0.9994382219725431, 0.9994382219725431, 0.9994382219725431, 0.9994382219725431, 0.9994382219725431, 0.9994382219725431, 0.9994382219725431, 0.9994382219725431]}], \"precision_score_macro\": [{\"categories\": [\"0\", \"1\", \"2\", \"3\", \"4\", \"5\", \"6\", \"7\", \"8\", \"9\", \"10\", \"11\", \"12\", \"13\", \"14\", \"15\", \"16\", \"17\", \"18\", \"19\", \"20\", \"21\", \"22\", \"23\", \"25\", \"26\", \"27\", \"28\", \"29\", \"30\", \"31\", \"32\", \"33\", \"34\", \"35\", \"38\", \"39\"], \"mode\": \"markers\", \"name\": \"precision_score_macro\", \"stepped\": false, \"type\": \"scatter\", \"data\": [0.9182266603884097, 0.5923484572811528, 0.5135700952457408, 0.5573798960389907, 0.5110449222387671, 0.5198913920928528, 0.5337043317089218, 0.5174240962023243, 0.5411594984883807, 0.515520869819662, 0.550114515068369, 0.5011349423264001, 0.5138664713312586, 0.5033455059208201, 0.5146150026387392, 0.0008602226045433798, 0.0008602226045433798, 0.5627499043196869, 0.5245454391209252, 0.0008602226045433798, 0.0008602226045433798, 0.7875480281456506, 0.7726040506458758, 0.9018200878663107, 0.5014711180497178, 0.6226833863181443, 0.5902299134432656, 0.6467296377840523, 0.5340187153772205, 0.518203596322189, 0.7290785919793318, 0.5810921907517551, 0.5123422251049722, 0.6745150067315471, 0.5085207489395661, 0.0008602226045433798, 0.5259090998423975]}, {\"categories\": [\"0\", \"1\", \"2\", \"3\", \"4\", \"5\", \"6\", \"7\", \"8\", \"9\", \"10\", \"11\", \"12\", \"13\", \"14\", \"15\", \"16\", \"17\", \"18\", \"19\", \"20\", \"21\", \"22\", \"23\", \"25\", \"26\", \"27\", \"28\", \"29\", \"30\", \"31\", \"32\", \"33\", \"34\", \"35\", \"38\", \"39\"], \"mode\": \"lines\", \"name\": \"precision_score_macro_max\", \"stepped\": true, \"type\": \"scatter\", \"data\": [0.9182266603884097, 0.9182266603884097, 0.9182266603884097, 0.9182266603884097, 0.9182266603884097, 0.9182266603884097, 0.9182266603884097, 0.9182266603884097, 0.9182266603884097, 0.9182266603884097, 0.9182266603884097, 0.9182266603884097, 0.9182266603884097, 0.9182266603884097, 0.9182266603884097, 0.9182266603884097, 0.9182266603884097, 0.9182266603884097, 0.9182266603884097, 0.9182266603884097, 0.9182266603884097, 0.9182266603884097, 0.9182266603884097, 0.9182266603884097, 0.9182266603884097, 0.9182266603884097, 0.9182266603884097, 0.9182266603884097, 0.9182266603884097, 0.9182266603884097, 0.9182266603884097, 0.9182266603884097, 0.9182266603884097, 0.9182266603884097, 0.9182266603884097, 0.9182266603884097, 0.9182266603884097]}], \"f1_score_micro\": [{\"categories\": [\"0\", \"1\", \"2\", \"3\", \"4\", \"5\", \"6\", \"7\", \"8\", \"9\", \"10\", \"11\", \"12\", \"13\", \"14\", \"15\", \"16\", \"17\", \"18\", \"19\", \"20\", \"21\", \"22\", \"23\", \"25\", \"26\", \"27\", \"28\", \"29\", \"30\", \"31\", \"32\", \"33\", \"34\", \"35\", \"38\", \"39\"], \"mode\": \"markers\", \"name\": \"f1_score_micro\", \"stepped\": false, \"type\": \"scatter\", \"data\": [0.9994382219725431, 0.9930128857835048, 0.9435413082405815, 0.988167550296689, 0.932024858677715, 0.9618693163863629, 0.9785119904497735, 0.9572697587865595, 0.9830062146694287, 0.9563217583652259, 0.9865524384677504, 0.24377655278957902, 0.9460341982374214, 0.7715670095853376, 0.9500368666830519, 0.0017204452090867595, 0.0017204452090867595, 0.9895017731118991, 0.9700150977844879, 0.0017204452090867595, 0.0017204452090867595, 0.9986657771847899, 0.9985253326779256, 0.9993679997191109, 0.4169797408798848, 0.9952248867666164, 0.9929426635300727, 0.9962079983146659, 0.9787226572100699, 0.960078648923844, 0.9979986657771848, 0.991854218601875, 0.9378181945858642, 0.9969453319757031, 0.9073768477230434, 0.0017204452090867595, 0.9710333204592535]}, {\"categories\": [\"0\", \"1\", \"2\", \"3\", \"4\", \"5\", \"6\", \"7\", \"8\", \"9\", \"10\", \"11\", \"12\", \"13\", \"14\", \"15\", \"16\", \"17\", \"18\", \"19\", \"20\", \"21\", \"22\", \"23\", \"25\", \"26\", \"27\", \"28\", \"29\", \"30\", \"31\", \"32\", \"33\", \"34\", \"35\", \"38\", \"39\"], \"mode\": \"lines\", \"name\": \"f1_score_micro_max\", \"stepped\": true, \"type\": \"scatter\", \"data\": [0.9994382219725431, 0.9994382219725431, 0.9994382219725431, 0.9994382219725431, 0.9994382219725431, 0.9994382219725431, 0.9994382219725431, 0.9994382219725431, 0.9994382219725431, 0.9994382219725431, 0.9994382219725431, 0.9994382219725431, 0.9994382219725431, 0.9994382219725431, 0.9994382219725431, 0.9994382219725431, 0.9994382219725431, 0.9994382219725431, 0.9994382219725431, 0.9994382219725431, 0.9994382219725431, 0.9994382219725431, 0.9994382219725431, 0.9994382219725431, 0.9994382219725431, 0.9994382219725431, 0.9994382219725431, 0.9994382219725431, 0.9994382219725431, 0.9994382219725431, 0.9994382219725431, 0.9994382219725431, 0.9994382219725431, 0.9994382219725431, 0.9994382219725431, 0.9994382219725431, 0.9994382219725431]}], \"f1_score_macro\": [{\"categories\": [\"0\", \"1\", \"2\", \"3\", \"4\", \"5\", \"6\", \"7\", \"8\", \"9\", \"10\", \"11\", \"12\", \"13\", \"14\", \"15\", \"16\", \"17\", \"18\", \"19\", \"20\", \"21\", \"22\", \"23\", \"25\", \"26\", \"27\", \"28\", \"29\", \"30\", \"31\", \"32\", \"33\", \"34\", \"35\", \"38\", \"39\"], \"mode\": \"markers\", \"name\": \"f1_score_macro\", \"stepped\": false, \"type\": \"scatter\", \"data\": [0.9182266603884097, 0.651554480356701, 0.5119534170450197, 0.5986746026101274, 0.5041192680444517, 0.5285316811986329, 0.5574183031429485, 0.522783438820025, 0.5711472076417459, 0.5190320706066155, 0.5865460796686068, 0.19741845509287306, 0.5131892891249561, 0.4422350950171488, 0.515665007066265, 0.0017174903610234842, 0.0017174903610234842, 0.6070182512891122, 0.5390868517537337, 0.0017174903610234842, 0.0017174903610234842, 0.8439280234422768, 0.8329638492035564, 0.9098417220639443, 0.2967064257257909, 0.6897106840852214, 0.6480525153351603, 0.7177987933767835, 0.5580156328841246, 0.5249601221509014, 0.802946665428572, 0.6354520497157587, 0.5081100593535621, 0.7506625510365803, 0.49252838301001745, 0.0017174903610234842, 0.541820433494488]}, {\"categories\": [\"0\", \"1\", \"2\", \"3\", \"4\", \"5\", \"6\", \"7\", \"8\", \"9\", \"10\", \"11\", \"12\", \"13\", \"14\", \"15\", \"16\", \"17\", \"18\", \"19\", \"20\", \"21\", \"22\", \"23\", \"25\", \"26\", \"27\", \"28\", \"29\", \"30\", \"31\", \"32\", \"33\", \"34\", \"35\", \"38\", \"39\"], \"mode\": \"lines\", \"name\": \"f1_score_macro_max\", \"stepped\": true, \"type\": \"scatter\", \"data\": [0.9182266603884097, 0.9182266603884097, 0.9182266603884097, 0.9182266603884097, 0.9182266603884097, 0.9182266603884097, 0.9182266603884097, 0.9182266603884097, 0.9182266603884097, 0.9182266603884097, 0.9182266603884097, 0.9182266603884097, 0.9182266603884097, 0.9182266603884097, 0.9182266603884097, 0.9182266603884097, 0.9182266603884097, 0.9182266603884097, 0.9182266603884097, 0.9182266603884097, 0.9182266603884097, 0.9182266603884097, 0.9182266603884097, 0.9182266603884097, 0.9182266603884097, 0.9182266603884097, 0.9182266603884097, 0.9182266603884097, 0.9182266603884097, 0.9182266603884097, 0.9182266603884097, 0.9182266603884097, 0.9182266603884097, 0.9182266603884097, 0.9182266603884097, 0.9182266603884097, 0.9182266603884097]}], \"weighted_accuracy\": [{\"categories\": [\"0\", \"1\", \"2\", \"3\", \"4\", \"5\", \"6\", \"7\", \"8\", \"9\", \"10\", \"11\", \"12\", \"13\", \"14\", \"15\", \"16\", \"17\", \"18\", \"19\", \"20\", \"21\", \"22\", \"23\", \"25\", \"26\", \"27\", \"28\", \"29\", \"30\", \"31\", \"32\", \"33\", \"34\", \"35\", \"38\", \"39\"], \"mode\": \"markers\", \"name\": \"weighted_accuracy\", \"stepped\": false, \"type\": \"scatter\", \"data\": [0.999718142815141, 0.9931764194984659, 0.9435846184044214, 0.988357858845091, 0.9320834664569222, 0.9619441586966987, 0.978650576317028, 0.9573717987752124, 0.9831876434754266, 0.9565626110533706, 0.986775079239397, 0.2424755195113591, 0.9461169081745826, 0.7713144491485311, 0.9501615738692035, 2.9701340404421287e-06, 2.9701340404421287e-06, 0.9897294880220623, 0.9701390653003019, 2.9701340404421287e-06, 2.9701340404421287e-06, 0.9989092581682011, 0.9987685720356932, 0.999647799748887, 0.41597669242669316, 0.9954624479217581, 0.9931411873503587, 0.9964472508493133, 0.97886160551579, 0.9602206323435164, 0.9981707772024956, 0.9920157589052762, 0.9378516585047254, 0.9971156312086864, 0.9073228283654976, 2.9701340404421287e-06, 0.9711239288428375]}, {\"categories\": [\"0\", \"1\", \"2\", \"3\", \"4\", \"5\", \"6\", \"7\", \"8\", \"9\", \"10\", \"11\", \"12\", \"13\", \"14\", \"15\", \"16\", \"17\", \"18\", \"19\", \"20\", \"21\", \"22\", \"23\", \"25\", \"26\", \"27\", \"28\", \"29\", \"30\", \"31\", \"32\", \"33\", \"34\", \"35\", \"38\", \"39\"], \"mode\": \"lines\", \"name\": \"weighted_accuracy_max\", \"stepped\": true, \"type\": \"scatter\", \"data\": [0.999718142815141, 0.999718142815141, 0.999718142815141, 0.999718142815141, 0.999718142815141, 0.999718142815141, 0.999718142815141, 0.999718142815141, 0.999718142815141, 0.999718142815141, 0.999718142815141, 0.999718142815141, 0.999718142815141, 0.999718142815141, 0.999718142815141, 0.999718142815141, 0.999718142815141, 0.999718142815141, 0.999718142815141, 0.999718142815141, 0.999718142815141, 0.999718142815141, 0.999718142815141, 0.999718142815141, 0.999718142815141, 0.999718142815141, 0.999718142815141, 0.999718142815141, 0.999718142815141, 0.999718142815141, 0.999718142815141, 0.999718142815141, 0.999718142815141, 0.999718142815141, 0.999718142815141, 0.999718142815141, 0.999718142815141]}], \"AUC_micro\": [{\"categories\": [\"0\", \"1\", \"2\", \"3\", \"4\", \"5\", \"6\", \"7\", \"8\", \"9\", \"10\", \"11\", \"12\", \"13\", \"14\", \"15\", \"16\", \"17\", \"18\", \"19\", \"20\", \"21\", \"22\", \"23\", \"25\", \"26\", \"27\", \"28\", \"29\", \"30\", \"31\", \"32\", \"33\", \"34\", \"35\", \"38\", \"39\"], \"mode\": \"markers\", \"name\": \"AUC_micro\", \"stepped\": false, \"type\": \"scatter\", \"data\": [0.9997415009403958, 0.9990427357690492, 0.9893861915383453, 0.9985711518291722, 0.9779855158644628, 0.9942047434031311, 0.9974353258032531, 0.9925534713421488, 0.9977851290789299, 0.9928048929473631, 0.998503031484769, 0.16922597061939723, 0.974545652361375, 0.8135195974681235, 0.9911016969530164, 0.003260258150352277, 0.003327092693513835, 0.9989607816579789, 0.9953990764675256, 0.0032741640353056538, 0.0032922663415694293, 0.9996722205394553, 0.9997495732572997, 0.999920352441301, 0.27427763578372083, 0.9994004147314306, 0.9988782715580689, 0.9993770163540888, 0.9930729116207623, 0.9920838974683549, 0.999455183946929, 0.9991835938773675, 0.9775839341247854, 0.9996037772037527, 0.9702555623413452, 0.003394703895143534, 0.9830457613789517]}, {\"categories\": [\"0\", \"1\", \"2\", \"3\", \"4\", \"5\", \"6\", \"7\", \"8\", \"9\", \"10\", \"11\", \"12\", \"13\", \"14\", \"15\", \"16\", \"17\", \"18\", \"19\", \"20\", \"21\", \"22\", \"23\", \"25\", \"26\", \"27\", \"28\", \"29\", \"30\", \"31\", \"32\", \"33\", \"34\", \"35\", \"38\", \"39\"], \"mode\": \"lines\", \"name\": \"AUC_micro_max\", \"stepped\": true, \"type\": \"scatter\", \"data\": [0.9997415009403958, 0.9997415009403958, 0.9997415009403958, 0.9997415009403958, 0.9997415009403958, 0.9997415009403958, 0.9997415009403958, 0.9997415009403958, 0.9997415009403958, 0.9997415009403958, 0.9997415009403958, 0.9997415009403958, 0.9997415009403958, 0.9997415009403958, 0.9997415009403958, 0.9997415009403958, 0.9997415009403958, 0.9997415009403958, 0.9997415009403958, 0.9997415009403958, 0.9997415009403958, 0.9997415009403958, 0.9997495732572997, 0.999920352441301, 0.999920352441301, 0.999920352441301, 0.999920352441301, 0.999920352441301, 0.999920352441301, 0.999920352441301, 0.999920352441301, 0.999920352441301, 0.999920352441301, 0.999920352441301, 0.999920352441301, 0.999920352441301, 0.999920352441301]}], \"matthews_correlation\": [{\"categories\": [\"0\", \"1\", \"2\", \"3\", \"4\", \"5\", \"6\", \"7\", \"8\", \"9\", \"10\", \"11\", \"12\", \"13\", \"14\", \"15\", \"16\", \"17\", \"18\", \"19\", \"20\", \"21\", \"22\", \"23\", \"25\", \"26\", \"27\", \"28\", \"29\", \"30\", \"31\", \"32\", \"33\", \"34\", \"35\", \"38\", \"39\"], \"mode\": \"markers\", \"name\": \"matthews_correlation\", \"stepped\": false, \"type\": \"scatter\", \"data\": [0.8364533207768194, 0.4056969911108376, 0.1529494771703771, 0.31523255020765595, 0.1354086972465011, 0.18713964784072318, 0.24308662738927242, 0.17264629968660983, 0.2661863431847749, 0.15489298381523656, 0.2908352022527449, 0.023460314432636683, 0.15299907785609038, 0.06793133402313828, 0.1555443660272343, 0.0, 0.0, 0.32600976470368925, 0.20643574294840836, 0.0, 0.0, 0.7016497970133526, 0.6831179067462474, 0.8198481341194773, 0.03498423269535574, 0.4573850815670046, 0.3963899936160065, 0.5004938122928366, 0.24424710863662624, 0.17464513418120722, 0.6407562061370013, 0.379921150929798, 0.14537983641893631, 0.5589347703276393, 0.12007823054272493, 0.0, 0.2146901131071618]}, {\"categories\": [\"0\", \"1\", \"2\", \"3\", \"4\", \"5\", \"6\", \"7\", \"8\", \"9\", \"10\", \"11\", \"12\", \"13\", \"14\", \"15\", \"16\", \"17\", \"18\", \"19\", \"20\", \"21\", \"22\", \"23\", \"25\", \"26\", \"27\", \"28\", \"29\", \"30\", \"31\", \"32\", \"33\", \"34\", \"35\", \"38\", \"39\"], \"mode\": \"lines\", \"name\": \"matthews_correlation_max\", \"stepped\": true, \"type\": \"scatter\", \"data\": [0.8364533207768194, 0.8364533207768194, 0.8364533207768194, 0.8364533207768194, 0.8364533207768194, 0.8364533207768194, 0.8364533207768194, 0.8364533207768194, 0.8364533207768194, 0.8364533207768194, 0.8364533207768194, 0.8364533207768194, 0.8364533207768194, 0.8364533207768194, 0.8364533207768194, 0.8364533207768194, 0.8364533207768194, 0.8364533207768194, 0.8364533207768194, 0.8364533207768194, 0.8364533207768194, 0.8364533207768194, 0.8364533207768194, 0.8364533207768194, 0.8364533207768194, 0.8364533207768194, 0.8364533207768194, 0.8364533207768194, 0.8364533207768194, 0.8364533207768194, 0.8364533207768194, 0.8364533207768194, 0.8364533207768194, 0.8364533207768194, 0.8364533207768194, 0.8364533207768194, 0.8364533207768194]}], \"f1_score_weighted\": [{\"categories\": [\"0\", \"1\", \"2\", \"3\", \"4\", \"5\", \"6\", \"7\", \"8\", \"9\", \"10\", \"11\", \"12\", \"13\", \"14\", \"15\", \"16\", \"17\", \"18\", \"19\", \"20\", \"21\", \"22\", \"23\", \"25\", \"26\", \"27\", \"28\", \"29\", \"30\", \"31\", \"32\", \"33\", \"34\", \"35\", \"38\", \"39\"], \"mode\": \"markers\", \"name\": \"f1_score_weighted\", \"stepped\": false, \"type\": \"scatter\", \"data\": [0.9994382219725431, 0.9953018706251614, 0.96932410426466, 0.9926791052185698, 0.9631752599915323, 0.9789774640052009, 0.987636874354554, 0.9765671163152467, 0.9899711192345488, 0.9760631567962771, 0.9918213164001015, 0.3896437124961755, 0.9706452414387445, 0.8693508241096278, 0.9727603834381788, 5.909696126551085e-06, 5.909696126551085e-06, 0.9933813305081372, 0.983221947693706, 5.909696126551085e-06, 5.909696126551085e-06, 0.9987967305361004, 0.9986888213584858, 0.9993743086072865, 0.5865448960958578, 0.996543761991383, 0.9952546532445098, 0.9971331093212112, 0.9877463512575835, 0.9780369856550627, 0.9983221921752786, 0.9946638234274394, 0.966277076720145, 0.9976152879614416, 0.9497783528733167, 5.909696126551085e-06, 0.9837543147511426]}, {\"categories\": [\"0\", \"1\", \"2\", \"3\", \"4\", \"5\", \"6\", \"7\", \"8\", \"9\", \"10\", \"11\", \"12\", \"13\", \"14\", \"15\", \"16\", \"17\", \"18\", \"19\", \"20\", \"21\", \"22\", \"23\", \"25\", \"26\", \"27\", \"28\", \"29\", \"30\", \"31\", \"32\", \"33\", \"34\", \"35\", \"38\", \"39\"], \"mode\": \"lines\", \"name\": \"f1_score_weighted_max\", \"stepped\": true, \"type\": \"scatter\", \"data\": [0.9994382219725431, 0.9994382219725431, 0.9994382219725431, 0.9994382219725431, 0.9994382219725431, 0.9994382219725431, 0.9994382219725431, 0.9994382219725431, 0.9994382219725431, 0.9994382219725431, 0.9994382219725431, 0.9994382219725431, 0.9994382219725431, 0.9994382219725431, 0.9994382219725431, 0.9994382219725431, 0.9994382219725431, 0.9994382219725431, 0.9994382219725431, 0.9994382219725431, 0.9994382219725431, 0.9994382219725431, 0.9994382219725431, 0.9994382219725431, 0.9994382219725431, 0.9994382219725431, 0.9994382219725431, 0.9994382219725431, 0.9994382219725431, 0.9994382219725431, 0.9994382219725431, 0.9994382219725431, 0.9994382219725431, 0.9994382219725431, 0.9994382219725431, 0.9994382219725431, 0.9994382219725431]}], \"AUC_macro\": [{\"categories\": [\"0\", \"1\", \"2\", \"3\", \"4\", \"5\", \"6\", \"7\", \"8\", \"9\", \"10\", \"11\", \"12\", \"13\", \"14\", \"15\", \"16\", \"17\", \"18\", \"19\", \"20\", \"21\", \"22\", \"23\", \"25\", \"26\", \"27\", \"28\", \"29\", \"30\", \"31\", \"32\", \"33\", \"34\", \"35\", \"38\", \"39\"], \"mode\": \"markers\", \"name\": \"AUC_macro\", \"stepped\": false, \"type\": \"scatter\", \"data\": [0.9251518840513133, 0.9735480573771433, 0.9563071359663731, 0.954810905791692, 0.9822795958563504, 0.9623710134025472, 0.9557023991363569, 0.9550470582155204, 0.9534359818772753, 0.9430592721050153, 0.9622698052209067, 0.9708890097963778, 0.9528606743766723, 0.9644177873738128, 0.9547290779001528, 0.9482754412963834, 0.9677325347696759, 0.972006606525559, 0.9505633922111332, 0.9523237685620112, 0.95759377189255, 0.9758390588931127, 0.9736119405556256, 0.9788605896776269, 0.9655963961273875, 0.9526209330102329, 0.955233503784181, 0.9554547620961722, 0.9746477093932677, 0.9695984260333284, 0.9792925189209054, 0.9743620295614024, 0.9482510364866261, 0.9779158005351831, 0.9548098291089087, 0.987415731627485, 0.9860074305467825]}, {\"categories\": [\"0\", \"1\", \"2\", \"3\", \"4\", \"5\", \"6\", \"7\", \"8\", \"9\", \"10\", \"11\", \"12\", \"13\", \"14\", \"15\", \"16\", \"17\", \"18\", \"19\", \"20\", \"21\", \"22\", \"23\", \"25\", \"26\", \"27\", \"28\", \"29\", \"30\", \"31\", \"32\", \"33\", \"34\", \"35\", \"38\", \"39\"], \"mode\": \"lines\", \"name\": \"AUC_macro_max\", \"stepped\": true, \"type\": \"scatter\", \"data\": [0.9251518840513133, 0.9735480573771433, 0.9735480573771433, 0.9735480573771433, 0.9822795958563504, 0.9822795958563504, 0.9822795958563504, 0.9822795958563504, 0.9822795958563504, 0.9822795958563504, 0.9822795958563504, 0.9822795958563504, 0.9822795958563504, 0.9822795958563504, 0.9822795958563504, 0.9822795958563504, 0.9822795958563504, 0.9822795958563504, 0.9822795958563504, 0.9822795958563504, 0.9822795958563504, 0.9822795958563504, 0.9822795958563504, 0.9822795958563504, 0.9822795958563504, 0.9822795958563504, 0.9822795958563504, 0.9822795958563504, 0.9822795958563504, 0.9822795958563504, 0.9822795958563504, 0.9822795958563504, 0.9822795958563504, 0.9822795958563504, 0.9822795958563504, 0.987415731627485, 0.987415731627485]}], \"precision_score_micro\": [{\"categories\": [\"0\", \"1\", \"2\", \"3\", \"4\", \"5\", \"6\", \"7\", \"8\", \"9\", \"10\", \"11\", \"12\", \"13\", \"14\", \"15\", \"16\", \"17\", \"18\", \"19\", \"20\", \"21\", \"22\", \"23\", \"25\", \"26\", \"27\", \"28\", \"29\", \"30\", \"31\", \"32\", \"33\", \"34\", \"35\", \"38\", \"39\"], \"mode\": \"markers\", \"name\": \"precision_score_micro\", \"stepped\": false, \"type\": \"scatter\", \"data\": [0.9994382219725431, 0.9930128857835048, 0.9435413082405815, 0.988167550296689, 0.932024858677715, 0.9618693163863629, 0.9785119904497735, 0.9572697587865595, 0.9830062146694287, 0.9563217583652259, 0.9865524384677504, 0.24377655278957902, 0.9460341982374214, 0.7715670095853376, 0.9500368666830519, 0.0017204452090867595, 0.0017204452090867595, 0.9895017731118991, 0.9700150977844879, 0.0017204452090867595, 0.0017204452090867595, 0.9986657771847899, 0.9985253326779256, 0.9993679997191109, 0.4169797408798848, 0.9952248867666164, 0.9929426635300727, 0.9962079983146659, 0.9787226572100699, 0.960078648923844, 0.9979986657771848, 0.991854218601875, 0.9378181945858642, 0.9969453319757031, 0.9073768477230434, 0.0017204452090867595, 0.9710333204592535]}, {\"categories\": [\"0\", \"1\", \"2\", \"3\", \"4\", \"5\", \"6\", \"7\", \"8\", \"9\", \"10\", \"11\", \"12\", \"13\", \"14\", \"15\", \"16\", \"17\", \"18\", \"19\", \"20\", \"21\", \"22\", \"23\", \"25\", \"26\", \"27\", \"28\", \"29\", \"30\", \"31\", \"32\", \"33\", \"34\", \"35\", \"38\", \"39\"], \"mode\": \"lines\", \"name\": \"precision_score_micro_max\", \"stepped\": true, \"type\": \"scatter\", \"data\": [0.9994382219725431, 0.9994382219725431, 0.9994382219725431, 0.9994382219725431, 0.9994382219725431, 0.9994382219725431, 0.9994382219725431, 0.9994382219725431, 0.9994382219725431, 0.9994382219725431, 0.9994382219725431, 0.9994382219725431, 0.9994382219725431, 0.9994382219725431, 0.9994382219725431, 0.9994382219725431, 0.9994382219725431, 0.9994382219725431, 0.9994382219725431, 0.9994382219725431, 0.9994382219725431, 0.9994382219725431, 0.9994382219725431, 0.9994382219725431, 0.9994382219725431, 0.9994382219725431, 0.9994382219725431, 0.9994382219725431, 0.9994382219725431, 0.9994382219725431, 0.9994382219725431, 0.9994382219725431, 0.9994382219725431, 0.9994382219725431, 0.9994382219725431, 0.9994382219725431, 0.9994382219725431]}], \"balanced_accuracy\": [{\"categories\": [\"0\", \"1\", \"2\", \"3\", \"4\", \"5\", \"6\", \"7\", \"8\", \"9\", \"10\", \"11\", \"12\", \"13\", \"14\", \"15\", \"16\", \"17\", \"18\", \"19\", \"20\", \"21\", \"22\", \"23\", \"25\", \"26\", \"27\", \"28\", \"29\", \"30\", \"31\", \"32\", \"33\", \"34\", \"35\", \"38\", \"39\"], \"mode\": \"markers\", \"name\": \"balanced_accuracy\", \"stepped\": false, \"type\": \"scatter\", \"data\": [0.9182266603884097, 0.9455679429903644, 0.9309760201210479, 0.9329546041826973, 0.9150213757421933, 0.9401558175324154, 0.9383049998277307, 0.9276655794563182, 0.930369488819726, 0.8864447790934045, 0.9219591607042367, 0.6212366347777153, 0.9220381174416868, 0.844840679659596, 0.913856404970542, 0.5, 0.5, 0.9234363694830774, 0.9340492316791658, 0.5, 0.5, 0.9280262681887611, 0.9279559249135783, 0.9181914887508182, 0.7079874788970174, 0.9263028579467802, 0.9353462755389156, 0.9267952608730605, 0.9384105147405051, 0.9188859491461188, 0.9480651292593572, 0.9449876109701055, 0.928109531657345, 0.9475375546954854, 0.9230491225753104, 0.5, 0.944745716238099]}, {\"categories\": [\"0\", \"1\", \"2\", \"3\", \"4\", \"5\", \"6\", \"7\", \"8\", \"9\", \"10\", \"11\", \"12\", \"13\", \"14\", \"15\", \"16\", \"17\", \"18\", \"19\", \"20\", \"21\", \"22\", \"23\", \"25\", \"26\", \"27\", \"28\", \"29\", \"30\", \"31\", \"32\", \"33\", \"34\", \"35\", \"38\", \"39\"], \"mode\": \"lines\", \"name\": \"balanced_accuracy_max\", \"stepped\": true, \"type\": \"scatter\", \"data\": [0.9182266603884097, 0.9455679429903644, 0.9455679429903644, 0.9455679429903644, 0.9455679429903644, 0.9455679429903644, 0.9455679429903644, 0.9455679429903644, 0.9455679429903644, 0.9455679429903644, 0.9455679429903644, 0.9455679429903644, 0.9455679429903644, 0.9455679429903644, 0.9455679429903644, 0.9455679429903644, 0.9455679429903644, 0.9455679429903644, 0.9455679429903644, 0.9455679429903644, 0.9455679429903644, 0.9455679429903644, 0.9455679429903644, 0.9455679429903644, 0.9455679429903644, 0.9455679429903644, 0.9455679429903644, 0.9455679429903644, 0.9455679429903644, 0.9455679429903644, 0.9480651292593572, 0.9480651292593572, 0.9480651292593572, 0.9480651292593572, 0.9480651292593572, 0.9480651292593572, 0.9480651292593572]}], \"average_precision_score_micro\": [{\"categories\": [\"0\", \"1\", \"2\", \"3\", \"4\", \"5\", \"6\", \"7\", \"8\", \"9\", \"10\", \"11\", \"12\", \"13\", \"14\", \"15\", \"16\", \"17\", \"18\", \"19\", \"20\", \"21\", \"22\", \"23\", \"25\", \"26\", \"27\", \"28\", \"29\", \"30\", \"31\", \"32\", \"33\", \"34\", \"35\", \"38\", \"39\"], \"mode\": \"markers\", \"name\": \"average_precision_score_micro\", \"stepped\": false, \"type\": \"scatter\", \"data\": [0.9993073134574981, 0.9984471171966365, 0.9897270883641528, 0.9980106896501646, 0.9767157236390454, 0.9943303755039863, 0.9974210155637342, 0.9925985407329769, 0.9975766726981377, 0.9927326543603276, 0.998146688387952, 0.3352811038664622, 0.9721820273359965, 0.7985813247371878, 0.9913193836789013, 0.3081789781039664, 0.30829768211701747, 0.9986409345019058, 0.995425304826906, 0.30848538799586384, 0.3082672809463613, 0.9995828327040256, 0.999582092532218, 0.9999218401712673, 0.36877624944622933, 0.999289281136237, 0.9982639422903089, 0.9990861953649225, 0.9894509309060281, 0.9921862744989083, 0.9990713173487855, 0.9991675794049102, 0.9733128278816195, 0.9995990272276885, 0.9715123305194054, 0.308675184382483, 0.9636836215985819]}, {\"categories\": [\"0\", \"1\", \"2\", \"3\", \"4\", \"5\", \"6\", \"7\", \"8\", \"9\", \"10\", \"11\", \"12\", \"13\", \"14\", \"15\", \"16\", \"17\", \"18\", \"19\", \"20\", \"21\", \"22\", \"23\", \"25\", \"26\", \"27\", \"28\", \"29\", \"30\", \"31\", \"32\", \"33\", \"34\", \"35\", \"38\", \"39\"], \"mode\": \"lines\", \"name\": \"average_precision_score_micro_max\", \"stepped\": true, \"type\": \"scatter\", \"data\": [0.9993073134574981, 0.9993073134574981, 0.9993073134574981, 0.9993073134574981, 0.9993073134574981, 0.9993073134574981, 0.9993073134574981, 0.9993073134574981, 0.9993073134574981, 0.9993073134574981, 0.9993073134574981, 0.9993073134574981, 0.9993073134574981, 0.9993073134574981, 0.9993073134574981, 0.9993073134574981, 0.9993073134574981, 0.9993073134574981, 0.9993073134574981, 0.9993073134574981, 0.9993073134574981, 0.9995828327040256, 0.9995828327040256, 0.9999218401712673, 0.9999218401712673, 0.9999218401712673, 0.9999218401712673, 0.9999218401712673, 0.9999218401712673, 0.9999218401712673, 0.9999218401712673, 0.9999218401712673, 0.9999218401712673, 0.9999218401712673, 0.9999218401712673, 0.9999218401712673, 0.9999218401712673]}], \"recall_score_weighted\": [{\"categories\": [\"0\", \"1\", \"2\", \"3\", \"4\", \"5\", \"6\", \"7\", \"8\", \"9\", \"10\", \"11\", \"12\", \"13\", \"14\", \"15\", \"16\", \"17\", \"18\", \"19\", \"20\", \"21\", \"22\", \"23\", \"25\", \"26\", \"27\", \"28\", \"29\", \"30\", \"31\", \"32\", \"33\", \"34\", \"35\", \"38\", \"39\"], \"mode\": \"markers\", \"name\": \"recall_score_weighted\", \"stepped\": false, \"type\": \"scatter\", \"data\": [0.9994382219725431, 0.9930128857835048, 0.9435413082405815, 0.988167550296689, 0.932024858677715, 0.9618693163863629, 0.9785119904497735, 0.9572697587865595, 0.9830062146694287, 0.9563217583652259, 0.9865524384677504, 0.24377655278957902, 0.9460341982374214, 0.7715670095853376, 0.9500368666830519, 0.0017204452090867595, 0.0017204452090867595, 0.9895017731118991, 0.9700150977844879, 0.0017204452090867595, 0.0017204452090867595, 0.9986657771847899, 0.9985253326779256, 0.9993679997191109, 0.4169797408798848, 0.9952248867666164, 0.9929426635300727, 0.9962079983146659, 0.9787226572100699, 0.960078648923844, 0.9979986657771848, 0.991854218601875, 0.9378181945858642, 0.9969453319757031, 0.9073768477230434, 0.0017204452090867595, 0.9710333204592535]}, {\"categories\": [\"0\", \"1\", \"2\", \"3\", \"4\", \"5\", \"6\", \"7\", \"8\", \"9\", \"10\", \"11\", \"12\", \"13\", \"14\", \"15\", \"16\", \"17\", \"18\", \"19\", \"20\", \"21\", \"22\", \"23\", \"25\", \"26\", \"27\", \"28\", \"29\", \"30\", \"31\", \"32\", \"33\", \"34\", \"35\", \"38\", \"39\"], \"mode\": \"lines\", \"name\": \"recall_score_weighted_max\", \"stepped\": true, \"type\": \"scatter\", \"data\": [0.9994382219725431, 0.9994382219725431, 0.9994382219725431, 0.9994382219725431, 0.9994382219725431, 0.9994382219725431, 0.9994382219725431, 0.9994382219725431, 0.9994382219725431, 0.9994382219725431, 0.9994382219725431, 0.9994382219725431, 0.9994382219725431, 0.9994382219725431, 0.9994382219725431, 0.9994382219725431, 0.9994382219725431, 0.9994382219725431, 0.9994382219725431, 0.9994382219725431, 0.9994382219725431, 0.9994382219725431, 0.9994382219725431, 0.9994382219725431, 0.9994382219725431, 0.9994382219725431, 0.9994382219725431, 0.9994382219725431, 0.9994382219725431, 0.9994382219725431, 0.9994382219725431, 0.9994382219725431, 0.9994382219725431, 0.9994382219725431, 0.9994382219725431, 0.9994382219725431, 0.9994382219725431]}], \"average_precision_score_macro\": [{\"categories\": [\"0\", \"1\", \"2\", \"3\", \"4\", \"5\", \"6\", \"7\", \"8\", \"9\", \"10\", \"11\", \"12\", \"13\", \"14\", \"15\", \"16\", \"17\", \"18\", \"19\", \"20\", \"21\", \"22\", \"23\", \"25\", \"26\", \"27\", \"28\", \"29\", \"30\", \"31\", \"32\", \"33\", \"34\", \"35\", \"38\", \"39\"], \"mode\": \"markers\", \"name\": \"average_precision_score_macro\", \"stepped\": false, \"type\": \"scatter\", \"data\": [0.9230587466456577, 0.900491774100895, 0.8502023405417757, 0.7991883205379706, 0.796903470416317, 0.8466944624270403, 0.8464855160179429, 0.8450207698359531, 0.8329534988718448, 0.8018513204366189, 0.8338351987461754, 0.8543577145326512, 0.5615071564582272, 0.8444697891430359, 0.8199695943178491, 0.7732790982887554, 0.8248150756115704, 0.8566333408359506, 0.8385292979454284, 0.8493282394235064, 0.8134993394551391, 0.9116718849412643, 0.9095903800608298, 0.9381270125091334, 0.8471017081219847, 0.8524463742384478, 0.8377232003136446, 0.8657659500592317, 0.7697256792655535, 0.7866259707877952, 0.8951073026690028, 0.899556555610737, 0.8666904939927134, 0.895705208389036, 0.7851421974667248, 0.9323564127019732, 0.7743548487813552]}, {\"categories\": [\"0\", \"1\", \"2\", \"3\", \"4\", \"5\", \"6\", \"7\", \"8\", \"9\", \"10\", \"11\", \"12\", \"13\", \"14\", \"15\", \"16\", \"17\", \"18\", \"19\", \"20\", \"21\", \"22\", \"23\", \"25\", \"26\", \"27\", \"28\", \"29\", \"30\", \"31\", \"32\", \"33\", \"34\", \"35\", \"38\", \"39\"], \"mode\": \"lines\", \"name\": \"average_precision_score_macro_max\", \"stepped\": true, \"type\": \"scatter\", \"data\": [0.9230587466456577, 0.9230587466456577, 0.9230587466456577, 0.9230587466456577, 0.9230587466456577, 0.9230587466456577, 0.9230587466456577, 0.9230587466456577, 0.9230587466456577, 0.9230587466456577, 0.9230587466456577, 0.9230587466456577, 0.9230587466456577, 0.9230587466456577, 0.9230587466456577, 0.9230587466456577, 0.9230587466456577, 0.9230587466456577, 0.9230587466456577, 0.9230587466456577, 0.9230587466456577, 0.9230587466456577, 0.9230587466456577, 0.9381270125091334, 0.9381270125091334, 0.9381270125091334, 0.9381270125091334, 0.9381270125091334, 0.9381270125091334, 0.9381270125091334, 0.9381270125091334, 0.9381270125091334, 0.9381270125091334, 0.9381270125091334, 0.9381270125091334, 0.9381270125091334, 0.9381270125091334]}], \"accuracy\": [{\"categories\": [\"0\", \"1\", \"2\", \"3\", \"4\", \"5\", \"6\", \"7\", \"8\", \"9\", \"10\", \"11\", \"12\", \"13\", \"14\", \"15\", \"16\", \"17\", \"18\", \"19\", \"20\", \"21\", \"22\", \"23\", \"25\", \"26\", \"27\", \"28\", \"29\", \"30\", \"31\", \"32\", \"33\", \"34\", \"35\", \"38\", \"39\"], \"mode\": \"markers\", \"name\": \"accuracy\", \"stepped\": false, \"type\": \"scatter\", \"data\": [0.9994382219725431, 0.9930128857835048, 0.9435413082405815, 0.988167550296689, 0.932024858677715, 0.9618693163863629, 0.9785119904497735, 0.9572697587865595, 0.9830062146694287, 0.9563217583652259, 0.9865524384677504, 0.24377655278957902, 0.9460341982374214, 0.7715670095853376, 0.9500368666830519, 0.0017204452090867595, 0.0017204452090867595, 0.9895017731118991, 0.9700150977844879, 0.0017204452090867595, 0.0017204452090867595, 0.9986657771847899, 0.9985253326779256, 0.9993679997191109, 0.4169797408798848, 0.9952248867666164, 0.9929426635300727, 0.9962079983146659, 0.9787226572100699, 0.960078648923844, 0.9979986657771848, 0.991854218601875, 0.9378181945858642, 0.9969453319757031, 0.9073768477230434, 0.0017204452090867595, 0.9710333204592535]}, {\"categories\": [\"0\", \"1\", \"2\", \"3\", \"4\", \"5\", \"6\", \"7\", \"8\", \"9\", \"10\", \"11\", \"12\", \"13\", \"14\", \"15\", \"16\", \"17\", \"18\", \"19\", \"20\", \"21\", \"22\", \"23\", \"25\", \"26\", \"27\", \"28\", \"29\", \"30\", \"31\", \"32\", \"33\", \"34\", \"35\", \"38\", \"39\"], \"mode\": \"lines\", \"name\": \"accuracy_max\", \"stepped\": true, \"type\": \"scatter\", \"data\": [0.9994382219725431, 0.9994382219725431, 0.9994382219725431, 0.9994382219725431, 0.9994382219725431, 0.9994382219725431, 0.9994382219725431, 0.9994382219725431, 0.9994382219725431, 0.9994382219725431, 0.9994382219725431, 0.9994382219725431, 0.9994382219725431, 0.9994382219725431, 0.9994382219725431, 0.9994382219725431, 0.9994382219725431, 0.9994382219725431, 0.9994382219725431, 0.9994382219725431, 0.9994382219725431, 0.9994382219725431, 0.9994382219725431, 0.9994382219725431, 0.9994382219725431, 0.9994382219725431, 0.9994382219725431, 0.9994382219725431, 0.9994382219725431, 0.9994382219725431, 0.9994382219725431, 0.9994382219725431, 0.9994382219725431, 0.9994382219725431, 0.9994382219725431, 0.9994382219725431, 0.9994382219725431]}], \"average_precision_score_weighted\": [{\"categories\": [\"0\", \"1\", \"2\", \"3\", \"4\", \"5\", \"6\", \"7\", \"8\", \"9\", \"10\", \"11\", \"12\", \"13\", \"14\", \"15\", \"16\", \"17\", \"18\", \"19\", \"20\", \"21\", \"22\", \"23\", \"25\", \"26\", \"27\", \"28\", \"29\", \"30\", \"31\", \"32\", \"33\", \"34\", \"35\", \"38\", \"39\"], \"mode\": \"markers\", \"name\": \"average_precision_score_weighted\", \"stepped\": false, \"type\": \"scatter\", \"data\": [0.9991205202051671, 0.9995997587006605, 0.999372313488586, 0.9991644168469049, 0.9992672609712614, 0.9993857118938092, 0.9993354326794129, 0.9993161059468426, 0.9992916378519437, 0.9991877074591038, 0.9993391873127606, 0.9994326631580799, 0.9983640064205176, 0.9993868928672235, 0.9992708409188986, 0.9990160899542576, 0.9993191072402602, 0.9994445833398333, 0.9992597445093588, 0.9993532056265592, 0.9992614468790637, 0.9996369884810925, 0.9996230558400645, 0.9997443468187203, 0.999396869780553, 0.999293769074626, 0.9993186781043835, 0.9993595607188188, 0.9991226688470264, 0.9992015094735271, 0.9995967098663877, 0.9995997344584083, 0.9993727581724914, 0.9995960880686049, 0.9991162131611511, 0.9997433016020771, 0.9991967755286639]}, {\"categories\": [\"0\", \"1\", \"2\", \"3\", \"4\", \"5\", \"6\", \"7\", \"8\", \"9\", \"10\", \"11\", \"12\", \"13\", \"14\", \"15\", \"16\", \"17\", \"18\", \"19\", \"20\", \"21\", \"22\", \"23\", \"25\", \"26\", \"27\", \"28\", \"29\", \"30\", \"31\", \"32\", \"33\", \"34\", \"35\", \"38\", \"39\"], \"mode\": \"lines\", \"name\": \"average_precision_score_weighted_max\", \"stepped\": true, \"type\": \"scatter\", \"data\": [0.9991205202051671, 0.9995997587006605, 0.9995997587006605, 0.9995997587006605, 0.9995997587006605, 0.9995997587006605, 0.9995997587006605, 0.9995997587006605, 0.9995997587006605, 0.9995997587006605, 0.9995997587006605, 0.9995997587006605, 0.9995997587006605, 0.9995997587006605, 0.9995997587006605, 0.9995997587006605, 0.9995997587006605, 0.9995997587006605, 0.9995997587006605, 0.9995997587006605, 0.9995997587006605, 0.9996369884810925, 0.9996369884810925, 0.9997443468187203, 0.9997443468187203, 0.9997443468187203, 0.9997443468187203, 0.9997443468187203, 0.9997443468187203, 0.9997443468187203, 0.9997443468187203, 0.9997443468187203, 0.9997443468187203, 0.9997443468187203, 0.9997443468187203, 0.9997443468187203, 0.9997443468187203]}], \"recall_score_macro\": [{\"categories\": [\"0\", \"1\", \"2\", \"3\", \"4\", \"5\", \"6\", \"7\", \"8\", \"9\", \"10\", \"11\", \"12\", \"13\", \"14\", \"15\", \"16\", \"17\", \"18\", \"19\", \"20\", \"21\", \"22\", \"23\", \"25\", \"26\", \"27\", \"28\", \"29\", \"30\", \"31\", \"32\", \"33\", \"34\", \"35\", \"38\", \"39\"], \"mode\": \"markers\", \"name\": \"recall_score_macro\", \"stepped\": false, \"type\": \"scatter\", \"data\": [0.9182266603884097, 0.9455679429903644, 0.9309760201210479, 0.9329546041826973, 0.9150213757421933, 0.9401558175324154, 0.9383049998277307, 0.9276655794563182, 0.930369488819726, 0.8864447790934045, 0.9219591607042367, 0.6212366347777153, 0.9220381174416868, 0.844840679659596, 0.913856404970542, 0.5, 0.5, 0.9234363694830774, 0.9340492316791658, 0.5, 0.5, 0.9280262681887611, 0.9279559249135783, 0.9181914887508182, 0.7079874788970174, 0.9263028579467802, 0.9353462755389156, 0.9267952608730605, 0.9384105147405051, 0.9188859491461188, 0.9480651292593572, 0.9449876109701055, 0.928109531657345, 0.9475375546954854, 0.9230491225753104, 0.5, 0.944745716238099]}, {\"categories\": [\"0\", \"1\", \"2\", \"3\", \"4\", \"5\", \"6\", \"7\", \"8\", \"9\", \"10\", \"11\", \"12\", \"13\", \"14\", \"15\", \"16\", \"17\", \"18\", \"19\", \"20\", \"21\", \"22\", \"23\", \"25\", \"26\", \"27\", \"28\", \"29\", \"30\", \"31\", \"32\", \"33\", \"34\", \"35\", \"38\", \"39\"], \"mode\": \"lines\", \"name\": \"recall_score_macro_max\", \"stepped\": true, \"type\": \"scatter\", \"data\": [0.9182266603884097, 0.9455679429903644, 0.9455679429903644, 0.9455679429903644, 0.9455679429903644, 0.9455679429903644, 0.9455679429903644, 0.9455679429903644, 0.9455679429903644, 0.9455679429903644, 0.9455679429903644, 0.9455679429903644, 0.9455679429903644, 0.9455679429903644, 0.9455679429903644, 0.9455679429903644, 0.9455679429903644, 0.9455679429903644, 0.9455679429903644, 0.9455679429903644, 0.9455679429903644, 0.9455679429903644, 0.9455679429903644, 0.9455679429903644, 0.9455679429903644, 0.9455679429903644, 0.9455679429903644, 0.9455679429903644, 0.9455679429903644, 0.9455679429903644, 0.9480651292593572, 0.9480651292593572, 0.9480651292593572, 0.9480651292593572, 0.9480651292593572, 0.9480651292593572, 0.9480651292593572]}], \"AUC_weighted\": [{\"categories\": [\"0\", \"1\", \"2\", \"3\", \"4\", \"5\", \"6\", \"7\", \"8\", \"9\", \"10\", \"11\", \"12\", \"13\", \"14\", \"15\", \"16\", \"17\", \"18\", \"19\", \"20\", \"21\", \"22\", \"23\", \"25\", \"26\", \"27\", \"28\", \"29\", \"30\", \"31\", \"32\", \"33\", \"34\", \"35\", \"38\", \"39\"], \"mode\": \"markers\", \"name\": \"AUC_weighted\", \"stepped\": false, \"type\": \"scatter\", \"data\": [0.9251518840513135, 0.9735480573771432, 0.9563071359663731, 0.954810905791692, 0.9822795958563506, 0.9623710134025473, 0.955702399136357, 0.9550470582155205, 0.9534359818772754, 0.9430592721050154, 0.9622698052209064, 0.9708890097963778, 0.9533778497899948, 0.9644177873738129, 0.9547290779001529, 0.9482754412963834, 0.967732534769676, 0.972006606525559, 0.9505633922111332, 0.9523237685620113, 0.9575937718925501, 0.9758388800634401, 0.9736119405556256, 0.9788607685072995, 0.9655963961273875, 0.9526209330102329, 0.9552336826138537, 0.9554547620961721, 0.9746477093932677, 0.9695984260333284, 0.9792925189209054, 0.9743620295614026, 0.9482510364866261, 0.9779158005351831, 0.9548098291089088, 0.987415731627485, 0.9860074305467825]}, {\"categories\": [\"0\", \"1\", \"2\", \"3\", \"4\", \"5\", \"6\", \"7\", \"8\", \"9\", \"10\", \"11\", \"12\", \"13\", \"14\", \"15\", \"16\", \"17\", \"18\", \"19\", \"20\", \"21\", \"22\", \"23\", \"25\", \"26\", \"27\", \"28\", \"29\", \"30\", \"31\", \"32\", \"33\", \"34\", \"35\", \"38\", \"39\"], \"mode\": \"lines\", \"name\": \"AUC_weighted_max\", \"stepped\": true, \"type\": \"scatter\", \"data\": [0.9251518840513135, 0.9735480573771432, 0.9735480573771432, 0.9735480573771432, 0.9822795958563506, 0.9822795958563506, 0.9822795958563506, 0.9822795958563506, 0.9822795958563506, 0.9822795958563506, 0.9822795958563506, 0.9822795958563506, 0.9822795958563506, 0.9822795958563506, 0.9822795958563506, 0.9822795958563506, 0.9822795958563506, 0.9822795958563506, 0.9822795958563506, 0.9822795958563506, 0.9822795958563506, 0.9822795958563506, 0.9822795958563506, 0.9822795958563506, 0.9822795958563506, 0.9822795958563506, 0.9822795958563506, 0.9822795958563506, 0.9822795958563506, 0.9822795958563506, 0.9822795958563506, 0.9822795958563506, 0.9822795958563506, 0.9822795958563506, 0.9822795958563506, 0.987415731627485, 0.987415731627485]}], \"precision_score_weighted\": [{\"categories\": [\"0\", \"1\", \"2\", \"3\", \"4\", \"5\", \"6\", \"7\", \"8\", \"9\", \"10\", \"11\", \"12\", \"13\", \"14\", \"15\", \"16\", \"17\", \"18\", \"19\", \"20\", \"21\", \"22\", \"23\", \"25\", \"26\", \"27\", \"28\", \"29\", \"30\", \"31\", \"32\", \"33\", \"34\", \"35\", \"38\", \"39\"], \"mode\": \"markers\", \"name\": \"precision_score_weighted\", \"stepped\": false, \"type\": \"scatter\", \"data\": [0.9994382219725431, 0.9984208898532743, 0.9981776852243994, 0.9982642572980052, 0.9981295717005362, 0.9982022711572787, 0.9982164836660061, 0.9981564864032695, 0.9982073262287025, 0.9980032893017005, 0.9982034128742885, 0.9982834600030893, 0.9981420681877323, 0.9981093285314655, 0.9981085579444677, 2.959931717469584e-06, 2.959931717469584e-06, 0.998247631710812, 0.9981833983585313, 2.959931717469584e-06, 2.959931717469584e-06, 0.9990234144515582, 0.9989719592813003, 0.9993817490283682, 0.9982846167469146, 0.9984552832309337, 0.9983783150041956, 0.9985382672197822, 0.9982176040183799, 0.9981232235365453, 0.9988922458590893, 0.998381951891021, 0.9981725522472725, 0.9987043128141174, 0.9981929947880647, 2.959931717469584e-06, 0.9982243547591506]}, {\"categories\": [\"0\", \"1\", \"2\", \"3\", \"4\", \"5\", \"6\", \"7\", \"8\", \"9\", \"10\", \"11\", \"12\", \"13\", \"14\", \"15\", \"16\", \"17\", \"18\", \"19\", \"20\", \"21\", \"22\", \"23\", \"25\", \"26\", \"27\", \"28\", \"29\", \"30\", \"31\", \"32\", \"33\", \"34\", \"35\", \"38\", \"39\"], \"mode\": \"lines\", \"name\": \"precision_score_weighted_max\", \"stepped\": true, \"type\": \"scatter\", \"data\": [0.9994382219725431, 0.9994382219725431, 0.9994382219725431, 0.9994382219725431, 0.9994382219725431, 0.9994382219725431, 0.9994382219725431, 0.9994382219725431, 0.9994382219725431, 0.9994382219725431, 0.9994382219725431, 0.9994382219725431, 0.9994382219725431, 0.9994382219725431, 0.9994382219725431, 0.9994382219725431, 0.9994382219725431, 0.9994382219725431, 0.9994382219725431, 0.9994382219725431, 0.9994382219725431, 0.9994382219725431, 0.9994382219725431, 0.9994382219725431, 0.9994382219725431, 0.9994382219725431, 0.9994382219725431, 0.9994382219725431, 0.9994382219725431, 0.9994382219725431, 0.9994382219725431, 0.9994382219725431, 0.9994382219725431, 0.9994382219725431, 0.9994382219725431, 0.9994382219725431, 0.9994382219725431]}], \"log_loss\": [{\"categories\": [\"0\", \"1\", \"2\", \"3\", \"4\", \"5\", \"6\", \"7\", \"8\", \"9\", \"10\", \"11\", \"12\", \"13\", \"14\", \"15\", \"16\", \"17\", \"18\", \"19\", \"20\", \"21\", \"22\", \"23\", \"25\", \"26\", \"27\", \"28\", \"29\", \"30\", \"31\", \"32\", \"33\", \"34\", \"35\", \"38\", \"39\"], \"mode\": \"markers\", \"name\": \"log_loss\", \"stepped\": false, \"type\": \"scatter\", \"data\": [0.0039053037916055794, 0.042567896011948846, 0.1749370700001774, 0.5664402164015324, 0.26379901227234365, 0.19674825695866763, 0.12309776238171323, 0.2702146257423715, 0.4432928379377118, 0.5379130252989697, 0.31948382858396085, 1.2031059286551213, 0.8812925880896871, 0.6377738611510851, 0.2620207684936048, 5.755813882632149, 2.213885497102492, 0.23751055578187058, 0.1309694844051238, 3.5408034529005676, 5.042990878426172, 0.015563385231815411, 0.016884658893706113, 0.003290326280538859, 1.4135430971506202, 0.06649852639555755, 0.04377991670228411, 0.06610167106372526, 0.29281332487612344, 0.453589098720901, 0.014963781355087802, 0.034108448967956166, 0.24993484791828746, 0.015263977939536958, 0.39920255179476416, 0.9843887066932798, 0.1802476630636545]}, {\"categories\": [\"0\", \"1\", \"2\", \"3\", \"4\", \"5\", \"6\", \"7\", \"8\", \"9\", \"10\", \"11\", \"12\", \"13\", \"14\", \"15\", \"16\", \"17\", \"18\", \"19\", \"20\", \"21\", \"22\", \"23\", \"25\", \"26\", \"27\", \"28\", \"29\", \"30\", \"31\", \"32\", \"33\", \"34\", \"35\", \"38\", \"39\"], \"mode\": \"lines\", \"name\": \"log_loss_min\", \"stepped\": true, \"type\": \"scatter\", \"data\": [0.0039053037916055794, 0.0039053037916055794, 0.0039053037916055794, 0.0039053037916055794, 0.0039053037916055794, 0.0039053037916055794, 0.0039053037916055794, 0.0039053037916055794, 0.0039053037916055794, 0.0039053037916055794, 0.0039053037916055794, 0.0039053037916055794, 0.0039053037916055794, 0.0039053037916055794, 0.0039053037916055794, 0.0039053037916055794, 0.0039053037916055794, 0.0039053037916055794, 0.0039053037916055794, 0.0039053037916055794, 0.0039053037916055794, 0.0039053037916055794, 0.0039053037916055794, 0.003290326280538859, 0.003290326280538859, 0.003290326280538859, 0.003290326280538859, 0.003290326280538859, 0.003290326280538859, 0.003290326280538859, 0.003290326280538859, 0.003290326280538859, 0.003290326280538859, 0.003290326280538859, 0.003290326280538859, 0.003290326280538859, 0.003290326280538859]}]}, \"metricName\": null, \"primaryMetricName\": \"AUC_weighted\", \"showLegend\": false}, \"run_metrics\": [{\"name\": \"experiment_status\", \"run_id\": \"AutoML_c308166a-0ee8-4ea9-bdb1-3c904aa67b91\", \"categories\": [0, 1, 2, 3, 4, 5, 6, 7, 8, 9, 10, 11, 12, 13], \"series\": [{\"data\": [\"DatasetEvaluation\", \"FeaturesGeneration\", \"DatasetFeaturization\", \"DatasetFeaturizationCompleted\", \"DatasetBalancing\", \"ModelSelection\", \"BestRunExplainModel\", \"ModelExplanationDataSetSetup\", \"PickSurrogateModel\", \"EngineeredFeatureExplanations\", \"EngineeredFeatureExplanations\", \"RawFeaturesExplanations\", \"RawFeaturesExplanations\", \"BestRunExplainModel\"]}]}, {\"name\": \"experiment_status_description\", \"run_id\": \"AutoML_c308166a-0ee8-4ea9-bdb1-3c904aa67b91\", \"categories\": [0, 1, 2, 3, 4, 5, 6, 7, 8, 9, 10, 11, 12, 13], \"series\": [{\"data\": [\"Gathering dataset statistics.\", \"Generating features for the dataset.\", \"Beginning to fit featurizers and featurize the dataset.\", \"Completed fit featurizers and featurizing the dataset.\", \"Performing class balancing sweeping\", \"Beginning model selection.\", \"Best run model explanations started\", \"Model explanations data setup completed\", \"Choosing LightGBM as the surrogate model for explanations\", \"Computation of engineered features started\", \"Computation of engineered features completed\", \"Computation of raw features started\", \"Computation of raw features completed\", \"Best run model explanations completed\"]}]}, {\"name\": \"recall_score_micro\", \"run_id\": \"AutoML_c308166a-0ee8-4ea9-bdb1-3c904aa67b91\", \"categories\": [0], \"series\": [{\"data\": [0.0017204452090867595]}]}, {\"name\": \"average_precision_score_weighted\", \"run_id\": \"AutoML_c308166a-0ee8-4ea9-bdb1-3c904aa67b91\", \"categories\": [0], \"series\": [{\"data\": [0.9997433016020771]}]}, {\"name\": \"matthews_correlation\", \"run_id\": \"AutoML_c308166a-0ee8-4ea9-bdb1-3c904aa67b91\", \"categories\": [0], \"series\": [{\"data\": [0.0]}]}, {\"name\": \"AUC_micro\", \"run_id\": \"AutoML_c308166a-0ee8-4ea9-bdb1-3c904aa67b91\", \"categories\": [0], \"series\": [{\"data\": [0.003394703895143534]}]}, {\"name\": \"recall_score_macro\", \"run_id\": \"AutoML_c308166a-0ee8-4ea9-bdb1-3c904aa67b91\", \"categories\": [0], \"series\": [{\"data\": [0.5]}]}, {\"name\": \"f1_score_micro\", \"run_id\": \"AutoML_c308166a-0ee8-4ea9-bdb1-3c904aa67b91\", \"categories\": [0], \"series\": [{\"data\": [0.0017204452090867595]}]}, {\"name\": \"AUC_weighted\", \"run_id\": \"AutoML_c308166a-0ee8-4ea9-bdb1-3c904aa67b91\", \"categories\": [0], \"series\": [{\"data\": [0.987415731627485]}]}, {\"name\": \"AUC_macro\", \"run_id\": \"AutoML_c308166a-0ee8-4ea9-bdb1-3c904aa67b91\", \"categories\": [0], \"series\": [{\"data\": [0.987415731627485]}]}, {\"name\": \"precision_score_weighted\", \"run_id\": \"AutoML_c308166a-0ee8-4ea9-bdb1-3c904aa67b91\", \"categories\": [0], \"series\": [{\"data\": [2.959931717469584e-06]}]}, {\"name\": \"precision_score_macro\", \"run_id\": \"AutoML_c308166a-0ee8-4ea9-bdb1-3c904aa67b91\", \"categories\": [0], \"series\": [{\"data\": [0.0008602226045433798]}]}, {\"name\": \"balanced_accuracy\", \"run_id\": \"AutoML_c308166a-0ee8-4ea9-bdb1-3c904aa67b91\", \"categories\": [0], \"series\": [{\"data\": [0.5]}]}, {\"name\": \"f1_score_weighted\", \"run_id\": \"AutoML_c308166a-0ee8-4ea9-bdb1-3c904aa67b91\", \"categories\": [0], \"series\": [{\"data\": [5.909696126551085e-06]}]}, {\"name\": \"precision_score_micro\", \"run_id\": \"AutoML_c308166a-0ee8-4ea9-bdb1-3c904aa67b91\", \"categories\": [0], \"series\": [{\"data\": [0.0017204452090867595]}]}, {\"name\": \"accuracy\", \"run_id\": \"AutoML_c308166a-0ee8-4ea9-bdb1-3c904aa67b91\", \"categories\": [0], \"series\": [{\"data\": [0.0017204452090867595]}]}, {\"name\": \"average_precision_score_macro\", \"run_id\": \"AutoML_c308166a-0ee8-4ea9-bdb1-3c904aa67b91\", \"categories\": [0], \"series\": [{\"data\": [0.9323564127019732]}]}, {\"name\": \"recall_score_weighted\", \"run_id\": \"AutoML_c308166a-0ee8-4ea9-bdb1-3c904aa67b91\", \"categories\": [0], \"series\": [{\"data\": [0.0017204452090867595]}]}, {\"name\": \"norm_macro_recall\", \"run_id\": \"AutoML_c308166a-0ee8-4ea9-bdb1-3c904aa67b91\", \"categories\": [0], \"series\": [{\"data\": [0.0]}]}, {\"name\": \"weighted_accuracy\", \"run_id\": \"AutoML_c308166a-0ee8-4ea9-bdb1-3c904aa67b91\", \"categories\": [0], \"series\": [{\"data\": [2.9701340404421287e-06]}]}, {\"name\": \"average_precision_score_micro\", \"run_id\": \"AutoML_c308166a-0ee8-4ea9-bdb1-3c904aa67b91\", \"categories\": [0], \"series\": [{\"data\": [0.308675184382483]}]}, {\"name\": \"log_loss\", \"run_id\": \"AutoML_c308166a-0ee8-4ea9-bdb1-3c904aa67b91\", \"categories\": [0], \"series\": [{\"data\": [0.9843887066932798]}]}, {\"name\": \"f1_score_macro\", \"run_id\": \"AutoML_c308166a-0ee8-4ea9-bdb1-3c904aa67b91\", \"categories\": [0], \"series\": [{\"data\": [0.0017174903610234842]}]}], \"run_logs\": \"\\nRun is completed.\", \"graph\": {}, \"widget_settings\": {\"childWidgetDisplay\": \"popup\", \"send_telemetry\": false, \"log_level\": \"INFO\", \"sdk_version\": \"1.26.0\"}, \"loading\": false}"
          },
          "metadata": {}
        }
      ],
      "execution_count": 17,
      "metadata": {
        "gather": {
          "logged": 1618666426472
        },
        "jupyter": {
          "outputs_hidden": false,
          "source_hidden": false
        },
        "nteract": {
          "transient": {
            "deleting": false
          }
        }
      }
    },
    {
      "cell_type": "markdown",
      "source": [
        "## Best Model\n",
        "\n",
        "TODO: In the cell below, get the best model from the automl experiments and display all the properties of the model.\n",
        "\n"
      ],
      "metadata": {}
    },
    {
      "cell_type": "code",
      "source": [
        "# Retrieve and save your best automl model.\n",
        "best_automl_run, best_model = remote_run.get_output()\n",
        "best_automl_model_name = best_automl_run.properties['model_name']\n",
        "print(('Best AutoML model name:{}\\n' \\\n",
        "       'Best AutoML model run:{}\\n' \\\n",
        "       'Best AutoML model specification:{}').format(best_automl_model_name, str(best_automl_run), str(best_model)))"
      ],
      "outputs": [
        {
          "output_type": "stream",
          "name": "stdout",
          "text": [
            "Best AutoML model name:AutoMLc308166a038\n",
            "Best AutoML model run:Run(Experiment: fraud_detection,\n",
            "Id: AutoML_c308166a-0ee8-4ea9-bdb1-3c904aa67b91_38,\n",
            "Type: azureml.scriptrun,\n",
            "Status: Completed)\n",
            "Best AutoML model specification:Pipeline(memory=None,\n",
            "         steps=[('datatransformer',\n",
            "                 DataTransformer(enable_dnn=None, enable_feature_sweeping=None,\n",
            "                                 feature_sweeping_config=None,\n",
            "                                 feature_sweeping_timeout=None,\n",
            "                                 featurization_config=None, force_text_dnn=None,\n",
            "                                 is_cross_validation=None,\n",
            "                                 is_onnx_compatible=None, logger=None,\n",
            "                                 observer=None, task=None, working_dir=None)),\n",
            "                ('prefittedsoftvotingclassifier',...\n",
            "                                                                                                  min_samples_leaf=0.01,\n",
            "                                                                                                  min_samples_split=0.01,\n",
            "                                                                                                  min_weight_fraction_leaf=0.0,\n",
            "                                                                                                  n_estimators=50,\n",
            "                                                                                                  n_jobs=1,\n",
            "                                                                                                  oob_score=True,\n",
            "                                                                                                  random_state=None,\n",
            "                                                                                                  verbose=0,\n",
            "                                                                                                  warm_start=False))],\n",
            "                                                                     verbose=False))],\n",
            "                                               flatten_transform=None,\n",
            "                                               weights=[0.06666666666666667,\n",
            "                                                        0.06666666666666667,\n",
            "                                                        0.06666666666666667,\n",
            "                                                        0.06666666666666667,\n",
            "                                                        0.06666666666666667,\n",
            "                                                        0.06666666666666667,\n",
            "                                                        0.6]))],\n",
            "         verbose=False)\n"
          ]
        }
      ],
      "execution_count": 23,
      "metadata": {
        "gather": {
          "logged": 1618670705804
        },
        "jupyter": {
          "outputs_hidden": false,
          "source_hidden": false
        },
        "nteract": {
          "transient": {
            "deleting": false
          }
        }
      }
    },
    {
      "cell_type": "code",
      "source": [
        "registered_model = best_automl_run.register_model(model_name = 'best_automl_model', model_path = '/outputs/')\r\n",
        "print(registered_model)\r\n",
        "\r\n",
        "registered_model.download(target_dir='outputs', exist_ok=True)"
      ],
      "outputs": [
        {
          "output_type": "stream",
          "name": "stdout",
          "text": [
            "Model(workspace=Workspace.create(name='quick-starts-ws-142935', subscription_id='81cefad3-d2c9-4f77-a466-99a7f541c7bb', resource_group='aml-quickstarts-142935'), name=best_automl_model, id=best_automl_model:3, version=3, tags={}, properties={})\n"
          ]
        },
        {
          "output_type": "execute_result",
          "execution_count": 27,
          "data": {
            "text/plain": "'outputs/mnt/batch/tasks/shared/LS_root/mounts/clusters/notebook142935/code/Users/odl_user_142935/outputs'"
          },
          "metadata": {}
        }
      ],
      "execution_count": 27,
      "metadata": {
        "collapsed": true,
        "jupyter": {
          "source_hidden": false,
          "outputs_hidden": false
        },
        "nteract": {
          "transient": {
            "deleting": false
          }
        },
        "gather": {
          "logged": 1618672724755
        }
      }
    },
    {
      "cell_type": "code",
      "source": [
        "# Register and save the best automl model\n",
        "import joblib\n",
        "joblib.dump(best_model,'outputs/automlmodel.joblib')\n",
        "best_automl.register_model(model_name = 'best_automl', model_path = '/outputs/')"
      ],
      "outputs": [],
      "execution_count": null,
      "metadata": {
        "gather": {
          "logged": 1598431426111
        },
        "jupyter": {
          "outputs_hidden": false,
          "source_hidden": false
        },
        "nteract": {
          "transient": {
            "deleting": false
          }
        }
      }
    },
    {
      "cell_type": "markdown",
      "source": [
        "## Model Deployment\n",
        "\n",
        "Remember you have to deploy only one of the two models you trained.. Perform the steps in the rest of this notebook only if you wish to deploy this model.\n",
        "\n",
        "TODO: In the cell below, register the model, create an inference config and deploy the model as a web service.\n",
        "\n",
        "Creating a pipeline"
      ],
      "metadata": {}
    },
    {
      "cell_type": "code",
      "source": [
        "deployment_config = AciWebservice.deploy_configuration(cpu_cores=1,\r\n",
        "                                                memory_gb=4,\r\n",
        "                                                enable_app_insights=True,\r\n",
        "                                                description='Predict a fraud')\r\n",
        "\r\n",
        "model = Model(ws, 'best_automl_model')\r\n",
        "\r\n",
        "env_deploy = Environment.get(workspace=ws, name='AzureML-AutoML')\r\n",
        "\r\n",
        "inference_config = InferenceConfig(entry_script='score.py', environment=env_deploy)\r\n",
        "\r\n",
        "service = Model.deploy(workspace=ws,\r\n",
        "                       name='fraud-detection__2',\r\n",
        "                       models=[model],\r\n",
        "                       inference_config=inference_config,\r\n",
        "                       deployment_config=deployment_config)"
      ],
      "outputs": [],
      "execution_count": null,
      "metadata": {
        "gather": {
          "logged": 1618679785398
        },
        "jupyter": {
          "outputs_hidden": false,
          "source_hidden": false
        },
        "nteract": {
          "transient": {
            "deleting": false
          }
        }
      }
    },
    {
      "cell_type": "code",
      "source": [
        "print(ws.webservices)"
      ],
      "outputs": [
        {
          "output_type": "stream",
          "name": "stdout",
          "text": [
            "{'fraud-detection': AciWebservice(workspace=Workspace.create(name='quick-starts-ws-142935', subscription_id='81cefad3-d2c9-4f77-a466-99a7f541c7bb', resource_group='aml-quickstarts-142935'), name=fraud-detection, image_id=None, compute_type=None, state=ACI, scoring_uri=None, tags=None, properties={}, created_by={'hasInferenceSchema': 'False', 'hasHttps': 'False'})}\n"
          ]
        }
      ],
      "execution_count": 35,
      "metadata": {
        "collapsed": true,
        "jupyter": {
          "source_hidden": false,
          "outputs_hidden": false
        },
        "nteract": {
          "transient": {
            "deleting": false
          }
        },
        "gather": {
          "logged": 1618679595210
        }
      }
    },
    {
      "cell_type": "code",
      "source": [
        "# Choose the webservice you are interested in\r\n",
        "\r\n",
        "from azureml.core import Webservice\r\n",
        "\r\n",
        "service_d = Webservice(ws, 'fraud-detection2')\r\n",
        "print(service_d.get_logs())"
      ],
      "outputs": [
        {
          "output_type": "stream",
          "name": "stdout",
          "text": [
            "None\n"
          ]
        }
      ],
      "execution_count": 47,
      "metadata": {
        "collapsed": true,
        "jupyter": {
          "source_hidden": false,
          "outputs_hidden": false
        },
        "nteract": {
          "transient": {
            "deleting": false
          }
        },
        "gather": {
          "logged": 1618680381144
        }
      }
    },
    {
      "cell_type": "code",
      "source": [],
      "outputs": [],
      "execution_count": null,
      "metadata": {
        "collapsed": true,
        "jupyter": {
          "source_hidden": false,
          "outputs_hidden": false
        },
        "nteract": {
          "transient": {
            "deleting": false
          }
        }
      }
    },
    {
      "cell_type": "code",
      "source": [
        "service.wait_for_deployment(show_output=True)"
      ],
      "outputs": [
        {
          "output_type": "stream",
          "name": "stdout",
          "text": [
            "Tips: You can try get_logs(): https://aka.ms/debugimage#dockerlog or local deployment: https://aka.ms/debugimage#debug-locally to debug if deployment takes longer than 10 minutes.\n",
            "Running\n",
            "2021-04-17 17:18:29+00:00 Creating Container Registry if not exists.\n",
            "2021-04-17 17:18:30+00:00 Registering the environment.\n",
            "2021-04-17 17:18:30+00:00 Use the existing image.\n",
            "2021-04-17 17:18:31+00:00 Generating deployment configuration.\n",
            "2021-04-17 17:18:32+00:00 Submitting deployment to compute.\n",
            "2021-04-17 17:18:37+00:00 Checking the status of deployment fraud-detection2..\n",
            "2021-04-17 17:21:39+00:00 Checking the status of inference endpoint fraud-detection2.\n",
            "Failed\n"
          ]
        },
        {
          "output_type": "stream",
          "name": "stderr",
          "text": [
            "ERROR:azureml.core.webservice.webservice:Service deployment polling reached non-successful terminal state, current service state: Failed\n",
            "Operation ID: b25e4127-788d-4e93-9aec-33d8aabb61e8\n",
            "More information can be found using '.get_logs()'\n",
            "Error:\n",
            "{\n",
            "  \"code\": \"AciDeploymentFailed\",\n",
            "  \"statusCode\": 400,\n",
            "  \"message\": \"Aci Deployment failed with exception: Your container application crashed. This may be caused by errors in your scoring file's init() function.\n",
            "\t1. Please check the logs for your container instance: fraud-detection2. From the AML SDK, you can run print(service.get_logs()) if you have service object to fetch the logs.\n",
            "\t2. You can interactively debug your scoring file locally. Please refer to https://docs.microsoft.com/azure/machine-learning/how-to-debug-visual-studio-code#debug-and-troubleshoot-deployments for more information.\n",
            "\t3. You can also try to run image viennaglobal.azurecr.io/azureml/azureml_39c362815a3a9e28eebe0c654b193f75 locally. Please refer to https://aka.ms/debugimage#service-launch-fails for more information.\",\n",
            "  \"details\": [\n",
            "    {\n",
            "      \"code\": \"CrashLoopBackOff\",\n",
            "      \"message\": \"Your container application crashed. This may be caused by errors in your scoring file's init() function.\n",
            "\t1. Please check the logs for your container instance: fraud-detection2. From the AML SDK, you can run print(service.get_logs()) if you have service object to fetch the logs.\n",
            "\t2. You can interactively debug your scoring file locally. Please refer to https://docs.microsoft.com/azure/machine-learning/how-to-debug-visual-studio-code#debug-and-troubleshoot-deployments for more information.\n",
            "\t3. You can also try to run image viennaglobal.azurecr.io/azureml/azureml_39c362815a3a9e28eebe0c654b193f75 locally. Please refer to https://aka.ms/debugimage#service-launch-fails for more information.\"\n",
            "    },\n",
            "    {\n",
            "      \"code\": \"AciDeploymentFailed\",\n",
            "      \"message\": \"Your container application crashed. Please follow the steps to debug:\n",
            "\t1. From the AML SDK, you can run print(service.get_logs()) if you have service object to fetch the logs. Please refer to https://aka.ms/debugimage#dockerlog for more information.\n",
            "\t2. If your container application crashed. This may be caused by errors in your scoring file's init() function. You can try debugging locally first. Please refer to https://aka.ms/debugimage#debug-locally for more information.\n",
            "\t3. You can also interactively debug your scoring file locally. Please refer to https://docs.microsoft.com/azure/machine-learning/how-to-debug-visual-studio-code#debug-and-troubleshoot-deployments for more information.\n",
            "\t4. View the diagnostic events to check status of container, it may help you to debug the issue.\n",
            "\"RestartCount\": 3\n",
            "\"CurrentState\": {\"state\":\"Waiting\",\"startTime\":null,\"exitCode\":null,\"finishTime\":null,\"detailStatus\":\"CrashLoopBackOff: Back-off restarting failed\"}\n",
            "\"PreviousState\": {\"state\":\"Terminated\",\"startTime\":\"2021-04-17T17:24:48.861Z\",\"exitCode\":111,\"finishTime\":\"2021-04-17T17:25:29.322Z\",\"detailStatus\":\"Error\"}\n",
            "\"Events\": null\n",
            "\"\n",
            "    }\n",
            "  ]\n",
            "}\n",
            "\n"
          ]
        },
        {
          "output_type": "error",
          "ename": "WebserviceException",
          "evalue": "WebserviceException:\n\tMessage: Service deployment polling reached non-successful terminal state, current service state: Failed\nOperation ID: b25e4127-788d-4e93-9aec-33d8aabb61e8\nMore information can be found using '.get_logs()'\nError:\n{\n  \"code\": \"AciDeploymentFailed\",\n  \"statusCode\": 400,\n  \"message\": \"Aci Deployment failed with exception: Your container application crashed. This may be caused by errors in your scoring file's init() function.\n\t1. Please check the logs for your container instance: fraud-detection2. From the AML SDK, you can run print(service.get_logs()) if you have service object to fetch the logs.\n\t2. You can interactively debug your scoring file locally. Please refer to https://docs.microsoft.com/azure/machine-learning/how-to-debug-visual-studio-code#debug-and-troubleshoot-deployments for more information.\n\t3. You can also try to run image viennaglobal.azurecr.io/azureml/azureml_39c362815a3a9e28eebe0c654b193f75 locally. Please refer to https://aka.ms/debugimage#service-launch-fails for more information.\",\n  \"details\": [\n    {\n      \"code\": \"CrashLoopBackOff\",\n      \"message\": \"Your container application crashed. This may be caused by errors in your scoring file's init() function.\n\t1. Please check the logs for your container instance: fraud-detection2. From the AML SDK, you can run print(service.get_logs()) if you have service object to fetch the logs.\n\t2. You can interactively debug your scoring file locally. Please refer to https://docs.microsoft.com/azure/machine-learning/how-to-debug-visual-studio-code#debug-and-troubleshoot-deployments for more information.\n\t3. You can also try to run image viennaglobal.azurecr.io/azureml/azureml_39c362815a3a9e28eebe0c654b193f75 locally. Please refer to https://aka.ms/debugimage#service-launch-fails for more information.\"\n    },\n    {\n      \"code\": \"AciDeploymentFailed\",\n      \"message\": \"Your container application crashed. Please follow the steps to debug:\n\t1. From the AML SDK, you can run print(service.get_logs()) if you have service object to fetch the logs. Please refer to https://aka.ms/debugimage#dockerlog for more information.\n\t2. If your container application crashed. This may be caused by errors in your scoring file's init() function. You can try debugging locally first. Please refer to https://aka.ms/debugimage#debug-locally for more information.\n\t3. You can also interactively debug your scoring file locally. Please refer to https://docs.microsoft.com/azure/machine-learning/how-to-debug-visual-studio-code#debug-and-troubleshoot-deployments for more information.\n\t4. View the diagnostic events to check status of container, it may help you to debug the issue.\n\"RestartCount\": 3\n\"CurrentState\": {\"state\":\"Waiting\",\"startTime\":null,\"exitCode\":null,\"finishTime\":null,\"detailStatus\":\"CrashLoopBackOff: Back-off restarting failed\"}\n\"PreviousState\": {\"state\":\"Terminated\",\"startTime\":\"2021-04-17T17:24:48.861Z\",\"exitCode\":111,\"finishTime\":\"2021-04-17T17:25:29.322Z\",\"detailStatus\":\"Error\"}\n\"Events\": null\n\"\n    }\n  ]\n}\n\tInnerException None\n\tErrorResponse \n{\n    \"error\": {\n        \"message\": \"Service deployment polling reached non-successful terminal state, current service state: Failed\\nOperation ID: b25e4127-788d-4e93-9aec-33d8aabb61e8\\nMore information can be found using '.get_logs()'\\nError:\\n{\\n  \\\"code\\\": \\\"AciDeploymentFailed\\\",\\n  \\\"statusCode\\\": 400,\\n  \\\"message\\\": \\\"Aci Deployment failed with exception: Your container application crashed. This may be caused by errors in your scoring file's init() function.\\n\\t1. Please check the logs for your container instance: fraud-detection2. From the AML SDK, you can run print(service.get_logs()) if you have service object to fetch the logs.\\n\\t2. You can interactively debug your scoring file locally. Please refer to https://docs.microsoft.com/azure/machine-learning/how-to-debug-visual-studio-code#debug-and-troubleshoot-deployments for more information.\\n\\t3. You can also try to run image viennaglobal.azurecr.io/azureml/azureml_39c362815a3a9e28eebe0c654b193f75 locally. Please refer to https://aka.ms/debugimage#service-launch-fails for more information.\\\",\\n  \\\"details\\\": [\\n    {\\n      \\\"code\\\": \\\"CrashLoopBackOff\\\",\\n      \\\"message\\\": \\\"Your container application crashed. This may be caused by errors in your scoring file's init() function.\\n\\t1. Please check the logs for your container instance: fraud-detection2. From the AML SDK, you can run print(service.get_logs()) if you have service object to fetch the logs.\\n\\t2. You can interactively debug your scoring file locally. Please refer to https://docs.microsoft.com/azure/machine-learning/how-to-debug-visual-studio-code#debug-and-troubleshoot-deployments for more information.\\n\\t3. You can also try to run image viennaglobal.azurecr.io/azureml/azureml_39c362815a3a9e28eebe0c654b193f75 locally. Please refer to https://aka.ms/debugimage#service-launch-fails for more information.\\\"\\n    },\\n    {\\n      \\\"code\\\": \\\"AciDeploymentFailed\\\",\\n      \\\"message\\\": \\\"Your container application crashed. Please follow the steps to debug:\\n\\t1. From the AML SDK, you can run print(service.get_logs()) if you have service object to fetch the logs. Please refer to https://aka.ms/debugimage#dockerlog for more information.\\n\\t2. If your container application crashed. This may be caused by errors in your scoring file's init() function. You can try debugging locally first. Please refer to https://aka.ms/debugimage#debug-locally for more information.\\n\\t3. You can also interactively debug your scoring file locally. Please refer to https://docs.microsoft.com/azure/machine-learning/how-to-debug-visual-studio-code#debug-and-troubleshoot-deployments for more information.\\n\\t4. View the diagnostic events to check status of container, it may help you to debug the issue.\\n\\\"RestartCount\\\": 3\\n\\\"CurrentState\\\": {\\\"state\\\":\\\"Waiting\\\",\\\"startTime\\\":null,\\\"exitCode\\\":null,\\\"finishTime\\\":null,\\\"detailStatus\\\":\\\"CrashLoopBackOff: Back-off restarting failed\\\"}\\n\\\"PreviousState\\\": {\\\"state\\\":\\\"Terminated\\\",\\\"startTime\\\":\\\"2021-04-17T17:24:48.861Z\\\",\\\"exitCode\\\":111,\\\"finishTime\\\":\\\"2021-04-17T17:25:29.322Z\\\",\\\"detailStatus\\\":\\\"Error\\\"}\\n\\\"Events\\\": null\\n\\\"\\n    }\\n  ]\\n}\"\n    }\n}",
          "traceback": [
            "\u001b[0;31m---------------------------------------------------------------------------\u001b[0m",
            "\u001b[0;31mWebserviceException\u001b[0m                       Traceback (most recent call last)",
            "\u001b[0;32m<ipython-input-46-deecaad5a878>\u001b[0m in \u001b[0;36m<module>\u001b[0;34m\u001b[0m\n\u001b[0;32m----> 1\u001b[0;31m \u001b[0mservice\u001b[0m\u001b[0;34m.\u001b[0m\u001b[0mwait_for_deployment\u001b[0m\u001b[0;34m(\u001b[0m\u001b[0mshow_output\u001b[0m\u001b[0;34m=\u001b[0m\u001b[0;32mTrue\u001b[0m\u001b[0;34m)\u001b[0m\u001b[0;34m\u001b[0m\u001b[0;34m\u001b[0m\u001b[0m\n\u001b[0m",
            "\u001b[0;32m/anaconda/envs/azureml_py36/lib/python3.6/site-packages/azureml/core/webservice/webservice.py\u001b[0m in \u001b[0;36mwait_for_deployment\u001b[0;34m(self, show_output, timeout_sec)\u001b[0m\n\u001b[1;32m    921\u001b[0m                                           \u001b[0;34m'Error:\\n'\u001b[0m\u001b[0;34m\u001b[0m\u001b[0;34m\u001b[0m\u001b[0m\n\u001b[1;32m    922\u001b[0m                                           '{}'.format(self.state, self._operation_endpoint.split('/')[-1],\n\u001b[0;32m--> 923\u001b[0;31m                                                       logs_response, format_error_response), logger=module_logger)\n\u001b[0m\u001b[1;32m    924\u001b[0m             print('{} service creation operation finished, operation \"{}\"'.format(self._webservice_type,\n\u001b[1;32m    925\u001b[0m                                                                                   operation_state))\n",
            "\u001b[0;31mWebserviceException\u001b[0m: WebserviceException:\n\tMessage: Service deployment polling reached non-successful terminal state, current service state: Failed\nOperation ID: b25e4127-788d-4e93-9aec-33d8aabb61e8\nMore information can be found using '.get_logs()'\nError:\n{\n  \"code\": \"AciDeploymentFailed\",\n  \"statusCode\": 400,\n  \"message\": \"Aci Deployment failed with exception: Your container application crashed. This may be caused by errors in your scoring file's init() function.\n\t1. Please check the logs for your container instance: fraud-detection2. From the AML SDK, you can run print(service.get_logs()) if you have service object to fetch the logs.\n\t2. You can interactively debug your scoring file locally. Please refer to https://docs.microsoft.com/azure/machine-learning/how-to-debug-visual-studio-code#debug-and-troubleshoot-deployments for more information.\n\t3. You can also try to run image viennaglobal.azurecr.io/azureml/azureml_39c362815a3a9e28eebe0c654b193f75 locally. Please refer to https://aka.ms/debugimage#service-launch-fails for more information.\",\n  \"details\": [\n    {\n      \"code\": \"CrashLoopBackOff\",\n      \"message\": \"Your container application crashed. This may be caused by errors in your scoring file's init() function.\n\t1. Please check the logs for your container instance: fraud-detection2. From the AML SDK, you can run print(service.get_logs()) if you have service object to fetch the logs.\n\t2. You can interactively debug your scoring file locally. Please refer to https://docs.microsoft.com/azure/machine-learning/how-to-debug-visual-studio-code#debug-and-troubleshoot-deployments for more information.\n\t3. You can also try to run image viennaglobal.azurecr.io/azureml/azureml_39c362815a3a9e28eebe0c654b193f75 locally. Please refer to https://aka.ms/debugimage#service-launch-fails for more information.\"\n    },\n    {\n      \"code\": \"AciDeploymentFailed\",\n      \"message\": \"Your container application crashed. Please follow the steps to debug:\n\t1. From the AML SDK, you can run print(service.get_logs()) if you have service object to fetch the logs. Please refer to https://aka.ms/debugimage#dockerlog for more information.\n\t2. If your container application crashed. This may be caused by errors in your scoring file's init() function. You can try debugging locally first. Please refer to https://aka.ms/debugimage#debug-locally for more information.\n\t3. You can also interactively debug your scoring file locally. Please refer to https://docs.microsoft.com/azure/machine-learning/how-to-debug-visual-studio-code#debug-and-troubleshoot-deployments for more information.\n\t4. View the diagnostic events to check status of container, it may help you to debug the issue.\n\"RestartCount\": 3\n\"CurrentState\": {\"state\":\"Waiting\",\"startTime\":null,\"exitCode\":null,\"finishTime\":null,\"detailStatus\":\"CrashLoopBackOff: Back-off restarting failed\"}\n\"PreviousState\": {\"state\":\"Terminated\",\"startTime\":\"2021-04-17T17:24:48.861Z\",\"exitCode\":111,\"finishTime\":\"2021-04-17T17:25:29.322Z\",\"detailStatus\":\"Error\"}\n\"Events\": null\n\"\n    }\n  ]\n}\n\tInnerException None\n\tErrorResponse \n{\n    \"error\": {\n        \"message\": \"Service deployment polling reached non-successful terminal state, current service state: Failed\\nOperation ID: b25e4127-788d-4e93-9aec-33d8aabb61e8\\nMore information can be found using '.get_logs()'\\nError:\\n{\\n  \\\"code\\\": \\\"AciDeploymentFailed\\\",\\n  \\\"statusCode\\\": 400,\\n  \\\"message\\\": \\\"Aci Deployment failed with exception: Your container application crashed. This may be caused by errors in your scoring file's init() function.\\n\\t1. Please check the logs for your container instance: fraud-detection2. From the AML SDK, you can run print(service.get_logs()) if you have service object to fetch the logs.\\n\\t2. You can interactively debug your scoring file locally. Please refer to https://docs.microsoft.com/azure/machine-learning/how-to-debug-visual-studio-code#debug-and-troubleshoot-deployments for more information.\\n\\t3. You can also try to run image viennaglobal.azurecr.io/azureml/azureml_39c362815a3a9e28eebe0c654b193f75 locally. Please refer to https://aka.ms/debugimage#service-launch-fails for more information.\\\",\\n  \\\"details\\\": [\\n    {\\n      \\\"code\\\": \\\"CrashLoopBackOff\\\",\\n      \\\"message\\\": \\\"Your container application crashed. This may be caused by errors in your scoring file's init() function.\\n\\t1. Please check the logs for your container instance: fraud-detection2. From the AML SDK, you can run print(service.get_logs()) if you have service object to fetch the logs.\\n\\t2. You can interactively debug your scoring file locally. Please refer to https://docs.microsoft.com/azure/machine-learning/how-to-debug-visual-studio-code#debug-and-troubleshoot-deployments for more information.\\n\\t3. You can also try to run image viennaglobal.azurecr.io/azureml/azureml_39c362815a3a9e28eebe0c654b193f75 locally. Please refer to https://aka.ms/debugimage#service-launch-fails for more information.\\\"\\n    },\\n    {\\n      \\\"code\\\": \\\"AciDeploymentFailed\\\",\\n      \\\"message\\\": \\\"Your container application crashed. Please follow the steps to debug:\\n\\t1. From the AML SDK, you can run print(service.get_logs()) if you have service object to fetch the logs. Please refer to https://aka.ms/debugimage#dockerlog for more information.\\n\\t2. If your container application crashed. This may be caused by errors in your scoring file's init() function. You can try debugging locally first. Please refer to https://aka.ms/debugimage#debug-locally for more information.\\n\\t3. You can also interactively debug your scoring file locally. Please refer to https://docs.microsoft.com/azure/machine-learning/how-to-debug-visual-studio-code#debug-and-troubleshoot-deployments for more information.\\n\\t4. View the diagnostic events to check status of container, it may help you to debug the issue.\\n\\\"RestartCount\\\": 3\\n\\\"CurrentState\\\": {\\\"state\\\":\\\"Waiting\\\",\\\"startTime\\\":null,\\\"exitCode\\\":null,\\\"finishTime\\\":null,\\\"detailStatus\\\":\\\"CrashLoopBackOff: Back-off restarting failed\\\"}\\n\\\"PreviousState\\\": {\\\"state\\\":\\\"Terminated\\\",\\\"startTime\\\":\\\"2021-04-17T17:24:48.861Z\\\",\\\"exitCode\\\":111,\\\"finishTime\\\":\\\"2021-04-17T17:25:29.322Z\\\",\\\"detailStatus\\\":\\\"Error\\\"}\\n\\\"Events\\\": null\\n\\\"\\n    }\\n  ]\\n}\"\n    }\n}"
          ]
        }
      ],
      "execution_count": 46,
      "metadata": {
        "collapsed": true,
        "jupyter": {
          "source_hidden": false,
          "outputs_hidden": false
        },
        "nteract": {
          "transient": {
            "deleting": false
          }
        }
      }
    },
    {
      "cell_type": "code",
      "source": [
        "print(service.scoring_uri)\r\n",
        "print(service.swagger_uri)"
      ],
      "outputs": [],
      "execution_count": null,
      "metadata": {
        "collapsed": true,
        "jupyter": {
          "source_hidden": false,
          "outputs_hidden": false
        },
        "nteract": {
          "transient": {
            "deleting": false
          }
        }
      }
    },
    {
      "cell_type": "markdown",
      "source": [
        "Send a request to the web service deployed and test it "
      ],
      "metadata": {
        "nteract": {
          "transient": {
            "deleting": false
          }
        }
      }
    },
    {
      "cell_type": "code",
      "source": [
        "# scoring endpoint\r\n",
        "scoring_uri = service.scoring_uri\r\n",
        "\r\n",
        "data = {\r\n",
        "  \"data\": [\r\n",
        "    {\r\n",
        "      \"amount_tsh\": 0,\r\n",
        "      \"date_recorded\": \"2013-02-04 00:00:00,000000\",\r\n",
        "      \"funder\": \"Dmdd\",\r\n",
        "      \"gps_height\": 1996,\r\n",
        "      \"installer\": \"DMDD\",\r\n",
        "      \"longitude\": 35.2907992,\r\n",
        "      \"latitude\": -4.05969643,\r\n",
        "      \"wpt_name\": \"Dinamu Secondary School\",\r\n",
        "      \"num_private\": 0,\r\n",
        "      \"basin\": \"Internal\",\r\n",
        "      \"subvillage\": \"Magoma\",\r\n",
        "      \"region\": \"Manyara\",\r\n",
        "      \"region_code\": 21,\r\n",
        "      \"district_code\": 3,\r\n",
        "      \"lga\": \"Mbulu\",\r\n",
        "      \"ward\": \"Bashay\",\r\n",
        "      \"population\": 321,\r\n",
        "      \"public_meeting\": \"True\",\r\n",
        "      \"scheme_management\": \"Parastatal\",\r\n",
        "      \"scheme_name\": \"\",\r\n",
        "      \"permit\": \"True\",\r\n",
        "      \"construction_year\": 2012,\r\n",
        "      \"extraction_type\": \"other\",\r\n",
        "      \"extraction_type_group\": \"other\",\r\n",
        "      \"extraction_type_class\": \"other\",\r\n",
        "      \"management\": \"parastatal\",\r\n",
        "      \"management_group\": \"parastatal\",\r\n",
        "      \"payment\": \"never pay\",\r\n",
        "      \"payment_type\": \"never pay\",\r\n",
        "      \"water_quality\": \"soft\",\r\n",
        "      \"quality_group\": \"good\",\r\n",
        "      \"quantity\": \"seasonal\",\r\n",
        "      \"quantity_group\": \"seasonal\",\r\n",
        "      \"source\": \"rainwater harvesting\",\r\n",
        "      \"source_type\": \"rainwater harvesting\",\r\n",
        "      \"source_class\": \"surface\",\r\n",
        "      \"waterpoint_type\": \"other\",\r\n",
        "      \"waterpoint_type_group\": \"other\"\r\n",
        "    }\r\n",
        "  ]\r\n",
        "}\r\n",
        "# Convert to JSON string\r\n",
        "input_data = json.dumps(data)\r\n",
        "\r\n",
        "# Set the content type\r\n",
        "headers = {'Content-Type': 'application/json'}\r\n",
        "\r\n",
        "# Make the request and display the response\r\n",
        "resp = requests.post(scoring_uri, input_data, headers=headers)\r\n",
        "print(resp.json())"
      ],
      "outputs": [],
      "execution_count": null,
      "metadata": {
        "collapsed": true,
        "jupyter": {
          "source_hidden": false,
          "outputs_hidden": false
        },
        "nteract": {
          "transient": {
            "deleting": false
          }
        }
      }
    },
    {
      "cell_type": "code",
      "source": [],
      "outputs": [],
      "execution_count": null,
      "metadata": {
        "collapsed": true,
        "jupyter": {
          "source_hidden": false,
          "outputs_hidden": false
        },
        "nteract": {
          "transient": {
            "deleting": false
          }
        }
      }
    }
  ],
  "metadata": {
    "kernel_info": {
      "name": "python3"
    },
    "kernelspec": {
      "name": "python3",
      "language": "python",
      "display_name": "Python 3"
    },
    "language_info": {
      "name": "python",
      "version": "3.6.9",
      "mimetype": "text/x-python",
      "codemirror_mode": {
        "name": "ipython",
        "version": 3
      },
      "pygments_lexer": "ipython3",
      "nbconvert_exporter": "python",
      "file_extension": ".py"
    },
    "nteract": {
      "version": "nteract-front-end@1.0.0"
    },
    "microsoft": {
      "host": {
        "AzureML": {
          "notebookHasBeenCompleted": true
        }
      }
    }
  },
  "nbformat": 4,
  "nbformat_minor": 2
}